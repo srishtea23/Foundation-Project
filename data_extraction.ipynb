{
 "cells": [
  {
   "cell_type": "markdown",
   "metadata": {},
   "source": [
    "dict keys (can be used in fetch_stock_metrics to extract useful signals)\n",
    "dict_keys(['zip', 'sector', 'fullTimeEmployees', 'longBusinessSummary', 'city', 'phone', 'state', 'country', 'companyOfficers', 'website', 'maxAge', 'address1', 'industry', 'address2', 'ebitdaMargins', 'profitMargins', 'grossMargins', 'operatingCashflow', 'revenueGrowth', 'operatingMargins', 'ebitda', 'targetLowPrice', 'recommendationKey', 'grossProfits', 'freeCashflow', 'targetMedianPrice', 'currentPrice', 'earningsGrowth', 'currentRatio', 'returnOnAssets', 'numberOfAnalystOpinions', 'targetMeanPrice', 'debtToEquity', 'returnOnEquity', 'targetHighPrice', 'totalCash', 'totalDebt', 'totalRevenue', 'totalCashPerShare', 'financialCurrency', 'revenuePerShare', 'quickRatio', 'recommendationMean', 'exchange', 'shortName', 'longName', 'exchangeTimezoneName', 'exchangeTimezoneShortName', 'isEsgPopulated', 'gmtOffSetMilliseconds', 'quoteType', 'symbol', 'messageBoardId', 'market', 'annualHoldingsTurnover', 'enterpriseToRevenue', 'beta3Year', 'enterpriseToEbitda', '52WeekChange', 'morningStarRiskRating', 'forwardEps', 'revenueQuarterlyGrowth', 'sharesOutstanding', 'fundInceptionDate', 'annualReportExpenseRatio', 'totalAssets', 'bookValue', 'sharesShort', 'sharesPercentSharesOut', 'fundFamily', 'lastFiscalYearEnd', 'heldPercentInstitutions', 'netIncomeToCommon', 'trailingEps', 'lastDividendValue', 'SandP52WeekChange', 'priceToBook', 'heldPercentInsiders', 'nextFiscalYearEnd', 'yield', 'mostRecentQuarter', 'shortRatio', 'sharesShortPreviousMonthDate', 'floatShares', 'beta', 'enterpriseValue', 'priceHint', 'threeYearAverageReturn', 'lastSplitDate', 'lastSplitFactor', 'legalType', 'lastDividendDate', 'morningStarOverallRating', 'earningsQuarterlyGrowth', 'priceToSalesTrailing12Months', 'dateShortInterest', 'pegRatio', 'ytdReturn', 'forwardPE', 'lastCapGain', 'shortPercentOfFloat', 'sharesShortPriorMonth', 'impliedSharesOutstanding', 'category', 'fiveYearAverageReturn', 'previousClose', 'regularMarketOpen', 'twoHundredDayAverage', 'trailingAnnualDividendYield', 'payoutRatio', 'volume24Hr', 'regularMarketDayHigh', 'navPrice', 'averageDailyVolume10Day', 'regularMarketPreviousClose', 'fiftyDayAverage', 'trailingAnnualDividendRate', 'open', 'toCurrency', 'averageVolume10days', 'expireDate', 'algorithm', 'dividendRate', 'exDividendDate', 'circulatingSupply', 'startDate', 'regularMarketDayLow', 'currency', 'regularMarketVolume', 'lastMarket', 'maxSupply', 'openInterest', 'marketCap', 'volumeAllCurrencies', 'strikePrice', 'averageVolume', 'dayLow', 'ask', 'askSize', 'volume', 'fiftyTwoWeekHigh', 'fromCurrency', 'fiveYearAvgDividendYield', 'fiftyTwoWeekLow', 'bid', 'tradeable', 'dividendYield', 'bidSize', 'dayHigh', 'regularMarketPrice', 'logo_url'])"
   ]
  },
  {
   "cell_type": "code",
   "execution_count": 1,
   "metadata": {},
   "outputs": [
    {
     "name": "stdout",
     "output_type": "stream",
     "text": [
      "Fetching data for RELIANCE.NS...\n"
     ]
    },
    {
     "name": "stderr",
     "output_type": "stream",
     "text": [
      "[*********************100%***********************]  1 of 1 completed\n"
     ]
    },
    {
     "name": "stdout",
     "output_type": "stream",
     "text": [
      "Data uploaded to S3: Energy/RELIANCE.NS/RELIANCE.NS_data.csv (CSV format)\n",
      "Data uploaded to S3: Energy/RELIANCE.NS/RELIANCE.NS_metrics.json (JSON format)\n",
      "Fetching data for NTPC.NS...\n"
     ]
    },
    {
     "name": "stderr",
     "output_type": "stream",
     "text": [
      "[*********************100%***********************]  1 of 1 completed\n"
     ]
    },
    {
     "name": "stdout",
     "output_type": "stream",
     "text": [
      "Data uploaded to S3: Energy/NTPC.NS/NTPC.NS_data.csv (CSV format)\n",
      "Data uploaded to S3: Energy/NTPC.NS/NTPC.NS_metrics.json (JSON format)\n",
      "Fetching data for ONGC.NS...\n"
     ]
    },
    {
     "name": "stderr",
     "output_type": "stream",
     "text": [
      "[*********************100%***********************]  1 of 1 completed\n"
     ]
    },
    {
     "name": "stdout",
     "output_type": "stream",
     "text": [
      "Data uploaded to S3: Energy/ONGC.NS/ONGC.NS_data.csv (CSV format)\n",
      "Data uploaded to S3: Energy/ONGC.NS/ONGC.NS_metrics.json (JSON format)\n",
      "Fetching data for IOCL.NS...\n"
     ]
    },
    {
     "name": "stderr",
     "output_type": "stream",
     "text": [
      "[*********************100%***********************]  1 of 1 completed\n",
      "\n",
      "1 Failed download:\n",
      "['IOCL.NS']: YFTzMissingError('$%ticker%: possibly delisted; no timezone found')\n",
      "404 Client Error: Not Found for url: https://query2.finance.yahoo.com/v10/finance/quoteSummary/IOCL.NS?modules=financialData%2CquoteType%2CdefaultKeyStatistics%2CassetProfile%2CsummaryDetail&corsDomain=finance.yahoo.com&formatted=false&symbol=IOCL.NS&crumb=YUrovsfZqia\n"
     ]
    },
    {
     "name": "stdout",
     "output_type": "stream",
     "text": [
      "Data uploaded to S3: Energy/IOCL.NS/IOCL.NS_data.csv (CSV format)\n",
      "Data uploaded to S3: Energy/IOCL.NS/IOCL.NS_metrics.json (JSON format)\n",
      "Fetching data for BPCL.NS...\n"
     ]
    },
    {
     "name": "stderr",
     "output_type": "stream",
     "text": [
      "[*********************100%***********************]  1 of 1 completed\n"
     ]
    },
    {
     "name": "stdout",
     "output_type": "stream",
     "text": [
      "Data uploaded to S3: Energy/BPCL.NS/BPCL.NS_data.csv (CSV format)\n",
      "Data uploaded to S3: Energy/BPCL.NS/BPCL.NS_metrics.json (JSON format)\n",
      "Fetching data for GAIL.NS...\n"
     ]
    },
    {
     "name": "stderr",
     "output_type": "stream",
     "text": [
      "[*********************100%***********************]  1 of 1 completed\n"
     ]
    },
    {
     "name": "stdout",
     "output_type": "stream",
     "text": [
      "Data uploaded to S3: Energy/GAIL.NS/GAIL.NS_data.csv (CSV format)\n",
      "Data uploaded to S3: Energy/GAIL.NS/GAIL.NS_metrics.json (JSON format)\n",
      "Fetching data for TATAPOWER.NS...\n"
     ]
    },
    {
     "name": "stderr",
     "output_type": "stream",
     "text": [
      "[*********************100%***********************]  1 of 1 completed\n"
     ]
    },
    {
     "name": "stdout",
     "output_type": "stream",
     "text": [
      "Data uploaded to S3: Energy/TATAPOWER.NS/TATAPOWER.NS_data.csv (CSV format)\n",
      "Data uploaded to S3: Energy/TATAPOWER.NS/TATAPOWER.NS_metrics.json (JSON format)\n"
     ]
    },
    {
     "name": "stderr",
     "output_type": "stream",
     "text": [
      "[*********************100%***********************]  1 of 1 completed"
     ]
    },
    {
     "name": "stdout",
     "output_type": "stream",
     "text": [
      "Fetching data for ADANIGREEN.NS...\n"
     ]
    },
    {
     "name": "stderr",
     "output_type": "stream",
     "text": [
      "\n"
     ]
    },
    {
     "name": "stdout",
     "output_type": "stream",
     "text": [
      "Data uploaded to S3: Energy/ADANIGREEN.NS/ADANIGREEN.NS_data.csv (CSV format)\n",
      "Data uploaded to S3: Energy/ADANIGREEN.NS/ADANIGREEN.NS_metrics.json (JSON format)\n"
     ]
    },
    {
     "name": "stderr",
     "output_type": "stream",
     "text": [
      "[*********************100%***********************]  1 of 1 completed"
     ]
    },
    {
     "name": "stdout",
     "output_type": "stream",
     "text": [
      "Fetching data for MGL.NS...\n"
     ]
    },
    {
     "name": "stderr",
     "output_type": "stream",
     "text": [
      "\n"
     ]
    },
    {
     "name": "stdout",
     "output_type": "stream",
     "text": [
      "Data uploaded to S3: Energy/MGL.NS/MGL.NS_data.csv (CSV format)\n",
      "Data uploaded to S3: Energy/MGL.NS/MGL.NS_metrics.json (JSON format)\n",
      "Fetching data for HINDPETRO.NS...\n"
     ]
    },
    {
     "name": "stderr",
     "output_type": "stream",
     "text": [
      "[*********************100%***********************]  1 of 1 completed\n"
     ]
    },
    {
     "name": "stdout",
     "output_type": "stream",
     "text": [
      "Data uploaded to S3: Energy/HINDPETRO.NS/HINDPETRO.NS_data.csv (CSV format)\n",
      "Data uploaded to S3: Energy/HINDPETRO.NS/HINDPETRO.NS_metrics.json (JSON format)\n",
      "Fetching data for APOLLOPIPE.NS...\n"
     ]
    },
    {
     "name": "stderr",
     "output_type": "stream",
     "text": [
      "[*********************100%***********************]  1 of 1 completed\n"
     ]
    },
    {
     "name": "stdout",
     "output_type": "stream",
     "text": [
      "Data uploaded to S3: Energy/APOLLOPIPE.NS/APOLLOPIPE.NS_data.csv (CSV format)\n",
      "Data uploaded to S3: Energy/APOLLOPIPE.NS/APOLLOPIPE.NS_metrics.json (JSON format)\n",
      "Fetching data for BIRLACORPN.NS...\n"
     ]
    },
    {
     "name": "stderr",
     "output_type": "stream",
     "text": [
      "[*********************100%***********************]  1 of 1 completed\n"
     ]
    },
    {
     "name": "stdout",
     "output_type": "stream",
     "text": [
      "Data uploaded to S3: Energy/BIRLACORPN.NS/BIRLACORPN.NS_data.csv (CSV format)\n",
      "Data uploaded to S3: Energy/BIRLACORPN.NS/BIRLACORPN.NS_metrics.json (JSON format)\n",
      "Fetching data for CIL.NS...\n"
     ]
    },
    {
     "name": "stderr",
     "output_type": "stream",
     "text": [
      "[*********************100%***********************]  1 of 1 completed\n",
      "\n",
      "1 Failed download:\n",
      "['CIL.NS']: YFTzMissingError('$%ticker%: possibly delisted; no timezone found')\n",
      "404 Client Error: Not Found for url: https://query2.finance.yahoo.com/v10/finance/quoteSummary/CIL.NS?modules=financialData%2CquoteType%2CdefaultKeyStatistics%2CassetProfile%2CsummaryDetail&corsDomain=finance.yahoo.com&formatted=false&symbol=CIL.NS&crumb=YUrovsfZqia\n"
     ]
    },
    {
     "name": "stdout",
     "output_type": "stream",
     "text": [
      "Data uploaded to S3: Energy/CIL.NS/CIL.NS_data.csv (CSV format)\n",
      "Data uploaded to S3: Energy/CIL.NS/CIL.NS_metrics.json (JSON format)\n"
     ]
    },
    {
     "name": "stderr",
     "output_type": "stream",
     "text": [
      "[*********************100%***********************]  1 of 1 completed"
     ]
    },
    {
     "name": "stdout",
     "output_type": "stream",
     "text": [
      "Fetching data for HINDALCO.NS...\n"
     ]
    },
    {
     "name": "stderr",
     "output_type": "stream",
     "text": [
      "\n"
     ]
    },
    {
     "name": "stdout",
     "output_type": "stream",
     "text": [
      "Data uploaded to S3: Energy/HINDALCO.NS/HINDALCO.NS_data.csv (CSV format)\n",
      "Data uploaded to S3: Energy/HINDALCO.NS/HINDALCO.NS_metrics.json (JSON format)\n"
     ]
    },
    {
     "name": "stderr",
     "output_type": "stream",
     "text": [
      "[*********************100%***********************]  1 of 1 completed"
     ]
    },
    {
     "name": "stdout",
     "output_type": "stream",
     "text": [
      "Fetching data for SAIL.NS...\n"
     ]
    },
    {
     "name": "stderr",
     "output_type": "stream",
     "text": [
      "\n"
     ]
    },
    {
     "name": "stdout",
     "output_type": "stream",
     "text": [
      "Data uploaded to S3: Energy/SAIL.NS/SAIL.NS_data.csv (CSV format)\n",
      "Data uploaded to S3: Energy/SAIL.NS/SAIL.NS_metrics.json (JSON format)\n",
      "Fetching data for JSWSTEEL.NS...\n"
     ]
    },
    {
     "name": "stderr",
     "output_type": "stream",
     "text": [
      "[*********************100%***********************]  1 of 1 completed\n"
     ]
    },
    {
     "name": "stdout",
     "output_type": "stream",
     "text": [
      "Data uploaded to S3: Energy/JSWSTEEL.NS/JSWSTEEL.NS_data.csv (CSV format)\n",
      "Data uploaded to S3: Energy/JSWSTEEL.NS/JSWSTEEL.NS_metrics.json (JSON format)\n",
      "Fetching data for TATAMOTORS.NS...\n"
     ]
    },
    {
     "name": "stderr",
     "output_type": "stream",
     "text": [
      "[*********************100%***********************]  1 of 1 completed\n"
     ]
    },
    {
     "name": "stdout",
     "output_type": "stream",
     "text": [
      "Data uploaded to S3: Energy/TATAMOTORS.NS/TATAMOTORS.NS_data.csv (CSV format)\n",
      "Data uploaded to S3: Energy/TATAMOTORS.NS/TATAMOTORS.NS_metrics.json (JSON format)\n",
      "Fetching data for VEDANTA.NS...\n"
     ]
    },
    {
     "name": "stderr",
     "output_type": "stream",
     "text": [
      "[*********************100%***********************]  1 of 1 completed\n",
      "\n",
      "1 Failed download:\n",
      "['VEDANTA.NS']: YFTzMissingError('$%ticker%: possibly delisted; no timezone found')\n",
      "404 Client Error: Not Found for url: https://query2.finance.yahoo.com/v10/finance/quoteSummary/VEDANTA.NS?modules=financialData%2CquoteType%2CdefaultKeyStatistics%2CassetProfile%2CsummaryDetail&corsDomain=finance.yahoo.com&formatted=false&symbol=VEDANTA.NS&crumb=YUrovsfZqia\n"
     ]
    },
    {
     "name": "stdout",
     "output_type": "stream",
     "text": [
      "Data uploaded to S3: Energy/VEDANTA.NS/VEDANTA.NS_data.csv (CSV format)\n",
      "Data uploaded to S3: Energy/VEDANTA.NS/VEDANTA.NS_metrics.json (JSON format)\n",
      "Fetching data for OIL.NS...\n"
     ]
    },
    {
     "name": "stderr",
     "output_type": "stream",
     "text": [
      "[*********************100%***********************]  1 of 1 completed\n"
     ]
    },
    {
     "name": "stdout",
     "output_type": "stream",
     "text": [
      "Data uploaded to S3: Energy/OIL.NS/OIL.NS_data.csv (CSV format)\n",
      "Data uploaded to S3: Energy/OIL.NS/OIL.NS_metrics.json (JSON format)\n"
     ]
    },
    {
     "name": "stderr",
     "output_type": "stream",
     "text": [
      "[*********************100%***********************]  1 of 1 completed"
     ]
    },
    {
     "name": "stdout",
     "output_type": "stream",
     "text": [
      "Fetching data for NHPC.NS...\n"
     ]
    },
    {
     "name": "stderr",
     "output_type": "stream",
     "text": [
      "\n"
     ]
    },
    {
     "name": "stdout",
     "output_type": "stream",
     "text": [
      "Data uploaded to S3: Energy/NHPC.NS/NHPC.NS_data.csv (CSV format)\n",
      "Data uploaded to S3: Energy/NHPC.NS/NHPC.NS_metrics.json (JSON format)\n",
      "Fetching data for SUNPHARMA.NS...\n"
     ]
    },
    {
     "name": "stderr",
     "output_type": "stream",
     "text": [
      "[*********************100%***********************]  1 of 1 completed\n"
     ]
    },
    {
     "name": "stdout",
     "output_type": "stream",
     "text": [
      "Data uploaded to S3: Pharmacy/SUNPHARMA.NS/SUNPHARMA.NS_data.csv (CSV format)\n",
      "Data uploaded to S3: Pharmacy/SUNPHARMA.NS/SUNPHARMA.NS_metrics.json (JSON format)\n",
      "Fetching data for CIPLA.NS...\n"
     ]
    },
    {
     "name": "stderr",
     "output_type": "stream",
     "text": [
      "[*********************100%***********************]  1 of 1 completed\n"
     ]
    },
    {
     "name": "stdout",
     "output_type": "stream",
     "text": [
      "Data uploaded to S3: Pharmacy/CIPLA.NS/CIPLA.NS_data.csv (CSV format)\n",
      "Data uploaded to S3: Pharmacy/CIPLA.NS/CIPLA.NS_metrics.json (JSON format)\n",
      "Fetching data for DIVISLAB.NS...\n"
     ]
    },
    {
     "name": "stderr",
     "output_type": "stream",
     "text": [
      "[*********************100%***********************]  1 of 1 completed\n"
     ]
    },
    {
     "name": "stdout",
     "output_type": "stream",
     "text": [
      "Data uploaded to S3: Pharmacy/DIVISLAB.NS/DIVISLAB.NS_data.csv (CSV format)\n",
      "Data uploaded to S3: Pharmacy/DIVISLAB.NS/DIVISLAB.NS_metrics.json (JSON format)\n",
      "Fetching data for LUPIN.NS...\n"
     ]
    },
    {
     "name": "stderr",
     "output_type": "stream",
     "text": [
      "[*********************100%***********************]  1 of 1 completed\n"
     ]
    },
    {
     "name": "stdout",
     "output_type": "stream",
     "text": [
      "Data uploaded to S3: Pharmacy/LUPIN.NS/LUPIN.NS_data.csv (CSV format)\n",
      "Data uploaded to S3: Pharmacy/LUPIN.NS/LUPIN.NS_metrics.json (JSON format)\n",
      "Fetching data for DRREDDY.NS...\n"
     ]
    },
    {
     "name": "stderr",
     "output_type": "stream",
     "text": [
      "[*********************100%***********************]  1 of 1 completed\n"
     ]
    },
    {
     "name": "stdout",
     "output_type": "stream",
     "text": [
      "Data uploaded to S3: Pharmacy/DRREDDY.NS/DRREDDY.NS_data.csv (CSV format)\n",
      "Data uploaded to S3: Pharmacy/DRREDDY.NS/DRREDDY.NS_metrics.json (JSON format)\n",
      "Fetching data for WOKHARDT.NS...\n"
     ]
    },
    {
     "name": "stderr",
     "output_type": "stream",
     "text": [
      "[*********************100%***********************]  1 of 1 completed\n",
      "\n",
      "1 Failed download:\n",
      "['WOKHARDT.NS']: YFTzMissingError('$%ticker%: possibly delisted; no timezone found')\n",
      "404 Client Error: Not Found for url: https://query2.finance.yahoo.com/v10/finance/quoteSummary/WOKHARDT.NS?modules=financialData%2CquoteType%2CdefaultKeyStatistics%2CassetProfile%2CsummaryDetail&corsDomain=finance.yahoo.com&formatted=false&symbol=WOKHARDT.NS&crumb=YUrovsfZqia\n"
     ]
    },
    {
     "name": "stdout",
     "output_type": "stream",
     "text": [
      "Data uploaded to S3: Pharmacy/WOKHARDT.NS/WOKHARDT.NS_data.csv (CSV format)\n",
      "Data uploaded to S3: Pharmacy/WOKHARDT.NS/WOKHARDT.NS_metrics.json (JSON format)\n",
      "Fetching data for ABBOTINDIA.NS...\n"
     ]
    },
    {
     "name": "stderr",
     "output_type": "stream",
     "text": [
      "[*********************100%***********************]  1 of 1 completed\n"
     ]
    },
    {
     "name": "stdout",
     "output_type": "stream",
     "text": [
      "Data uploaded to S3: Pharmacy/ABBOTINDIA.NS/ABBOTINDIA.NS_data.csv (CSV format)\n",
      "Data uploaded to S3: Pharmacy/ABBOTINDIA.NS/ABBOTINDIA.NS_metrics.json (JSON format)\n",
      "Fetching data for PIRAMAL.NS...\n"
     ]
    },
    {
     "name": "stderr",
     "output_type": "stream",
     "text": [
      "[*********************100%***********************]  1 of 1 completed\n",
      "\n",
      "1 Failed download:\n",
      "['PIRAMAL.NS']: YFTzMissingError('$%ticker%: possibly delisted; no timezone found')\n",
      "404 Client Error: Not Found for url: https://query2.finance.yahoo.com/v10/finance/quoteSummary/PIRAMAL.NS?modules=financialData%2CquoteType%2CdefaultKeyStatistics%2CassetProfile%2CsummaryDetail&corsDomain=finance.yahoo.com&formatted=false&symbol=PIRAMAL.NS&crumb=YUrovsfZqia\n"
     ]
    },
    {
     "name": "stdout",
     "output_type": "stream",
     "text": [
      "Data uploaded to S3: Pharmacy/PIRAMAL.NS/PIRAMAL.NS_data.csv (CSV format)\n",
      "Data uploaded to S3: Pharmacy/PIRAMAL.NS/PIRAMAL.NS_metrics.json (JSON format)\n",
      "Fetching data for MOTHERSONSumi.NS...\n"
     ]
    },
    {
     "name": "stderr",
     "output_type": "stream",
     "text": [
      "[*********************100%***********************]  1 of 1 completed\n",
      "\n",
      "1 Failed download:\n",
      "['MOTHERSONSUMI.NS']: YFTzMissingError('$%ticker%: possibly delisted; no timezone found')\n",
      "404 Client Error: Not Found for url: https://query2.finance.yahoo.com/v10/finance/quoteSummary/MOTHERSONSUMI.NS?modules=financialData%2CquoteType%2CdefaultKeyStatistics%2CassetProfile%2CsummaryDetail&corsDomain=finance.yahoo.com&formatted=false&symbol=MOTHERSONSUMI.NS&crumb=YUrovsfZqia\n"
     ]
    },
    {
     "name": "stdout",
     "output_type": "stream",
     "text": [
      "Data uploaded to S3: Pharmacy/MOTHERSONSumi.NS/MOTHERSONSumi.NS_data.csv (CSV format)\n",
      "Data uploaded to S3: Pharmacy/MOTHERSONSumi.NS/MOTHERSONSumi.NS_metrics.json (JSON format)\n",
      "Fetching data for ZYDUSLIFE.NS...\n"
     ]
    },
    {
     "name": "stderr",
     "output_type": "stream",
     "text": [
      "[*********************100%***********************]  1 of 1 completed\n"
     ]
    },
    {
     "name": "stdout",
     "output_type": "stream",
     "text": [
      "Data uploaded to S3: Pharmacy/ZYDUSLIFE.NS/ZYDUSLIFE.NS_data.csv (CSV format)\n",
      "Data uploaded to S3: Pharmacy/ZYDUSLIFE.NS/ZYDUSLIFE.NS_metrics.json (JSON format)\n",
      "Fetching data for ALKEM.NS...\n"
     ]
    },
    {
     "name": "stderr",
     "output_type": "stream",
     "text": [
      "[*********************100%***********************]  1 of 1 completed\n"
     ]
    },
    {
     "name": "stdout",
     "output_type": "stream",
     "text": [
      "Data uploaded to S3: Pharmacy/ALKEM.NS/ALKEM.NS_data.csv (CSV format)\n",
      "Data uploaded to S3: Pharmacy/ALKEM.NS/ALKEM.NS_metrics.json (JSON format)\n",
      "Fetching data for BIOCON.NS...\n"
     ]
    },
    {
     "name": "stderr",
     "output_type": "stream",
     "text": [
      "[*********************100%***********************]  1 of 1 completed\n"
     ]
    },
    {
     "name": "stdout",
     "output_type": "stream",
     "text": [
      "Data uploaded to S3: Pharmacy/BIOCON.NS/BIOCON.NS_data.csv (CSV format)\n",
      "Data uploaded to S3: Pharmacy/BIOCON.NS/BIOCON.NS_metrics.json (JSON format)\n",
      "Fetching data for NATCOPHARMA.NS...\n"
     ]
    },
    {
     "name": "stderr",
     "output_type": "stream",
     "text": [
      "[*********************100%***********************]  1 of 1 completed\n",
      "\n",
      "1 Failed download:\n",
      "['NATCOPHARMA.NS']: YFTzMissingError('$%ticker%: possibly delisted; no timezone found')\n",
      "404 Client Error: Not Found for url: https://query2.finance.yahoo.com/v10/finance/quoteSummary/NATCOPHARMA.NS?modules=financialData%2CquoteType%2CdefaultKeyStatistics%2CassetProfile%2CsummaryDetail&corsDomain=finance.yahoo.com&formatted=false&symbol=NATCOPHARMA.NS&crumb=YUrovsfZqia\n"
     ]
    },
    {
     "name": "stdout",
     "output_type": "stream",
     "text": [
      "Data uploaded to S3: Pharmacy/NATCOPHARMA.NS/NATCOPHARMA.NS_data.csv (CSV format)\n",
      "Data uploaded to S3: Pharmacy/NATCOPHARMA.NS/NATCOPHARMA.NS_metrics.json (JSON format)\n",
      "Fetching data for FDC.NS...\n"
     ]
    },
    {
     "name": "stderr",
     "output_type": "stream",
     "text": [
      "[*********************100%***********************]  1 of 1 completed\n"
     ]
    },
    {
     "name": "stdout",
     "output_type": "stream",
     "text": [
      "Data uploaded to S3: Pharmacy/FDC.NS/FDC.NS_data.csv (CSV format)\n",
      "Data uploaded to S3: Pharmacy/FDC.NS/FDC.NS_metrics.json (JSON format)\n",
      "Fetching data for SYNGENE.NS...\n"
     ]
    },
    {
     "name": "stderr",
     "output_type": "stream",
     "text": [
      "[*********************100%***********************]  1 of 1 completed\n"
     ]
    },
    {
     "name": "stdout",
     "output_type": "stream",
     "text": [
      "Data uploaded to S3: Pharmacy/SYNGENE.NS/SYNGENE.NS_data.csv (CSV format)\n",
      "Data uploaded to S3: Pharmacy/SYNGENE.NS/SYNGENE.NS_metrics.json (JSON format)\n"
     ]
    },
    {
     "name": "stderr",
     "output_type": "stream",
     "text": [
      "[*********************100%***********************]  1 of 1 completed"
     ]
    },
    {
     "name": "stdout",
     "output_type": "stream",
     "text": [
      "Fetching data for MANKIND.NS...\n"
     ]
    },
    {
     "name": "stderr",
     "output_type": "stream",
     "text": [
      "\n"
     ]
    },
    {
     "name": "stdout",
     "output_type": "stream",
     "text": [
      "Data uploaded to S3: Pharmacy/MANKIND.NS/MANKIND.NS_data.csv (CSV format)\n",
      "Data uploaded to S3: Pharmacy/MANKIND.NS/MANKIND.NS_metrics.json (JSON format)\n",
      "Fetching data for GLENMARK.NS...\n"
     ]
    },
    {
     "name": "stderr",
     "output_type": "stream",
     "text": [
      "[*********************100%***********************]  1 of 1 completed\n"
     ]
    },
    {
     "name": "stdout",
     "output_type": "stream",
     "text": [
      "Data uploaded to S3: Pharmacy/GLENMARK.NS/GLENMARK.NS_data.csv (CSV format)\n",
      "Data uploaded to S3: Pharmacy/GLENMARK.NS/GLENMARK.NS_metrics.json (JSON format)\n",
      "Fetching data for CADILAHC.NS...\n"
     ]
    },
    {
     "name": "stderr",
     "output_type": "stream",
     "text": [
      "[*********************100%***********************]  1 of 1 completed\n",
      "\n",
      "1 Failed download:\n",
      "['CADILAHC.NS']: YFTzMissingError('$%ticker%: possibly delisted; no timezone found')\n"
     ]
    },
    {
     "name": "stdout",
     "output_type": "stream",
     "text": [
      "Data uploaded to S3: Pharmacy/CADILAHC.NS/CADILAHC.NS_data.csv (CSV format)\n",
      "Data uploaded to S3: Pharmacy/CADILAHC.NS/CADILAHC.NS_metrics.json (JSON format)\n",
      "Fetching data for TORNTPHARM.NS...\n"
     ]
    },
    {
     "name": "stderr",
     "output_type": "stream",
     "text": [
      "[*********************100%***********************]  1 of 1 completed\n"
     ]
    },
    {
     "name": "stdout",
     "output_type": "stream",
     "text": [
      "Data uploaded to S3: Pharmacy/TORNTPHARM.NS/TORNTPHARM.NS_data.csv (CSV format)\n",
      "Data uploaded to S3: Pharmacy/TORNTPHARM.NS/TORNTPHARM.NS_metrics.json (JSON format)\n",
      "Fetching data for KOTAKPHARMA.NS...\n"
     ]
    },
    {
     "name": "stderr",
     "output_type": "stream",
     "text": [
      "[*********************100%***********************]  1 of 1 completed\n",
      "\n",
      "1 Failed download:\n",
      "['KOTAKPHARMA.NS']: YFTzMissingError('$%ticker%: possibly delisted; no timezone found')\n",
      "404 Client Error: Not Found for url: https://query2.finance.yahoo.com/v10/finance/quoteSummary/KOTAKPHARMA.NS?modules=financialData%2CquoteType%2CdefaultKeyStatistics%2CassetProfile%2CsummaryDetail&corsDomain=finance.yahoo.com&formatted=false&symbol=KOTAKPHARMA.NS&crumb=YUrovsfZqia\n"
     ]
    },
    {
     "name": "stdout",
     "output_type": "stream",
     "text": [
      "Data uploaded to S3: Pharmacy/KOTAKPHARMA.NS/KOTAKPHARMA.NS_data.csv (CSV format)\n",
      "Data uploaded to S3: Pharmacy/KOTAKPHARMA.NS/KOTAKPHARMA.NS_metrics.json (JSON format)\n",
      "Fetching data for MARUTI.NS...\n"
     ]
    },
    {
     "name": "stderr",
     "output_type": "stream",
     "text": [
      "[*********************100%***********************]  1 of 1 completed\n"
     ]
    },
    {
     "name": "stdout",
     "output_type": "stream",
     "text": [
      "Data uploaded to S3: Automobile/MARUTI.NS/MARUTI.NS_data.csv (CSV format)\n",
      "Data uploaded to S3: Automobile/MARUTI.NS/MARUTI.NS_metrics.json (JSON format)\n"
     ]
    },
    {
     "name": "stderr",
     "output_type": "stream",
     "text": [
      "[*********************100%***********************]  1 of 1 completed"
     ]
    },
    {
     "name": "stdout",
     "output_type": "stream",
     "text": [
      "Fetching data for TATAMOTORS.NS...\n"
     ]
    },
    {
     "name": "stderr",
     "output_type": "stream",
     "text": [
      "\n"
     ]
    },
    {
     "name": "stdout",
     "output_type": "stream",
     "text": [
      "Data uploaded to S3: Automobile/TATAMOTORS.NS/TATAMOTORS.NS_data.csv (CSV format)\n",
      "Data uploaded to S3: Automobile/TATAMOTORS.NS/TATAMOTORS.NS_metrics.json (JSON format)\n",
      "Fetching data for MAHINDRA.NS...\n"
     ]
    },
    {
     "name": "stderr",
     "output_type": "stream",
     "text": [
      "[*********************100%***********************]  1 of 1 completed\n",
      "\n",
      "1 Failed download:\n",
      "['MAHINDRA.NS']: YFTzMissingError('$%ticker%: possibly delisted; no timezone found')\n",
      "404 Client Error: Not Found for url: https://query2.finance.yahoo.com/v10/finance/quoteSummary/MAHINDRA.NS?modules=financialData%2CquoteType%2CdefaultKeyStatistics%2CassetProfile%2CsummaryDetail&corsDomain=finance.yahoo.com&formatted=false&symbol=MAHINDRA.NS&crumb=YUrovsfZqia\n"
     ]
    },
    {
     "name": "stdout",
     "output_type": "stream",
     "text": [
      "Data uploaded to S3: Automobile/MAHINDRA.NS/MAHINDRA.NS_data.csv (CSV format)\n",
      "Data uploaded to S3: Automobile/MAHINDRA.NS/MAHINDRA.NS_metrics.json (JSON format)\n",
      "Fetching data for BAJAJ-AUTO.NS...\n"
     ]
    },
    {
     "name": "stderr",
     "output_type": "stream",
     "text": [
      "[*********************100%***********************]  1 of 1 completed\n"
     ]
    },
    {
     "name": "stdout",
     "output_type": "stream",
     "text": [
      "Data uploaded to S3: Automobile/BAJAJ-AUTO.NS/BAJAJ-AUTO.NS_data.csv (CSV format)\n",
      "Data uploaded to S3: Automobile/BAJAJ-AUTO.NS/BAJAJ-AUTO.NS_metrics.json (JSON format)\n",
      "Fetching data for EICHERMOT.NS...\n"
     ]
    },
    {
     "name": "stderr",
     "output_type": "stream",
     "text": [
      "[*********************100%***********************]  1 of 1 completed\n"
     ]
    },
    {
     "name": "stdout",
     "output_type": "stream",
     "text": [
      "Data uploaded to S3: Automobile/EICHERMOT.NS/EICHERMOT.NS_data.csv (CSV format)\n",
      "Data uploaded to S3: Automobile/EICHERMOT.NS/EICHERMOT.NS_metrics.json (JSON format)\n",
      "Fetching data for MOTHERSUMI.NS...\n"
     ]
    },
    {
     "name": "stderr",
     "output_type": "stream",
     "text": [
      "[*********************100%***********************]  1 of 1 completed\n",
      "\n",
      "1 Failed download:\n",
      "['MOTHERSUMI.NS']: YFTzMissingError('$%ticker%: possibly delisted; no timezone found')\n"
     ]
    },
    {
     "name": "stdout",
     "output_type": "stream",
     "text": [
      "Data uploaded to S3: Automobile/MOTHERSUMI.NS/MOTHERSUMI.NS_data.csv (CSV format)\n",
      "Data uploaded to S3: Automobile/MOTHERSUMI.NS/MOTHERSUMI.NS_metrics.json (JSON format)\n",
      "Fetching data for TVSMOTOR.NS...\n"
     ]
    },
    {
     "name": "stderr",
     "output_type": "stream",
     "text": [
      "[*********************100%***********************]  1 of 1 completed\n"
     ]
    },
    {
     "name": "stdout",
     "output_type": "stream",
     "text": [
      "Data uploaded to S3: Automobile/TVSMOTOR.NS/TVSMOTOR.NS_data.csv (CSV format)\n",
      "Data uploaded to S3: Automobile/TVSMOTOR.NS/TVSMOTOR.NS_metrics.json (JSON format)\n",
      "Fetching data for ASHOKLEY.NS...\n"
     ]
    },
    {
     "name": "stderr",
     "output_type": "stream",
     "text": [
      "[*********************100%***********************]  1 of 1 completed\n"
     ]
    },
    {
     "name": "stdout",
     "output_type": "stream",
     "text": [
      "Data uploaded to S3: Automobile/ASHOKLEY.NS/ASHOKLEY.NS_data.csv (CSV format)\n",
      "Data uploaded to S3: Automobile/ASHOKLEY.NS/ASHOKLEY.NS_metrics.json (JSON format)\n"
     ]
    },
    {
     "name": "stderr",
     "output_type": "stream",
     "text": [
      "[*********************100%***********************]  1 of 1 completed"
     ]
    },
    {
     "name": "stdout",
     "output_type": "stream",
     "text": [
      "Fetching data for AUBANK.NS...\n"
     ]
    },
    {
     "name": "stderr",
     "output_type": "stream",
     "text": [
      "\n"
     ]
    },
    {
     "name": "stdout",
     "output_type": "stream",
     "text": [
      "Data uploaded to S3: Automobile/AUBANK.NS/AUBANK.NS_data.csv (CSV format)\n",
      "Data uploaded to S3: Automobile/AUBANK.NS/AUBANK.NS_metrics.json (JSON format)\n",
      "Fetching data for BOSCHLTD.NS...\n"
     ]
    },
    {
     "name": "stderr",
     "output_type": "stream",
     "text": [
      "[*********************100%***********************]  1 of 1 completed\n"
     ]
    },
    {
     "name": "stdout",
     "output_type": "stream",
     "text": [
      "Data uploaded to S3: Automobile/BOSCHLTD.NS/BOSCHLTD.NS_data.csv (CSV format)\n",
      "Data uploaded to S3: Automobile/BOSCHLTD.NS/BOSCHLTD.NS_metrics.json (JSON format)\n"
     ]
    },
    {
     "name": "stderr",
     "output_type": "stream",
     "text": [
      "[*********************100%***********************]  1 of 1 completed"
     ]
    },
    {
     "name": "stdout",
     "output_type": "stream",
     "text": [
      "Fetching data for EXIDEIND.NS...\n"
     ]
    },
    {
     "name": "stderr",
     "output_type": "stream",
     "text": [
      "\n"
     ]
    },
    {
     "name": "stdout",
     "output_type": "stream",
     "text": [
      "Data uploaded to S3: Automobile/EXIDEIND.NS/EXIDEIND.NS_data.csv (CSV format)\n",
      "Data uploaded to S3: Automobile/EXIDEIND.NS/EXIDEIND.NS_metrics.json (JSON format)\n"
     ]
    },
    {
     "name": "stderr",
     "output_type": "stream",
     "text": [
      "[*********************100%***********************]  1 of 1 completed"
     ]
    },
    {
     "name": "stdout",
     "output_type": "stream",
     "text": [
      "Fetching data for INDIGO.NS...\n"
     ]
    },
    {
     "name": "stderr",
     "output_type": "stream",
     "text": [
      "\n"
     ]
    },
    {
     "name": "stdout",
     "output_type": "stream",
     "text": [
      "Data uploaded to S3: Automobile/INDIGO.NS/INDIGO.NS_data.csv (CSV format)\n",
      "Data uploaded to S3: Automobile/INDIGO.NS/INDIGO.NS_metrics.json (JSON format)\n",
      "Fetching data for OLECTRA.NS...\n"
     ]
    },
    {
     "name": "stderr",
     "output_type": "stream",
     "text": [
      "[*********************100%***********************]  1 of 1 completed\n"
     ]
    },
    {
     "name": "stdout",
     "output_type": "stream",
     "text": [
      "Data uploaded to S3: Automobile/OLECTRA.NS/OLECTRA.NS_data.csv (CSV format)\n",
      "Data uploaded to S3: Automobile/OLECTRA.NS/OLECTRA.NS_metrics.json (JSON format)\n",
      "Fetching data for HERO.MOTOCO.NS...\n"
     ]
    },
    {
     "name": "stderr",
     "output_type": "stream",
     "text": [
      "[*********************100%***********************]  1 of 1 completed\n",
      "\n",
      "1 Failed download:\n",
      "['HERO.MOTOCO.NS']: YFTzMissingError('$%ticker%: possibly delisted; no timezone found')\n",
      "404 Client Error: Not Found for url: https://query2.finance.yahoo.com/v10/finance/quoteSummary/HERO.MOTOCO.NS?modules=financialData%2CquoteType%2CdefaultKeyStatistics%2CassetProfile%2CsummaryDetail&corsDomain=finance.yahoo.com&formatted=false&symbol=HERO.MOTOCO.NS&crumb=YUrovsfZqia\n"
     ]
    },
    {
     "name": "stdout",
     "output_type": "stream",
     "text": [
      "Data uploaded to S3: Automobile/HERO.MOTOCO.NS/HERO.MOTOCO.NS_data.csv (CSV format)\n",
      "Data uploaded to S3: Automobile/HERO.MOTOCO.NS/HERO.MOTOCO.NS_metrics.json (JSON format)\n",
      "Fetching data for RECLTD.NS...\n"
     ]
    },
    {
     "name": "stderr",
     "output_type": "stream",
     "text": [
      "[*********************100%***********************]  1 of 1 completed\n"
     ]
    },
    {
     "name": "stdout",
     "output_type": "stream",
     "text": [
      "Data uploaded to S3: Automobile/RECLTD.NS/RECLTD.NS_data.csv (CSV format)\n",
      "Data uploaded to S3: Automobile/RECLTD.NS/RECLTD.NS_metrics.json (JSON format)\n",
      "Fetching data for GMDCLTD.NS...\n"
     ]
    },
    {
     "name": "stderr",
     "output_type": "stream",
     "text": [
      "[*********************100%***********************]  1 of 1 completed\n"
     ]
    },
    {
     "name": "stdout",
     "output_type": "stream",
     "text": [
      "Data uploaded to S3: Automobile/GMDCLTD.NS/GMDCLTD.NS_data.csv (CSV format)\n",
      "Data uploaded to S3: Automobile/GMDCLTD.NS/GMDCLTD.NS_metrics.json (JSON format)\n",
      "Fetching data for SONALIKA.NS...\n"
     ]
    },
    {
     "name": "stderr",
     "output_type": "stream",
     "text": [
      "[*********************100%***********************]  1 of 1 completed\n",
      "\n",
      "1 Failed download:\n",
      "['SONALIKA.NS']: YFTzMissingError('$%ticker%: possibly delisted; no timezone found')\n",
      "404 Client Error: Not Found for url: https://query2.finance.yahoo.com/v10/finance/quoteSummary/SONALIKA.NS?modules=financialData%2CquoteType%2CdefaultKeyStatistics%2CassetProfile%2CsummaryDetail&corsDomain=finance.yahoo.com&formatted=false&symbol=SONALIKA.NS&crumb=YUrovsfZqia\n"
     ]
    },
    {
     "name": "stdout",
     "output_type": "stream",
     "text": [
      "Data uploaded to S3: Automobile/SONALIKA.NS/SONALIKA.NS_data.csv (CSV format)\n",
      "Data uploaded to S3: Automobile/SONALIKA.NS/SONALIKA.NS_metrics.json (JSON format)\n",
      "Fetching data for TATAPOWER.NS...\n"
     ]
    },
    {
     "name": "stderr",
     "output_type": "stream",
     "text": [
      "[*********************100%***********************]  1 of 1 completed\n"
     ]
    },
    {
     "name": "stdout",
     "output_type": "stream",
     "text": [
      "Data uploaded to S3: Automobile/TATAPOWER.NS/TATAPOWER.NS_data.csv (CSV format)\n",
      "Data uploaded to S3: Automobile/TATAPOWER.NS/TATAPOWER.NS_metrics.json (JSON format)\n",
      "Fetching data for BHEL.NS...\n"
     ]
    },
    {
     "name": "stderr",
     "output_type": "stream",
     "text": [
      "[*********************100%***********************]  1 of 1 completed\n"
     ]
    },
    {
     "name": "stdout",
     "output_type": "stream",
     "text": [
      "Data uploaded to S3: Automobile/BHEL.NS/BHEL.NS_data.csv (CSV format)\n",
      "Data uploaded to S3: Automobile/BHEL.NS/BHEL.NS_metrics.json (JSON format)\n",
      "Fetching data for HAVELLS.NS...\n"
     ]
    },
    {
     "name": "stderr",
     "output_type": "stream",
     "text": [
      "[*********************100%***********************]  1 of 1 completed\n"
     ]
    },
    {
     "name": "stdout",
     "output_type": "stream",
     "text": [
      "Data uploaded to S3: Automobile/HAVELLS.NS/HAVELLS.NS_data.csv (CSV format)\n",
      "Data uploaded to S3: Automobile/HAVELLS.NS/HAVELLS.NS_metrics.json (JSON format)\n",
      "Fetching data for HDFCBANK.NS...\n"
     ]
    },
    {
     "name": "stderr",
     "output_type": "stream",
     "text": [
      "[*********************100%***********************]  1 of 1 completed\n"
     ]
    },
    {
     "name": "stdout",
     "output_type": "stream",
     "text": [
      "Data uploaded to S3: Banking/HDFCBANK.NS/HDFCBANK.NS_data.csv (CSV format)\n",
      "Data uploaded to S3: Banking/HDFCBANK.NS/HDFCBANK.NS_metrics.json (JSON format)\n",
      "Fetching data for ICICIBANK.NS...\n"
     ]
    },
    {
     "name": "stderr",
     "output_type": "stream",
     "text": [
      "[*********************100%***********************]  1 of 1 completed\n"
     ]
    },
    {
     "name": "stdout",
     "output_type": "stream",
     "text": [
      "Data uploaded to S3: Banking/ICICIBANK.NS/ICICIBANK.NS_data.csv (CSV format)\n",
      "Data uploaded to S3: Banking/ICICIBANK.NS/ICICIBANK.NS_metrics.json (JSON format)\n",
      "Fetching data for AXISBANK.NS...\n"
     ]
    },
    {
     "name": "stderr",
     "output_type": "stream",
     "text": [
      "[*********************100%***********************]  1 of 1 completed\n"
     ]
    },
    {
     "name": "stdout",
     "output_type": "stream",
     "text": [
      "Data uploaded to S3: Banking/AXISBANK.NS/AXISBANK.NS_data.csv (CSV format)\n",
      "Data uploaded to S3: Banking/AXISBANK.NS/AXISBANK.NS_metrics.json (JSON format)\n",
      "Fetching data for SBIN.NS...\n"
     ]
    },
    {
     "name": "stderr",
     "output_type": "stream",
     "text": [
      "[*********************100%***********************]  1 of 1 completed\n"
     ]
    },
    {
     "name": "stdout",
     "output_type": "stream",
     "text": [
      "Data uploaded to S3: Banking/SBIN.NS/SBIN.NS_data.csv (CSV format)\n",
      "Data uploaded to S3: Banking/SBIN.NS/SBIN.NS_metrics.json (JSON format)\n",
      "Fetching data for KOTAKBANK.NS...\n"
     ]
    },
    {
     "name": "stderr",
     "output_type": "stream",
     "text": [
      "[*********************100%***********************]  1 of 1 completed\n"
     ]
    },
    {
     "name": "stdout",
     "output_type": "stream",
     "text": [
      "Data uploaded to S3: Banking/KOTAKBANK.NS/KOTAKBANK.NS_data.csv (CSV format)\n",
      "Data uploaded to S3: Banking/KOTAKBANK.NS/KOTAKBANK.NS_metrics.json (JSON format)\n"
     ]
    },
    {
     "name": "stderr",
     "output_type": "stream",
     "text": [
      "[*********************100%***********************]  1 of 1 completed"
     ]
    },
    {
     "name": "stdout",
     "output_type": "stream",
     "text": [
      "Fetching data for IDFCFIRSTB.NS...\n"
     ]
    },
    {
     "name": "stderr",
     "output_type": "stream",
     "text": [
      "\n"
     ]
    },
    {
     "name": "stdout",
     "output_type": "stream",
     "text": [
      "Data uploaded to S3: Banking/IDFCFIRSTB.NS/IDFCFIRSTB.NS_data.csv (CSV format)\n",
      "Data uploaded to S3: Banking/IDFCFIRSTB.NS/IDFCFIRSTB.NS_metrics.json (JSON format)\n",
      "Fetching data for INDUSINDBK.NS...\n"
     ]
    },
    {
     "name": "stderr",
     "output_type": "stream",
     "text": [
      "[*********************100%***********************]  1 of 1 completed\n"
     ]
    },
    {
     "name": "stdout",
     "output_type": "stream",
     "text": [
      "Data uploaded to S3: Banking/INDUSINDBK.NS/INDUSINDBK.NS_data.csv (CSV format)\n",
      "Data uploaded to S3: Banking/INDUSINDBK.NS/INDUSINDBK.NS_metrics.json (JSON format)\n",
      "Fetching data for YESBANK.NS...\n"
     ]
    },
    {
     "name": "stderr",
     "output_type": "stream",
     "text": [
      "[*********************100%***********************]  1 of 1 completed\n"
     ]
    },
    {
     "name": "stdout",
     "output_type": "stream",
     "text": [
      "Data uploaded to S3: Banking/YESBANK.NS/YESBANK.NS_data.csv (CSV format)\n",
      "Data uploaded to S3: Banking/YESBANK.NS/YESBANK.NS_metrics.json (JSON format)\n",
      "Fetching data for BANKBARODA.NS...\n"
     ]
    },
    {
     "name": "stderr",
     "output_type": "stream",
     "text": [
      "[*********************100%***********************]  1 of 1 completed\n"
     ]
    },
    {
     "name": "stdout",
     "output_type": "stream",
     "text": [
      "Data uploaded to S3: Banking/BANKBARODA.NS/BANKBARODA.NS_data.csv (CSV format)\n",
      "Data uploaded to S3: Banking/BANKBARODA.NS/BANKBARODA.NS_metrics.json (JSON format)\n",
      "Fetching data for PNB.NS...\n"
     ]
    },
    {
     "name": "stderr",
     "output_type": "stream",
     "text": [
      "[*********************100%***********************]  1 of 1 completed\n"
     ]
    },
    {
     "name": "stdout",
     "output_type": "stream",
     "text": [
      "Data uploaded to S3: Banking/PNB.NS/PNB.NS_data.csv (CSV format)\n",
      "Data uploaded to S3: Banking/PNB.NS/PNB.NS_metrics.json (JSON format)\n",
      "Fetching data for BOMDIA.NS...\n"
     ]
    },
    {
     "name": "stderr",
     "output_type": "stream",
     "text": [
      "[*********************100%***********************]  1 of 1 completed\n",
      "\n",
      "1 Failed download:\n",
      "['BOMDIA.NS']: YFTzMissingError('$%ticker%: possibly delisted; no timezone found')\n",
      "404 Client Error: Not Found for url: https://query2.finance.yahoo.com/v10/finance/quoteSummary/BOMDIA.NS?modules=financialData%2CquoteType%2CdefaultKeyStatistics%2CassetProfile%2CsummaryDetail&corsDomain=finance.yahoo.com&formatted=false&symbol=BOMDIA.NS&crumb=YUrovsfZqia\n"
     ]
    },
    {
     "name": "stdout",
     "output_type": "stream",
     "text": [
      "Data uploaded to S3: Banking/BOMDIA.NS/BOMDIA.NS_data.csv (CSV format)\n",
      "Data uploaded to S3: Banking/BOMDIA.NS/BOMDIA.NS_metrics.json (JSON format)\n",
      "Fetching data for RBLBANK.NS...\n"
     ]
    },
    {
     "name": "stderr",
     "output_type": "stream",
     "text": [
      "[*********************100%***********************]  1 of 1 completed\n"
     ]
    },
    {
     "name": "stdout",
     "output_type": "stream",
     "text": [
      "Data uploaded to S3: Banking/RBLBANK.NS/RBLBANK.NS_data.csv (CSV format)\n",
      "Data uploaded to S3: Banking/RBLBANK.NS/RBLBANK.NS_metrics.json (JSON format)\n",
      "Fetching data for FEDERALBNK.NS...\n"
     ]
    },
    {
     "name": "stderr",
     "output_type": "stream",
     "text": [
      "[*********************100%***********************]  1 of 1 completed\n"
     ]
    },
    {
     "name": "stdout",
     "output_type": "stream",
     "text": [
      "Data uploaded to S3: Banking/FEDERALBNK.NS/FEDERALBNK.NS_data.csv (CSV format)\n",
      "Data uploaded to S3: Banking/FEDERALBNK.NS/FEDERALBNK.NS_metrics.json (JSON format)\n",
      "Fetching data for SOUTHBANK.NS...\n"
     ]
    },
    {
     "name": "stderr",
     "output_type": "stream",
     "text": [
      "[*********************100%***********************]  1 of 1 completed\n"
     ]
    },
    {
     "name": "stdout",
     "output_type": "stream",
     "text": [
      "Data uploaded to S3: Banking/SOUTHBANK.NS/SOUTHBANK.NS_data.csv (CSV format)\n",
      "Data uploaded to S3: Banking/SOUTHBANK.NS/SOUTHBANK.NS_metrics.json (JSON format)\n",
      "Fetching data for CANBK.NS...\n"
     ]
    },
    {
     "name": "stderr",
     "output_type": "stream",
     "text": [
      "[*********************100%***********************]  1 of 1 completed\n"
     ]
    },
    {
     "name": "stdout",
     "output_type": "stream",
     "text": [
      "Data uploaded to S3: Banking/CANBK.NS/CANBK.NS_data.csv (CSV format)\n",
      "Data uploaded to S3: Banking/CANBK.NS/CANBK.NS_metrics.json (JSON format)\n",
      "Fetching data for IIB.NS...\n"
     ]
    },
    {
     "name": "stderr",
     "output_type": "stream",
     "text": [
      "[*********************100%***********************]  1 of 1 completed\n",
      "\n",
      "1 Failed download:\n",
      "['IIB.NS']: YFTzMissingError('$%ticker%: possibly delisted; no timezone found')\n",
      "404 Client Error: Not Found for url: https://query2.finance.yahoo.com/v10/finance/quoteSummary/IIB.NS?modules=financialData%2CquoteType%2CdefaultKeyStatistics%2CassetProfile%2CsummaryDetail&corsDomain=finance.yahoo.com&formatted=false&symbol=IIB.NS&crumb=YUrovsfZqia\n"
     ]
    },
    {
     "name": "stdout",
     "output_type": "stream",
     "text": [
      "Data uploaded to S3: Banking/IIB.NS/IIB.NS_data.csv (CSV format)\n",
      "Data uploaded to S3: Banking/IIB.NS/IIB.NS_metrics.json (JSON format)\n",
      "Fetching data for MUTHOOTFIN.NS...\n"
     ]
    },
    {
     "name": "stderr",
     "output_type": "stream",
     "text": [
      "[*********************100%***********************]  1 of 1 completed\n"
     ]
    },
    {
     "name": "stdout",
     "output_type": "stream",
     "text": [
      "Data uploaded to S3: Banking/MUTHOOTFIN.NS/MUTHOOTFIN.NS_data.csv (CSV format)\n",
      "Data uploaded to S3: Banking/MUTHOOTFIN.NS/MUTHOOTFIN.NS_metrics.json (JSON format)\n",
      "Fetching data for LICHSGFIN.NS...\n"
     ]
    },
    {
     "name": "stderr",
     "output_type": "stream",
     "text": [
      "[*********************100%***********************]  1 of 1 completed\n"
     ]
    },
    {
     "name": "stdout",
     "output_type": "stream",
     "text": [
      "Data uploaded to S3: Banking/LICHSGFIN.NS/LICHSGFIN.NS_data.csv (CSV format)\n",
      "Data uploaded to S3: Banking/LICHSGFIN.NS/LICHSGFIN.NS_metrics.json (JSON format)\n",
      "Fetching data for NHB.NS...\n"
     ]
    },
    {
     "name": "stderr",
     "output_type": "stream",
     "text": [
      "[*********************100%***********************]  1 of 1 completed\n",
      "\n",
      "1 Failed download:\n",
      "['NHB.NS']: YFTzMissingError('$%ticker%: possibly delisted; no timezone found')\n",
      "404 Client Error: Not Found for url: https://query2.finance.yahoo.com/v10/finance/quoteSummary/NHB.NS?modules=financialData%2CquoteType%2CdefaultKeyStatistics%2CassetProfile%2CsummaryDetail&corsDomain=finance.yahoo.com&formatted=false&symbol=NHB.NS&crumb=YUrovsfZqia\n"
     ]
    },
    {
     "name": "stdout",
     "output_type": "stream",
     "text": [
      "Data uploaded to S3: Banking/NHB.NS/NHB.NS_data.csv (CSV format)\n",
      "Data uploaded to S3: Banking/NHB.NS/NHB.NS_metrics.json (JSON format)\n",
      "Fetching data for BANDHANBNK.NS...\n"
     ]
    },
    {
     "name": "stderr",
     "output_type": "stream",
     "text": [
      "[*********************100%***********************]  1 of 1 completed\n"
     ]
    },
    {
     "name": "stdout",
     "output_type": "stream",
     "text": [
      "Data uploaded to S3: Banking/BANDHANBNK.NS/BANDHANBNK.NS_data.csv (CSV format)\n",
      "Data uploaded to S3: Banking/BANDHANBNK.NS/BANDHANBNK.NS_metrics.json (JSON format)\n",
      "Fetching data for TCS.NS...\n"
     ]
    },
    {
     "name": "stderr",
     "output_type": "stream",
     "text": [
      "[*********************100%***********************]  1 of 1 completed\n",
      "\n",
      "1 Failed download:\n",
      "['TCS.NS']: ReadTimeout(ReadTimeoutError(\"HTTPSConnectionPool(host='query2.finance.yahoo.com', port=443): Read timed out. (read timeout=10)\"))\n"
     ]
    },
    {
     "name": "stdout",
     "output_type": "stream",
     "text": [
      "Data uploaded to S3: Technology/TCS.NS/TCS.NS_data.csv (CSV format)\n",
      "Data uploaded to S3: Technology/TCS.NS/TCS.NS_metrics.json (JSON format)\n"
     ]
    },
    {
     "name": "stderr",
     "output_type": "stream",
     "text": [
      "[*********************100%***********************]  1 of 1 completed"
     ]
    },
    {
     "name": "stdout",
     "output_type": "stream",
     "text": [
      "Fetching data for INFY.NS...\n"
     ]
    },
    {
     "name": "stderr",
     "output_type": "stream",
     "text": [
      "\n"
     ]
    },
    {
     "name": "stdout",
     "output_type": "stream",
     "text": [
      "Data uploaded to S3: Technology/INFY.NS/INFY.NS_data.csv (CSV format)\n",
      "Data uploaded to S3: Technology/INFY.NS/INFY.NS_metrics.json (JSON format)\n",
      "Fetching data for WIPRO.NS...\n"
     ]
    },
    {
     "name": "stderr",
     "output_type": "stream",
     "text": [
      "[*********************100%***********************]  1 of 1 completed\n"
     ]
    },
    {
     "name": "stdout",
     "output_type": "stream",
     "text": [
      "Data uploaded to S3: Technology/WIPRO.NS/WIPRO.NS_data.csv (CSV format)\n",
      "Data uploaded to S3: Technology/WIPRO.NS/WIPRO.NS_metrics.json (JSON format)\n",
      "Fetching data for HCLTECH.NS...\n"
     ]
    },
    {
     "name": "stderr",
     "output_type": "stream",
     "text": [
      "[*********************100%***********************]  1 of 1 completed\n"
     ]
    },
    {
     "name": "stdout",
     "output_type": "stream",
     "text": [
      "Data uploaded to S3: Technology/HCLTECH.NS/HCLTECH.NS_data.csv (CSV format)\n",
      "Data uploaded to S3: Technology/HCLTECH.NS/HCLTECH.NS_metrics.json (JSON format)\n",
      "Fetching data for TECHM.NS...\n"
     ]
    },
    {
     "name": "stderr",
     "output_type": "stream",
     "text": [
      "[*********************100%***********************]  1 of 1 completed\n"
     ]
    },
    {
     "name": "stdout",
     "output_type": "stream",
     "text": [
      "Data uploaded to S3: Technology/TECHM.NS/TECHM.NS_data.csv (CSV format)\n",
      "Data uploaded to S3: Technology/TECHM.NS/TECHM.NS_metrics.json (JSON format)\n",
      "Fetching data for MINDTREE.NS...\n"
     ]
    },
    {
     "name": "stderr",
     "output_type": "stream",
     "text": [
      "[*********************100%***********************]  1 of 1 completed\n",
      "\n",
      "1 Failed download:\n",
      "['MINDTREE.NS']: YFTzMissingError('$%ticker%: possibly delisted; no timezone found')\n"
     ]
    },
    {
     "name": "stdout",
     "output_type": "stream",
     "text": [
      "Data uploaded to S3: Technology/MINDTREE.NS/MINDTREE.NS_data.csv (CSV format)\n",
      "Data uploaded to S3: Technology/MINDTREE.NS/MINDTREE.NS_metrics.json (JSON format)\n"
     ]
    },
    {
     "name": "stderr",
     "output_type": "stream",
     "text": [
      "[*********************100%***********************]  1 of 1 completed"
     ]
    },
    {
     "name": "stdout",
     "output_type": "stream",
     "text": [
      "Fetching data for LTTS.NS...\n"
     ]
    },
    {
     "name": "stderr",
     "output_type": "stream",
     "text": [
      "\n"
     ]
    },
    {
     "name": "stdout",
     "output_type": "stream",
     "text": [
      "Data uploaded to S3: Technology/LTTS.NS/LTTS.NS_data.csv (CSV format)\n",
      "Data uploaded to S3: Technology/LTTS.NS/LTTS.NS_metrics.json (JSON format)\n"
     ]
    },
    {
     "name": "stderr",
     "output_type": "stream",
     "text": [
      "[*********************100%***********************]  1 of 1 completed"
     ]
    },
    {
     "name": "stdout",
     "output_type": "stream",
     "text": [
      "Fetching data for COFORGE.NS...\n"
     ]
    },
    {
     "name": "stderr",
     "output_type": "stream",
     "text": [
      "\n"
     ]
    },
    {
     "name": "stdout",
     "output_type": "stream",
     "text": [
      "Data uploaded to S3: Technology/COFORGE.NS/COFORGE.NS_data.csv (CSV format)\n",
      "Data uploaded to S3: Technology/COFORGE.NS/COFORGE.NS_metrics.json (JSON format)\n",
      "Fetching data for CYIENT.NS...\n"
     ]
    },
    {
     "name": "stderr",
     "output_type": "stream",
     "text": [
      "[*********************100%***********************]  1 of 1 completed\n"
     ]
    },
    {
     "name": "stdout",
     "output_type": "stream",
     "text": [
      "Data uploaded to S3: Technology/CYIENT.NS/CYIENT.NS_data.csv (CSV format)\n",
      "Data uploaded to S3: Technology/CYIENT.NS/CYIENT.NS_metrics.json (JSON format)\n",
      "Fetching data for NIIT.NS...\n"
     ]
    },
    {
     "name": "stderr",
     "output_type": "stream",
     "text": [
      "[*********************100%***********************]  1 of 1 completed\n",
      "\n",
      "1 Failed download:\n",
      "['NIIT.NS']: YFPricesMissingError('$%ticker%: possibly delisted; no price data found  (1d 2014-12-10 -> 2024-12-07)')\n"
     ]
    },
    {
     "name": "stdout",
     "output_type": "stream",
     "text": [
      "Data uploaded to S3: Technology/NIIT.NS/NIIT.NS_data.csv (CSV format)\n",
      "Data uploaded to S3: Technology/NIIT.NS/NIIT.NS_metrics.json (JSON format)\n",
      "Fetching data for MATRIXLABS.NS...\n"
     ]
    },
    {
     "name": "stderr",
     "output_type": "stream",
     "text": [
      "[*********************100%***********************]  1 of 1 completed\n",
      "\n",
      "1 Failed download:\n",
      "['MATRIXLABS.NS']: YFTzMissingError('$%ticker%: possibly delisted; no timezone found')\n",
      "404 Client Error: Not Found for url: https://query2.finance.yahoo.com/v10/finance/quoteSummary/MATRIXLABS.NS?modules=financialData%2CquoteType%2CdefaultKeyStatistics%2CassetProfile%2CsummaryDetail&corsDomain=finance.yahoo.com&formatted=false&symbol=MATRIXLABS.NS&crumb=YUrovsfZqia\n"
     ]
    },
    {
     "name": "stdout",
     "output_type": "stream",
     "text": [
      "Data uploaded to S3: Technology/MATRIXLABS.NS/MATRIXLABS.NS_data.csv (CSV format)\n",
      "Data uploaded to S3: Technology/MATRIXLABS.NS/MATRIXLABS.NS_metrics.json (JSON format)\n",
      "Fetching data for BIRLASOFT.NS...\n"
     ]
    },
    {
     "name": "stderr",
     "output_type": "stream",
     "text": [
      "[*********************100%***********************]  1 of 1 completed\n",
      "\n",
      "1 Failed download:\n",
      "['BIRLASOFT.NS']: YFTzMissingError('$%ticker%: possibly delisted; no timezone found')\n",
      "404 Client Error: Not Found for url: https://query2.finance.yahoo.com/v10/finance/quoteSummary/BIRLASOFT.NS?modules=financialData%2CquoteType%2CdefaultKeyStatistics%2CassetProfile%2CsummaryDetail&corsDomain=finance.yahoo.com&formatted=false&symbol=BIRLASOFT.NS&crumb=YUrovsfZqia\n"
     ]
    },
    {
     "name": "stdout",
     "output_type": "stream",
     "text": [
      "Data uploaded to S3: Technology/BIRLASOFT.NS/BIRLASOFT.NS_data.csv (CSV format)\n",
      "Data uploaded to S3: Technology/BIRLASOFT.NS/BIRLASOFT.NS_metrics.json (JSON format)\n",
      "Fetching data for KPITTECH.NS...\n"
     ]
    },
    {
     "name": "stderr",
     "output_type": "stream",
     "text": [
      "[*********************100%***********************]  1 of 1 completed\n"
     ]
    },
    {
     "name": "stdout",
     "output_type": "stream",
     "text": [
      "Data uploaded to S3: Technology/KPITTECH.NS/KPITTECH.NS_data.csv (CSV format)\n",
      "Data uploaded to S3: Technology/KPITTECH.NS/KPITTECH.NS_metrics.json (JSON format)\n",
      "Fetching data for ZENSARTECH.NS...\n"
     ]
    },
    {
     "name": "stderr",
     "output_type": "stream",
     "text": [
      "[*********************100%***********************]  1 of 1 completed\n"
     ]
    },
    {
     "name": "stdout",
     "output_type": "stream",
     "text": [
      "Data uploaded to S3: Technology/ZENSARTECH.NS/ZENSARTECH.NS_data.csv (CSV format)\n",
      "Data uploaded to S3: Technology/ZENSARTECH.NS/ZENSARTECH.NS_metrics.json (JSON format)\n",
      "Fetching data for OCTALIT.NS...\n"
     ]
    },
    {
     "name": "stderr",
     "output_type": "stream",
     "text": [
      "[*********************100%***********************]  1 of 1 completed\n",
      "\n",
      "1 Failed download:\n",
      "['OCTALIT.NS']: YFTzMissingError('$%ticker%: possibly delisted; no timezone found')\n",
      "404 Client Error: Not Found for url: https://query2.finance.yahoo.com/v10/finance/quoteSummary/OCTALIT.NS?modules=financialData%2CquoteType%2CdefaultKeyStatistics%2CassetProfile%2CsummaryDetail&corsDomain=finance.yahoo.com&formatted=false&symbol=OCTALIT.NS&crumb=YUrovsfZqia\n"
     ]
    },
    {
     "name": "stdout",
     "output_type": "stream",
     "text": [
      "Data uploaded to S3: Technology/OCTALIT.NS/OCTALIT.NS_data.csv (CSV format)\n",
      "Data uploaded to S3: Technology/OCTALIT.NS/OCTALIT.NS_metrics.json (JSON format)\n",
      "Fetching data for TATAELXSI.NS...\n"
     ]
    },
    {
     "name": "stderr",
     "output_type": "stream",
     "text": [
      "[*********************100%***********************]  1 of 1 completed\n"
     ]
    },
    {
     "name": "stdout",
     "output_type": "stream",
     "text": [
      "Data uploaded to S3: Technology/TATAELXSI.NS/TATAELXSI.NS_data.csv (CSV format)\n",
      "Data uploaded to S3: Technology/TATAELXSI.NS/TATAELXSI.NS_metrics.json (JSON format)\n",
      "Fetching data for SASKEN.NS...\n"
     ]
    },
    {
     "name": "stderr",
     "output_type": "stream",
     "text": [
      "[*********************100%***********************]  1 of 1 completed\n"
     ]
    },
    {
     "name": "stdout",
     "output_type": "stream",
     "text": [
      "Data uploaded to S3: Technology/SASKEN.NS/SASKEN.NS_data.csv (CSV format)\n",
      "Data uploaded to S3: Technology/SASKEN.NS/SASKEN.NS_metrics.json (JSON format)\n",
      "Fetching data for 3IINFOTECH.NS...\n"
     ]
    },
    {
     "name": "stderr",
     "output_type": "stream",
     "text": [
      "[*********************100%***********************]  1 of 1 completed\n",
      "\n",
      "1 Failed download:\n",
      "['3IINFOTECH.NS']: YFTzMissingError('$%ticker%: possibly delisted; no timezone found')\n"
     ]
    },
    {
     "name": "stdout",
     "output_type": "stream",
     "text": [
      "Data uploaded to S3: Technology/3IINFOTECH.NS/3IINFOTECH.NS_data.csv (CSV format)\n",
      "Data uploaded to S3: Technology/3IINFOTECH.NS/3IINFOTECH.NS_metrics.json (JSON format)\n",
      "Fetching data for INTELLECT.NS...\n"
     ]
    },
    {
     "name": "stderr",
     "output_type": "stream",
     "text": [
      "[*********************100%***********************]  1 of 1 completed\n"
     ]
    },
    {
     "name": "stdout",
     "output_type": "stream",
     "text": [
      "Data uploaded to S3: Technology/INTELLECT.NS/INTELLECT.NS_data.csv (CSV format)\n",
      "Data uploaded to S3: Technology/INTELLECT.NS/INTELLECT.NS_metrics.json (JSON format)\n",
      "Stock data fetching and upload to S3 complete.\n"
     ]
    }
   ],
   "source": [
    "import yfinance as yf\n",
    "from dotenv import load_dotenv\n",
    "import pandas as pd\n",
    "import time\n",
    "import os\n",
    "import boto3\n",
    "from io import StringIO  \n",
    "import json\n",
    "from datetime import datetime, timedelta\n",
    "\n",
    "# Load environment variables from the .env file\n",
    "load_dotenv()\n",
    "\n",
    "# Access the environment variables for AWS credentials\n",
    "AWS_ACCESS_KEY_ID = os.getenv('AWS_ACCESS_KEY_ID')\n",
    "AWS_SECRET_ACCESS_KEY = os.getenv('AWS_SECRET_ACCESS_KEY')\n",
    "AWS_DEFAULT_REGION = os.getenv('AWS_DEFAULT_REGION')\n",
    "\n",
    "start_date=(datetime.today() - timedelta(days=10*365)).strftime('%Y-%m-%d')\n",
    "end_date=datetime.today().strftime('%Y-%m-%d')\n",
    "# Create an S3 client using the loaded credentials\n",
    "s3_client = boto3.client(\n",
    "    's3',\n",
    "    aws_access_key_id=AWS_ACCESS_KEY_ID,\n",
    "    aws_secret_access_key=AWS_SECRET_ACCESS_KEY,\n",
    "    region_name=AWS_DEFAULT_REGION\n",
    ")\n",
    "\n",
    "# AWS S3 Bucket Name\n",
    "s3_bucket_name = 'isbfinanceproject'  # Replace with your S3 bucket name\n",
    "\n",
    "s3_client.put_bucket_versioning(\n",
    "    Bucket=s3_bucket_name,\n",
    "    VersioningConfiguration={\n",
    "        'Status': 'Enabled'\n",
    "    }\n",
    ")\n",
    "\n",
    "# Define the tickers for each vertical\n",
    "tickers = {\n",
    "    \"Energy\": [\"RELIANCE.NS\", \"NTPC.NS\", \"ONGC.NS\", \"IOCL.NS\", \"BPCL.NS\", \"GAIL.NS\", \"TATAPOWER.NS\", \"ADANIGREEN.NS\", \"MGL.NS\", \"HINDPETRO.NS\",\n",
    "               \"APOLLOPIPE.NS\", \"BIRLACORPN.NS\", \"CIL.NS\", \"HINDALCO.NS\", \"SAIL.NS\", \"JSWSTEEL.NS\", \"TATAMOTORS.NS\", \"VEDANTA.NS\", \"OIL.NS\", \"NHPC.NS\"],\n",
    "    \"Pharmacy\": [\"SUNPHARMA.NS\", \"CIPLA.NS\", \"DIVISLAB.NS\", \"LUPIN.NS\", \"DRREDDY.NS\", \"WOKHARDT.NS\", \"ABBOTINDIA.NS\", \"PIRAMAL.NS\", \"MOTHERSONSumi.NS\", \"ZYDUSLIFE.NS\",\n",
    "                 \"ALKEM.NS\", \"BIOCON.NS\", \"NATCOPHARMA.NS\", \"FDC.NS\", \"SYNGENE.NS\", \"MANKIND.NS\", \"GLENMARK.NS\", \"CADILAHC.NS\", \"TORNTPHARM.NS\", \"KOTAKPHARMA.NS\"],\n",
    "    \"Automobile\": [\"MARUTI.NS\", \"TATAMOTORS.NS\", \"MAHINDRA.NS\", \"BAJAJ-AUTO.NS\", \"EICHERMOT.NS\", \"MOTHERSUMI.NS\", \"TVSMOTOR.NS\", \"ASHOKLEY.NS\", \"AUBANK.NS\", \"BOSCHLTD.NS\",\n",
    "                   \"EXIDEIND.NS\", \"INDIGO.NS\", \"OLECTRA.NS\", \"HERO.MOTOCO.NS\", \"RECLTD.NS\", \"GMDCLTD.NS\", \"SONALIKA.NS\", \"TATAPOWER.NS\", \"BHEL.NS\", \"HAVELLS.NS\"],\n",
    "    \"Banking\": [\"HDFCBANK.NS\", \"ICICIBANK.NS\", \"AXISBANK.NS\", \"SBIN.NS\", \"KOTAKBANK.NS\", \"IDFCFIRSTB.NS\", \"INDUSINDBK.NS\", \"YESBANK.NS\", \"BANKBARODA.NS\", \"PNB.NS\",\n",
    "                \"BOMDIA.NS\", \"RBLBANK.NS\", \"FEDERALBNK.NS\", \"SOUTHBANK.NS\", \"CANBK.NS\", \"IIB.NS\", \"MUTHOOTFIN.NS\", \"LICHSGFIN.NS\", \"NHB.NS\", \"BANDHANBNK.NS\"],\n",
    "    \"Technology\": [\"TCS.NS\", \"INFY.NS\", \"WIPRO.NS\", \"HCLTECH.NS\", \"TECHM.NS\", \"MINDTREE.NS\", \"LTTS.NS\", \"COFORGE.NS\", \"CYIENT.NS\", \"NIIT.NS\",\n",
    "              \"MATRIXLABS.NS\", \"BIRLASOFT.NS\", \"KPITTECH.NS\", \"ZENSARTECH.NS\", \"OCTALIT.NS\", \"TATAELXSI.NS\", \"SASKEN.NS\", \"3IINFOTECH.NS\", \"INTELLECT.NS\"]\n",
    "}\n",
    "\n",
    "# Function to download stock data (historical price data)\n",
    "def fetch_stock_data(ticker, start_date=start_date, end_date=end_date):\n",
    "    try:\n",
    "        data = yf.download(ticker, start=start_date, end=end_date)\n",
    "        return data\n",
    "    except Exception as e:\n",
    "        print(f\"Error fetching data for {ticker}: {e}\")\n",
    "        return None\n",
    "\n",
    "# Function to fetch financial metrics like P/E ratio, Beta, Market Cap, EPS, etc.\n",
    "def fetch_stock_metrics(ticker):\n",
    "    try:\n",
    "        stock_info = yf.Ticker(ticker)\n",
    "        \n",
    "        # Extracting key financial metrics\n",
    "        metrics = {\n",
    "            \"P/E Ratio\": stock_info.info.get('trailingPE', 'N/A'),\n",
    "            \"Beta (5Y Monthly)\": stock_info.info.get('beta', 'N/A'),\n",
    "            \"Market Cap\": stock_info.info.get('marketCap', 'N/A'),\n",
    "            \"Forward P/E\": stock_info.info.get('forwardPE', 'N/A'),\n",
    "            \"EPS (TTM)\": stock_info.info.get('trailingEps', 'N/A'),\n",
    "            \"Price\": stock_info.info.get('previousClose', 'N/A'),\n",
    "            \"Sector\": stock_info.info.get('sector', 'N/A'),\n",
    "            \"Industry\": stock_info.info.get('industry', 'N/A')\n",
    "        }\n",
    "        \n",
    "        return metrics\n",
    "    except Exception as e:\n",
    "        print(f\"Error fetching metrics for {ticker}: {e}\")\n",
    "        return None\n",
    "\n",
    "\n",
    "def upload_to_s3(data, bucket_name, file_name, file_format='csv'):\n",
    "    if file_format == 'csv':\n",
    "\n",
    "        csv_buffer = StringIO()\n",
    "        data.to_csv(csv_buffer)\n",
    "        s3_client.put_object(Bucket=bucket_name, Key=file_name, Body=csv_buffer.getvalue())\n",
    "        print(f\"Data uploaded to S3: {file_name} (CSV format)\")\n",
    "\n",
    "    elif file_format == 'json':\n",
    "        json_data = json.dumps(data, indent=4)\n",
    "        s3_client.put_object(Bucket=bucket_name, Key=file_name, Body=json_data)\n",
    "        print(f\"Data uploaded to S3: {file_name} (JSON format)\")\n",
    "\n",
    "def process_tickers(tickers, start_date=start_date, end_date=end_date):\n",
    "    for vertical, ticker_list in tickers.items():\n",
    "        for ticker in ticker_list:\n",
    "            print(f\"Fetching data for {ticker}...\")\n",
    "            \n",
    "            # Fetch stock data (price history)\n",
    "            data = fetch_stock_data(ticker, start_date, end_date)\n",
    "            \n",
    "            \n",
    "            metrics = fetch_stock_metrics(ticker)\n",
    "            \n",
    "            if data is not None and metrics is not None:\n",
    "            #     # Add metrics as additional columns to the stock data\n",
    "            #     for key, value in metrics.items():\n",
    "            #         data[key] = value  \n",
    "                \n",
    "                # Construct the S3 file path for historical stock data (CSV format)\n",
    "                s3_file_name = f\"{vertical}/{ticker}/{ticker}_data.csv\"\n",
    "                upload_to_s3(data, s3_bucket_name, s3_file_name, file_format='csv')\n",
    "                \n",
    "                # Construct the S3 file path for stock metrics (JSON format)\n",
    "                metrics_file_name = f\"{vertical}/{ticker}/{ticker}_metrics.json\"\n",
    "                upload_to_s3(metrics, s3_bucket_name, metrics_file_name, file_format='json')\n",
    "            \n",
    "            # Implementing the delay for request rate limiting\n",
    "            time.sleep(1)  # Adjust time if needed based on your request limit\n",
    "\n",
    "# Run the pipeline and upload stock data and metrics for all companies to S3\n",
    "process_tickers(tickers)\n",
    "\n",
    "print(\"Stock data fetching and upload to S3 complete.\")\n"
   ]
  }
 ],
 "metadata": {
  "kernelspec": {
   "display_name": ".venv",
   "language": "python",
   "name": "python3"
  },
  "language_info": {
   "codemirror_mode": {
    "name": "ipython",
    "version": 3
   },
   "file_extension": ".py",
   "mimetype": "text/x-python",
   "name": "python",
   "nbconvert_exporter": "python",
   "pygments_lexer": "ipython3",
   "version": "3.9.12"
  }
 },
 "nbformat": 4,
 "nbformat_minor": 2
}

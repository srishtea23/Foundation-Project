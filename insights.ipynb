{
 "cells": [
  {
   "cell_type": "code",
   "execution_count": 97,
   "metadata": {},
   "outputs": [
    {
     "name": "stdout",
     "output_type": "stream",
     "text": [
      "File SUNPHARMA.NS_prediction_data.csv downloaded successfully.\n"
     ]
    }
   ],
   "source": [
    "import boto3\n",
    "from dotenv import load_dotenv\n",
    "import os\n",
    "from io import StringIO \n",
    "import numpy as np\n",
    "import joblib\n",
    "import pandas as pd\n",
    "\n",
    "from io import BytesIO\n",
    "# Initialize an S3 client\n",
    "s3_client = boto3.client('s3')\n",
    "\n",
    "\n",
    "load_dotenv()\n",
    "\n",
    "# Access the environment variables for AWS credentials\n",
    "AWS_ACCESS_KEY_ID = os.getenv('AWS_ACCESS_KEY_ID')\n",
    "AWS_SECRET_ACCESS_KEY = os.getenv('AWS_SECRET_ACCESS_KEY')\n",
    "AWS_DEFAULT_REGION = os.getenv('AWS_DEFAULT_REGION')\n",
    "\n",
    "s3_client = boto3.client(\n",
    "    's3',\n",
    "    aws_access_key_id=AWS_ACCESS_KEY_ID,\n",
    "    aws_secret_access_key=AWS_SECRET_ACCESS_KEY,\n",
    "    region_name=AWS_DEFAULT_REGION\n",
    ")\n",
    "\n",
    "# Define the S3 bucket and the file path\n",
    "bucket_name = 'isbfinanceproject'\n",
    "def get_file_path(vertical, ticker):\n",
    "    file_path = f\"{vertical}/{ticker}/{ticker}_prediction_data.csv\"\n",
    "    return file_path\n",
    "\n",
    "# Example usage\n",
    "vertical = 'Pharmacy'  # Replace with the actual vertical\n",
    "ticker = 'SUNPHARMA.NS'     # Replace with the actual ticker\n",
    "\n",
    "# Get the file path\n",
    "file_path = get_file_path(vertical, ticker)\n",
    "\n",
    "# Download the file to the local system\n",
    "try:\n",
    "    s3_client.download_file(bucket_name, file_path, f\"./{ticker}_prediction_data.csv\")\n",
    "    print(f\"File {ticker}_prediction_data.csv downloaded successfully.\")\n",
    "except Exception as e:\n",
    "    print(f\"Error downloading file: {e}\")"
   ]
  },
  {
   "cell_type": "code",
   "execution_count": 98,
   "metadata": {},
   "outputs": [
    {
     "data": {
      "text/html": [
       "<div>\n",
       "<style scoped>\n",
       "    .dataframe tbody tr th:only-of-type {\n",
       "        vertical-align: middle;\n",
       "    }\n",
       "\n",
       "    .dataframe tbody tr th {\n",
       "        vertical-align: top;\n",
       "    }\n",
       "\n",
       "    .dataframe thead th {\n",
       "        text-align: right;\n",
       "    }\n",
       "</style>\n",
       "<table border=\"1\" class=\"dataframe\">\n",
       "  <thead>\n",
       "    <tr style=\"text-align: right;\">\n",
       "      <th></th>\n",
       "      <th>Volume</th>\n",
       "      <th>ma_7</th>\n",
       "      <th>ma_30</th>\n",
       "      <th>High</th>\n",
       "      <th>Low</th>\n",
       "      <th>Open</th>\n",
       "      <th>lag_1</th>\n",
       "      <th>lag_2</th>\n",
       "      <th>lag_7</th>\n",
       "      <th>daily_returns</th>\n",
       "      <th>volatility</th>\n",
       "    </tr>\n",
       "  </thead>\n",
       "  <tbody>\n",
       "    <tr>\n",
       "      <th>0</th>\n",
       "      <td>0.009193</td>\n",
       "      <td>0.000000</td>\n",
       "      <td>0.0</td>\n",
       "      <td>0.314288</td>\n",
       "      <td>0.324726</td>\n",
       "      <td>0.316896</td>\n",
       "      <td>0.314185</td>\n",
       "      <td>0.313262</td>\n",
       "      <td>0.0</td>\n",
       "      <td>0.616883</td>\n",
       "      <td>0.0</td>\n",
       "    </tr>\n",
       "    <tr>\n",
       "      <th>1</th>\n",
       "      <td>0.004960</td>\n",
       "      <td>0.000000</td>\n",
       "      <td>0.0</td>\n",
       "      <td>0.314257</td>\n",
       "      <td>0.326279</td>\n",
       "      <td>0.317909</td>\n",
       "      <td>0.319450</td>\n",
       "      <td>0.314185</td>\n",
       "      <td>0.0</td>\n",
       "      <td>0.581463</td>\n",
       "      <td>0.0</td>\n",
       "    </tr>\n",
       "    <tr>\n",
       "      <th>2</th>\n",
       "      <td>0.007242</td>\n",
       "      <td>0.000000</td>\n",
       "      <td>0.0</td>\n",
       "      <td>0.313360</td>\n",
       "      <td>0.318822</td>\n",
       "      <td>0.318524</td>\n",
       "      <td>0.319973</td>\n",
       "      <td>0.319450</td>\n",
       "      <td>0.0</td>\n",
       "      <td>0.513758</td>\n",
       "      <td>0.0</td>\n",
       "    </tr>\n",
       "    <tr>\n",
       "      <th>3</th>\n",
       "      <td>0.010117</td>\n",
       "      <td>0.000000</td>\n",
       "      <td>0.0</td>\n",
       "      <td>0.304482</td>\n",
       "      <td>0.302259</td>\n",
       "      <td>0.312533</td>\n",
       "      <td>0.311323</td>\n",
       "      <td>0.319973</td>\n",
       "      <td>0.0</td>\n",
       "      <td>0.490729</td>\n",
       "      <td>0.0</td>\n",
       "    </tr>\n",
       "    <tr>\n",
       "      <th>4</th>\n",
       "      <td>0.007917</td>\n",
       "      <td>0.310782</td>\n",
       "      <td>0.0</td>\n",
       "      <td>0.295109</td>\n",
       "      <td>0.307107</td>\n",
       "      <td>0.305312</td>\n",
       "      <td>0.299748</td>\n",
       "      <td>0.311323</td>\n",
       "      <td>0.0</td>\n",
       "      <td>0.580670</td>\n",
       "      <td>0.0</td>\n",
       "    </tr>\n",
       "  </tbody>\n",
       "</table>\n",
       "</div>"
      ],
      "text/plain": [
       "     Volume      ma_7  ma_30      High       Low      Open     lag_1  \\\n",
       "0  0.009193  0.000000    0.0  0.314288  0.324726  0.316896  0.314185   \n",
       "1  0.004960  0.000000    0.0  0.314257  0.326279  0.317909  0.319450   \n",
       "2  0.007242  0.000000    0.0  0.313360  0.318822  0.318524  0.319973   \n",
       "3  0.010117  0.000000    0.0  0.304482  0.302259  0.312533  0.311323   \n",
       "4  0.007917  0.310782    0.0  0.295109  0.307107  0.305312  0.299748   \n",
       "\n",
       "      lag_2  lag_7  daily_returns  volatility  \n",
       "0  0.313262    0.0       0.616883         0.0  \n",
       "1  0.314185    0.0       0.581463         0.0  \n",
       "2  0.319450    0.0       0.513758         0.0  \n",
       "3  0.319973    0.0       0.490729         0.0  \n",
       "4  0.311323    0.0       0.580670         0.0  "
      ]
     },
     "execution_count": 98,
     "metadata": {},
     "output_type": "execute_result"
    }
   ],
   "source": [
    "\n",
    "features = ['Close', 'Volume', 'ma_7', 'ma_30', 'High', 'Low', 'Open', 'lag_1', 'lag_2', 'lag_7', 'daily_returns', 'volatility']\n",
    "X_test = pd.read_csv(f\"./{ticker}_prediction_data.csv\")\n",
    "\n",
    "X_test = X_test.drop([0, 1])\n",
    "X_test = X_test.reset_index(drop=True)\n",
    "X_test = X_test[features].fillna(0)  # Fill missing values if any\n",
    "X_test = X_test.drop(columns=['Close']) \n",
    "X_test.head()"
   ]
  },
  {
   "cell_type": "code",
   "execution_count": null,
   "metadata": {},
   "outputs": [],
   "source": []
  },
  {
   "cell_type": "code",
   "execution_count": 99,
   "metadata": {},
   "outputs": [],
   "source": [
    "def load_from_s3(file_name, bucket_name):\n",
    "    s3 = boto3.client('s3')\n",
    "    buffer = BytesIO()\n",
    "    s3.download_fileobj(bucket_name, file_name, buffer)\n",
    "    buffer.seek(0)  # Reset the pointer to the beginning of the file\n",
    "    model = joblib.load(buffer)\n",
    "    return model\n",
    "\n",
    "# Load XGBoost model\n",
    "xgb_model = load_from_s3('Models/XGB/best_xgb_model.pkl', 'isbfinanceproject')\n",
    "\n",
    "# Load XGBoost parameters (if needed)\n",
    "xgb_params = load_from_s3('Models/XGB/xgb_params.pkl', 'isbfinanceproject')"
   ]
  },
  {
   "cell_type": "code",
   "execution_count": 100,
   "metadata": {},
   "outputs": [
    {
     "name": "stdout",
     "output_type": "stream",
     "text": [
      "File SUNPHARMA.NS_data.csv downloaded successfully.\n"
     ]
    }
   ],
   "source": [
    "# Define the S3 bucket and the file path\n",
    "bucket_name = 'isbfinanceproject'\n",
    "def get_file_path(vertical, ticker):\n",
    "    file_path = f\"{vertical}/{ticker}/{ticker}_data.csv\"\n",
    "    return file_path\n",
    "\n",
    "# Example usage\n",
    "vertical = 'Pharmacy'  # Replace with the actual vertical\n",
    "ticker = 'SUNPHARMA.NS'      # Replace with the actual ticker\n",
    "\n",
    "# Get the file path\n",
    "file_path = get_file_path(vertical, ticker)\n",
    "\n",
    "# Download the file to the local system\n",
    "try:\n",
    "    s3_client.download_file(bucket_name, file_path, f\"./{ticker}_data.csv\")\n",
    "    print(f\"File {ticker}_data.csv downloaded successfully.\")\n",
    "except Exception as e:\n",
    "    print(f\"Error downloading file: {e}\")\n",
    "\n",
    "\n",
    "\n",
    "df = pd.read_csv(f\"./{ticker}_data.csv\")\n",
    "df = df.drop([0, 1])\n",
    "df = df.reset_index(drop=True)\n",
    "df['Close'] = pd.to_numeric(df['Close'], errors='coerce')\n",
    "min_close = df['Close'].min()\n",
    "max_close = df['Close'].max()\n",
    "df.rename(columns={'Price': 'Date'}, inplace=True)\n",
    "X_test_recent=df"
   ]
  },
  {
   "cell_type": "code",
   "execution_count": 101,
   "metadata": {},
   "outputs": [
    {
     "name": "stdout",
     "output_type": "stream",
     "text": [
      "Forecasted Prices for the next 7 days: [0.90691185, 0.9031535, 0.9031535, 0.9031535, 0.9031535, 0.9031535, 0.9031535]\n"
     ]
    }
   ],
   "source": [
    "# Initialize the last known features for recursive forecasting\n",
    "last_known_features = X_test.iloc[-1].copy()  # Start with the most recent row of features\n",
    "forecasted_prices_7 = []  # List to store predicted prices\n",
    "forecast_horizon = 7  # Predict for the next 7 days\n",
    "\n",
    "for step in range(forecast_horizon):\n",
    "    # Predict the next price using the model\n",
    "    next_price = xgb_model.predict(last_known_features.values.reshape(1, -1))[0]\n",
    "    forecasted_prices_7.append(next_price)\n",
    "    \n",
    "    # Update features for the next prediction\n",
    "    # Update lag features\n",
    "    last_known_features['lag_7'] = last_known_features['lag_2']\n",
    "    last_known_features['lag_2'] = last_known_features['lag_1']\n",
    "    last_known_features['lag_1'] = next_price\n",
    "    \n",
    "    # Update moving averages\n",
    "    recent_prices = [next_price, last_known_features['lag_1'], last_known_features['lag_2'], \n",
    "                     last_known_features['lag_7']]\n",
    "    last_known_features['ma_7'] = sum(recent_prices[-7:]) / min(len(recent_prices), 7)\n",
    "    last_known_features['ma_30'] = sum(recent_prices[-30:]) / min(len(recent_prices), 30)\n",
    "    \n",
    "    # Update daily returns\n",
    "    last_known_features['daily_returns'] = (next_price - last_known_features['lag_1']) / last_known_features['lag_1']\n",
    "    \n",
    "    # Update volatility (e.g., standard deviation of recent prices)\n",
    "    last_known_features['volatility'] = np.std(recent_prices[-7:])\n",
    "    \n",
    "    # Update other features if necessary (Volume, High, Low, etc.)\n",
    "    # These may need to be predicted or assumed static for simplicity.\n",
    "\n",
    "# Print the forecasted prices\n",
    "print(\"Forecasted Prices for the next 7 days:\", forecasted_prices_7)\n"
   ]
  },
  {
   "cell_type": "code",
   "execution_count": 102,
   "metadata": {},
   "outputs": [],
   "source": [
    "def inverse_min_max_scaling(scaled_value, min_value, max_value):\n",
    "    return (scaled_value * (max_value - min_value)) + min_value\n",
    "\n",
    "# Rescale the forecasted prices\n",
    "forecasted_prices_original_7 = [\n",
    "    inverse_min_max_scaling(pred, min_close, max_close) for pred in forecasted_prices_7\n",
    "]\n"
   ]
  },
  {
   "cell_type": "code",
   "execution_count": 103,
   "metadata": {},
   "outputs": [
    {
     "data": {
      "text/plain": [
       "[1797.5061824475415,\n",
       " 1791.4018366537493,\n",
       " 1791.4018366537493,\n",
       " 1791.4018366537493,\n",
       " 1791.4018366537493,\n",
       " 1791.4018366537493,\n",
       " 1791.4018366537493]"
      ]
     },
     "execution_count": 103,
     "metadata": {},
     "output_type": "execute_result"
    }
   ],
   "source": [
    "forecasted_prices_original_7"
   ]
  },
  {
   "cell_type": "code",
   "execution_count": 104,
   "metadata": {},
   "outputs": [
    {
     "name": "stdout",
     "output_type": "stream",
     "text": [
      "Forecasted Prices (Scaled): [0.90691185, 0.9031535, 0.9031535, 0.9031535, 0.9031535, 0.9031535, 0.9031535, 0.9031535, 0.9031535, 0.9031535, 0.9031535, 0.9031535, 0.9031535, 0.9031535, 0.9031535, 0.9031535, 0.9031535, 0.9031535, 0.9031535, 0.9031535, 0.9031535, 0.9031535, 0.9031535, 0.9031535, 0.9031535, 0.9031535, 0.9031535, 0.9031535, 0.9031535, 0.9031535]\n",
      "Forecasted Prices (Original Scale): [1797.5061824475415, 1791.4018366537493, 1791.4018366537493, 1791.4018366537493, 1791.4018366537493, 1791.4018366537493, 1791.4018366537493, 1791.4018366537493, 1791.4018366537493, 1791.4018366537493, 1791.4018366537493, 1791.4018366537493, 1791.4018366537493, 1791.4018366537493, 1791.4018366537493, 1791.4018366537493, 1791.4018366537493, 1791.4018366537493, 1791.4018366537493, 1791.4018366537493, 1791.4018366537493, 1791.4018366537493, 1791.4018366537493, 1791.4018366537493, 1791.4018366537493, 1791.4018366537493, 1791.4018366537493, 1791.4018366537493, 1791.4018366537493, 1791.4018366537493]\n"
     ]
    }
   ],
   "source": [
    "# Number of days to forecast\n",
    "forecast_horizon = 30\n",
    "\n",
    "# Initialize the last known features for recursive forecasting\n",
    "last_known_features = X_test.iloc[-1].copy()  # Start with the most recent row of features\n",
    "forecasted_prices_scaled_30 = []  # To store scaled predictions\n",
    "forecasted_prices_original = []  # To store rescaled predictions\n",
    "\n",
    "# Ensure min_close and max_close are numeric\n",
    "min_close = float(min_close)\n",
    "max_close = float(max_close)\n",
    "\n",
    "# Recursive Forecast for 30 Days\n",
    "for step in range(forecast_horizon):\n",
    "    # Predict the next scaled price\n",
    "    next_price_scaled = xgb_model.predict(last_known_features.values.reshape(1, -1))[0]\n",
    "    forecasted_prices_scaled_30.append(next_price_scaled)\n",
    "    \n",
    "    # Rescale the predicted price to the original scale\n",
    "    next_price_original = (next_price_scaled * (max_close - min_close)) + min_close \n",
    "    forecasted_prices_original.append(next_price_original)\n",
    "    \n",
    "    # Update features for the next prediction\n",
    "    # Update lag features\n",
    "    last_known_features['lag_7'] = last_known_features['lag_2']\n",
    "    last_known_features['lag_2'] = last_known_features['lag_1']\n",
    "    last_known_features['lag_1'] = next_price_scaled  # Use scaled value for lag\n",
    "    \n",
    "    # Update moving averages\n",
    "    recent_prices = forecasted_prices_scaled_30[-7:]  # Use the last 7 predicted prices\n",
    "    last_known_features['ma_7'] = sum(recent_prices) / len(recent_prices)\n",
    "    recent_prices_30 = forecasted_prices_scaled_30[-30:] if len(forecasted_prices_scaled_30) >= 30 else recent_prices\n",
    "    last_known_features['ma_30'] = sum(recent_prices_30) / len(recent_prices_30)\n",
    "    \n",
    "    # Update daily returns\n",
    "    last_known_features['daily_returns'] = (\n",
    "        (next_price_scaled - last_known_features['lag_1']) / last_known_features['lag_1']\n",
    "    ) if last_known_features['lag_1'] != 0 else 0\n",
    "    \n",
    "    # Update volatility (e.g., standard deviation of recent prices)\n",
    "    last_known_features['volatility'] = np.std(recent_prices) if len(recent_prices) > 1 else 0\n",
    "\n",
    "# Print forecasted prices on both scales\n",
    "print(\"Forecasted Prices (Scaled):\", forecasted_prices_scaled_30)\n",
    "print(\"Forecasted Prices (Original Scale):\", forecasted_prices_original)\n"
   ]
  },
  {
   "cell_type": "code",
   "execution_count": 105,
   "metadata": {},
   "outputs": [
    {
     "data": {
      "text/html": [
       "<div>\n",
       "<style scoped>\n",
       "    .dataframe tbody tr th:only-of-type {\n",
       "        vertical-align: middle;\n",
       "    }\n",
       "\n",
       "    .dataframe tbody tr th {\n",
       "        vertical-align: top;\n",
       "    }\n",
       "\n",
       "    .dataframe thead th {\n",
       "        text-align: right;\n",
       "    }\n",
       "</style>\n",
       "<table border=\"1\" class=\"dataframe\">\n",
       "  <thead>\n",
       "    <tr style=\"text-align: right;\">\n",
       "      <th></th>\n",
       "      <th>Volume</th>\n",
       "      <th>ma_7</th>\n",
       "      <th>ma_30</th>\n",
       "      <th>High</th>\n",
       "      <th>Low</th>\n",
       "      <th>Open</th>\n",
       "      <th>lag_1</th>\n",
       "      <th>lag_2</th>\n",
       "      <th>lag_7</th>\n",
       "      <th>daily_returns</th>\n",
       "      <th>volatility</th>\n",
       "    </tr>\n",
       "  </thead>\n",
       "  <tbody>\n",
       "    <tr>\n",
       "      <th>0</th>\n",
       "      <td>0.009193</td>\n",
       "      <td>0.000000</td>\n",
       "      <td>0.000000</td>\n",
       "      <td>0.314288</td>\n",
       "      <td>0.324726</td>\n",
       "      <td>0.316896</td>\n",
       "      <td>0.314185</td>\n",
       "      <td>0.313262</td>\n",
       "      <td>0.000000</td>\n",
       "      <td>0.616883</td>\n",
       "      <td>0.000000</td>\n",
       "    </tr>\n",
       "    <tr>\n",
       "      <th>1</th>\n",
       "      <td>0.004960</td>\n",
       "      <td>0.000000</td>\n",
       "      <td>0.000000</td>\n",
       "      <td>0.314257</td>\n",
       "      <td>0.326279</td>\n",
       "      <td>0.317909</td>\n",
       "      <td>0.319450</td>\n",
       "      <td>0.314185</td>\n",
       "      <td>0.000000</td>\n",
       "      <td>0.581463</td>\n",
       "      <td>0.000000</td>\n",
       "    </tr>\n",
       "    <tr>\n",
       "      <th>2</th>\n",
       "      <td>0.007242</td>\n",
       "      <td>0.000000</td>\n",
       "      <td>0.000000</td>\n",
       "      <td>0.313360</td>\n",
       "      <td>0.318822</td>\n",
       "      <td>0.318524</td>\n",
       "      <td>0.319973</td>\n",
       "      <td>0.319450</td>\n",
       "      <td>0.000000</td>\n",
       "      <td>0.513758</td>\n",
       "      <td>0.000000</td>\n",
       "    </tr>\n",
       "    <tr>\n",
       "      <th>3</th>\n",
       "      <td>0.010117</td>\n",
       "      <td>0.000000</td>\n",
       "      <td>0.000000</td>\n",
       "      <td>0.304482</td>\n",
       "      <td>0.302259</td>\n",
       "      <td>0.312533</td>\n",
       "      <td>0.311323</td>\n",
       "      <td>0.319973</td>\n",
       "      <td>0.000000</td>\n",
       "      <td>0.490729</td>\n",
       "      <td>0.000000</td>\n",
       "    </tr>\n",
       "    <tr>\n",
       "      <th>4</th>\n",
       "      <td>0.007917</td>\n",
       "      <td>0.310782</td>\n",
       "      <td>0.000000</td>\n",
       "      <td>0.295109</td>\n",
       "      <td>0.307107</td>\n",
       "      <td>0.305312</td>\n",
       "      <td>0.299748</td>\n",
       "      <td>0.311323</td>\n",
       "      <td>0.000000</td>\n",
       "      <td>0.580670</td>\n",
       "      <td>0.000000</td>\n",
       "    </tr>\n",
       "    <tr>\n",
       "      <th>...</th>\n",
       "      <td>...</td>\n",
       "      <td>...</td>\n",
       "      <td>...</td>\n",
       "      <td>...</td>\n",
       "      <td>...</td>\n",
       "      <td>...</td>\n",
       "      <td>...</td>\n",
       "      <td>...</td>\n",
       "      <td>...</td>\n",
       "      <td>...</td>\n",
       "      <td>...</td>\n",
       "    </tr>\n",
       "    <tr>\n",
       "      <th>2459</th>\n",
       "      <td>0.006929</td>\n",
       "      <td>0.908788</td>\n",
       "      <td>0.951626</td>\n",
       "      <td>0.909457</td>\n",
       "      <td>0.919891</td>\n",
       "      <td>0.908440</td>\n",
       "      <td>0.896688</td>\n",
       "      <td>0.867966</td>\n",
       "      <td>0.896134</td>\n",
       "      <td>0.637151</td>\n",
       "      <td>0.161085</td>\n",
       "    </tr>\n",
       "    <tr>\n",
       "      <th>2460</th>\n",
       "      <td>0.005408</td>\n",
       "      <td>0.909217</td>\n",
       "      <td>0.949205</td>\n",
       "      <td>0.920593</td>\n",
       "      <td>0.917529</td>\n",
       "      <td>0.927643</td>\n",
       "      <td>0.913711</td>\n",
       "      <td>0.896688</td>\n",
       "      <td>0.905554</td>\n",
       "      <td>0.559569</td>\n",
       "      <td>0.156600</td>\n",
       "    </tr>\n",
       "    <tr>\n",
       "      <th>2461</th>\n",
       "      <td>0.008330</td>\n",
       "      <td>0.909334</td>\n",
       "      <td>0.947081</td>\n",
       "      <td>0.909982</td>\n",
       "      <td>0.915447</td>\n",
       "      <td>0.914892</td>\n",
       "      <td>0.908478</td>\n",
       "      <td>0.913711</td>\n",
       "      <td>0.907770</td>\n",
       "      <td>0.577916</td>\n",
       "      <td>0.155885</td>\n",
       "    </tr>\n",
       "    <tr>\n",
       "      <th>2462</th>\n",
       "      <td>0.009920</td>\n",
       "      <td>0.914018</td>\n",
       "      <td>0.945454</td>\n",
       "      <td>0.916850</td>\n",
       "      <td>0.909481</td>\n",
       "      <td>0.913786</td>\n",
       "      <td>0.908570</td>\n",
       "      <td>0.908478</td>\n",
       "      <td>0.884805</td>\n",
       "      <td>0.605829</td>\n",
       "      <td>0.157842</td>\n",
       "    </tr>\n",
       "    <tr>\n",
       "      <th>2463</th>\n",
       "      <td>0.005583</td>\n",
       "      <td>0.919023</td>\n",
       "      <td>0.944697</td>\n",
       "      <td>0.915612</td>\n",
       "      <td>0.925391</td>\n",
       "      <td>0.918180</td>\n",
       "      <td>0.916728</td>\n",
       "      <td>0.908570</td>\n",
       "      <td>0.877324</td>\n",
       "      <td>0.559406</td>\n",
       "      <td>0.139593</td>\n",
       "    </tr>\n",
       "  </tbody>\n",
       "</table>\n",
       "<p>2464 rows × 11 columns</p>\n",
       "</div>"
      ],
      "text/plain": [
       "        Volume      ma_7     ma_30      High       Low      Open     lag_1  \\\n",
       "0     0.009193  0.000000  0.000000  0.314288  0.324726  0.316896  0.314185   \n",
       "1     0.004960  0.000000  0.000000  0.314257  0.326279  0.317909  0.319450   \n",
       "2     0.007242  0.000000  0.000000  0.313360  0.318822  0.318524  0.319973   \n",
       "3     0.010117  0.000000  0.000000  0.304482  0.302259  0.312533  0.311323   \n",
       "4     0.007917  0.310782  0.000000  0.295109  0.307107  0.305312  0.299748   \n",
       "...        ...       ...       ...       ...       ...       ...       ...   \n",
       "2459  0.006929  0.908788  0.951626  0.909457  0.919891  0.908440  0.896688   \n",
       "2460  0.005408  0.909217  0.949205  0.920593  0.917529  0.927643  0.913711   \n",
       "2461  0.008330  0.909334  0.947081  0.909982  0.915447  0.914892  0.908478   \n",
       "2462  0.009920  0.914018  0.945454  0.916850  0.909481  0.913786  0.908570   \n",
       "2463  0.005583  0.919023  0.944697  0.915612  0.925391  0.918180  0.916728   \n",
       "\n",
       "         lag_2     lag_7  daily_returns  volatility  \n",
       "0     0.313262  0.000000       0.616883    0.000000  \n",
       "1     0.314185  0.000000       0.581463    0.000000  \n",
       "2     0.319450  0.000000       0.513758    0.000000  \n",
       "3     0.319973  0.000000       0.490729    0.000000  \n",
       "4     0.311323  0.000000       0.580670    0.000000  \n",
       "...        ...       ...            ...         ...  \n",
       "2459  0.867966  0.896134       0.637151    0.161085  \n",
       "2460  0.896688  0.905554       0.559569    0.156600  \n",
       "2461  0.913711  0.907770       0.577916    0.155885  \n",
       "2462  0.908478  0.884805       0.605829    0.157842  \n",
       "2463  0.908570  0.877324       0.559406    0.139593  \n",
       "\n",
       "[2464 rows x 11 columns]"
      ]
     },
     "execution_count": 105,
     "metadata": {},
     "output_type": "execute_result"
    }
   ],
   "source": [
    "X_test"
   ]
  },
  {
   "cell_type": "code",
   "execution_count": 106,
   "metadata": {},
   "outputs": [],
   "source": [
    "dates=df['Date']"
   ]
  },
  {
   "cell_type": "code",
   "execution_count": 107,
   "metadata": {},
   "outputs": [
    {
     "name": "stdout",
     "output_type": "stream",
     "text": [
      "Last known date: 2024-12-06 00:00:00+00:00\n",
      "Forecast dates: [Timestamp('2024-12-07 00:00:00+0000', tz='UTC'), Timestamp('2024-12-08 00:00:00+0000', tz='UTC'), Timestamp('2024-12-09 00:00:00+0000', tz='UTC'), Timestamp('2024-12-10 00:00:00+0000', tz='UTC'), Timestamp('2024-12-11 00:00:00+0000', tz='UTC'), Timestamp('2024-12-12 00:00:00+0000', tz='UTC'), Timestamp('2024-12-13 00:00:00+0000', tz='UTC'), Timestamp('2024-12-14 00:00:00+0000', tz='UTC'), Timestamp('2024-12-15 00:00:00+0000', tz='UTC'), Timestamp('2024-12-16 00:00:00+0000', tz='UTC'), Timestamp('2024-12-17 00:00:00+0000', tz='UTC'), Timestamp('2024-12-18 00:00:00+0000', tz='UTC'), Timestamp('2024-12-19 00:00:00+0000', tz='UTC'), Timestamp('2024-12-20 00:00:00+0000', tz='UTC'), Timestamp('2024-12-21 00:00:00+0000', tz='UTC'), Timestamp('2024-12-22 00:00:00+0000', tz='UTC'), Timestamp('2024-12-23 00:00:00+0000', tz='UTC'), Timestamp('2024-12-24 00:00:00+0000', tz='UTC'), Timestamp('2024-12-25 00:00:00+0000', tz='UTC'), Timestamp('2024-12-26 00:00:00+0000', tz='UTC'), Timestamp('2024-12-27 00:00:00+0000', tz='UTC'), Timestamp('2024-12-28 00:00:00+0000', tz='UTC'), Timestamp('2024-12-29 00:00:00+0000', tz='UTC'), Timestamp('2024-12-30 00:00:00+0000', tz='UTC'), Timestamp('2024-12-31 00:00:00+0000', tz='UTC'), Timestamp('2025-01-01 00:00:00+0000', tz='UTC'), Timestamp('2025-01-02 00:00:00+0000', tz='UTC'), Timestamp('2025-01-03 00:00:00+0000', tz='UTC'), Timestamp('2025-01-04 00:00:00+0000', tz='UTC'), Timestamp('2025-01-05 00:00:00+0000', tz='UTC')]\n"
     ]
    }
   ],
   "source": [
    "import pandas as pd\n",
    "from datetime import timedelta\n",
    "\n",
    "# Assuming `dates` is loaded as a Series of strings\n",
    "dates = pd.to_datetime(dates)  # Ensure all dates are in datetime format\n",
    "forecast_horizon_7=7\n",
    "\n",
    "# Determine the last known date\n",
    "last_date = dates.iloc[-1]  # Extract the last date\n",
    "\n",
    "# Forecast horizon (e.g., 30 days)\n",
    "forecast_horizon = len(forecasted_prices_original)\n",
    "\n",
    "# Generate forecast dates\n",
    "forecast_dates = [last_date + timedelta(days=i) for i in range(1, forecast_horizon + 1)]\n",
    "forecast_dates_7 = [last_date + timedelta(days=i) for i in range(1, forecast_horizon_7 + 1)]\n",
    "print(f\"Last known date: {last_date}\")\n",
    "print(f\"Forecast dates: {forecast_dates}\")\n"
   ]
  },
  {
   "cell_type": "code",
   "execution_count": 108,
   "metadata": {},
   "outputs": [
    {
     "data": {
      "text/plain": [
       "<bound method Series.count of 0      2014-12-10 00:00:00+00:00\n",
       "1      2014-12-11 00:00:00+00:00\n",
       "2      2014-12-12 00:00:00+00:00\n",
       "3      2014-12-15 00:00:00+00:00\n",
       "4      2014-12-16 00:00:00+00:00\n",
       "                  ...           \n",
       "2461   2024-12-02 00:00:00+00:00\n",
       "2462   2024-12-03 00:00:00+00:00\n",
       "2463   2024-12-04 00:00:00+00:00\n",
       "2464   2024-12-05 00:00:00+00:00\n",
       "2465   2024-12-06 00:00:00+00:00\n",
       "Name: Date, Length: 2466, dtype: datetime64[ns, UTC]>"
      ]
     },
     "execution_count": 108,
     "metadata": {},
     "output_type": "execute_result"
    }
   ],
   "source": [
    "dates.dtype\n",
    "dates.count"
   ]
  },
  {
   "cell_type": "code",
   "execution_count": 109,
   "metadata": {},
   "outputs": [
    {
     "data": {
      "text/html": [
       "<div>\n",
       "<style scoped>\n",
       "    .dataframe tbody tr th:only-of-type {\n",
       "        vertical-align: middle;\n",
       "    }\n",
       "\n",
       "    .dataframe tbody tr th {\n",
       "        vertical-align: top;\n",
       "    }\n",
       "\n",
       "    .dataframe thead th {\n",
       "        text-align: right;\n",
       "    }\n",
       "</style>\n",
       "<table border=\"1\" class=\"dataframe\">\n",
       "  <thead>\n",
       "    <tr style=\"text-align: right;\">\n",
       "      <th></th>\n",
       "      <th>Date</th>\n",
       "      <th>Adj Close</th>\n",
       "      <th>Close</th>\n",
       "      <th>High</th>\n",
       "      <th>Low</th>\n",
       "      <th>Open</th>\n",
       "      <th>Volume</th>\n",
       "    </tr>\n",
       "  </thead>\n",
       "  <tbody>\n",
       "    <tr>\n",
       "      <th>0</th>\n",
       "      <td>2014-12-10 00:00:00+00:00</td>\n",
       "      <td>775.23388671875</td>\n",
       "      <td>833.299988</td>\n",
       "      <td>842.4000244140625</td>\n",
       "      <td>821.0</td>\n",
       "      <td>835.0999755859375</td>\n",
       "      <td>2464142</td>\n",
       "    </tr>\n",
       "    <tr>\n",
       "      <th>1</th>\n",
       "      <td>2014-12-11 00:00:00+00:00</td>\n",
       "      <td>776.6292114257812</td>\n",
       "      <td>834.799988</td>\n",
       "      <td>844.0</td>\n",
       "      <td>828.0999755859375</td>\n",
       "      <td>828.0999755859375</td>\n",
       "      <td>2333233</td>\n",
       "    </tr>\n",
       "    <tr>\n",
       "      <th>2</th>\n",
       "      <td>2014-12-12 00:00:00+00:00</td>\n",
       "      <td>784.58349609375</td>\n",
       "      <td>843.349976</td>\n",
       "      <td>852.0</td>\n",
       "      <td>834.5</td>\n",
       "      <td>837.3499755859375</td>\n",
       "      <td>2549233</td>\n",
       "    </tr>\n",
       "    <tr>\n",
       "      <th>3</th>\n",
       "      <td>2014-12-15 00:00:00+00:00</td>\n",
       "      <td>785.374267578125</td>\n",
       "      <td>844.200012</td>\n",
       "      <td>851.9500122070312</td>\n",
       "      <td>837.0</td>\n",
       "      <td>839.0</td>\n",
       "      <td>1424914</td>\n",
       "    </tr>\n",
       "    <tr>\n",
       "      <th>4</th>\n",
       "      <td>2014-12-16 00:00:00+00:00</td>\n",
       "      <td>772.3034057617188</td>\n",
       "      <td>830.150024</td>\n",
       "      <td>850.5</td>\n",
       "      <td>825.0</td>\n",
       "      <td>840.0</td>\n",
       "      <td>2031081</td>\n",
       "    </tr>\n",
       "    <tr>\n",
       "      <th>...</th>\n",
       "      <td>...</td>\n",
       "      <td>...</td>\n",
       "      <td>...</td>\n",
       "      <td>...</td>\n",
       "      <td>...</td>\n",
       "      <td>...</td>\n",
       "      <td>...</td>\n",
       "    </tr>\n",
       "    <tr>\n",
       "      <th>2461</th>\n",
       "      <td>2024-12-02 00:00:00+00:00</td>\n",
       "      <td>1808.550048828125</td>\n",
       "      <td>1808.550049</td>\n",
       "      <td>1814.0</td>\n",
       "      <td>1792.1500244140625</td>\n",
       "      <td>1800.0</td>\n",
       "      <td>1948045</td>\n",
       "    </tr>\n",
       "    <tr>\n",
       "      <th>2462</th>\n",
       "      <td>2024-12-03 00:00:00+00:00</td>\n",
       "      <td>1800.050048828125</td>\n",
       "      <td>1800.050049</td>\n",
       "      <td>1832.0</td>\n",
       "      <td>1788.3499755859375</td>\n",
       "      <td>1831.25</td>\n",
       "      <td>1543970</td>\n",
       "    </tr>\n",
       "    <tr>\n",
       "      <th>2463</th>\n",
       "      <td>2024-12-04 00:00:00+00:00</td>\n",
       "      <td>1800.199951171875</td>\n",
       "      <td>1800.199951</td>\n",
       "      <td>1814.8499755859375</td>\n",
       "      <td>1785.0</td>\n",
       "      <td>1810.5</td>\n",
       "      <td>2320116</td>\n",
       "    </tr>\n",
       "    <tr>\n",
       "      <th>2464</th>\n",
       "      <td>2024-12-05 00:00:00+00:00</td>\n",
       "      <td>1813.449951171875</td>\n",
       "      <td>1813.449951</td>\n",
       "      <td>1825.949951171875</td>\n",
       "      <td>1775.4000244140625</td>\n",
       "      <td>1808.699951171875</td>\n",
       "      <td>2742263</td>\n",
       "    </tr>\n",
       "    <tr>\n",
       "      <th>2465</th>\n",
       "      <td>2024-12-06 00:00:00+00:00</td>\n",
       "      <td>1804.8499755859375</td>\n",
       "      <td>1804.849976</td>\n",
       "      <td>1823.949951171875</td>\n",
       "      <td>1801.0</td>\n",
       "      <td>1815.8499755859375</td>\n",
       "      <td>1590478</td>\n",
       "    </tr>\n",
       "  </tbody>\n",
       "</table>\n",
       "<p>2466 rows × 7 columns</p>\n",
       "</div>"
      ],
      "text/plain": [
       "                           Date           Adj Close        Close  \\\n",
       "0     2014-12-10 00:00:00+00:00     775.23388671875   833.299988   \n",
       "1     2014-12-11 00:00:00+00:00   776.6292114257812   834.799988   \n",
       "2     2014-12-12 00:00:00+00:00     784.58349609375   843.349976   \n",
       "3     2014-12-15 00:00:00+00:00    785.374267578125   844.200012   \n",
       "4     2014-12-16 00:00:00+00:00   772.3034057617188   830.150024   \n",
       "...                         ...                 ...          ...   \n",
       "2461  2024-12-02 00:00:00+00:00   1808.550048828125  1808.550049   \n",
       "2462  2024-12-03 00:00:00+00:00   1800.050048828125  1800.050049   \n",
       "2463  2024-12-04 00:00:00+00:00   1800.199951171875  1800.199951   \n",
       "2464  2024-12-05 00:00:00+00:00   1813.449951171875  1813.449951   \n",
       "2465  2024-12-06 00:00:00+00:00  1804.8499755859375  1804.849976   \n",
       "\n",
       "                    High                 Low                Open   Volume  \n",
       "0      842.4000244140625               821.0   835.0999755859375  2464142  \n",
       "1                  844.0   828.0999755859375   828.0999755859375  2333233  \n",
       "2                  852.0               834.5   837.3499755859375  2549233  \n",
       "3      851.9500122070312               837.0               839.0  1424914  \n",
       "4                  850.5               825.0               840.0  2031081  \n",
       "...                  ...                 ...                 ...      ...  \n",
       "2461              1814.0  1792.1500244140625              1800.0  1948045  \n",
       "2462              1832.0  1788.3499755859375             1831.25  1543970  \n",
       "2463  1814.8499755859375              1785.0              1810.5  2320116  \n",
       "2464   1825.949951171875  1775.4000244140625   1808.699951171875  2742263  \n",
       "2465   1823.949951171875              1801.0  1815.8499755859375  1590478  \n",
       "\n",
       "[2466 rows x 7 columns]"
      ]
     },
     "execution_count": 109,
     "metadata": {},
     "output_type": "execute_result"
    }
   ],
   "source": [
    "df"
   ]
  },
  {
   "cell_type": "code",
   "execution_count": 110,
   "metadata": {},
   "outputs": [
    {
     "data": {
      "application/vnd.plotly.v1+json": {
       "config": {
        "plotlyServerURL": "https://plot.ly"
       },
       "data": [
        {
         "mode": "lines",
         "name": "Historical Prices",
         "type": "scatter",
         "x": [
          "2024-10-24T00:00:00+00:00",
          "2024-10-25T00:00:00+00:00",
          "2024-10-28T00:00:00+00:00",
          "2024-10-29T00:00:00+00:00",
          "2024-10-30T00:00:00+00:00",
          "2024-10-31T00:00:00+00:00",
          "2024-11-01T00:00:00+00:00",
          "2024-11-04T00:00:00+00:00",
          "2024-11-05T00:00:00+00:00",
          "2024-11-06T00:00:00+00:00",
          "2024-11-07T00:00:00+00:00",
          "2024-11-08T00:00:00+00:00",
          "2024-11-11T00:00:00+00:00",
          "2024-11-12T00:00:00+00:00",
          "2024-11-13T00:00:00+00:00",
          "2024-11-14T00:00:00+00:00",
          "2024-11-18T00:00:00+00:00",
          "2024-11-19T00:00:00+00:00",
          "2024-11-21T00:00:00+00:00",
          "2024-11-22T00:00:00+00:00",
          "2024-11-25T00:00:00+00:00",
          "2024-11-26T00:00:00+00:00",
          "2024-11-27T00:00:00+00:00",
          "2024-11-28T00:00:00+00:00",
          "2024-11-29T00:00:00+00:00",
          "2024-12-02T00:00:00+00:00",
          "2024-12-03T00:00:00+00:00",
          "2024-12-04T00:00:00+00:00",
          "2024-12-05T00:00:00+00:00",
          "2024-12-06T00:00:00+00:00"
         ],
         "y": [
          1848.9000244140625,
          1860.4000244140625,
          1902.9000244140625,
          1871.5999755859373,
          1852.0999755859373,
          1848.9000244140625,
          1858.4000244140625,
          1808.9000244140625,
          1803.5999755859373,
          1827.449951171875,
          1790.949951171875,
          1809.5999755859373,
          1794.5999755859375,
          1800.8499755859375,
          1779,
          1768.199951171875,
          1747.75,
          1777.25,
          1780,
          1795.300048828125,
          1798.9000244140625,
          1761.5999755859375,
          1749.449951171875,
          1734.25,
          1780.9000244140625,
          1808.550048828125,
          1800.050048828125,
          1800.199951171875,
          1813.449951171875,
          1804.8499755859373
         ]
        },
        {
         "mode": "lines",
         "name": "Forecasted Prices",
         "type": "scatter",
         "x": [
          "2024-12-07T00:00:00+00:00",
          "2024-12-08T00:00:00+00:00",
          "2024-12-09T00:00:00+00:00",
          "2024-12-10T00:00:00+00:00",
          "2024-12-11T00:00:00+00:00",
          "2024-12-12T00:00:00+00:00",
          "2024-12-13T00:00:00+00:00",
          "2024-12-14T00:00:00+00:00",
          "2024-12-15T00:00:00+00:00",
          "2024-12-16T00:00:00+00:00",
          "2024-12-17T00:00:00+00:00",
          "2024-12-18T00:00:00+00:00",
          "2024-12-19T00:00:00+00:00",
          "2024-12-20T00:00:00+00:00",
          "2024-12-21T00:00:00+00:00",
          "2024-12-22T00:00:00+00:00",
          "2024-12-23T00:00:00+00:00",
          "2024-12-24T00:00:00+00:00",
          "2024-12-25T00:00:00+00:00",
          "2024-12-26T00:00:00+00:00",
          "2024-12-27T00:00:00+00:00",
          "2024-12-28T00:00:00+00:00",
          "2024-12-29T00:00:00+00:00",
          "2024-12-30T00:00:00+00:00",
          "2024-12-31T00:00:00+00:00",
          "2025-01-01T00:00:00+00:00",
          "2025-01-02T00:00:00+00:00",
          "2025-01-03T00:00:00+00:00",
          "2025-01-04T00:00:00+00:00",
          "2025-01-05T00:00:00+00:00"
         ],
         "y": [
          1797.5061824475415,
          1791.4018366537493,
          1791.4018366537493,
          1791.4018366537493,
          1791.4018366537493,
          1791.4018366537493,
          1791.4018366537493,
          1791.4018366537493,
          1791.4018366537493,
          1791.4018366537493,
          1791.4018366537493,
          1791.4018366537493,
          1791.4018366537493,
          1791.4018366537493,
          1791.4018366537493,
          1791.4018366537493,
          1791.4018366537493,
          1791.4018366537493,
          1791.4018366537493,
          1791.4018366537493,
          1791.4018366537493,
          1791.4018366537493,
          1791.4018366537493,
          1791.4018366537493,
          1791.4018366537493,
          1791.4018366537493,
          1791.4018366537493,
          1791.4018366537493,
          1791.4018366537493,
          1791.4018366537493
         ]
        }
       ],
       "layout": {
        "template": {
         "data": {
          "bar": [
           {
            "error_x": {
             "color": "#2a3f5f"
            },
            "error_y": {
             "color": "#2a3f5f"
            },
            "marker": {
             "line": {
              "color": "#E5ECF6",
              "width": 0.5
             },
             "pattern": {
              "fillmode": "overlay",
              "size": 10,
              "solidity": 0.2
             }
            },
            "type": "bar"
           }
          ],
          "barpolar": [
           {
            "marker": {
             "line": {
              "color": "#E5ECF6",
              "width": 0.5
             },
             "pattern": {
              "fillmode": "overlay",
              "size": 10,
              "solidity": 0.2
             }
            },
            "type": "barpolar"
           }
          ],
          "carpet": [
           {
            "aaxis": {
             "endlinecolor": "#2a3f5f",
             "gridcolor": "white",
             "linecolor": "white",
             "minorgridcolor": "white",
             "startlinecolor": "#2a3f5f"
            },
            "baxis": {
             "endlinecolor": "#2a3f5f",
             "gridcolor": "white",
             "linecolor": "white",
             "minorgridcolor": "white",
             "startlinecolor": "#2a3f5f"
            },
            "type": "carpet"
           }
          ],
          "choropleth": [
           {
            "colorbar": {
             "outlinewidth": 0,
             "ticks": ""
            },
            "type": "choropleth"
           }
          ],
          "contour": [
           {
            "colorbar": {
             "outlinewidth": 0,
             "ticks": ""
            },
            "colorscale": [
             [
              0,
              "#0d0887"
             ],
             [
              0.1111111111111111,
              "#46039f"
             ],
             [
              0.2222222222222222,
              "#7201a8"
             ],
             [
              0.3333333333333333,
              "#9c179e"
             ],
             [
              0.4444444444444444,
              "#bd3786"
             ],
             [
              0.5555555555555556,
              "#d8576b"
             ],
             [
              0.6666666666666666,
              "#ed7953"
             ],
             [
              0.7777777777777778,
              "#fb9f3a"
             ],
             [
              0.8888888888888888,
              "#fdca26"
             ],
             [
              1,
              "#f0f921"
             ]
            ],
            "type": "contour"
           }
          ],
          "contourcarpet": [
           {
            "colorbar": {
             "outlinewidth": 0,
             "ticks": ""
            },
            "type": "contourcarpet"
           }
          ],
          "heatmap": [
           {
            "colorbar": {
             "outlinewidth": 0,
             "ticks": ""
            },
            "colorscale": [
             [
              0,
              "#0d0887"
             ],
             [
              0.1111111111111111,
              "#46039f"
             ],
             [
              0.2222222222222222,
              "#7201a8"
             ],
             [
              0.3333333333333333,
              "#9c179e"
             ],
             [
              0.4444444444444444,
              "#bd3786"
             ],
             [
              0.5555555555555556,
              "#d8576b"
             ],
             [
              0.6666666666666666,
              "#ed7953"
             ],
             [
              0.7777777777777778,
              "#fb9f3a"
             ],
             [
              0.8888888888888888,
              "#fdca26"
             ],
             [
              1,
              "#f0f921"
             ]
            ],
            "type": "heatmap"
           }
          ],
          "heatmapgl": [
           {
            "colorbar": {
             "outlinewidth": 0,
             "ticks": ""
            },
            "colorscale": [
             [
              0,
              "#0d0887"
             ],
             [
              0.1111111111111111,
              "#46039f"
             ],
             [
              0.2222222222222222,
              "#7201a8"
             ],
             [
              0.3333333333333333,
              "#9c179e"
             ],
             [
              0.4444444444444444,
              "#bd3786"
             ],
             [
              0.5555555555555556,
              "#d8576b"
             ],
             [
              0.6666666666666666,
              "#ed7953"
             ],
             [
              0.7777777777777778,
              "#fb9f3a"
             ],
             [
              0.8888888888888888,
              "#fdca26"
             ],
             [
              1,
              "#f0f921"
             ]
            ],
            "type": "heatmapgl"
           }
          ],
          "histogram": [
           {
            "marker": {
             "pattern": {
              "fillmode": "overlay",
              "size": 10,
              "solidity": 0.2
             }
            },
            "type": "histogram"
           }
          ],
          "histogram2d": [
           {
            "colorbar": {
             "outlinewidth": 0,
             "ticks": ""
            },
            "colorscale": [
             [
              0,
              "#0d0887"
             ],
             [
              0.1111111111111111,
              "#46039f"
             ],
             [
              0.2222222222222222,
              "#7201a8"
             ],
             [
              0.3333333333333333,
              "#9c179e"
             ],
             [
              0.4444444444444444,
              "#bd3786"
             ],
             [
              0.5555555555555556,
              "#d8576b"
             ],
             [
              0.6666666666666666,
              "#ed7953"
             ],
             [
              0.7777777777777778,
              "#fb9f3a"
             ],
             [
              0.8888888888888888,
              "#fdca26"
             ],
             [
              1,
              "#f0f921"
             ]
            ],
            "type": "histogram2d"
           }
          ],
          "histogram2dcontour": [
           {
            "colorbar": {
             "outlinewidth": 0,
             "ticks": ""
            },
            "colorscale": [
             [
              0,
              "#0d0887"
             ],
             [
              0.1111111111111111,
              "#46039f"
             ],
             [
              0.2222222222222222,
              "#7201a8"
             ],
             [
              0.3333333333333333,
              "#9c179e"
             ],
             [
              0.4444444444444444,
              "#bd3786"
             ],
             [
              0.5555555555555556,
              "#d8576b"
             ],
             [
              0.6666666666666666,
              "#ed7953"
             ],
             [
              0.7777777777777778,
              "#fb9f3a"
             ],
             [
              0.8888888888888888,
              "#fdca26"
             ],
             [
              1,
              "#f0f921"
             ]
            ],
            "type": "histogram2dcontour"
           }
          ],
          "mesh3d": [
           {
            "colorbar": {
             "outlinewidth": 0,
             "ticks": ""
            },
            "type": "mesh3d"
           }
          ],
          "parcoords": [
           {
            "line": {
             "colorbar": {
              "outlinewidth": 0,
              "ticks": ""
             }
            },
            "type": "parcoords"
           }
          ],
          "pie": [
           {
            "automargin": true,
            "type": "pie"
           }
          ],
          "scatter": [
           {
            "fillpattern": {
             "fillmode": "overlay",
             "size": 10,
             "solidity": 0.2
            },
            "type": "scatter"
           }
          ],
          "scatter3d": [
           {
            "line": {
             "colorbar": {
              "outlinewidth": 0,
              "ticks": ""
             }
            },
            "marker": {
             "colorbar": {
              "outlinewidth": 0,
              "ticks": ""
             }
            },
            "type": "scatter3d"
           }
          ],
          "scattercarpet": [
           {
            "marker": {
             "colorbar": {
              "outlinewidth": 0,
              "ticks": ""
             }
            },
            "type": "scattercarpet"
           }
          ],
          "scattergeo": [
           {
            "marker": {
             "colorbar": {
              "outlinewidth": 0,
              "ticks": ""
             }
            },
            "type": "scattergeo"
           }
          ],
          "scattergl": [
           {
            "marker": {
             "colorbar": {
              "outlinewidth": 0,
              "ticks": ""
             }
            },
            "type": "scattergl"
           }
          ],
          "scattermapbox": [
           {
            "marker": {
             "colorbar": {
              "outlinewidth": 0,
              "ticks": ""
             }
            },
            "type": "scattermapbox"
           }
          ],
          "scatterpolar": [
           {
            "marker": {
             "colorbar": {
              "outlinewidth": 0,
              "ticks": ""
             }
            },
            "type": "scatterpolar"
           }
          ],
          "scatterpolargl": [
           {
            "marker": {
             "colorbar": {
              "outlinewidth": 0,
              "ticks": ""
             }
            },
            "type": "scatterpolargl"
           }
          ],
          "scatterternary": [
           {
            "marker": {
             "colorbar": {
              "outlinewidth": 0,
              "ticks": ""
             }
            },
            "type": "scatterternary"
           }
          ],
          "surface": [
           {
            "colorbar": {
             "outlinewidth": 0,
             "ticks": ""
            },
            "colorscale": [
             [
              0,
              "#0d0887"
             ],
             [
              0.1111111111111111,
              "#46039f"
             ],
             [
              0.2222222222222222,
              "#7201a8"
             ],
             [
              0.3333333333333333,
              "#9c179e"
             ],
             [
              0.4444444444444444,
              "#bd3786"
             ],
             [
              0.5555555555555556,
              "#d8576b"
             ],
             [
              0.6666666666666666,
              "#ed7953"
             ],
             [
              0.7777777777777778,
              "#fb9f3a"
             ],
             [
              0.8888888888888888,
              "#fdca26"
             ],
             [
              1,
              "#f0f921"
             ]
            ],
            "type": "surface"
           }
          ],
          "table": [
           {
            "cells": {
             "fill": {
              "color": "#EBF0F8"
             },
             "line": {
              "color": "white"
             }
            },
            "header": {
             "fill": {
              "color": "#C8D4E3"
             },
             "line": {
              "color": "white"
             }
            },
            "type": "table"
           }
          ]
         },
         "layout": {
          "annotationdefaults": {
           "arrowcolor": "#2a3f5f",
           "arrowhead": 0,
           "arrowwidth": 1
          },
          "autotypenumbers": "strict",
          "coloraxis": {
           "colorbar": {
            "outlinewidth": 0,
            "ticks": ""
           }
          },
          "colorscale": {
           "diverging": [
            [
             0,
             "#8e0152"
            ],
            [
             0.1,
             "#c51b7d"
            ],
            [
             0.2,
             "#de77ae"
            ],
            [
             0.3,
             "#f1b6da"
            ],
            [
             0.4,
             "#fde0ef"
            ],
            [
             0.5,
             "#f7f7f7"
            ],
            [
             0.6,
             "#e6f5d0"
            ],
            [
             0.7,
             "#b8e186"
            ],
            [
             0.8,
             "#7fbc41"
            ],
            [
             0.9,
             "#4d9221"
            ],
            [
             1,
             "#276419"
            ]
           ],
           "sequential": [
            [
             0,
             "#0d0887"
            ],
            [
             0.1111111111111111,
             "#46039f"
            ],
            [
             0.2222222222222222,
             "#7201a8"
            ],
            [
             0.3333333333333333,
             "#9c179e"
            ],
            [
             0.4444444444444444,
             "#bd3786"
            ],
            [
             0.5555555555555556,
             "#d8576b"
            ],
            [
             0.6666666666666666,
             "#ed7953"
            ],
            [
             0.7777777777777778,
             "#fb9f3a"
            ],
            [
             0.8888888888888888,
             "#fdca26"
            ],
            [
             1,
             "#f0f921"
            ]
           ],
           "sequentialminus": [
            [
             0,
             "#0d0887"
            ],
            [
             0.1111111111111111,
             "#46039f"
            ],
            [
             0.2222222222222222,
             "#7201a8"
            ],
            [
             0.3333333333333333,
             "#9c179e"
            ],
            [
             0.4444444444444444,
             "#bd3786"
            ],
            [
             0.5555555555555556,
             "#d8576b"
            ],
            [
             0.6666666666666666,
             "#ed7953"
            ],
            [
             0.7777777777777778,
             "#fb9f3a"
            ],
            [
             0.8888888888888888,
             "#fdca26"
            ],
            [
             1,
             "#f0f921"
            ]
           ]
          },
          "colorway": [
           "#636efa",
           "#EF553B",
           "#00cc96",
           "#ab63fa",
           "#FFA15A",
           "#19d3f3",
           "#FF6692",
           "#B6E880",
           "#FF97FF",
           "#FECB52"
          ],
          "font": {
           "color": "#2a3f5f"
          },
          "geo": {
           "bgcolor": "white",
           "lakecolor": "white",
           "landcolor": "#E5ECF6",
           "showlakes": true,
           "showland": true,
           "subunitcolor": "white"
          },
          "hoverlabel": {
           "align": "left"
          },
          "hovermode": "closest",
          "mapbox": {
           "style": "light"
          },
          "paper_bgcolor": "white",
          "plot_bgcolor": "#E5ECF6",
          "polar": {
           "angularaxis": {
            "gridcolor": "white",
            "linecolor": "white",
            "ticks": ""
           },
           "bgcolor": "#E5ECF6",
           "radialaxis": {
            "gridcolor": "white",
            "linecolor": "white",
            "ticks": ""
           }
          },
          "scene": {
           "xaxis": {
            "backgroundcolor": "#E5ECF6",
            "gridcolor": "white",
            "gridwidth": 2,
            "linecolor": "white",
            "showbackground": true,
            "ticks": "",
            "zerolinecolor": "white"
           },
           "yaxis": {
            "backgroundcolor": "#E5ECF6",
            "gridcolor": "white",
            "gridwidth": 2,
            "linecolor": "white",
            "showbackground": true,
            "ticks": "",
            "zerolinecolor": "white"
           },
           "zaxis": {
            "backgroundcolor": "#E5ECF6",
            "gridcolor": "white",
            "gridwidth": 2,
            "linecolor": "white",
            "showbackground": true,
            "ticks": "",
            "zerolinecolor": "white"
           }
          },
          "shapedefaults": {
           "line": {
            "color": "#2a3f5f"
           }
          },
          "ternary": {
           "aaxis": {
            "gridcolor": "white",
            "linecolor": "white",
            "ticks": ""
           },
           "baxis": {
            "gridcolor": "white",
            "linecolor": "white",
            "ticks": ""
           },
           "bgcolor": "#E5ECF6",
           "caxis": {
            "gridcolor": "white",
            "linecolor": "white",
            "ticks": ""
           }
          },
          "title": {
           "x": 0.05
          },
          "xaxis": {
           "automargin": true,
           "gridcolor": "white",
           "linecolor": "white",
           "ticks": "",
           "title": {
            "standoff": 15
           },
           "zerolinecolor": "white",
           "zerolinewidth": 2
          },
          "yaxis": {
           "automargin": true,
           "gridcolor": "white",
           "linecolor": "white",
           "ticks": "",
           "title": {
            "standoff": 15
           },
           "zerolinecolor": "white",
           "zerolinewidth": 2
          }
         }
        },
        "title": {
         "text": "30-Day Stock Price Forecast"
        },
        "xaxis": {
         "title": {
          "text": "Date"
         }
        },
        "yaxis": {
         "title": {
          "text": "Stock Price"
         }
        }
       }
      }
     },
     "metadata": {},
     "output_type": "display_data"
    }
   ],
   "source": [
    "import plotly.graph_objects as go\n",
    "# Historical Data\n",
    "historical_data = pd.DataFrame({\n",
    "    'Date': dates,  # Use fixed datetime dates\n",
    "    'Price': df['Close']  # Historical prices\n",
    "})\n",
    "historical_data = historical_data.iloc[-30:]\n",
    "# Forecast Data\n",
    "forecast_data = pd.DataFrame({\n",
    "    'Date': forecast_dates,  # Generated future dates\n",
    "    'Price': forecasted_prices_original  # Forecasted prices\n",
    "})\n",
    "\n",
    "# Combine data and plot\n",
    "visualization_df = pd.concat([historical_data, forecast_data])\n",
    "\n",
    "# Plot code remains the same\n",
    "fig = go.Figure()\n",
    "fig.add_trace(go.Scatter(x=historical_data['Date'], y=historical_data['Price'], mode='lines', name='Historical Prices'))\n",
    "fig.add_trace(go.Scatter(x=forecast_data['Date'], y=forecast_data['Price'], mode='lines', name='Forecasted Prices'))\n",
    "fig.update_layout(title='30-Day Stock Price Forecast', xaxis_title='Date', yaxis_title='Stock Price')\n",
    "fig.show()"
   ]
  },
  {
   "cell_type": "code",
   "execution_count": 111,
   "metadata": {},
   "outputs": [
    {
     "data": {
      "application/vnd.plotly.v1+json": {
       "config": {
        "plotlyServerURL": "https://plot.ly"
       },
       "data": [
        {
         "mode": "lines",
         "name": "Historical Prices",
         "type": "scatter",
         "x": [
          "2024-11-28T00:00:00+00:00",
          "2024-11-29T00:00:00+00:00",
          "2024-12-02T00:00:00+00:00",
          "2024-12-03T00:00:00+00:00",
          "2024-12-04T00:00:00+00:00",
          "2024-12-05T00:00:00+00:00",
          "2024-12-06T00:00:00+00:00"
         ],
         "y": [
          1734.25,
          1780.9000244140625,
          1808.550048828125,
          1800.050048828125,
          1800.199951171875,
          1813.449951171875,
          1804.8499755859373
         ]
        },
        {
         "mode": "lines",
         "name": "Forecasted Prices",
         "type": "scatter",
         "x": [
          "2024-12-07T00:00:00+00:00",
          "2024-12-08T00:00:00+00:00",
          "2024-12-09T00:00:00+00:00",
          "2024-12-10T00:00:00+00:00",
          "2024-12-11T00:00:00+00:00",
          "2024-12-12T00:00:00+00:00",
          "2024-12-13T00:00:00+00:00"
         ],
         "y": [
          1797.5061824475415,
          1791.4018366537493,
          1791.4018366537493,
          1791.4018366537493,
          1791.4018366537493,
          1791.4018366537493,
          1791.4018366537493
         ]
        }
       ],
       "layout": {
        "template": {
         "data": {
          "bar": [
           {
            "error_x": {
             "color": "#2a3f5f"
            },
            "error_y": {
             "color": "#2a3f5f"
            },
            "marker": {
             "line": {
              "color": "#E5ECF6",
              "width": 0.5
             },
             "pattern": {
              "fillmode": "overlay",
              "size": 10,
              "solidity": 0.2
             }
            },
            "type": "bar"
           }
          ],
          "barpolar": [
           {
            "marker": {
             "line": {
              "color": "#E5ECF6",
              "width": 0.5
             },
             "pattern": {
              "fillmode": "overlay",
              "size": 10,
              "solidity": 0.2
             }
            },
            "type": "barpolar"
           }
          ],
          "carpet": [
           {
            "aaxis": {
             "endlinecolor": "#2a3f5f",
             "gridcolor": "white",
             "linecolor": "white",
             "minorgridcolor": "white",
             "startlinecolor": "#2a3f5f"
            },
            "baxis": {
             "endlinecolor": "#2a3f5f",
             "gridcolor": "white",
             "linecolor": "white",
             "minorgridcolor": "white",
             "startlinecolor": "#2a3f5f"
            },
            "type": "carpet"
           }
          ],
          "choropleth": [
           {
            "colorbar": {
             "outlinewidth": 0,
             "ticks": ""
            },
            "type": "choropleth"
           }
          ],
          "contour": [
           {
            "colorbar": {
             "outlinewidth": 0,
             "ticks": ""
            },
            "colorscale": [
             [
              0,
              "#0d0887"
             ],
             [
              0.1111111111111111,
              "#46039f"
             ],
             [
              0.2222222222222222,
              "#7201a8"
             ],
             [
              0.3333333333333333,
              "#9c179e"
             ],
             [
              0.4444444444444444,
              "#bd3786"
             ],
             [
              0.5555555555555556,
              "#d8576b"
             ],
             [
              0.6666666666666666,
              "#ed7953"
             ],
             [
              0.7777777777777778,
              "#fb9f3a"
             ],
             [
              0.8888888888888888,
              "#fdca26"
             ],
             [
              1,
              "#f0f921"
             ]
            ],
            "type": "contour"
           }
          ],
          "contourcarpet": [
           {
            "colorbar": {
             "outlinewidth": 0,
             "ticks": ""
            },
            "type": "contourcarpet"
           }
          ],
          "heatmap": [
           {
            "colorbar": {
             "outlinewidth": 0,
             "ticks": ""
            },
            "colorscale": [
             [
              0,
              "#0d0887"
             ],
             [
              0.1111111111111111,
              "#46039f"
             ],
             [
              0.2222222222222222,
              "#7201a8"
             ],
             [
              0.3333333333333333,
              "#9c179e"
             ],
             [
              0.4444444444444444,
              "#bd3786"
             ],
             [
              0.5555555555555556,
              "#d8576b"
             ],
             [
              0.6666666666666666,
              "#ed7953"
             ],
             [
              0.7777777777777778,
              "#fb9f3a"
             ],
             [
              0.8888888888888888,
              "#fdca26"
             ],
             [
              1,
              "#f0f921"
             ]
            ],
            "type": "heatmap"
           }
          ],
          "heatmapgl": [
           {
            "colorbar": {
             "outlinewidth": 0,
             "ticks": ""
            },
            "colorscale": [
             [
              0,
              "#0d0887"
             ],
             [
              0.1111111111111111,
              "#46039f"
             ],
             [
              0.2222222222222222,
              "#7201a8"
             ],
             [
              0.3333333333333333,
              "#9c179e"
             ],
             [
              0.4444444444444444,
              "#bd3786"
             ],
             [
              0.5555555555555556,
              "#d8576b"
             ],
             [
              0.6666666666666666,
              "#ed7953"
             ],
             [
              0.7777777777777778,
              "#fb9f3a"
             ],
             [
              0.8888888888888888,
              "#fdca26"
             ],
             [
              1,
              "#f0f921"
             ]
            ],
            "type": "heatmapgl"
           }
          ],
          "histogram": [
           {
            "marker": {
             "pattern": {
              "fillmode": "overlay",
              "size": 10,
              "solidity": 0.2
             }
            },
            "type": "histogram"
           }
          ],
          "histogram2d": [
           {
            "colorbar": {
             "outlinewidth": 0,
             "ticks": ""
            },
            "colorscale": [
             [
              0,
              "#0d0887"
             ],
             [
              0.1111111111111111,
              "#46039f"
             ],
             [
              0.2222222222222222,
              "#7201a8"
             ],
             [
              0.3333333333333333,
              "#9c179e"
             ],
             [
              0.4444444444444444,
              "#bd3786"
             ],
             [
              0.5555555555555556,
              "#d8576b"
             ],
             [
              0.6666666666666666,
              "#ed7953"
             ],
             [
              0.7777777777777778,
              "#fb9f3a"
             ],
             [
              0.8888888888888888,
              "#fdca26"
             ],
             [
              1,
              "#f0f921"
             ]
            ],
            "type": "histogram2d"
           }
          ],
          "histogram2dcontour": [
           {
            "colorbar": {
             "outlinewidth": 0,
             "ticks": ""
            },
            "colorscale": [
             [
              0,
              "#0d0887"
             ],
             [
              0.1111111111111111,
              "#46039f"
             ],
             [
              0.2222222222222222,
              "#7201a8"
             ],
             [
              0.3333333333333333,
              "#9c179e"
             ],
             [
              0.4444444444444444,
              "#bd3786"
             ],
             [
              0.5555555555555556,
              "#d8576b"
             ],
             [
              0.6666666666666666,
              "#ed7953"
             ],
             [
              0.7777777777777778,
              "#fb9f3a"
             ],
             [
              0.8888888888888888,
              "#fdca26"
             ],
             [
              1,
              "#f0f921"
             ]
            ],
            "type": "histogram2dcontour"
           }
          ],
          "mesh3d": [
           {
            "colorbar": {
             "outlinewidth": 0,
             "ticks": ""
            },
            "type": "mesh3d"
           }
          ],
          "parcoords": [
           {
            "line": {
             "colorbar": {
              "outlinewidth": 0,
              "ticks": ""
             }
            },
            "type": "parcoords"
           }
          ],
          "pie": [
           {
            "automargin": true,
            "type": "pie"
           }
          ],
          "scatter": [
           {
            "fillpattern": {
             "fillmode": "overlay",
             "size": 10,
             "solidity": 0.2
            },
            "type": "scatter"
           }
          ],
          "scatter3d": [
           {
            "line": {
             "colorbar": {
              "outlinewidth": 0,
              "ticks": ""
             }
            },
            "marker": {
             "colorbar": {
              "outlinewidth": 0,
              "ticks": ""
             }
            },
            "type": "scatter3d"
           }
          ],
          "scattercarpet": [
           {
            "marker": {
             "colorbar": {
              "outlinewidth": 0,
              "ticks": ""
             }
            },
            "type": "scattercarpet"
           }
          ],
          "scattergeo": [
           {
            "marker": {
             "colorbar": {
              "outlinewidth": 0,
              "ticks": ""
             }
            },
            "type": "scattergeo"
           }
          ],
          "scattergl": [
           {
            "marker": {
             "colorbar": {
              "outlinewidth": 0,
              "ticks": ""
             }
            },
            "type": "scattergl"
           }
          ],
          "scattermapbox": [
           {
            "marker": {
             "colorbar": {
              "outlinewidth": 0,
              "ticks": ""
             }
            },
            "type": "scattermapbox"
           }
          ],
          "scatterpolar": [
           {
            "marker": {
             "colorbar": {
              "outlinewidth": 0,
              "ticks": ""
             }
            },
            "type": "scatterpolar"
           }
          ],
          "scatterpolargl": [
           {
            "marker": {
             "colorbar": {
              "outlinewidth": 0,
              "ticks": ""
             }
            },
            "type": "scatterpolargl"
           }
          ],
          "scatterternary": [
           {
            "marker": {
             "colorbar": {
              "outlinewidth": 0,
              "ticks": ""
             }
            },
            "type": "scatterternary"
           }
          ],
          "surface": [
           {
            "colorbar": {
             "outlinewidth": 0,
             "ticks": ""
            },
            "colorscale": [
             [
              0,
              "#0d0887"
             ],
             [
              0.1111111111111111,
              "#46039f"
             ],
             [
              0.2222222222222222,
              "#7201a8"
             ],
             [
              0.3333333333333333,
              "#9c179e"
             ],
             [
              0.4444444444444444,
              "#bd3786"
             ],
             [
              0.5555555555555556,
              "#d8576b"
             ],
             [
              0.6666666666666666,
              "#ed7953"
             ],
             [
              0.7777777777777778,
              "#fb9f3a"
             ],
             [
              0.8888888888888888,
              "#fdca26"
             ],
             [
              1,
              "#f0f921"
             ]
            ],
            "type": "surface"
           }
          ],
          "table": [
           {
            "cells": {
             "fill": {
              "color": "#EBF0F8"
             },
             "line": {
              "color": "white"
             }
            },
            "header": {
             "fill": {
              "color": "#C8D4E3"
             },
             "line": {
              "color": "white"
             }
            },
            "type": "table"
           }
          ]
         },
         "layout": {
          "annotationdefaults": {
           "arrowcolor": "#2a3f5f",
           "arrowhead": 0,
           "arrowwidth": 1
          },
          "autotypenumbers": "strict",
          "coloraxis": {
           "colorbar": {
            "outlinewidth": 0,
            "ticks": ""
           }
          },
          "colorscale": {
           "diverging": [
            [
             0,
             "#8e0152"
            ],
            [
             0.1,
             "#c51b7d"
            ],
            [
             0.2,
             "#de77ae"
            ],
            [
             0.3,
             "#f1b6da"
            ],
            [
             0.4,
             "#fde0ef"
            ],
            [
             0.5,
             "#f7f7f7"
            ],
            [
             0.6,
             "#e6f5d0"
            ],
            [
             0.7,
             "#b8e186"
            ],
            [
             0.8,
             "#7fbc41"
            ],
            [
             0.9,
             "#4d9221"
            ],
            [
             1,
             "#276419"
            ]
           ],
           "sequential": [
            [
             0,
             "#0d0887"
            ],
            [
             0.1111111111111111,
             "#46039f"
            ],
            [
             0.2222222222222222,
             "#7201a8"
            ],
            [
             0.3333333333333333,
             "#9c179e"
            ],
            [
             0.4444444444444444,
             "#bd3786"
            ],
            [
             0.5555555555555556,
             "#d8576b"
            ],
            [
             0.6666666666666666,
             "#ed7953"
            ],
            [
             0.7777777777777778,
             "#fb9f3a"
            ],
            [
             0.8888888888888888,
             "#fdca26"
            ],
            [
             1,
             "#f0f921"
            ]
           ],
           "sequentialminus": [
            [
             0,
             "#0d0887"
            ],
            [
             0.1111111111111111,
             "#46039f"
            ],
            [
             0.2222222222222222,
             "#7201a8"
            ],
            [
             0.3333333333333333,
             "#9c179e"
            ],
            [
             0.4444444444444444,
             "#bd3786"
            ],
            [
             0.5555555555555556,
             "#d8576b"
            ],
            [
             0.6666666666666666,
             "#ed7953"
            ],
            [
             0.7777777777777778,
             "#fb9f3a"
            ],
            [
             0.8888888888888888,
             "#fdca26"
            ],
            [
             1,
             "#f0f921"
            ]
           ]
          },
          "colorway": [
           "#636efa",
           "#EF553B",
           "#00cc96",
           "#ab63fa",
           "#FFA15A",
           "#19d3f3",
           "#FF6692",
           "#B6E880",
           "#FF97FF",
           "#FECB52"
          ],
          "font": {
           "color": "#2a3f5f"
          },
          "geo": {
           "bgcolor": "white",
           "lakecolor": "white",
           "landcolor": "#E5ECF6",
           "showlakes": true,
           "showland": true,
           "subunitcolor": "white"
          },
          "hoverlabel": {
           "align": "left"
          },
          "hovermode": "closest",
          "mapbox": {
           "style": "light"
          },
          "paper_bgcolor": "white",
          "plot_bgcolor": "#E5ECF6",
          "polar": {
           "angularaxis": {
            "gridcolor": "white",
            "linecolor": "white",
            "ticks": ""
           },
           "bgcolor": "#E5ECF6",
           "radialaxis": {
            "gridcolor": "white",
            "linecolor": "white",
            "ticks": ""
           }
          },
          "scene": {
           "xaxis": {
            "backgroundcolor": "#E5ECF6",
            "gridcolor": "white",
            "gridwidth": 2,
            "linecolor": "white",
            "showbackground": true,
            "ticks": "",
            "zerolinecolor": "white"
           },
           "yaxis": {
            "backgroundcolor": "#E5ECF6",
            "gridcolor": "white",
            "gridwidth": 2,
            "linecolor": "white",
            "showbackground": true,
            "ticks": "",
            "zerolinecolor": "white"
           },
           "zaxis": {
            "backgroundcolor": "#E5ECF6",
            "gridcolor": "white",
            "gridwidth": 2,
            "linecolor": "white",
            "showbackground": true,
            "ticks": "",
            "zerolinecolor": "white"
           }
          },
          "shapedefaults": {
           "line": {
            "color": "#2a3f5f"
           }
          },
          "ternary": {
           "aaxis": {
            "gridcolor": "white",
            "linecolor": "white",
            "ticks": ""
           },
           "baxis": {
            "gridcolor": "white",
            "linecolor": "white",
            "ticks": ""
           },
           "bgcolor": "#E5ECF6",
           "caxis": {
            "gridcolor": "white",
            "linecolor": "white",
            "ticks": ""
           }
          },
          "title": {
           "x": 0.05
          },
          "xaxis": {
           "automargin": true,
           "gridcolor": "white",
           "linecolor": "white",
           "ticks": "",
           "title": {
            "standoff": 15
           },
           "zerolinecolor": "white",
           "zerolinewidth": 2
          },
          "yaxis": {
           "automargin": true,
           "gridcolor": "white",
           "linecolor": "white",
           "ticks": "",
           "title": {
            "standoff": 15
           },
           "zerolinecolor": "white",
           "zerolinewidth": 2
          }
         }
        },
        "title": {
         "text": "7-Day Stock Price Forecast"
        },
        "xaxis": {
         "title": {
          "text": "Date"
         }
        },
        "yaxis": {
         "title": {
          "text": "Stock Price"
         }
        }
       }
      }
     },
     "metadata": {},
     "output_type": "display_data"
    }
   ],
   "source": [
    "import plotly.graph_objects as go\n",
    "# Historical Data\n",
    "historical_data = pd.DataFrame({\n",
    "    'Date': dates,  # Use fixed datetime dates\n",
    "    'Price': df['Close']  # Historical prices\n",
    "})\n",
    "historical_data = historical_data.iloc[-7:]\n",
    "# Forecast Data\n",
    "forecast_data = pd.DataFrame({\n",
    "    'Date': forecast_dates_7,  # Generated future dates\n",
    "    'Price': forecasted_prices_original_7  # Forecasted prices\n",
    "})\n",
    "\n",
    "# Combine data and plot\n",
    "visualization_df = pd.concat([historical_data, forecast_data])\n",
    "\n",
    "# Plot code remains the same\n",
    "fig = go.Figure()\n",
    "fig.add_trace(go.Scatter(x=historical_data['Date'], y=historical_data['Price'], mode='lines', name='Historical Prices'))\n",
    "fig.add_trace(go.Scatter(x=forecast_data['Date'], y=forecast_data['Price'], mode='lines', name='Forecasted Prices'))\n",
    "fig.update_layout(title='7-Day Stock Price Forecast', xaxis_title='Date', yaxis_title='Stock Price')\n",
    "fig.show()"
   ]
  },
  {
   "cell_type": "code",
   "execution_count": 112,
   "metadata": {},
   "outputs": [
    {
     "data": {
      "application/vnd.plotly.v1+json": {
       "config": {
        "plotlyServerURL": "https://plot.ly"
       },
       "data": [
        {
         "hoverlabel": {
          "bgcolor": "black",
          "font": {
           "color": "white"
          }
         },
         "line": {
          "color": "cyan",
          "width": 2
         },
         "mode": "lines",
         "name": "Historical Prices",
         "type": "scatter",
         "x": [
          "2024-10-24T00:00:00+00:00",
          "2024-10-25T00:00:00+00:00",
          "2024-10-28T00:00:00+00:00",
          "2024-10-29T00:00:00+00:00",
          "2024-10-30T00:00:00+00:00",
          "2024-10-31T00:00:00+00:00",
          "2024-11-01T00:00:00+00:00",
          "2024-11-04T00:00:00+00:00",
          "2024-11-05T00:00:00+00:00",
          "2024-11-06T00:00:00+00:00",
          "2024-11-07T00:00:00+00:00",
          "2024-11-08T00:00:00+00:00",
          "2024-11-11T00:00:00+00:00",
          "2024-11-12T00:00:00+00:00",
          "2024-11-13T00:00:00+00:00",
          "2024-11-14T00:00:00+00:00",
          "2024-11-18T00:00:00+00:00",
          "2024-11-19T00:00:00+00:00",
          "2024-11-21T00:00:00+00:00",
          "2024-11-22T00:00:00+00:00",
          "2024-11-25T00:00:00+00:00",
          "2024-11-26T00:00:00+00:00",
          "2024-11-27T00:00:00+00:00",
          "2024-11-28T00:00:00+00:00",
          "2024-11-29T00:00:00+00:00",
          "2024-12-02T00:00:00+00:00",
          "2024-12-03T00:00:00+00:00",
          "2024-12-04T00:00:00+00:00",
          "2024-12-05T00:00:00+00:00",
          "2024-12-06T00:00:00+00:00"
         ],
         "y": [
          1848.9000244140625,
          1860.4000244140625,
          1902.9000244140625,
          1871.5999755859373,
          1852.0999755859373,
          1848.9000244140625,
          1858.4000244140625,
          1808.9000244140625,
          1803.5999755859373,
          1827.449951171875,
          1790.949951171875,
          1809.5999755859373,
          1794.5999755859375,
          1800.8499755859375,
          1779,
          1768.199951171875,
          1747.75,
          1777.25,
          1780,
          1795.300048828125,
          1798.9000244140625,
          1761.5999755859375,
          1749.449951171875,
          1734.25,
          1780.9000244140625,
          1808.550048828125,
          1800.050048828125,
          1800.199951171875,
          1813.449951171875,
          1804.8499755859373
         ]
        },
        {
         "hoverlabel": {
          "bgcolor": "black",
          "font": {
           "color": "white"
          }
         },
         "line": {
          "color": "magenta",
          "dash": "dash",
          "width": 2
         },
         "mode": "lines",
         "name": "Forecasted Prices",
         "type": "scatter",
         "x": [
          "2024-12-07T00:00:00+00:00",
          "2024-12-08T00:00:00+00:00",
          "2024-12-09T00:00:00+00:00",
          "2024-12-10T00:00:00+00:00",
          "2024-12-11T00:00:00+00:00",
          "2024-12-12T00:00:00+00:00",
          "2024-12-13T00:00:00+00:00",
          "2024-12-14T00:00:00+00:00",
          "2024-12-15T00:00:00+00:00",
          "2024-12-16T00:00:00+00:00",
          "2024-12-17T00:00:00+00:00",
          "2024-12-18T00:00:00+00:00",
          "2024-12-19T00:00:00+00:00",
          "2024-12-20T00:00:00+00:00",
          "2024-12-21T00:00:00+00:00",
          "2024-12-22T00:00:00+00:00",
          "2024-12-23T00:00:00+00:00",
          "2024-12-24T00:00:00+00:00",
          "2024-12-25T00:00:00+00:00",
          "2024-12-26T00:00:00+00:00",
          "2024-12-27T00:00:00+00:00",
          "2024-12-28T00:00:00+00:00",
          "2024-12-29T00:00:00+00:00",
          "2024-12-30T00:00:00+00:00",
          "2024-12-31T00:00:00+00:00",
          "2025-01-01T00:00:00+00:00",
          "2025-01-02T00:00:00+00:00",
          "2025-01-03T00:00:00+00:00",
          "2025-01-04T00:00:00+00:00",
          "2025-01-05T00:00:00+00:00"
         ],
         "y": [
          1797.5061824475415,
          1791.4018366537493,
          1791.4018366537493,
          1791.4018366537493,
          1791.4018366537493,
          1791.4018366537493,
          1791.4018366537493,
          1791.4018366537493,
          1791.4018366537493,
          1791.4018366537493,
          1791.4018366537493,
          1791.4018366537493,
          1791.4018366537493,
          1791.4018366537493,
          1791.4018366537493,
          1791.4018366537493,
          1791.4018366537493,
          1791.4018366537493,
          1791.4018366537493,
          1791.4018366537493,
          1791.4018366537493,
          1791.4018366537493,
          1791.4018366537493,
          1791.4018366537493,
          1791.4018366537493,
          1791.4018366537493,
          1791.4018366537493,
          1791.4018366537493,
          1791.4018366537493,
          1791.4018366537493
         ]
        }
       ],
       "layout": {
        "legend": {
         "bgcolor": "rgba(0,0,0,0.5)",
         "font": {
          "color": "white",
          "size": 12
         }
        },
        "paper_bgcolor": "black",
        "plot_bgcolor": "black",
        "template": {
         "data": {
          "bar": [
           {
            "error_x": {
             "color": "#2a3f5f"
            },
            "error_y": {
             "color": "#2a3f5f"
            },
            "marker": {
             "line": {
              "color": "#E5ECF6",
              "width": 0.5
             },
             "pattern": {
              "fillmode": "overlay",
              "size": 10,
              "solidity": 0.2
             }
            },
            "type": "bar"
           }
          ],
          "barpolar": [
           {
            "marker": {
             "line": {
              "color": "#E5ECF6",
              "width": 0.5
             },
             "pattern": {
              "fillmode": "overlay",
              "size": 10,
              "solidity": 0.2
             }
            },
            "type": "barpolar"
           }
          ],
          "carpet": [
           {
            "aaxis": {
             "endlinecolor": "#2a3f5f",
             "gridcolor": "white",
             "linecolor": "white",
             "minorgridcolor": "white",
             "startlinecolor": "#2a3f5f"
            },
            "baxis": {
             "endlinecolor": "#2a3f5f",
             "gridcolor": "white",
             "linecolor": "white",
             "minorgridcolor": "white",
             "startlinecolor": "#2a3f5f"
            },
            "type": "carpet"
           }
          ],
          "choropleth": [
           {
            "colorbar": {
             "outlinewidth": 0,
             "ticks": ""
            },
            "type": "choropleth"
           }
          ],
          "contour": [
           {
            "colorbar": {
             "outlinewidth": 0,
             "ticks": ""
            },
            "colorscale": [
             [
              0,
              "#0d0887"
             ],
             [
              0.1111111111111111,
              "#46039f"
             ],
             [
              0.2222222222222222,
              "#7201a8"
             ],
             [
              0.3333333333333333,
              "#9c179e"
             ],
             [
              0.4444444444444444,
              "#bd3786"
             ],
             [
              0.5555555555555556,
              "#d8576b"
             ],
             [
              0.6666666666666666,
              "#ed7953"
             ],
             [
              0.7777777777777778,
              "#fb9f3a"
             ],
             [
              0.8888888888888888,
              "#fdca26"
             ],
             [
              1,
              "#f0f921"
             ]
            ],
            "type": "contour"
           }
          ],
          "contourcarpet": [
           {
            "colorbar": {
             "outlinewidth": 0,
             "ticks": ""
            },
            "type": "contourcarpet"
           }
          ],
          "heatmap": [
           {
            "colorbar": {
             "outlinewidth": 0,
             "ticks": ""
            },
            "colorscale": [
             [
              0,
              "#0d0887"
             ],
             [
              0.1111111111111111,
              "#46039f"
             ],
             [
              0.2222222222222222,
              "#7201a8"
             ],
             [
              0.3333333333333333,
              "#9c179e"
             ],
             [
              0.4444444444444444,
              "#bd3786"
             ],
             [
              0.5555555555555556,
              "#d8576b"
             ],
             [
              0.6666666666666666,
              "#ed7953"
             ],
             [
              0.7777777777777778,
              "#fb9f3a"
             ],
             [
              0.8888888888888888,
              "#fdca26"
             ],
             [
              1,
              "#f0f921"
             ]
            ],
            "type": "heatmap"
           }
          ],
          "heatmapgl": [
           {
            "colorbar": {
             "outlinewidth": 0,
             "ticks": ""
            },
            "colorscale": [
             [
              0,
              "#0d0887"
             ],
             [
              0.1111111111111111,
              "#46039f"
             ],
             [
              0.2222222222222222,
              "#7201a8"
             ],
             [
              0.3333333333333333,
              "#9c179e"
             ],
             [
              0.4444444444444444,
              "#bd3786"
             ],
             [
              0.5555555555555556,
              "#d8576b"
             ],
             [
              0.6666666666666666,
              "#ed7953"
             ],
             [
              0.7777777777777778,
              "#fb9f3a"
             ],
             [
              0.8888888888888888,
              "#fdca26"
             ],
             [
              1,
              "#f0f921"
             ]
            ],
            "type": "heatmapgl"
           }
          ],
          "histogram": [
           {
            "marker": {
             "pattern": {
              "fillmode": "overlay",
              "size": 10,
              "solidity": 0.2
             }
            },
            "type": "histogram"
           }
          ],
          "histogram2d": [
           {
            "colorbar": {
             "outlinewidth": 0,
             "ticks": ""
            },
            "colorscale": [
             [
              0,
              "#0d0887"
             ],
             [
              0.1111111111111111,
              "#46039f"
             ],
             [
              0.2222222222222222,
              "#7201a8"
             ],
             [
              0.3333333333333333,
              "#9c179e"
             ],
             [
              0.4444444444444444,
              "#bd3786"
             ],
             [
              0.5555555555555556,
              "#d8576b"
             ],
             [
              0.6666666666666666,
              "#ed7953"
             ],
             [
              0.7777777777777778,
              "#fb9f3a"
             ],
             [
              0.8888888888888888,
              "#fdca26"
             ],
             [
              1,
              "#f0f921"
             ]
            ],
            "type": "histogram2d"
           }
          ],
          "histogram2dcontour": [
           {
            "colorbar": {
             "outlinewidth": 0,
             "ticks": ""
            },
            "colorscale": [
             [
              0,
              "#0d0887"
             ],
             [
              0.1111111111111111,
              "#46039f"
             ],
             [
              0.2222222222222222,
              "#7201a8"
             ],
             [
              0.3333333333333333,
              "#9c179e"
             ],
             [
              0.4444444444444444,
              "#bd3786"
             ],
             [
              0.5555555555555556,
              "#d8576b"
             ],
             [
              0.6666666666666666,
              "#ed7953"
             ],
             [
              0.7777777777777778,
              "#fb9f3a"
             ],
             [
              0.8888888888888888,
              "#fdca26"
             ],
             [
              1,
              "#f0f921"
             ]
            ],
            "type": "histogram2dcontour"
           }
          ],
          "mesh3d": [
           {
            "colorbar": {
             "outlinewidth": 0,
             "ticks": ""
            },
            "type": "mesh3d"
           }
          ],
          "parcoords": [
           {
            "line": {
             "colorbar": {
              "outlinewidth": 0,
              "ticks": ""
             }
            },
            "type": "parcoords"
           }
          ],
          "pie": [
           {
            "automargin": true,
            "type": "pie"
           }
          ],
          "scatter": [
           {
            "fillpattern": {
             "fillmode": "overlay",
             "size": 10,
             "solidity": 0.2
            },
            "type": "scatter"
           }
          ],
          "scatter3d": [
           {
            "line": {
             "colorbar": {
              "outlinewidth": 0,
              "ticks": ""
             }
            },
            "marker": {
             "colorbar": {
              "outlinewidth": 0,
              "ticks": ""
             }
            },
            "type": "scatter3d"
           }
          ],
          "scattercarpet": [
           {
            "marker": {
             "colorbar": {
              "outlinewidth": 0,
              "ticks": ""
             }
            },
            "type": "scattercarpet"
           }
          ],
          "scattergeo": [
           {
            "marker": {
             "colorbar": {
              "outlinewidth": 0,
              "ticks": ""
             }
            },
            "type": "scattergeo"
           }
          ],
          "scattergl": [
           {
            "marker": {
             "colorbar": {
              "outlinewidth": 0,
              "ticks": ""
             }
            },
            "type": "scattergl"
           }
          ],
          "scattermapbox": [
           {
            "marker": {
             "colorbar": {
              "outlinewidth": 0,
              "ticks": ""
             }
            },
            "type": "scattermapbox"
           }
          ],
          "scatterpolar": [
           {
            "marker": {
             "colorbar": {
              "outlinewidth": 0,
              "ticks": ""
             }
            },
            "type": "scatterpolar"
           }
          ],
          "scatterpolargl": [
           {
            "marker": {
             "colorbar": {
              "outlinewidth": 0,
              "ticks": ""
             }
            },
            "type": "scatterpolargl"
           }
          ],
          "scatterternary": [
           {
            "marker": {
             "colorbar": {
              "outlinewidth": 0,
              "ticks": ""
             }
            },
            "type": "scatterternary"
           }
          ],
          "surface": [
           {
            "colorbar": {
             "outlinewidth": 0,
             "ticks": ""
            },
            "colorscale": [
             [
              0,
              "#0d0887"
             ],
             [
              0.1111111111111111,
              "#46039f"
             ],
             [
              0.2222222222222222,
              "#7201a8"
             ],
             [
              0.3333333333333333,
              "#9c179e"
             ],
             [
              0.4444444444444444,
              "#bd3786"
             ],
             [
              0.5555555555555556,
              "#d8576b"
             ],
             [
              0.6666666666666666,
              "#ed7953"
             ],
             [
              0.7777777777777778,
              "#fb9f3a"
             ],
             [
              0.8888888888888888,
              "#fdca26"
             ],
             [
              1,
              "#f0f921"
             ]
            ],
            "type": "surface"
           }
          ],
          "table": [
           {
            "cells": {
             "fill": {
              "color": "#EBF0F8"
             },
             "line": {
              "color": "white"
             }
            },
            "header": {
             "fill": {
              "color": "#C8D4E3"
             },
             "line": {
              "color": "white"
             }
            },
            "type": "table"
           }
          ]
         },
         "layout": {
          "annotationdefaults": {
           "arrowcolor": "#2a3f5f",
           "arrowhead": 0,
           "arrowwidth": 1
          },
          "autotypenumbers": "strict",
          "coloraxis": {
           "colorbar": {
            "outlinewidth": 0,
            "ticks": ""
           }
          },
          "colorscale": {
           "diverging": [
            [
             0,
             "#8e0152"
            ],
            [
             0.1,
             "#c51b7d"
            ],
            [
             0.2,
             "#de77ae"
            ],
            [
             0.3,
             "#f1b6da"
            ],
            [
             0.4,
             "#fde0ef"
            ],
            [
             0.5,
             "#f7f7f7"
            ],
            [
             0.6,
             "#e6f5d0"
            ],
            [
             0.7,
             "#b8e186"
            ],
            [
             0.8,
             "#7fbc41"
            ],
            [
             0.9,
             "#4d9221"
            ],
            [
             1,
             "#276419"
            ]
           ],
           "sequential": [
            [
             0,
             "#0d0887"
            ],
            [
             0.1111111111111111,
             "#46039f"
            ],
            [
             0.2222222222222222,
             "#7201a8"
            ],
            [
             0.3333333333333333,
             "#9c179e"
            ],
            [
             0.4444444444444444,
             "#bd3786"
            ],
            [
             0.5555555555555556,
             "#d8576b"
            ],
            [
             0.6666666666666666,
             "#ed7953"
            ],
            [
             0.7777777777777778,
             "#fb9f3a"
            ],
            [
             0.8888888888888888,
             "#fdca26"
            ],
            [
             1,
             "#f0f921"
            ]
           ],
           "sequentialminus": [
            [
             0,
             "#0d0887"
            ],
            [
             0.1111111111111111,
             "#46039f"
            ],
            [
             0.2222222222222222,
             "#7201a8"
            ],
            [
             0.3333333333333333,
             "#9c179e"
            ],
            [
             0.4444444444444444,
             "#bd3786"
            ],
            [
             0.5555555555555556,
             "#d8576b"
            ],
            [
             0.6666666666666666,
             "#ed7953"
            ],
            [
             0.7777777777777778,
             "#fb9f3a"
            ],
            [
             0.8888888888888888,
             "#fdca26"
            ],
            [
             1,
             "#f0f921"
            ]
           ]
          },
          "colorway": [
           "#636efa",
           "#EF553B",
           "#00cc96",
           "#ab63fa",
           "#FFA15A",
           "#19d3f3",
           "#FF6692",
           "#B6E880",
           "#FF97FF",
           "#FECB52"
          ],
          "font": {
           "color": "#2a3f5f"
          },
          "geo": {
           "bgcolor": "white",
           "lakecolor": "white",
           "landcolor": "#E5ECF6",
           "showlakes": true,
           "showland": true,
           "subunitcolor": "white"
          },
          "hoverlabel": {
           "align": "left"
          },
          "hovermode": "closest",
          "mapbox": {
           "style": "light"
          },
          "paper_bgcolor": "white",
          "plot_bgcolor": "#E5ECF6",
          "polar": {
           "angularaxis": {
            "gridcolor": "white",
            "linecolor": "white",
            "ticks": ""
           },
           "bgcolor": "#E5ECF6",
           "radialaxis": {
            "gridcolor": "white",
            "linecolor": "white",
            "ticks": ""
           }
          },
          "scene": {
           "xaxis": {
            "backgroundcolor": "#E5ECF6",
            "gridcolor": "white",
            "gridwidth": 2,
            "linecolor": "white",
            "showbackground": true,
            "ticks": "",
            "zerolinecolor": "white"
           },
           "yaxis": {
            "backgroundcolor": "#E5ECF6",
            "gridcolor": "white",
            "gridwidth": 2,
            "linecolor": "white",
            "showbackground": true,
            "ticks": "",
            "zerolinecolor": "white"
           },
           "zaxis": {
            "backgroundcolor": "#E5ECF6",
            "gridcolor": "white",
            "gridwidth": 2,
            "linecolor": "white",
            "showbackground": true,
            "ticks": "",
            "zerolinecolor": "white"
           }
          },
          "shapedefaults": {
           "line": {
            "color": "#2a3f5f"
           }
          },
          "ternary": {
           "aaxis": {
            "gridcolor": "white",
            "linecolor": "white",
            "ticks": ""
           },
           "baxis": {
            "gridcolor": "white",
            "linecolor": "white",
            "ticks": ""
           },
           "bgcolor": "#E5ECF6",
           "caxis": {
            "gridcolor": "white",
            "linecolor": "white",
            "ticks": ""
           }
          },
          "title": {
           "x": 0.05
          },
          "xaxis": {
           "automargin": true,
           "gridcolor": "white",
           "linecolor": "white",
           "ticks": "",
           "title": {
            "standoff": 15
           },
           "zerolinecolor": "white",
           "zerolinewidth": 2
          },
          "yaxis": {
           "automargin": true,
           "gridcolor": "white",
           "linecolor": "white",
           "ticks": "",
           "title": {
            "standoff": 15
           },
           "zerolinecolor": "white",
           "zerolinewidth": 2
          }
         }
        },
        "title": {
         "font": {
          "color": "white",
          "size": 24
         },
         "text": "30-Day Stock Price Forecast",
         "x": 0.5
        },
        "xaxis": {
         "color": "white",
         "gridcolor": "gray",
         "showgrid": false,
         "tickformat": "%b %d",
         "title": {
          "text": "Date"
         }
        },
        "yaxis": {
         "color": "white",
         "gridcolor": "gray",
         "showgrid": false,
         "title": {
          "text": "Stock Price"
         }
        }
       }
      }
     },
     "metadata": {},
     "output_type": "display_data"
    }
   ],
   "source": [
    "import plotly.graph_objects as go\n",
    "import pandas as pd\n",
    "\n",
    "# Historical Data\n",
    "historical_data = pd.DataFrame({\n",
    "    'Date': dates,  # Use fixed datetime dates\n",
    "    'Price': df['Close']  # Historical prices\n",
    "})\n",
    "historical_data = historical_data.iloc[-30:]\n",
    "\n",
    "# Forecast Data\n",
    "forecast_data = pd.DataFrame({\n",
    "    'Date': forecast_dates,  # Generated future dates\n",
    "    'Price': forecasted_prices_original  # Forecasted prices\n",
    "})\n",
    "\n",
    "# Combine data and plot\n",
    "visualization_df = pd.concat([historical_data, forecast_data])\n",
    "\n",
    "# Plot customization\n",
    "fig = go.Figure()\n",
    "\n",
    "# Add historical data trace\n",
    "fig.add_trace(go.Scatter(\n",
    "    x=historical_data['Date'],\n",
    "    y=historical_data['Price'],\n",
    "    mode='lines',\n",
    "    name='Historical Prices',\n",
    "    line=dict(color='cyan', width=2),\n",
    "    hoverlabel=dict(bgcolor=\"black\", font_color=\"white\")\n",
    "))\n",
    "\n",
    "# Add forecasted data trace\n",
    "fig.add_trace(go.Scatter(\n",
    "    x=forecast_data['Date'],\n",
    "    y=forecast_data['Price'],\n",
    "    mode='lines',\n",
    "    name='Forecasted Prices',\n",
    "    line=dict(color='magenta', width=2, dash='dash'),\n",
    "    hoverlabel=dict(bgcolor=\"black\", font_color=\"white\")\n",
    "))\n",
    "\n",
    "# Update layout for dark theme and vibrant colors\n",
    "fig.update_layout(\n",
    "    title=dict(\n",
    "        text='30-Day Stock Price Forecast',\n",
    "        font=dict(size=24, color='white'),\n",
    "        x=0.5\n",
    "    ),\n",
    "    xaxis=dict(\n",
    "        title='Date',\n",
    "        showgrid=False,\n",
    "        gridcolor='gray',\n",
    "        color='white',\n",
    "        tickformat='%b %d'\n",
    "    ),\n",
    "    yaxis=dict(\n",
    "        title='Stock Price',\n",
    "        showgrid=False,\n",
    "        gridcolor='gray',\n",
    "        color='white'\n",
    "    ),\n",
    "    paper_bgcolor='black',  # Dark background\n",
    "    plot_bgcolor='black',\n",
    "    legend=dict(\n",
    "        font=dict(size=12, color='white'),\n",
    "        bgcolor='rgba(0,0,0,0.5)'\n",
    "    )\n",
    ")\n",
    "\n",
    "# Show the plot\n",
    "fig.show()\n"
   ]
  },
  {
   "cell_type": "code",
   "execution_count": 113,
   "metadata": {},
   "outputs": [
    {
     "data": {
      "application/vnd.plotly.v1+json": {
       "config": {
        "plotlyServerURL": "https://plot.ly"
       },
       "data": [
        {
         "hoverlabel": {
          "bgcolor": "black",
          "font": {
           "color": "white"
          }
         },
         "line": {
          "color": "cyan",
          "width": 2
         },
         "mode": "lines",
         "name": "Historical Prices",
         "type": "scatter",
         "x": [
          "2024-11-28T00:00:00+00:00",
          "2024-11-29T00:00:00+00:00",
          "2024-12-02T00:00:00+00:00",
          "2024-12-03T00:00:00+00:00",
          "2024-12-04T00:00:00+00:00",
          "2024-12-05T00:00:00+00:00",
          "2024-12-06T00:00:00+00:00"
         ],
         "y": [
          1734.25,
          1780.9000244140625,
          1808.550048828125,
          1800.050048828125,
          1800.199951171875,
          1813.449951171875,
          1804.8499755859373
         ]
        },
        {
         "hoverlabel": {
          "bgcolor": "black",
          "font": {
           "color": "white"
          }
         },
         "line": {
          "color": "magenta",
          "dash": "dash",
          "width": 2
         },
         "mode": "lines",
         "name": "Forecasted Prices",
         "type": "scatter",
         "x": [
          "2024-12-07T00:00:00+00:00",
          "2024-12-08T00:00:00+00:00",
          "2024-12-09T00:00:00+00:00",
          "2024-12-10T00:00:00+00:00",
          "2024-12-11T00:00:00+00:00",
          "2024-12-12T00:00:00+00:00",
          "2024-12-13T00:00:00+00:00"
         ],
         "y": [
          1797.5061824475415,
          1791.4018366537493,
          1791.4018366537493,
          1791.4018366537493,
          1791.4018366537493,
          1791.4018366537493,
          1791.4018366537493
         ]
        }
       ],
       "layout": {
        "legend": {
         "bgcolor": "rgba(0,0,0,0.5)",
         "font": {
          "color": "white",
          "size": 12
         }
        },
        "paper_bgcolor": "black",
        "plot_bgcolor": "black",
        "template": {
         "data": {
          "bar": [
           {
            "error_x": {
             "color": "#2a3f5f"
            },
            "error_y": {
             "color": "#2a3f5f"
            },
            "marker": {
             "line": {
              "color": "#E5ECF6",
              "width": 0.5
             },
             "pattern": {
              "fillmode": "overlay",
              "size": 10,
              "solidity": 0.2
             }
            },
            "type": "bar"
           }
          ],
          "barpolar": [
           {
            "marker": {
             "line": {
              "color": "#E5ECF6",
              "width": 0.5
             },
             "pattern": {
              "fillmode": "overlay",
              "size": 10,
              "solidity": 0.2
             }
            },
            "type": "barpolar"
           }
          ],
          "carpet": [
           {
            "aaxis": {
             "endlinecolor": "#2a3f5f",
             "gridcolor": "white",
             "linecolor": "white",
             "minorgridcolor": "white",
             "startlinecolor": "#2a3f5f"
            },
            "baxis": {
             "endlinecolor": "#2a3f5f",
             "gridcolor": "white",
             "linecolor": "white",
             "minorgridcolor": "white",
             "startlinecolor": "#2a3f5f"
            },
            "type": "carpet"
           }
          ],
          "choropleth": [
           {
            "colorbar": {
             "outlinewidth": 0,
             "ticks": ""
            },
            "type": "choropleth"
           }
          ],
          "contour": [
           {
            "colorbar": {
             "outlinewidth": 0,
             "ticks": ""
            },
            "colorscale": [
             [
              0,
              "#0d0887"
             ],
             [
              0.1111111111111111,
              "#46039f"
             ],
             [
              0.2222222222222222,
              "#7201a8"
             ],
             [
              0.3333333333333333,
              "#9c179e"
             ],
             [
              0.4444444444444444,
              "#bd3786"
             ],
             [
              0.5555555555555556,
              "#d8576b"
             ],
             [
              0.6666666666666666,
              "#ed7953"
             ],
             [
              0.7777777777777778,
              "#fb9f3a"
             ],
             [
              0.8888888888888888,
              "#fdca26"
             ],
             [
              1,
              "#f0f921"
             ]
            ],
            "type": "contour"
           }
          ],
          "contourcarpet": [
           {
            "colorbar": {
             "outlinewidth": 0,
             "ticks": ""
            },
            "type": "contourcarpet"
           }
          ],
          "heatmap": [
           {
            "colorbar": {
             "outlinewidth": 0,
             "ticks": ""
            },
            "colorscale": [
             [
              0,
              "#0d0887"
             ],
             [
              0.1111111111111111,
              "#46039f"
             ],
             [
              0.2222222222222222,
              "#7201a8"
             ],
             [
              0.3333333333333333,
              "#9c179e"
             ],
             [
              0.4444444444444444,
              "#bd3786"
             ],
             [
              0.5555555555555556,
              "#d8576b"
             ],
             [
              0.6666666666666666,
              "#ed7953"
             ],
             [
              0.7777777777777778,
              "#fb9f3a"
             ],
             [
              0.8888888888888888,
              "#fdca26"
             ],
             [
              1,
              "#f0f921"
             ]
            ],
            "type": "heatmap"
           }
          ],
          "heatmapgl": [
           {
            "colorbar": {
             "outlinewidth": 0,
             "ticks": ""
            },
            "colorscale": [
             [
              0,
              "#0d0887"
             ],
             [
              0.1111111111111111,
              "#46039f"
             ],
             [
              0.2222222222222222,
              "#7201a8"
             ],
             [
              0.3333333333333333,
              "#9c179e"
             ],
             [
              0.4444444444444444,
              "#bd3786"
             ],
             [
              0.5555555555555556,
              "#d8576b"
             ],
             [
              0.6666666666666666,
              "#ed7953"
             ],
             [
              0.7777777777777778,
              "#fb9f3a"
             ],
             [
              0.8888888888888888,
              "#fdca26"
             ],
             [
              1,
              "#f0f921"
             ]
            ],
            "type": "heatmapgl"
           }
          ],
          "histogram": [
           {
            "marker": {
             "pattern": {
              "fillmode": "overlay",
              "size": 10,
              "solidity": 0.2
             }
            },
            "type": "histogram"
           }
          ],
          "histogram2d": [
           {
            "colorbar": {
             "outlinewidth": 0,
             "ticks": ""
            },
            "colorscale": [
             [
              0,
              "#0d0887"
             ],
             [
              0.1111111111111111,
              "#46039f"
             ],
             [
              0.2222222222222222,
              "#7201a8"
             ],
             [
              0.3333333333333333,
              "#9c179e"
             ],
             [
              0.4444444444444444,
              "#bd3786"
             ],
             [
              0.5555555555555556,
              "#d8576b"
             ],
             [
              0.6666666666666666,
              "#ed7953"
             ],
             [
              0.7777777777777778,
              "#fb9f3a"
             ],
             [
              0.8888888888888888,
              "#fdca26"
             ],
             [
              1,
              "#f0f921"
             ]
            ],
            "type": "histogram2d"
           }
          ],
          "histogram2dcontour": [
           {
            "colorbar": {
             "outlinewidth": 0,
             "ticks": ""
            },
            "colorscale": [
             [
              0,
              "#0d0887"
             ],
             [
              0.1111111111111111,
              "#46039f"
             ],
             [
              0.2222222222222222,
              "#7201a8"
             ],
             [
              0.3333333333333333,
              "#9c179e"
             ],
             [
              0.4444444444444444,
              "#bd3786"
             ],
             [
              0.5555555555555556,
              "#d8576b"
             ],
             [
              0.6666666666666666,
              "#ed7953"
             ],
             [
              0.7777777777777778,
              "#fb9f3a"
             ],
             [
              0.8888888888888888,
              "#fdca26"
             ],
             [
              1,
              "#f0f921"
             ]
            ],
            "type": "histogram2dcontour"
           }
          ],
          "mesh3d": [
           {
            "colorbar": {
             "outlinewidth": 0,
             "ticks": ""
            },
            "type": "mesh3d"
           }
          ],
          "parcoords": [
           {
            "line": {
             "colorbar": {
              "outlinewidth": 0,
              "ticks": ""
             }
            },
            "type": "parcoords"
           }
          ],
          "pie": [
           {
            "automargin": true,
            "type": "pie"
           }
          ],
          "scatter": [
           {
            "fillpattern": {
             "fillmode": "overlay",
             "size": 10,
             "solidity": 0.2
            },
            "type": "scatter"
           }
          ],
          "scatter3d": [
           {
            "line": {
             "colorbar": {
              "outlinewidth": 0,
              "ticks": ""
             }
            },
            "marker": {
             "colorbar": {
              "outlinewidth": 0,
              "ticks": ""
             }
            },
            "type": "scatter3d"
           }
          ],
          "scattercarpet": [
           {
            "marker": {
             "colorbar": {
              "outlinewidth": 0,
              "ticks": ""
             }
            },
            "type": "scattercarpet"
           }
          ],
          "scattergeo": [
           {
            "marker": {
             "colorbar": {
              "outlinewidth": 0,
              "ticks": ""
             }
            },
            "type": "scattergeo"
           }
          ],
          "scattergl": [
           {
            "marker": {
             "colorbar": {
              "outlinewidth": 0,
              "ticks": ""
             }
            },
            "type": "scattergl"
           }
          ],
          "scattermapbox": [
           {
            "marker": {
             "colorbar": {
              "outlinewidth": 0,
              "ticks": ""
             }
            },
            "type": "scattermapbox"
           }
          ],
          "scatterpolar": [
           {
            "marker": {
             "colorbar": {
              "outlinewidth": 0,
              "ticks": ""
             }
            },
            "type": "scatterpolar"
           }
          ],
          "scatterpolargl": [
           {
            "marker": {
             "colorbar": {
              "outlinewidth": 0,
              "ticks": ""
             }
            },
            "type": "scatterpolargl"
           }
          ],
          "scatterternary": [
           {
            "marker": {
             "colorbar": {
              "outlinewidth": 0,
              "ticks": ""
             }
            },
            "type": "scatterternary"
           }
          ],
          "surface": [
           {
            "colorbar": {
             "outlinewidth": 0,
             "ticks": ""
            },
            "colorscale": [
             [
              0,
              "#0d0887"
             ],
             [
              0.1111111111111111,
              "#46039f"
             ],
             [
              0.2222222222222222,
              "#7201a8"
             ],
             [
              0.3333333333333333,
              "#9c179e"
             ],
             [
              0.4444444444444444,
              "#bd3786"
             ],
             [
              0.5555555555555556,
              "#d8576b"
             ],
             [
              0.6666666666666666,
              "#ed7953"
             ],
             [
              0.7777777777777778,
              "#fb9f3a"
             ],
             [
              0.8888888888888888,
              "#fdca26"
             ],
             [
              1,
              "#f0f921"
             ]
            ],
            "type": "surface"
           }
          ],
          "table": [
           {
            "cells": {
             "fill": {
              "color": "#EBF0F8"
             },
             "line": {
              "color": "white"
             }
            },
            "header": {
             "fill": {
              "color": "#C8D4E3"
             },
             "line": {
              "color": "white"
             }
            },
            "type": "table"
           }
          ]
         },
         "layout": {
          "annotationdefaults": {
           "arrowcolor": "#2a3f5f",
           "arrowhead": 0,
           "arrowwidth": 1
          },
          "autotypenumbers": "strict",
          "coloraxis": {
           "colorbar": {
            "outlinewidth": 0,
            "ticks": ""
           }
          },
          "colorscale": {
           "diverging": [
            [
             0,
             "#8e0152"
            ],
            [
             0.1,
             "#c51b7d"
            ],
            [
             0.2,
             "#de77ae"
            ],
            [
             0.3,
             "#f1b6da"
            ],
            [
             0.4,
             "#fde0ef"
            ],
            [
             0.5,
             "#f7f7f7"
            ],
            [
             0.6,
             "#e6f5d0"
            ],
            [
             0.7,
             "#b8e186"
            ],
            [
             0.8,
             "#7fbc41"
            ],
            [
             0.9,
             "#4d9221"
            ],
            [
             1,
             "#276419"
            ]
           ],
           "sequential": [
            [
             0,
             "#0d0887"
            ],
            [
             0.1111111111111111,
             "#46039f"
            ],
            [
             0.2222222222222222,
             "#7201a8"
            ],
            [
             0.3333333333333333,
             "#9c179e"
            ],
            [
             0.4444444444444444,
             "#bd3786"
            ],
            [
             0.5555555555555556,
             "#d8576b"
            ],
            [
             0.6666666666666666,
             "#ed7953"
            ],
            [
             0.7777777777777778,
             "#fb9f3a"
            ],
            [
             0.8888888888888888,
             "#fdca26"
            ],
            [
             1,
             "#f0f921"
            ]
           ],
           "sequentialminus": [
            [
             0,
             "#0d0887"
            ],
            [
             0.1111111111111111,
             "#46039f"
            ],
            [
             0.2222222222222222,
             "#7201a8"
            ],
            [
             0.3333333333333333,
             "#9c179e"
            ],
            [
             0.4444444444444444,
             "#bd3786"
            ],
            [
             0.5555555555555556,
             "#d8576b"
            ],
            [
             0.6666666666666666,
             "#ed7953"
            ],
            [
             0.7777777777777778,
             "#fb9f3a"
            ],
            [
             0.8888888888888888,
             "#fdca26"
            ],
            [
             1,
             "#f0f921"
            ]
           ]
          },
          "colorway": [
           "#636efa",
           "#EF553B",
           "#00cc96",
           "#ab63fa",
           "#FFA15A",
           "#19d3f3",
           "#FF6692",
           "#B6E880",
           "#FF97FF",
           "#FECB52"
          ],
          "font": {
           "color": "#2a3f5f"
          },
          "geo": {
           "bgcolor": "white",
           "lakecolor": "white",
           "landcolor": "#E5ECF6",
           "showlakes": true,
           "showland": true,
           "subunitcolor": "white"
          },
          "hoverlabel": {
           "align": "left"
          },
          "hovermode": "closest",
          "mapbox": {
           "style": "light"
          },
          "paper_bgcolor": "white",
          "plot_bgcolor": "#E5ECF6",
          "polar": {
           "angularaxis": {
            "gridcolor": "white",
            "linecolor": "white",
            "ticks": ""
           },
           "bgcolor": "#E5ECF6",
           "radialaxis": {
            "gridcolor": "white",
            "linecolor": "white",
            "ticks": ""
           }
          },
          "scene": {
           "xaxis": {
            "backgroundcolor": "#E5ECF6",
            "gridcolor": "white",
            "gridwidth": 2,
            "linecolor": "white",
            "showbackground": true,
            "ticks": "",
            "zerolinecolor": "white"
           },
           "yaxis": {
            "backgroundcolor": "#E5ECF6",
            "gridcolor": "white",
            "gridwidth": 2,
            "linecolor": "white",
            "showbackground": true,
            "ticks": "",
            "zerolinecolor": "white"
           },
           "zaxis": {
            "backgroundcolor": "#E5ECF6",
            "gridcolor": "white",
            "gridwidth": 2,
            "linecolor": "white",
            "showbackground": true,
            "ticks": "",
            "zerolinecolor": "white"
           }
          },
          "shapedefaults": {
           "line": {
            "color": "#2a3f5f"
           }
          },
          "ternary": {
           "aaxis": {
            "gridcolor": "white",
            "linecolor": "white",
            "ticks": ""
           },
           "baxis": {
            "gridcolor": "white",
            "linecolor": "white",
            "ticks": ""
           },
           "bgcolor": "#E5ECF6",
           "caxis": {
            "gridcolor": "white",
            "linecolor": "white",
            "ticks": ""
           }
          },
          "title": {
           "x": 0.05
          },
          "xaxis": {
           "automargin": true,
           "gridcolor": "white",
           "linecolor": "white",
           "ticks": "",
           "title": {
            "standoff": 15
           },
           "zerolinecolor": "white",
           "zerolinewidth": 2
          },
          "yaxis": {
           "automargin": true,
           "gridcolor": "white",
           "linecolor": "white",
           "ticks": "",
           "title": {
            "standoff": 15
           },
           "zerolinecolor": "white",
           "zerolinewidth": 2
          }
         }
        },
        "title": {
         "font": {
          "color": "white",
          "size": 24
         },
         "text": "7-Day Stock Price Forecast",
         "x": 0.5
        },
        "xaxis": {
         "color": "white",
         "gridcolor": "gray",
         "showgrid": false,
         "tickformat": "%b %d",
         "title": {
          "text": "Date"
         }
        },
        "yaxis": {
         "color": "white",
         "gridcolor": "gray",
         "showgrid": false,
         "title": {
          "text": "Stock Price"
         }
        }
       }
      }
     },
     "metadata": {},
     "output_type": "display_data"
    }
   ],
   "source": [
    "import plotly.graph_objects as go\n",
    "import pandas as pd\n",
    "\n",
    "# Historical Data\n",
    "historical_data = pd.DataFrame({\n",
    "    'Date': dates,  # Use fixed datetime dates\n",
    "    'Price': df['Close']  # Historical prices\n",
    "})\n",
    "historical_data = historical_data.iloc[-7:]\n",
    "\n",
    "# Forecast Data\n",
    "forecast_data = pd.DataFrame({\n",
    "    'Date': forecast_dates_7,  # Generated future dates\n",
    "    'Price': forecasted_prices_original_7  # Forecasted prices\n",
    "})\n",
    "\n",
    "# Combine data and plot\n",
    "visualization_df = pd.concat([historical_data, forecast_data])\n",
    "\n",
    "# Plot customization\n",
    "fig = go.Figure()\n",
    "\n",
    "# Add historical data trace\n",
    "fig.add_trace(go.Scatter(\n",
    "    x=historical_data['Date'],\n",
    "    y=historical_data['Price'],\n",
    "    mode='lines',\n",
    "    name='Historical Prices',\n",
    "    line=dict(color='cyan', width=2),\n",
    "    hoverlabel=dict(bgcolor=\"black\", font_color=\"white\")\n",
    "))\n",
    "\n",
    "# Add forecasted data trace\n",
    "fig.add_trace(go.Scatter(\n",
    "    x=forecast_data['Date'],\n",
    "    y=forecast_data['Price'],\n",
    "    mode='lines',\n",
    "    name='Forecasted Prices',\n",
    "    line=dict(color='magenta', width=2, dash='dash'),\n",
    "    hoverlabel=dict(bgcolor=\"black\", font_color=\"white\")\n",
    "))\n",
    "\n",
    "# Update layout for dark theme and vibrant colors\n",
    "fig.update_layout(\n",
    "    title=dict(\n",
    "        text='7-Day Stock Price Forecast',\n",
    "        font=dict(size=24, color='white'),\n",
    "        x=0.5\n",
    "    ),\n",
    "    xaxis=dict(\n",
    "        title='Date',\n",
    "        showgrid=False,\n",
    "        gridcolor='gray',\n",
    "        color='white',\n",
    "        tickformat='%b %d'\n",
    "    ),\n",
    "    yaxis=dict(\n",
    "        title='Stock Price',\n",
    "        showgrid=False,\n",
    "        gridcolor='gray',\n",
    "        color='white'\n",
    "    ),\n",
    "    paper_bgcolor='black',  # Dark background\n",
    "    plot_bgcolor='black',\n",
    "    legend=dict(\n",
    "        font=dict(size=12, color='white'),\n",
    "        bgcolor='rgba(0,0,0,0.5)'\n",
    "    )\n",
    ")\n",
    "\n",
    "# Show the plot\n",
    "fig.show()\n"
   ]
  },
  {
   "cell_type": "code",
   "execution_count": 114,
   "metadata": {},
   "outputs": [
    {
     "data": {
      "application/vnd.plotly.v1+json": {
       "config": {
        "plotlyServerURL": "https://plot.ly"
       },
       "data": [
        {
         "hoverlabel": {
          "bgcolor": "black",
          "font": {
           "color": "white"
          }
         },
         "line": {
          "color": "cyan",
          "width": 2
         },
         "mode": "lines",
         "name": "Historical Prices",
         "type": "scatter",
         "x": [
          "2024-10-24T00:00:00+00:00",
          "2024-10-25T00:00:00+00:00",
          "2024-10-28T00:00:00+00:00",
          "2024-10-29T00:00:00+00:00",
          "2024-10-30T00:00:00+00:00",
          "2024-10-31T00:00:00+00:00",
          "2024-11-01T00:00:00+00:00",
          "2024-11-04T00:00:00+00:00",
          "2024-11-05T00:00:00+00:00",
          "2024-11-06T00:00:00+00:00",
          "2024-11-07T00:00:00+00:00",
          "2024-11-08T00:00:00+00:00",
          "2024-11-11T00:00:00+00:00",
          "2024-11-12T00:00:00+00:00",
          "2024-11-13T00:00:00+00:00",
          "2024-11-14T00:00:00+00:00",
          "2024-11-18T00:00:00+00:00",
          "2024-11-19T00:00:00+00:00",
          "2024-11-21T00:00:00+00:00",
          "2024-11-22T00:00:00+00:00",
          "2024-11-25T00:00:00+00:00",
          "2024-11-26T00:00:00+00:00",
          "2024-11-27T00:00:00+00:00",
          "2024-11-28T00:00:00+00:00",
          "2024-11-29T00:00:00+00:00",
          "2024-12-02T00:00:00+00:00",
          "2024-12-03T00:00:00+00:00",
          "2024-12-04T00:00:00+00:00",
          "2024-12-05T00:00:00+00:00",
          "2024-12-06T00:00:00+00:00"
         ],
         "y": [
          1848.9000244140625,
          1860.4000244140625,
          1902.9000244140625,
          1871.5999755859373,
          1852.0999755859373,
          1848.9000244140625,
          1858.4000244140625,
          1808.9000244140625,
          1803.5999755859373,
          1827.449951171875,
          1790.949951171875,
          1809.5999755859373,
          1794.5999755859375,
          1800.8499755859375,
          1779,
          1768.199951171875,
          1747.75,
          1777.25,
          1780,
          1795.300048828125,
          1798.9000244140625,
          1761.5999755859375,
          1749.449951171875,
          1734.25,
          1780.9000244140625,
          1808.550048828125,
          1800.050048828125,
          1800.199951171875,
          1813.449951171875,
          1804.8499755859373
         ]
        },
        {
         "hoverlabel": {
          "bgcolor": "black",
          "font": {
           "color": "white"
          }
         },
         "line": {
          "color": "magenta",
          "dash": "dash",
          "width": 2
         },
         "mode": "lines",
         "name": "Forecasted Prices",
         "type": "scatter",
         "x": [
          "2024-12-07T00:00:00+00:00",
          "2024-12-08T00:00:00+00:00",
          "2024-12-09T00:00:00+00:00",
          "2024-12-10T00:00:00+00:00",
          "2024-12-11T00:00:00+00:00",
          "2024-12-12T00:00:00+00:00",
          "2024-12-13T00:00:00+00:00",
          "2024-12-14T00:00:00+00:00",
          "2024-12-15T00:00:00+00:00",
          "2024-12-16T00:00:00+00:00",
          "2024-12-17T00:00:00+00:00",
          "2024-12-18T00:00:00+00:00",
          "2024-12-19T00:00:00+00:00",
          "2024-12-20T00:00:00+00:00",
          "2024-12-21T00:00:00+00:00",
          "2024-12-22T00:00:00+00:00",
          "2024-12-23T00:00:00+00:00",
          "2024-12-24T00:00:00+00:00",
          "2024-12-25T00:00:00+00:00",
          "2024-12-26T00:00:00+00:00",
          "2024-12-27T00:00:00+00:00",
          "2024-12-28T00:00:00+00:00",
          "2024-12-29T00:00:00+00:00",
          "2024-12-30T00:00:00+00:00",
          "2024-12-31T00:00:00+00:00",
          "2025-01-01T00:00:00+00:00",
          "2025-01-02T00:00:00+00:00",
          "2025-01-03T00:00:00+00:00",
          "2025-01-04T00:00:00+00:00",
          "2025-01-05T00:00:00+00:00"
         ],
         "y": [
          1797.5061824475415,
          1791.4018366537493,
          1791.4018366537493,
          1791.4018366537493,
          1791.4018366537493,
          1791.4018366537493,
          1791.4018366537493,
          1791.4018366537493,
          1791.4018366537493,
          1791.4018366537493,
          1791.4018366537493,
          1791.4018366537493,
          1791.4018366537493,
          1791.4018366537493,
          1791.4018366537493,
          1791.4018366537493,
          1791.4018366537493,
          1791.4018366537493,
          1791.4018366537493,
          1791.4018366537493,
          1791.4018366537493,
          1791.4018366537493,
          1791.4018366537493,
          1791.4018366537493,
          1791.4018366537493,
          1791.4018366537493,
          1791.4018366537493,
          1791.4018366537493,
          1791.4018366537493,
          1791.4018366537493
         ]
        },
        {
         "marker": {
          "color": [
           "#90EE90",
           "#FFA07A",
           "#87CEEB"
          ]
         },
         "opacity": 0.7,
         "orientation": "h",
         "showlegend": false,
         "type": "bar",
         "x": [
          3.3333333333333335,
          0,
          96.66666666666667
         ],
         "xaxis": "x2",
         "y": [
          "Buy",
          "Sell",
          "Hold"
         ],
         "yaxis": "y2"
        }
       ],
       "layout": {
        "legend": {
         "bgcolor": "rgba(0,0,0,0.5)",
         "font": {
          "color": "white",
          "size": 12
         },
         "x": 0.75,
         "y": 0.95
        },
        "paper_bgcolor": "black",
        "plot_bgcolor": "black",
        "template": {
         "data": {
          "bar": [
           {
            "error_x": {
             "color": "#2a3f5f"
            },
            "error_y": {
             "color": "#2a3f5f"
            },
            "marker": {
             "line": {
              "color": "#E5ECF6",
              "width": 0.5
             },
             "pattern": {
              "fillmode": "overlay",
              "size": 10,
              "solidity": 0.2
             }
            },
            "type": "bar"
           }
          ],
          "barpolar": [
           {
            "marker": {
             "line": {
              "color": "#E5ECF6",
              "width": 0.5
             },
             "pattern": {
              "fillmode": "overlay",
              "size": 10,
              "solidity": 0.2
             }
            },
            "type": "barpolar"
           }
          ],
          "carpet": [
           {
            "aaxis": {
             "endlinecolor": "#2a3f5f",
             "gridcolor": "white",
             "linecolor": "white",
             "minorgridcolor": "white",
             "startlinecolor": "#2a3f5f"
            },
            "baxis": {
             "endlinecolor": "#2a3f5f",
             "gridcolor": "white",
             "linecolor": "white",
             "minorgridcolor": "white",
             "startlinecolor": "#2a3f5f"
            },
            "type": "carpet"
           }
          ],
          "choropleth": [
           {
            "colorbar": {
             "outlinewidth": 0,
             "ticks": ""
            },
            "type": "choropleth"
           }
          ],
          "contour": [
           {
            "colorbar": {
             "outlinewidth": 0,
             "ticks": ""
            },
            "colorscale": [
             [
              0,
              "#0d0887"
             ],
             [
              0.1111111111111111,
              "#46039f"
             ],
             [
              0.2222222222222222,
              "#7201a8"
             ],
             [
              0.3333333333333333,
              "#9c179e"
             ],
             [
              0.4444444444444444,
              "#bd3786"
             ],
             [
              0.5555555555555556,
              "#d8576b"
             ],
             [
              0.6666666666666666,
              "#ed7953"
             ],
             [
              0.7777777777777778,
              "#fb9f3a"
             ],
             [
              0.8888888888888888,
              "#fdca26"
             ],
             [
              1,
              "#f0f921"
             ]
            ],
            "type": "contour"
           }
          ],
          "contourcarpet": [
           {
            "colorbar": {
             "outlinewidth": 0,
             "ticks": ""
            },
            "type": "contourcarpet"
           }
          ],
          "heatmap": [
           {
            "colorbar": {
             "outlinewidth": 0,
             "ticks": ""
            },
            "colorscale": [
             [
              0,
              "#0d0887"
             ],
             [
              0.1111111111111111,
              "#46039f"
             ],
             [
              0.2222222222222222,
              "#7201a8"
             ],
             [
              0.3333333333333333,
              "#9c179e"
             ],
             [
              0.4444444444444444,
              "#bd3786"
             ],
             [
              0.5555555555555556,
              "#d8576b"
             ],
             [
              0.6666666666666666,
              "#ed7953"
             ],
             [
              0.7777777777777778,
              "#fb9f3a"
             ],
             [
              0.8888888888888888,
              "#fdca26"
             ],
             [
              1,
              "#f0f921"
             ]
            ],
            "type": "heatmap"
           }
          ],
          "heatmapgl": [
           {
            "colorbar": {
             "outlinewidth": 0,
             "ticks": ""
            },
            "colorscale": [
             [
              0,
              "#0d0887"
             ],
             [
              0.1111111111111111,
              "#46039f"
             ],
             [
              0.2222222222222222,
              "#7201a8"
             ],
             [
              0.3333333333333333,
              "#9c179e"
             ],
             [
              0.4444444444444444,
              "#bd3786"
             ],
             [
              0.5555555555555556,
              "#d8576b"
             ],
             [
              0.6666666666666666,
              "#ed7953"
             ],
             [
              0.7777777777777778,
              "#fb9f3a"
             ],
             [
              0.8888888888888888,
              "#fdca26"
             ],
             [
              1,
              "#f0f921"
             ]
            ],
            "type": "heatmapgl"
           }
          ],
          "histogram": [
           {
            "marker": {
             "pattern": {
              "fillmode": "overlay",
              "size": 10,
              "solidity": 0.2
             }
            },
            "type": "histogram"
           }
          ],
          "histogram2d": [
           {
            "colorbar": {
             "outlinewidth": 0,
             "ticks": ""
            },
            "colorscale": [
             [
              0,
              "#0d0887"
             ],
             [
              0.1111111111111111,
              "#46039f"
             ],
             [
              0.2222222222222222,
              "#7201a8"
             ],
             [
              0.3333333333333333,
              "#9c179e"
             ],
             [
              0.4444444444444444,
              "#bd3786"
             ],
             [
              0.5555555555555556,
              "#d8576b"
             ],
             [
              0.6666666666666666,
              "#ed7953"
             ],
             [
              0.7777777777777778,
              "#fb9f3a"
             ],
             [
              0.8888888888888888,
              "#fdca26"
             ],
             [
              1,
              "#f0f921"
             ]
            ],
            "type": "histogram2d"
           }
          ],
          "histogram2dcontour": [
           {
            "colorbar": {
             "outlinewidth": 0,
             "ticks": ""
            },
            "colorscale": [
             [
              0,
              "#0d0887"
             ],
             [
              0.1111111111111111,
              "#46039f"
             ],
             [
              0.2222222222222222,
              "#7201a8"
             ],
             [
              0.3333333333333333,
              "#9c179e"
             ],
             [
              0.4444444444444444,
              "#bd3786"
             ],
             [
              0.5555555555555556,
              "#d8576b"
             ],
             [
              0.6666666666666666,
              "#ed7953"
             ],
             [
              0.7777777777777778,
              "#fb9f3a"
             ],
             [
              0.8888888888888888,
              "#fdca26"
             ],
             [
              1,
              "#f0f921"
             ]
            ],
            "type": "histogram2dcontour"
           }
          ],
          "mesh3d": [
           {
            "colorbar": {
             "outlinewidth": 0,
             "ticks": ""
            },
            "type": "mesh3d"
           }
          ],
          "parcoords": [
           {
            "line": {
             "colorbar": {
              "outlinewidth": 0,
              "ticks": ""
             }
            },
            "type": "parcoords"
           }
          ],
          "pie": [
           {
            "automargin": true,
            "type": "pie"
           }
          ],
          "scatter": [
           {
            "fillpattern": {
             "fillmode": "overlay",
             "size": 10,
             "solidity": 0.2
            },
            "type": "scatter"
           }
          ],
          "scatter3d": [
           {
            "line": {
             "colorbar": {
              "outlinewidth": 0,
              "ticks": ""
             }
            },
            "marker": {
             "colorbar": {
              "outlinewidth": 0,
              "ticks": ""
             }
            },
            "type": "scatter3d"
           }
          ],
          "scattercarpet": [
           {
            "marker": {
             "colorbar": {
              "outlinewidth": 0,
              "ticks": ""
             }
            },
            "type": "scattercarpet"
           }
          ],
          "scattergeo": [
           {
            "marker": {
             "colorbar": {
              "outlinewidth": 0,
              "ticks": ""
             }
            },
            "type": "scattergeo"
           }
          ],
          "scattergl": [
           {
            "marker": {
             "colorbar": {
              "outlinewidth": 0,
              "ticks": ""
             }
            },
            "type": "scattergl"
           }
          ],
          "scattermapbox": [
           {
            "marker": {
             "colorbar": {
              "outlinewidth": 0,
              "ticks": ""
             }
            },
            "type": "scattermapbox"
           }
          ],
          "scatterpolar": [
           {
            "marker": {
             "colorbar": {
              "outlinewidth": 0,
              "ticks": ""
             }
            },
            "type": "scatterpolar"
           }
          ],
          "scatterpolargl": [
           {
            "marker": {
             "colorbar": {
              "outlinewidth": 0,
              "ticks": ""
             }
            },
            "type": "scatterpolargl"
           }
          ],
          "scatterternary": [
           {
            "marker": {
             "colorbar": {
              "outlinewidth": 0,
              "ticks": ""
             }
            },
            "type": "scatterternary"
           }
          ],
          "surface": [
           {
            "colorbar": {
             "outlinewidth": 0,
             "ticks": ""
            },
            "colorscale": [
             [
              0,
              "#0d0887"
             ],
             [
              0.1111111111111111,
              "#46039f"
             ],
             [
              0.2222222222222222,
              "#7201a8"
             ],
             [
              0.3333333333333333,
              "#9c179e"
             ],
             [
              0.4444444444444444,
              "#bd3786"
             ],
             [
              0.5555555555555556,
              "#d8576b"
             ],
             [
              0.6666666666666666,
              "#ed7953"
             ],
             [
              0.7777777777777778,
              "#fb9f3a"
             ],
             [
              0.8888888888888888,
              "#fdca26"
             ],
             [
              1,
              "#f0f921"
             ]
            ],
            "type": "surface"
           }
          ],
          "table": [
           {
            "cells": {
             "fill": {
              "color": "#EBF0F8"
             },
             "line": {
              "color": "white"
             }
            },
            "header": {
             "fill": {
              "color": "#C8D4E3"
             },
             "line": {
              "color": "white"
             }
            },
            "type": "table"
           }
          ]
         },
         "layout": {
          "annotationdefaults": {
           "arrowcolor": "#2a3f5f",
           "arrowhead": 0,
           "arrowwidth": 1
          },
          "autotypenumbers": "strict",
          "coloraxis": {
           "colorbar": {
            "outlinewidth": 0,
            "ticks": ""
           }
          },
          "colorscale": {
           "diverging": [
            [
             0,
             "#8e0152"
            ],
            [
             0.1,
             "#c51b7d"
            ],
            [
             0.2,
             "#de77ae"
            ],
            [
             0.3,
             "#f1b6da"
            ],
            [
             0.4,
             "#fde0ef"
            ],
            [
             0.5,
             "#f7f7f7"
            ],
            [
             0.6,
             "#e6f5d0"
            ],
            [
             0.7,
             "#b8e186"
            ],
            [
             0.8,
             "#7fbc41"
            ],
            [
             0.9,
             "#4d9221"
            ],
            [
             1,
             "#276419"
            ]
           ],
           "sequential": [
            [
             0,
             "#0d0887"
            ],
            [
             0.1111111111111111,
             "#46039f"
            ],
            [
             0.2222222222222222,
             "#7201a8"
            ],
            [
             0.3333333333333333,
             "#9c179e"
            ],
            [
             0.4444444444444444,
             "#bd3786"
            ],
            [
             0.5555555555555556,
             "#d8576b"
            ],
            [
             0.6666666666666666,
             "#ed7953"
            ],
            [
             0.7777777777777778,
             "#fb9f3a"
            ],
            [
             0.8888888888888888,
             "#fdca26"
            ],
            [
             1,
             "#f0f921"
            ]
           ],
           "sequentialminus": [
            [
             0,
             "#0d0887"
            ],
            [
             0.1111111111111111,
             "#46039f"
            ],
            [
             0.2222222222222222,
             "#7201a8"
            ],
            [
             0.3333333333333333,
             "#9c179e"
            ],
            [
             0.4444444444444444,
             "#bd3786"
            ],
            [
             0.5555555555555556,
             "#d8576b"
            ],
            [
             0.6666666666666666,
             "#ed7953"
            ],
            [
             0.7777777777777778,
             "#fb9f3a"
            ],
            [
             0.8888888888888888,
             "#fdca26"
            ],
            [
             1,
             "#f0f921"
            ]
           ]
          },
          "colorway": [
           "#636efa",
           "#EF553B",
           "#00cc96",
           "#ab63fa",
           "#FFA15A",
           "#19d3f3",
           "#FF6692",
           "#B6E880",
           "#FF97FF",
           "#FECB52"
          ],
          "font": {
           "color": "#2a3f5f"
          },
          "geo": {
           "bgcolor": "white",
           "lakecolor": "white",
           "landcolor": "#E5ECF6",
           "showlakes": true,
           "showland": true,
           "subunitcolor": "white"
          },
          "hoverlabel": {
           "align": "left"
          },
          "hovermode": "closest",
          "mapbox": {
           "style": "light"
          },
          "paper_bgcolor": "white",
          "plot_bgcolor": "#E5ECF6",
          "polar": {
           "angularaxis": {
            "gridcolor": "white",
            "linecolor": "white",
            "ticks": ""
           },
           "bgcolor": "#E5ECF6",
           "radialaxis": {
            "gridcolor": "white",
            "linecolor": "white",
            "ticks": ""
           }
          },
          "scene": {
           "xaxis": {
            "backgroundcolor": "#E5ECF6",
            "gridcolor": "white",
            "gridwidth": 2,
            "linecolor": "white",
            "showbackground": true,
            "ticks": "",
            "zerolinecolor": "white"
           },
           "yaxis": {
            "backgroundcolor": "#E5ECF6",
            "gridcolor": "white",
            "gridwidth": 2,
            "linecolor": "white",
            "showbackground": true,
            "ticks": "",
            "zerolinecolor": "white"
           },
           "zaxis": {
            "backgroundcolor": "#E5ECF6",
            "gridcolor": "white",
            "gridwidth": 2,
            "linecolor": "white",
            "showbackground": true,
            "ticks": "",
            "zerolinecolor": "white"
           }
          },
          "shapedefaults": {
           "line": {
            "color": "#2a3f5f"
           }
          },
          "ternary": {
           "aaxis": {
            "gridcolor": "white",
            "linecolor": "white",
            "ticks": ""
           },
           "baxis": {
            "gridcolor": "white",
            "linecolor": "white",
            "ticks": ""
           },
           "bgcolor": "#E5ECF6",
           "caxis": {
            "gridcolor": "white",
            "linecolor": "white",
            "ticks": ""
           }
          },
          "title": {
           "x": 0.05
          },
          "xaxis": {
           "automargin": true,
           "gridcolor": "white",
           "linecolor": "white",
           "ticks": "",
           "title": {
            "standoff": 15
           },
           "zerolinecolor": "white",
           "zerolinewidth": 2
          },
          "yaxis": {
           "automargin": true,
           "gridcolor": "white",
           "linecolor": "white",
           "ticks": "",
           "title": {
            "standoff": 15
           },
           "zerolinecolor": "white",
           "zerolinewidth": 2
          }
         }
        },
        "title": {
         "font": {
          "color": "white",
          "size": 24
         },
         "text": "30-Day Stock Price Forecast",
         "x": 0.5
        },
        "xaxis": {
         "color": "white",
         "domain": [
          0,
          0.7
         ],
         "gridcolor": "gray",
         "showgrid": false,
         "tickformat": "%b %d",
         "title": {
          "text": "Date"
         }
        },
        "xaxis2": {
         "anchor": "y2",
         "color": "white",
         "domain": [
          0.75,
          1
         ],
         "showline": false,
         "title": {
          "text": "Proportion (%)"
         }
        },
        "yaxis": {
         "color": "white",
         "gridcolor": "gray",
         "showgrid": false,
         "title": {
          "text": "Stock Price"
         }
        },
        "yaxis2": {
         "anchor": "x2",
         "color": "white",
         "domain": [
          0.3,
          0.7
         ],
         "showline": false
        }
       }
      }
     },
     "metadata": {},
     "output_type": "display_data"
    }
   ],
   "source": [
    "import plotly.graph_objects as go\n",
    "import pandas as pd\n",
    "\n",
    "# Historical Data\n",
    "historical_data = pd.DataFrame({\n",
    "    'Date': dates,  # Use fixed datetime dates\n",
    "    'Price': df['Close']  # Historical prices\n",
    "})\n",
    "historical_data = historical_data.iloc[-30:]\n",
    "\n",
    "# Forecast Data\n",
    "forecast_data = pd.DataFrame({\n",
    "    'Date': forecast_dates,  # Generated future dates\n",
    "    'Price': forecasted_prices_original  # Forecasted prices\n",
    "})\n",
    "\n",
    "# Example proportions for Buy, Sell, Hold\n",
    "historical_prices = historical_data['Price'].values\n",
    "predicted_prices = forecast_data['Price'].values\n",
    "threshold = 0.05  # 2% threshold\n",
    "\n",
    "# Compute buy, sell, hold\n",
    "buy_signals = (predicted_prices > historical_prices * (1 + threshold)).sum()\n",
    "sell_signals = (predicted_prices < historical_prices * (1 - threshold)).sum()\n",
    "hold_signals = len(historical_prices) - buy_signals - sell_signals\n",
    "\n",
    "# Total signals\n",
    "total_signals = buy_signals + sell_signals + hold_signals\n",
    "sell = (buy_signals / total_signals) * 100\n",
    "buy = (sell_signals / total_signals) * 100\n",
    "hold = (hold_signals / total_signals) * 100\n",
    "\n",
    "# buy = 50\n",
    "# sell = 30\n",
    "# hold = 20\n",
    "\n",
    "# Plot customization\n",
    "fig = go.Figure()\n",
    "\n",
    "# Add historical data trace\n",
    "fig.add_trace(go.Scatter(\n",
    "    x=historical_data['Date'],\n",
    "    y=historical_data['Price'],\n",
    "    mode='lines',\n",
    "    name='Historical Prices',\n",
    "    line=dict(color='cyan', width=2),\n",
    "    hoverlabel=dict(bgcolor=\"black\", font_color=\"white\")\n",
    "))\n",
    "\n",
    "# Add forecasted data trace\n",
    "fig.add_trace(go.Scatter(\n",
    "    x=forecast_data['Date'],\n",
    "    y=forecast_data['Price'],\n",
    "    mode='lines',\n",
    "    name='Forecasted Prices',\n",
    "    line=dict(color='magenta', width=2, dash='dash'),\n",
    "    hoverlabel=dict(bgcolor=\"black\", font_color=\"white\")\n",
    "))\n",
    "\n",
    "# Add a horizontal bar chart for Buy, Sell, Hold\n",
    "fig.add_trace(go.Bar(\n",
    "    x=[buy, sell, hold],  # Values\n",
    "    y=['Buy', 'Sell', 'Hold'],  # Categories\n",
    "    orientation='h',  # Horizontal bar chart\n",
    "    marker=dict(color=['#90EE90', '#FFA07A', '#87CEEB']),\n",
    "    opacity=0.7,\n",
    "    xaxis='x2',\n",
    "    yaxis='y2',\n",
    "    showlegend=False\n",
    "))\n",
    "\n",
    "# fig.add_trace(go.Bar(\n",
    "#     x=[buy, sell, hold],  # Values\n",
    "#     y=['Buy', 'Sell', 'Hold'],  # Categories\n",
    "#     orientation='h',  # Horizontal bar chart\n",
    "#     marker=dict(\n",
    "#         color=['#90EE90', '#FFA07A', '#87CEEB'],  # Subtle pastel colors\n",
    "#         line=dict(\n",
    "#             color=['#50C878', '#FF6347', '#4682B4'],  # Slightly darker outlines\n",
    "#             width=2  # Outline thickness for the curvy effect\n",
    "#         ),\n",
    "#         opacity=0.85  # Slight transparency for subtlety\n",
    "#     ),\n",
    "#     width=0.4,  # Slimmer bars for aesthetics\n",
    "#     showlegend=False\n",
    "# ))\n",
    "\n",
    "# Update layout for dark theme and bar chart positioning\n",
    "fig.update_layout(\n",
    "    title=dict(\n",
    "        text='30-Day Stock Price Forecast',\n",
    "        font=dict(size=24, color='white'),\n",
    "        x=0.5\n",
    "    ),\n",
    "    xaxis=dict(\n",
    "        title='Date',\n",
    "        showgrid=False,\n",
    "        gridcolor='gray',\n",
    "        color='white',\n",
    "        tickformat='%b %d',\n",
    "        domain=[0, 0.7]  # Shrink main plot horizontally to free space\n",
    "    ),\n",
    "    yaxis=dict(\n",
    "        title='Stock Price',\n",
    "        showgrid=False,\n",
    "        gridcolor='gray',\n",
    "        color='white'\n",
    "    ),\n",
    "    xaxis2=dict(\n",
    "        domain=[0.75, 1],  # Position bar chart on the right side\n",
    "        anchor='y2',\n",
    "        title='Proportion (%)',\n",
    "        color='white',\n",
    "        showline=False\n",
    "    ),\n",
    "    yaxis2=dict(\n",
    "        domain=[0.3, 0.7],  # Center vertically relative to the main plot\n",
    "        anchor='x2',\n",
    "        color='white',\n",
    "        showline=False\n",
    "    ),\n",
    "    paper_bgcolor='black',  # Dark background\n",
    "    plot_bgcolor='black',\n",
    "    legend=dict(\n",
    "        font=dict(size=12, color='white'),\n",
    "        bgcolor='rgba(0,0,0,0.5)',\n",
    "        x=0.75,  # Position legend near the bar chart\n",
    "        y=0.95\n",
    "    )\n",
    ")\n",
    "\n",
    "# Show the plot\n",
    "fig.show()\n"
   ]
  },
  {
   "cell_type": "code",
   "execution_count": 115,
   "metadata": {},
   "outputs": [
    {
     "data": {
      "application/vnd.plotly.v1+json": {
       "config": {
        "plotlyServerURL": "https://plot.ly"
       },
       "data": [
        {
         "hoverlabel": {
          "bgcolor": "black",
          "font": {
           "color": "white"
          }
         },
         "line": {
          "color": "cyan",
          "width": 2
         },
         "mode": "lines",
         "name": "Historical Prices",
         "type": "scatter",
         "x": [
          "2024-11-28T00:00:00+00:00",
          "2024-11-29T00:00:00+00:00",
          "2024-12-02T00:00:00+00:00",
          "2024-12-03T00:00:00+00:00",
          "2024-12-04T00:00:00+00:00",
          "2024-12-05T00:00:00+00:00",
          "2024-12-06T00:00:00+00:00"
         ],
         "y": [
          1734.25,
          1780.9000244140625,
          1808.550048828125,
          1800.050048828125,
          1800.199951171875,
          1813.449951171875,
          1804.8499755859373
         ]
        },
        {
         "hoverlabel": {
          "bgcolor": "black",
          "font": {
           "color": "white"
          }
         },
         "line": {
          "color": "magenta",
          "dash": "dash",
          "width": 2
         },
         "mode": "lines",
         "name": "Forecasted Prices",
         "type": "scatter",
         "x": [
          "2024-12-07T00:00:00+00:00",
          "2024-12-08T00:00:00+00:00",
          "2024-12-09T00:00:00+00:00",
          "2024-12-10T00:00:00+00:00",
          "2024-12-11T00:00:00+00:00",
          "2024-12-12T00:00:00+00:00",
          "2024-12-13T00:00:00+00:00"
         ],
         "y": [
          1797.5061824475415,
          1791.4018366537493,
          1791.4018366537493,
          1791.4018366537493,
          1791.4018366537493,
          1791.4018366537493,
          1791.4018366537493
         ]
        },
        {
         "marker": {
          "color": [
           "#90EE90",
           "#FFA07A",
           "#87CEEB"
          ]
         },
         "opacity": 0.7,
         "orientation": "h",
         "showlegend": false,
         "type": "bar",
         "x": [
          0,
          0,
          100
         ],
         "xaxis": "x2",
         "y": [
          "Buy",
          "Sell",
          "Hold"
         ],
         "yaxis": "y2"
        }
       ],
       "layout": {
        "legend": {
         "bgcolor": "rgba(0,0,0,0.5)",
         "font": {
          "color": "white",
          "size": 12
         },
         "x": 0.75,
         "y": 0.95
        },
        "paper_bgcolor": "black",
        "plot_bgcolor": "black",
        "template": {
         "data": {
          "bar": [
           {
            "error_x": {
             "color": "#2a3f5f"
            },
            "error_y": {
             "color": "#2a3f5f"
            },
            "marker": {
             "line": {
              "color": "#E5ECF6",
              "width": 0.5
             },
             "pattern": {
              "fillmode": "overlay",
              "size": 10,
              "solidity": 0.2
             }
            },
            "type": "bar"
           }
          ],
          "barpolar": [
           {
            "marker": {
             "line": {
              "color": "#E5ECF6",
              "width": 0.5
             },
             "pattern": {
              "fillmode": "overlay",
              "size": 10,
              "solidity": 0.2
             }
            },
            "type": "barpolar"
           }
          ],
          "carpet": [
           {
            "aaxis": {
             "endlinecolor": "#2a3f5f",
             "gridcolor": "white",
             "linecolor": "white",
             "minorgridcolor": "white",
             "startlinecolor": "#2a3f5f"
            },
            "baxis": {
             "endlinecolor": "#2a3f5f",
             "gridcolor": "white",
             "linecolor": "white",
             "minorgridcolor": "white",
             "startlinecolor": "#2a3f5f"
            },
            "type": "carpet"
           }
          ],
          "choropleth": [
           {
            "colorbar": {
             "outlinewidth": 0,
             "ticks": ""
            },
            "type": "choropleth"
           }
          ],
          "contour": [
           {
            "colorbar": {
             "outlinewidth": 0,
             "ticks": ""
            },
            "colorscale": [
             [
              0,
              "#0d0887"
             ],
             [
              0.1111111111111111,
              "#46039f"
             ],
             [
              0.2222222222222222,
              "#7201a8"
             ],
             [
              0.3333333333333333,
              "#9c179e"
             ],
             [
              0.4444444444444444,
              "#bd3786"
             ],
             [
              0.5555555555555556,
              "#d8576b"
             ],
             [
              0.6666666666666666,
              "#ed7953"
             ],
             [
              0.7777777777777778,
              "#fb9f3a"
             ],
             [
              0.8888888888888888,
              "#fdca26"
             ],
             [
              1,
              "#f0f921"
             ]
            ],
            "type": "contour"
           }
          ],
          "contourcarpet": [
           {
            "colorbar": {
             "outlinewidth": 0,
             "ticks": ""
            },
            "type": "contourcarpet"
           }
          ],
          "heatmap": [
           {
            "colorbar": {
             "outlinewidth": 0,
             "ticks": ""
            },
            "colorscale": [
             [
              0,
              "#0d0887"
             ],
             [
              0.1111111111111111,
              "#46039f"
             ],
             [
              0.2222222222222222,
              "#7201a8"
             ],
             [
              0.3333333333333333,
              "#9c179e"
             ],
             [
              0.4444444444444444,
              "#bd3786"
             ],
             [
              0.5555555555555556,
              "#d8576b"
             ],
             [
              0.6666666666666666,
              "#ed7953"
             ],
             [
              0.7777777777777778,
              "#fb9f3a"
             ],
             [
              0.8888888888888888,
              "#fdca26"
             ],
             [
              1,
              "#f0f921"
             ]
            ],
            "type": "heatmap"
           }
          ],
          "heatmapgl": [
           {
            "colorbar": {
             "outlinewidth": 0,
             "ticks": ""
            },
            "colorscale": [
             [
              0,
              "#0d0887"
             ],
             [
              0.1111111111111111,
              "#46039f"
             ],
             [
              0.2222222222222222,
              "#7201a8"
             ],
             [
              0.3333333333333333,
              "#9c179e"
             ],
             [
              0.4444444444444444,
              "#bd3786"
             ],
             [
              0.5555555555555556,
              "#d8576b"
             ],
             [
              0.6666666666666666,
              "#ed7953"
             ],
             [
              0.7777777777777778,
              "#fb9f3a"
             ],
             [
              0.8888888888888888,
              "#fdca26"
             ],
             [
              1,
              "#f0f921"
             ]
            ],
            "type": "heatmapgl"
           }
          ],
          "histogram": [
           {
            "marker": {
             "pattern": {
              "fillmode": "overlay",
              "size": 10,
              "solidity": 0.2
             }
            },
            "type": "histogram"
           }
          ],
          "histogram2d": [
           {
            "colorbar": {
             "outlinewidth": 0,
             "ticks": ""
            },
            "colorscale": [
             [
              0,
              "#0d0887"
             ],
             [
              0.1111111111111111,
              "#46039f"
             ],
             [
              0.2222222222222222,
              "#7201a8"
             ],
             [
              0.3333333333333333,
              "#9c179e"
             ],
             [
              0.4444444444444444,
              "#bd3786"
             ],
             [
              0.5555555555555556,
              "#d8576b"
             ],
             [
              0.6666666666666666,
              "#ed7953"
             ],
             [
              0.7777777777777778,
              "#fb9f3a"
             ],
             [
              0.8888888888888888,
              "#fdca26"
             ],
             [
              1,
              "#f0f921"
             ]
            ],
            "type": "histogram2d"
           }
          ],
          "histogram2dcontour": [
           {
            "colorbar": {
             "outlinewidth": 0,
             "ticks": ""
            },
            "colorscale": [
             [
              0,
              "#0d0887"
             ],
             [
              0.1111111111111111,
              "#46039f"
             ],
             [
              0.2222222222222222,
              "#7201a8"
             ],
             [
              0.3333333333333333,
              "#9c179e"
             ],
             [
              0.4444444444444444,
              "#bd3786"
             ],
             [
              0.5555555555555556,
              "#d8576b"
             ],
             [
              0.6666666666666666,
              "#ed7953"
             ],
             [
              0.7777777777777778,
              "#fb9f3a"
             ],
             [
              0.8888888888888888,
              "#fdca26"
             ],
             [
              1,
              "#f0f921"
             ]
            ],
            "type": "histogram2dcontour"
           }
          ],
          "mesh3d": [
           {
            "colorbar": {
             "outlinewidth": 0,
             "ticks": ""
            },
            "type": "mesh3d"
           }
          ],
          "parcoords": [
           {
            "line": {
             "colorbar": {
              "outlinewidth": 0,
              "ticks": ""
             }
            },
            "type": "parcoords"
           }
          ],
          "pie": [
           {
            "automargin": true,
            "type": "pie"
           }
          ],
          "scatter": [
           {
            "fillpattern": {
             "fillmode": "overlay",
             "size": 10,
             "solidity": 0.2
            },
            "type": "scatter"
           }
          ],
          "scatter3d": [
           {
            "line": {
             "colorbar": {
              "outlinewidth": 0,
              "ticks": ""
             }
            },
            "marker": {
             "colorbar": {
              "outlinewidth": 0,
              "ticks": ""
             }
            },
            "type": "scatter3d"
           }
          ],
          "scattercarpet": [
           {
            "marker": {
             "colorbar": {
              "outlinewidth": 0,
              "ticks": ""
             }
            },
            "type": "scattercarpet"
           }
          ],
          "scattergeo": [
           {
            "marker": {
             "colorbar": {
              "outlinewidth": 0,
              "ticks": ""
             }
            },
            "type": "scattergeo"
           }
          ],
          "scattergl": [
           {
            "marker": {
             "colorbar": {
              "outlinewidth": 0,
              "ticks": ""
             }
            },
            "type": "scattergl"
           }
          ],
          "scattermapbox": [
           {
            "marker": {
             "colorbar": {
              "outlinewidth": 0,
              "ticks": ""
             }
            },
            "type": "scattermapbox"
           }
          ],
          "scatterpolar": [
           {
            "marker": {
             "colorbar": {
              "outlinewidth": 0,
              "ticks": ""
             }
            },
            "type": "scatterpolar"
           }
          ],
          "scatterpolargl": [
           {
            "marker": {
             "colorbar": {
              "outlinewidth": 0,
              "ticks": ""
             }
            },
            "type": "scatterpolargl"
           }
          ],
          "scatterternary": [
           {
            "marker": {
             "colorbar": {
              "outlinewidth": 0,
              "ticks": ""
             }
            },
            "type": "scatterternary"
           }
          ],
          "surface": [
           {
            "colorbar": {
             "outlinewidth": 0,
             "ticks": ""
            },
            "colorscale": [
             [
              0,
              "#0d0887"
             ],
             [
              0.1111111111111111,
              "#46039f"
             ],
             [
              0.2222222222222222,
              "#7201a8"
             ],
             [
              0.3333333333333333,
              "#9c179e"
             ],
             [
              0.4444444444444444,
              "#bd3786"
             ],
             [
              0.5555555555555556,
              "#d8576b"
             ],
             [
              0.6666666666666666,
              "#ed7953"
             ],
             [
              0.7777777777777778,
              "#fb9f3a"
             ],
             [
              0.8888888888888888,
              "#fdca26"
             ],
             [
              1,
              "#f0f921"
             ]
            ],
            "type": "surface"
           }
          ],
          "table": [
           {
            "cells": {
             "fill": {
              "color": "#EBF0F8"
             },
             "line": {
              "color": "white"
             }
            },
            "header": {
             "fill": {
              "color": "#C8D4E3"
             },
             "line": {
              "color": "white"
             }
            },
            "type": "table"
           }
          ]
         },
         "layout": {
          "annotationdefaults": {
           "arrowcolor": "#2a3f5f",
           "arrowhead": 0,
           "arrowwidth": 1
          },
          "autotypenumbers": "strict",
          "coloraxis": {
           "colorbar": {
            "outlinewidth": 0,
            "ticks": ""
           }
          },
          "colorscale": {
           "diverging": [
            [
             0,
             "#8e0152"
            ],
            [
             0.1,
             "#c51b7d"
            ],
            [
             0.2,
             "#de77ae"
            ],
            [
             0.3,
             "#f1b6da"
            ],
            [
             0.4,
             "#fde0ef"
            ],
            [
             0.5,
             "#f7f7f7"
            ],
            [
             0.6,
             "#e6f5d0"
            ],
            [
             0.7,
             "#b8e186"
            ],
            [
             0.8,
             "#7fbc41"
            ],
            [
             0.9,
             "#4d9221"
            ],
            [
             1,
             "#276419"
            ]
           ],
           "sequential": [
            [
             0,
             "#0d0887"
            ],
            [
             0.1111111111111111,
             "#46039f"
            ],
            [
             0.2222222222222222,
             "#7201a8"
            ],
            [
             0.3333333333333333,
             "#9c179e"
            ],
            [
             0.4444444444444444,
             "#bd3786"
            ],
            [
             0.5555555555555556,
             "#d8576b"
            ],
            [
             0.6666666666666666,
             "#ed7953"
            ],
            [
             0.7777777777777778,
             "#fb9f3a"
            ],
            [
             0.8888888888888888,
             "#fdca26"
            ],
            [
             1,
             "#f0f921"
            ]
           ],
           "sequentialminus": [
            [
             0,
             "#0d0887"
            ],
            [
             0.1111111111111111,
             "#46039f"
            ],
            [
             0.2222222222222222,
             "#7201a8"
            ],
            [
             0.3333333333333333,
             "#9c179e"
            ],
            [
             0.4444444444444444,
             "#bd3786"
            ],
            [
             0.5555555555555556,
             "#d8576b"
            ],
            [
             0.6666666666666666,
             "#ed7953"
            ],
            [
             0.7777777777777778,
             "#fb9f3a"
            ],
            [
             0.8888888888888888,
             "#fdca26"
            ],
            [
             1,
             "#f0f921"
            ]
           ]
          },
          "colorway": [
           "#636efa",
           "#EF553B",
           "#00cc96",
           "#ab63fa",
           "#FFA15A",
           "#19d3f3",
           "#FF6692",
           "#B6E880",
           "#FF97FF",
           "#FECB52"
          ],
          "font": {
           "color": "#2a3f5f"
          },
          "geo": {
           "bgcolor": "white",
           "lakecolor": "white",
           "landcolor": "#E5ECF6",
           "showlakes": true,
           "showland": true,
           "subunitcolor": "white"
          },
          "hoverlabel": {
           "align": "left"
          },
          "hovermode": "closest",
          "mapbox": {
           "style": "light"
          },
          "paper_bgcolor": "white",
          "plot_bgcolor": "#E5ECF6",
          "polar": {
           "angularaxis": {
            "gridcolor": "white",
            "linecolor": "white",
            "ticks": ""
           },
           "bgcolor": "#E5ECF6",
           "radialaxis": {
            "gridcolor": "white",
            "linecolor": "white",
            "ticks": ""
           }
          },
          "scene": {
           "xaxis": {
            "backgroundcolor": "#E5ECF6",
            "gridcolor": "white",
            "gridwidth": 2,
            "linecolor": "white",
            "showbackground": true,
            "ticks": "",
            "zerolinecolor": "white"
           },
           "yaxis": {
            "backgroundcolor": "#E5ECF6",
            "gridcolor": "white",
            "gridwidth": 2,
            "linecolor": "white",
            "showbackground": true,
            "ticks": "",
            "zerolinecolor": "white"
           },
           "zaxis": {
            "backgroundcolor": "#E5ECF6",
            "gridcolor": "white",
            "gridwidth": 2,
            "linecolor": "white",
            "showbackground": true,
            "ticks": "",
            "zerolinecolor": "white"
           }
          },
          "shapedefaults": {
           "line": {
            "color": "#2a3f5f"
           }
          },
          "ternary": {
           "aaxis": {
            "gridcolor": "white",
            "linecolor": "white",
            "ticks": ""
           },
           "baxis": {
            "gridcolor": "white",
            "linecolor": "white",
            "ticks": ""
           },
           "bgcolor": "#E5ECF6",
           "caxis": {
            "gridcolor": "white",
            "linecolor": "white",
            "ticks": ""
           }
          },
          "title": {
           "x": 0.05
          },
          "xaxis": {
           "automargin": true,
           "gridcolor": "white",
           "linecolor": "white",
           "ticks": "",
           "title": {
            "standoff": 15
           },
           "zerolinecolor": "white",
           "zerolinewidth": 2
          },
          "yaxis": {
           "automargin": true,
           "gridcolor": "white",
           "linecolor": "white",
           "ticks": "",
           "title": {
            "standoff": 15
           },
           "zerolinecolor": "white",
           "zerolinewidth": 2
          }
         }
        },
        "title": {
         "font": {
          "color": "white",
          "size": 24
         },
         "text": "7-Day Stock Price Forecast",
         "x": 0.5
        },
        "xaxis": {
         "color": "white",
         "domain": [
          0,
          0.7
         ],
         "gridcolor": "gray",
         "showgrid": false,
         "tickformat": "%b %d",
         "title": {
          "text": "Date"
         }
        },
        "xaxis2": {
         "anchor": "y2",
         "color": "white",
         "domain": [
          0.75,
          1
         ],
         "showline": false,
         "title": {
          "text": "Proportion (%)"
         }
        },
        "yaxis": {
         "color": "white",
         "gridcolor": "gray",
         "showgrid": false,
         "title": {
          "text": "Stock Price"
         }
        },
        "yaxis2": {
         "anchor": "x2",
         "color": "white",
         "domain": [
          0.3,
          0.7
         ],
         "showline": false
        }
       }
      }
     },
     "metadata": {},
     "output_type": "display_data"
    }
   ],
   "source": [
    "import plotly.graph_objects as go\n",
    "import pandas as pd\n",
    "\n",
    "# Historical Data\n",
    "historical_data = pd.DataFrame({\n",
    "    'Date': dates,  # Use fixed datetime dates\n",
    "    'Price': df['Close']  # Historical prices\n",
    "})\n",
    "historical_data = historical_data.iloc[-7:]\n",
    "\n",
    "# Forecast Data\n",
    "forecast_data = pd.DataFrame({\n",
    "    'Date': forecast_dates_7,  # Generated future dates\n",
    "    'Price': forecasted_prices_original_7  # Forecasted prices\n",
    "})\n",
    "\n",
    "# Example proportions for Buy, Sell, Hold\n",
    "historical_prices = historical_data['Price'].values\n",
    "predicted_prices = forecast_data['Price'].values\n",
    "threshold = 0.05  # 2% threshold\n",
    "\n",
    "# Compute buy, sell, hold\n",
    "buy_signals = (predicted_prices > historical_prices * (1 + threshold)).sum()\n",
    "sell_signals = (predicted_prices < historical_prices * (1 - threshold)).sum()\n",
    "hold_signals = len(historical_prices) - buy_signals - sell_signals\n",
    "\n",
    "# Total signals\n",
    "total_signals = buy_signals + sell_signals + hold_signals\n",
    "sell = (buy_signals / total_signals) * 100\n",
    "buy = (sell_signals / total_signals) * 100\n",
    "hold = (hold_signals / total_signals) * 100\n",
    "\n",
    "# buy = 50\n",
    "# sell = 30\n",
    "# hold = 20\n",
    "\n",
    "# Plot customization\n",
    "fig_1 = go.Figure()\n",
    "\n",
    "# Add historical data trace\n",
    "fig_1.add_trace(go.Scatter(\n",
    "    x=historical_data['Date'],\n",
    "    y=historical_data['Price'],\n",
    "    mode='lines',\n",
    "    name='Historical Prices',\n",
    "    line=dict(color='cyan', width=2),\n",
    "    hoverlabel=dict(bgcolor=\"black\", font_color=\"white\")\n",
    "))\n",
    "\n",
    "# Add forecasted data trace\n",
    "fig_1.add_trace(go.Scatter(\n",
    "    x=forecast_data['Date'],\n",
    "    y=forecast_data['Price'],\n",
    "    mode='lines',\n",
    "    name='Forecasted Prices',\n",
    "    line=dict(color='magenta', width=2, dash='dash'),\n",
    "    hoverlabel=dict(bgcolor=\"black\", font_color=\"white\")\n",
    "))\n",
    "\n",
    "# Add a horizontal bar chart for Buy, Sell, Hold\n",
    "fig_1.add_trace(go.Bar(\n",
    "    x=[buy, sell, hold],  # Values\n",
    "    y=['Buy', 'Sell', 'Hold'],  # Categories\n",
    "    orientation='h',  # Horizontal bar chart\n",
    "    marker=dict(color=['#90EE90', '#FFA07A', '#87CEEB']),\n",
    "    opacity=0.7,\n",
    "    xaxis='x2',\n",
    "    yaxis='y2',\n",
    "    showlegend=False\n",
    "))\n",
    "\n",
    "# fig_1.add_trace(go.Bar(\n",
    "#     x=[buy, sell, hold],  # Values\n",
    "#     y=['Buy', 'Sell', 'Hold'],  # Categories\n",
    "#     orientation='h',  # Horizontal bar chart\n",
    "#     marker=dict(\n",
    "#         color=['#90EE90', '#FFA07A', '#87CEEB'],  # Subtle pastel colors\n",
    "#         line=dict(\n",
    "#             color=['#50C878', '#FF6347', '#4682B4'],  # Slightly darker outlines\n",
    "#             width=2  # Outline thickness for the curvy effect\n",
    "#         ),\n",
    "#         opacity=0.85  # Slight transparency for subtlety\n",
    "#     ),\n",
    "#     width=0.4,  # Slimmer bars for aesthetics\n",
    "#     showlegend=False\n",
    "# ))\n",
    "\n",
    "# Update layout for dark theme and bar chart positioning\n",
    "fig_1.update_layout(\n",
    "    title=dict(\n",
    "        text='7-Day Stock Price Forecast',\n",
    "        font=dict(size=24, color='white'),\n",
    "        x=0.5\n",
    "    ),\n",
    "    xaxis=dict(\n",
    "        title='Date',\n",
    "        showgrid=False,\n",
    "        gridcolor='gray',\n",
    "        color='white',\n",
    "        tickformat='%b %d',\n",
    "        domain=[0, 0.7]  # Shrink main plot horizontally to free space\n",
    "    ),\n",
    "    yaxis=dict(\n",
    "        title='Stock Price',\n",
    "        showgrid=False,\n",
    "        gridcolor='gray',\n",
    "        color='white'\n",
    "    ),\n",
    "    xaxis2=dict(\n",
    "        domain=[0.75, 1],  # Position bar chart on the right side\n",
    "        anchor='y2',\n",
    "        title='Proportion (%)',\n",
    "        color='white',\n",
    "        showline=False\n",
    "    ),\n",
    "    yaxis2=dict(\n",
    "        domain=[0.3, 0.7],  # Center vertically relative to the main plot\n",
    "        anchor='x2',\n",
    "        color='white',\n",
    "        showline=False\n",
    "    ),\n",
    "    paper_bgcolor='black',  # Dark background\n",
    "    plot_bgcolor='black',\n",
    "    legend=dict(\n",
    "        font=dict(size=12, color='white'),\n",
    "        bgcolor='rgba(0,0,0,0.5)',\n",
    "        x=0.75,  # Position legend near the bar chart\n",
    "        y=0.95\n",
    "    )\n",
    ")\n",
    "\n",
    "# Show the plot\n",
    "fig_1.show()\n"
   ]
  },
  {
   "cell_type": "code",
   "execution_count": 116,
   "metadata": {},
   "outputs": [
    {
     "name": "stdout",
     "output_type": "stream",
     "text": [
      "                                 Price         Nifty       S&P 500\n",
      "Date                                                              \n",
      "2024-12-04 00:00:00+00:00  1800.199951           NaN           NaN\n",
      "2024-12-04 18:30:00+00:00          NaN  24708.400391  81765.859375\n",
      "2024-12-05 00:00:00+00:00  1813.449951           NaN           NaN\n",
      "2024-12-05 18:30:00+00:00          NaN  24677.800781  81709.117188\n",
      "2024-12-06 00:00:00+00:00  1804.849976           NaN           NaN\n"
     ]
    },
    {
     "data": {
      "application/vnd.plotly.v1+json": {
       "config": {
        "plotlyServerURL": "https://plot.ly"
       },
       "data": [
        {
         "line": {
          "color": "blue"
         },
         "mode": "lines",
         "name": "Stock Price",
         "type": "scatter",
         "x": [
          "2024-09-11T00:00:00+00:00",
          "2024-09-12T00:00:00+00:00",
          "2024-09-13T00:00:00+00:00",
          "2024-09-16T00:00:00+00:00",
          "2024-09-17T00:00:00+00:00",
          "2024-09-18T00:00:00+00:00",
          "2024-09-19T00:00:00+00:00",
          "2024-09-20T00:00:00+00:00",
          "2024-09-23T00:00:00+00:00",
          "2024-09-24T00:00:00+00:00",
          "2024-09-25T00:00:00+00:00",
          "2024-09-26T00:00:00+00:00",
          "2024-09-27T00:00:00+00:00",
          "2024-09-30T00:00:00+00:00",
          "2024-10-01T00:00:00+00:00",
          "2024-10-03T00:00:00+00:00",
          "2024-10-04T00:00:00+00:00",
          "2024-10-07T00:00:00+00:00",
          "2024-10-08T00:00:00+00:00",
          "2024-10-09T00:00:00+00:00",
          "2024-10-10T00:00:00+00:00",
          "2024-10-11T00:00:00+00:00",
          "2024-10-14T00:00:00+00:00",
          "2024-10-15T00:00:00+00:00",
          "2024-10-16T00:00:00+00:00",
          "2024-10-17T00:00:00+00:00",
          "2024-10-18T00:00:00+00:00",
          "2024-10-21T00:00:00+00:00",
          "2024-10-22T00:00:00+00:00",
          "2024-10-23T00:00:00+00:00",
          "2024-10-24T00:00:00+00:00",
          "2024-10-25T00:00:00+00:00",
          "2024-10-28T00:00:00+00:00",
          "2024-10-29T00:00:00+00:00",
          "2024-10-30T00:00:00+00:00",
          "2024-10-31T00:00:00+00:00",
          "2024-11-01T00:00:00+00:00",
          "2024-11-04T00:00:00+00:00",
          "2024-11-05T00:00:00+00:00",
          "2024-11-06T00:00:00+00:00",
          "2024-11-07T00:00:00+00:00",
          "2024-11-08T00:00:00+00:00",
          "2024-11-11T00:00:00+00:00",
          "2024-11-12T00:00:00+00:00",
          "2024-11-13T00:00:00+00:00",
          "2024-11-14T00:00:00+00:00",
          "2024-11-18T00:00:00+00:00",
          "2024-11-19T00:00:00+00:00",
          "2024-11-21T00:00:00+00:00",
          "2024-11-22T00:00:00+00:00",
          "2024-11-25T00:00:00+00:00",
          "2024-11-26T00:00:00+00:00",
          "2024-11-27T00:00:00+00:00",
          "2024-11-28T00:00:00+00:00",
          "2024-11-29T00:00:00+00:00",
          "2024-12-02T00:00:00+00:00",
          "2024-12-03T00:00:00+00:00",
          "2024-12-04T00:00:00+00:00",
          "2024-12-05T00:00:00+00:00",
          "2024-12-06T00:00:00+00:00"
         ],
         "y": [
          1845.699951171875,
          1865.4000244140625,
          1853.75,
          1862.949951171875,
          1866.0999755859373,
          1836,
          1846.050048828125,
          1865.75,
          1862.699951171875,
          1868.0999755859373,
          1870.550048828125,
          1898.4000244140625,
          1948.699951171875,
          1926.699951171875,
          1919.949951171875,
          1910.8499755859373,
          1910.050048828125,
          1905.25,
          1917.1500244140625,
          1930.8499755859373,
          1887.75,
          1901.949951171875,
          1909.75,
          1898.449951171875,
          1898.5,
          1889.550048828125,
          1910.3499755859373,
          1897,
          1887.550048828125,
          1839.3499755859373,
          1848.9000244140625,
          1860.4000244140625,
          1902.9000244140625,
          1871.5999755859373,
          1852.0999755859373,
          1848.9000244140625,
          1858.4000244140625,
          1808.9000244140625,
          1803.5999755859373,
          1827.449951171875,
          1790.949951171875,
          1809.5999755859373,
          1794.5999755859375,
          1800.8499755859375,
          1779,
          1768.199951171875,
          1747.75,
          1777.25,
          1780,
          1795.300048828125,
          1798.9000244140625,
          1761.5999755859375,
          1749.449951171875,
          1734.25,
          1780.9000244140625,
          1808.550048828125,
          1800.050048828125,
          1800.199951171875,
          1813.449951171875,
          1804.8499755859373
         ]
        },
        {
         "line": {
          "color": "orange",
          "dash": "dot"
         },
         "mode": "lines",
         "name": "Forecasted Stock",
         "type": "scatter",
         "x": [
          "2024-12-07T00:00:00+00:00",
          "2024-12-08T00:00:00+00:00",
          "2024-12-09T00:00:00+00:00",
          "2024-12-10T00:00:00+00:00",
          "2024-12-11T00:00:00+00:00",
          "2024-12-12T00:00:00+00:00",
          "2024-12-13T00:00:00+00:00",
          "2024-12-14T00:00:00+00:00",
          "2024-12-15T00:00:00+00:00",
          "2024-12-16T00:00:00+00:00",
          "2024-12-17T00:00:00+00:00",
          "2024-12-18T00:00:00+00:00",
          "2024-12-19T00:00:00+00:00",
          "2024-12-20T00:00:00+00:00",
          "2024-12-21T00:00:00+00:00",
          "2024-12-22T00:00:00+00:00",
          "2024-12-23T00:00:00+00:00",
          "2024-12-24T00:00:00+00:00",
          "2024-12-25T00:00:00+00:00",
          "2024-12-26T00:00:00+00:00",
          "2024-12-27T00:00:00+00:00",
          "2024-12-28T00:00:00+00:00",
          "2024-12-29T00:00:00+00:00",
          "2024-12-30T00:00:00+00:00",
          "2024-12-31T00:00:00+00:00",
          "2025-01-01T00:00:00+00:00",
          "2025-01-02T00:00:00+00:00",
          "2025-01-03T00:00:00+00:00",
          "2025-01-04T00:00:00+00:00",
          "2025-01-05T00:00:00+00:00"
         ],
         "y": [
          1797.5061824475415,
          1791.4018366537493,
          1791.4018366537493,
          1791.4018366537493,
          1791.4018366537493,
          1791.4018366537493,
          1791.4018366537493,
          1791.4018366537493,
          1791.4018366537493,
          1791.4018366537493,
          1791.4018366537493,
          1791.4018366537493,
          1791.4018366537493,
          1791.4018366537493,
          1791.4018366537493,
          1791.4018366537493,
          1791.4018366537493,
          1791.4018366537493,
          1791.4018366537493,
          1791.4018366537493,
          1791.4018366537493,
          1791.4018366537493,
          1791.4018366537493,
          1791.4018366537493,
          1791.4018366537493,
          1791.4018366537493,
          1791.4018366537493,
          1791.4018366537493,
          1791.4018366537493,
          1791.4018366537493
         ]
        },
        {
         "line": {
          "color": "green",
          "dash": "dash"
         },
         "mode": "lines",
         "name": "Nifty 50",
         "type": "scatter",
         "x": [
          "2024-09-06T00:00:00+05:30",
          "2024-09-09T00:00:00+05:30",
          "2024-09-10T00:00:00+05:30",
          "2024-09-11T00:00:00+05:30",
          "2024-09-12T00:00:00+05:30",
          "2024-09-13T00:00:00+05:30",
          "2024-09-16T00:00:00+05:30",
          "2024-09-17T00:00:00+05:30",
          "2024-09-18T00:00:00+05:30",
          "2024-09-19T00:00:00+05:30",
          "2024-09-20T00:00:00+05:30",
          "2024-09-23T00:00:00+05:30",
          "2024-09-24T00:00:00+05:30",
          "2024-09-25T00:00:00+05:30",
          "2024-09-26T00:00:00+05:30",
          "2024-09-27T00:00:00+05:30",
          "2024-09-30T00:00:00+05:30",
          "2024-10-01T00:00:00+05:30",
          "2024-10-03T00:00:00+05:30",
          "2024-10-04T00:00:00+05:30",
          "2024-10-07T00:00:00+05:30",
          "2024-10-08T00:00:00+05:30",
          "2024-10-09T00:00:00+05:30",
          "2024-10-10T00:00:00+05:30",
          "2024-10-11T00:00:00+05:30",
          "2024-10-14T00:00:00+05:30",
          "2024-10-15T00:00:00+05:30",
          "2024-10-16T00:00:00+05:30",
          "2024-10-17T00:00:00+05:30",
          "2024-10-18T00:00:00+05:30",
          "2024-10-21T00:00:00+05:30",
          "2024-10-22T00:00:00+05:30",
          "2024-10-23T00:00:00+05:30",
          "2024-10-24T00:00:00+05:30",
          "2024-10-25T00:00:00+05:30",
          "2024-10-28T00:00:00+05:30",
          "2024-10-29T00:00:00+05:30",
          "2024-10-30T00:00:00+05:30",
          "2024-10-31T00:00:00+05:30",
          "2024-11-01T00:00:00+05:30",
          "2024-11-04T00:00:00+05:30",
          "2024-11-05T00:00:00+05:30",
          "2024-11-06T00:00:00+05:30",
          "2024-11-07T00:00:00+05:30",
          "2024-11-08T00:00:00+05:30",
          "2024-11-11T00:00:00+05:30",
          "2024-11-12T00:00:00+05:30",
          "2024-11-13T00:00:00+05:30",
          "2024-11-14T00:00:00+05:30",
          "2024-11-18T00:00:00+05:30",
          "2024-11-19T00:00:00+05:30",
          "2024-11-21T00:00:00+05:30",
          "2024-11-22T00:00:00+05:30",
          "2024-11-25T00:00:00+05:30",
          "2024-11-26T00:00:00+05:30",
          "2024-11-27T00:00:00+05:30",
          "2024-11-28T00:00:00+05:30",
          "2024-11-29T00:00:00+05:30",
          "2024-12-02T00:00:00+05:30",
          "2024-12-03T00:00:00+05:30",
          "2024-12-04T00:00:00+05:30",
          "2024-12-05T00:00:00+05:30",
          "2024-12-06T00:00:00+05:30"
         ],
         "y": [
          24852.150390625,
          24936.400390625,
          25041.099609375,
          24918.44921875,
          25388.900390625,
          25356.5,
          25383.75,
          25418.55078125,
          25377.55078125,
          25415.80078125,
          25790.94921875,
          25939.05078125,
          25940.400390625,
          26004.150390625,
          26216.05078125,
          26178.94921875,
          25810.849609375,
          25796.900390625,
          25250.099609375,
          25014.599609375,
          24795.75,
          25013.150390625,
          24981.94921875,
          24998.44921875,
          24964.25,
          25127.94921875,
          25057.349609375,
          24971.30078125,
          24749.849609375,
          24854.05078125,
          24781.099609375,
          24472.099609375,
          24435.5,
          24399.400390625,
          24180.80078125,
          24339.150390625,
          24466.849609375,
          24340.849609375,
          24205.349609375,
          24304.349609375,
          23995.349609375,
          24213.30078125,
          24484.05078125,
          24199.349609375,
          24148.19921875,
          24141.30078125,
          23883.44921875,
          23559.05078125,
          23532.69921875,
          23453.80078125,
          23518.5,
          23349.900390625,
          23907.25,
          24221.900390625,
          24194.5,
          24274.900390625,
          23914.150390625,
          24131.099609375,
          24276.05078125,
          24457.150390625,
          24467.44921875,
          24708.400390625,
          24677.80078125
         ]
        }
       ],
       "layout": {
        "showlegend": true,
        "template": {
         "data": {
          "bar": [
           {
            "error_x": {
             "color": "#f2f5fa"
            },
            "error_y": {
             "color": "#f2f5fa"
            },
            "marker": {
             "line": {
              "color": "rgb(17,17,17)",
              "width": 0.5
             },
             "pattern": {
              "fillmode": "overlay",
              "size": 10,
              "solidity": 0.2
             }
            },
            "type": "bar"
           }
          ],
          "barpolar": [
           {
            "marker": {
             "line": {
              "color": "rgb(17,17,17)",
              "width": 0.5
             },
             "pattern": {
              "fillmode": "overlay",
              "size": 10,
              "solidity": 0.2
             }
            },
            "type": "barpolar"
           }
          ],
          "carpet": [
           {
            "aaxis": {
             "endlinecolor": "#A2B1C6",
             "gridcolor": "#506784",
             "linecolor": "#506784",
             "minorgridcolor": "#506784",
             "startlinecolor": "#A2B1C6"
            },
            "baxis": {
             "endlinecolor": "#A2B1C6",
             "gridcolor": "#506784",
             "linecolor": "#506784",
             "minorgridcolor": "#506784",
             "startlinecolor": "#A2B1C6"
            },
            "type": "carpet"
           }
          ],
          "choropleth": [
           {
            "colorbar": {
             "outlinewidth": 0,
             "ticks": ""
            },
            "type": "choropleth"
           }
          ],
          "contour": [
           {
            "colorbar": {
             "outlinewidth": 0,
             "ticks": ""
            },
            "colorscale": [
             [
              0,
              "#0d0887"
             ],
             [
              0.1111111111111111,
              "#46039f"
             ],
             [
              0.2222222222222222,
              "#7201a8"
             ],
             [
              0.3333333333333333,
              "#9c179e"
             ],
             [
              0.4444444444444444,
              "#bd3786"
             ],
             [
              0.5555555555555556,
              "#d8576b"
             ],
             [
              0.6666666666666666,
              "#ed7953"
             ],
             [
              0.7777777777777778,
              "#fb9f3a"
             ],
             [
              0.8888888888888888,
              "#fdca26"
             ],
             [
              1,
              "#f0f921"
             ]
            ],
            "type": "contour"
           }
          ],
          "contourcarpet": [
           {
            "colorbar": {
             "outlinewidth": 0,
             "ticks": ""
            },
            "type": "contourcarpet"
           }
          ],
          "heatmap": [
           {
            "colorbar": {
             "outlinewidth": 0,
             "ticks": ""
            },
            "colorscale": [
             [
              0,
              "#0d0887"
             ],
             [
              0.1111111111111111,
              "#46039f"
             ],
             [
              0.2222222222222222,
              "#7201a8"
             ],
             [
              0.3333333333333333,
              "#9c179e"
             ],
             [
              0.4444444444444444,
              "#bd3786"
             ],
             [
              0.5555555555555556,
              "#d8576b"
             ],
             [
              0.6666666666666666,
              "#ed7953"
             ],
             [
              0.7777777777777778,
              "#fb9f3a"
             ],
             [
              0.8888888888888888,
              "#fdca26"
             ],
             [
              1,
              "#f0f921"
             ]
            ],
            "type": "heatmap"
           }
          ],
          "heatmapgl": [
           {
            "colorbar": {
             "outlinewidth": 0,
             "ticks": ""
            },
            "colorscale": [
             [
              0,
              "#0d0887"
             ],
             [
              0.1111111111111111,
              "#46039f"
             ],
             [
              0.2222222222222222,
              "#7201a8"
             ],
             [
              0.3333333333333333,
              "#9c179e"
             ],
             [
              0.4444444444444444,
              "#bd3786"
             ],
             [
              0.5555555555555556,
              "#d8576b"
             ],
             [
              0.6666666666666666,
              "#ed7953"
             ],
             [
              0.7777777777777778,
              "#fb9f3a"
             ],
             [
              0.8888888888888888,
              "#fdca26"
             ],
             [
              1,
              "#f0f921"
             ]
            ],
            "type": "heatmapgl"
           }
          ],
          "histogram": [
           {
            "marker": {
             "pattern": {
              "fillmode": "overlay",
              "size": 10,
              "solidity": 0.2
             }
            },
            "type": "histogram"
           }
          ],
          "histogram2d": [
           {
            "colorbar": {
             "outlinewidth": 0,
             "ticks": ""
            },
            "colorscale": [
             [
              0,
              "#0d0887"
             ],
             [
              0.1111111111111111,
              "#46039f"
             ],
             [
              0.2222222222222222,
              "#7201a8"
             ],
             [
              0.3333333333333333,
              "#9c179e"
             ],
             [
              0.4444444444444444,
              "#bd3786"
             ],
             [
              0.5555555555555556,
              "#d8576b"
             ],
             [
              0.6666666666666666,
              "#ed7953"
             ],
             [
              0.7777777777777778,
              "#fb9f3a"
             ],
             [
              0.8888888888888888,
              "#fdca26"
             ],
             [
              1,
              "#f0f921"
             ]
            ],
            "type": "histogram2d"
           }
          ],
          "histogram2dcontour": [
           {
            "colorbar": {
             "outlinewidth": 0,
             "ticks": ""
            },
            "colorscale": [
             [
              0,
              "#0d0887"
             ],
             [
              0.1111111111111111,
              "#46039f"
             ],
             [
              0.2222222222222222,
              "#7201a8"
             ],
             [
              0.3333333333333333,
              "#9c179e"
             ],
             [
              0.4444444444444444,
              "#bd3786"
             ],
             [
              0.5555555555555556,
              "#d8576b"
             ],
             [
              0.6666666666666666,
              "#ed7953"
             ],
             [
              0.7777777777777778,
              "#fb9f3a"
             ],
             [
              0.8888888888888888,
              "#fdca26"
             ],
             [
              1,
              "#f0f921"
             ]
            ],
            "type": "histogram2dcontour"
           }
          ],
          "mesh3d": [
           {
            "colorbar": {
             "outlinewidth": 0,
             "ticks": ""
            },
            "type": "mesh3d"
           }
          ],
          "parcoords": [
           {
            "line": {
             "colorbar": {
              "outlinewidth": 0,
              "ticks": ""
             }
            },
            "type": "parcoords"
           }
          ],
          "pie": [
           {
            "automargin": true,
            "type": "pie"
           }
          ],
          "scatter": [
           {
            "marker": {
             "line": {
              "color": "#283442"
             }
            },
            "type": "scatter"
           }
          ],
          "scatter3d": [
           {
            "line": {
             "colorbar": {
              "outlinewidth": 0,
              "ticks": ""
             }
            },
            "marker": {
             "colorbar": {
              "outlinewidth": 0,
              "ticks": ""
             }
            },
            "type": "scatter3d"
           }
          ],
          "scattercarpet": [
           {
            "marker": {
             "colorbar": {
              "outlinewidth": 0,
              "ticks": ""
             }
            },
            "type": "scattercarpet"
           }
          ],
          "scattergeo": [
           {
            "marker": {
             "colorbar": {
              "outlinewidth": 0,
              "ticks": ""
             }
            },
            "type": "scattergeo"
           }
          ],
          "scattergl": [
           {
            "marker": {
             "line": {
              "color": "#283442"
             }
            },
            "type": "scattergl"
           }
          ],
          "scattermapbox": [
           {
            "marker": {
             "colorbar": {
              "outlinewidth": 0,
              "ticks": ""
             }
            },
            "type": "scattermapbox"
           }
          ],
          "scatterpolar": [
           {
            "marker": {
             "colorbar": {
              "outlinewidth": 0,
              "ticks": ""
             }
            },
            "type": "scatterpolar"
           }
          ],
          "scatterpolargl": [
           {
            "marker": {
             "colorbar": {
              "outlinewidth": 0,
              "ticks": ""
             }
            },
            "type": "scatterpolargl"
           }
          ],
          "scatterternary": [
           {
            "marker": {
             "colorbar": {
              "outlinewidth": 0,
              "ticks": ""
             }
            },
            "type": "scatterternary"
           }
          ],
          "surface": [
           {
            "colorbar": {
             "outlinewidth": 0,
             "ticks": ""
            },
            "colorscale": [
             [
              0,
              "#0d0887"
             ],
             [
              0.1111111111111111,
              "#46039f"
             ],
             [
              0.2222222222222222,
              "#7201a8"
             ],
             [
              0.3333333333333333,
              "#9c179e"
             ],
             [
              0.4444444444444444,
              "#bd3786"
             ],
             [
              0.5555555555555556,
              "#d8576b"
             ],
             [
              0.6666666666666666,
              "#ed7953"
             ],
             [
              0.7777777777777778,
              "#fb9f3a"
             ],
             [
              0.8888888888888888,
              "#fdca26"
             ],
             [
              1,
              "#f0f921"
             ]
            ],
            "type": "surface"
           }
          ],
          "table": [
           {
            "cells": {
             "fill": {
              "color": "#506784"
             },
             "line": {
              "color": "rgb(17,17,17)"
             }
            },
            "header": {
             "fill": {
              "color": "#2a3f5f"
             },
             "line": {
              "color": "rgb(17,17,17)"
             }
            },
            "type": "table"
           }
          ]
         },
         "layout": {
          "annotationdefaults": {
           "arrowcolor": "#f2f5fa",
           "arrowhead": 0,
           "arrowwidth": 1
          },
          "autotypenumbers": "strict",
          "coloraxis": {
           "colorbar": {
            "outlinewidth": 0,
            "ticks": ""
           }
          },
          "colorscale": {
           "diverging": [
            [
             0,
             "#8e0152"
            ],
            [
             0.1,
             "#c51b7d"
            ],
            [
             0.2,
             "#de77ae"
            ],
            [
             0.3,
             "#f1b6da"
            ],
            [
             0.4,
             "#fde0ef"
            ],
            [
             0.5,
             "#f7f7f7"
            ],
            [
             0.6,
             "#e6f5d0"
            ],
            [
             0.7,
             "#b8e186"
            ],
            [
             0.8,
             "#7fbc41"
            ],
            [
             0.9,
             "#4d9221"
            ],
            [
             1,
             "#276419"
            ]
           ],
           "sequential": [
            [
             0,
             "#0d0887"
            ],
            [
             0.1111111111111111,
             "#46039f"
            ],
            [
             0.2222222222222222,
             "#7201a8"
            ],
            [
             0.3333333333333333,
             "#9c179e"
            ],
            [
             0.4444444444444444,
             "#bd3786"
            ],
            [
             0.5555555555555556,
             "#d8576b"
            ],
            [
             0.6666666666666666,
             "#ed7953"
            ],
            [
             0.7777777777777778,
             "#fb9f3a"
            ],
            [
             0.8888888888888888,
             "#fdca26"
            ],
            [
             1,
             "#f0f921"
            ]
           ],
           "sequentialminus": [
            [
             0,
             "#0d0887"
            ],
            [
             0.1111111111111111,
             "#46039f"
            ],
            [
             0.2222222222222222,
             "#7201a8"
            ],
            [
             0.3333333333333333,
             "#9c179e"
            ],
            [
             0.4444444444444444,
             "#bd3786"
            ],
            [
             0.5555555555555556,
             "#d8576b"
            ],
            [
             0.6666666666666666,
             "#ed7953"
            ],
            [
             0.7777777777777778,
             "#fb9f3a"
            ],
            [
             0.8888888888888888,
             "#fdca26"
            ],
            [
             1,
             "#f0f921"
            ]
           ]
          },
          "colorway": [
           "#636efa",
           "#EF553B",
           "#00cc96",
           "#ab63fa",
           "#FFA15A",
           "#19d3f3",
           "#FF6692",
           "#B6E880",
           "#FF97FF",
           "#FECB52"
          ],
          "font": {
           "color": "#f2f5fa"
          },
          "geo": {
           "bgcolor": "rgb(17,17,17)",
           "lakecolor": "rgb(17,17,17)",
           "landcolor": "rgb(17,17,17)",
           "showlakes": true,
           "showland": true,
           "subunitcolor": "#506784"
          },
          "hoverlabel": {
           "align": "left"
          },
          "hovermode": "closest",
          "mapbox": {
           "style": "dark"
          },
          "paper_bgcolor": "rgb(17,17,17)",
          "plot_bgcolor": "rgb(17,17,17)",
          "polar": {
           "angularaxis": {
            "gridcolor": "#506784",
            "linecolor": "#506784",
            "ticks": ""
           },
           "bgcolor": "rgb(17,17,17)",
           "radialaxis": {
            "gridcolor": "#506784",
            "linecolor": "#506784",
            "ticks": ""
           }
          },
          "scene": {
           "xaxis": {
            "backgroundcolor": "rgb(17,17,17)",
            "gridcolor": "#506784",
            "gridwidth": 2,
            "linecolor": "#506784",
            "showbackground": true,
            "ticks": "",
            "zerolinecolor": "#C8D4E3"
           },
           "yaxis": {
            "backgroundcolor": "rgb(17,17,17)",
            "gridcolor": "#506784",
            "gridwidth": 2,
            "linecolor": "#506784",
            "showbackground": true,
            "ticks": "",
            "zerolinecolor": "#C8D4E3"
           },
           "zaxis": {
            "backgroundcolor": "rgb(17,17,17)",
            "gridcolor": "#506784",
            "gridwidth": 2,
            "linecolor": "#506784",
            "showbackground": true,
            "ticks": "",
            "zerolinecolor": "#C8D4E3"
           }
          },
          "shapedefaults": {
           "line": {
            "color": "#f2f5fa"
           }
          },
          "sliderdefaults": {
           "bgcolor": "#C8D4E3",
           "bordercolor": "rgb(17,17,17)",
           "borderwidth": 1,
           "tickwidth": 0
          },
          "ternary": {
           "aaxis": {
            "gridcolor": "#506784",
            "linecolor": "#506784",
            "ticks": ""
           },
           "baxis": {
            "gridcolor": "#506784",
            "linecolor": "#506784",
            "ticks": ""
           },
           "bgcolor": "rgb(17,17,17)",
           "caxis": {
            "gridcolor": "#506784",
            "linecolor": "#506784",
            "ticks": ""
           }
          },
          "title": {
           "x": 0.05
          },
          "updatemenudefaults": {
           "bgcolor": "#506784",
           "borderwidth": 0
          },
          "xaxis": {
           "automargin": true,
           "gridcolor": "#283442",
           "linecolor": "#506784",
           "ticks": "",
           "title": {
            "standoff": 15
           },
           "zerolinecolor": "#283442",
           "zerolinewidth": 2
          },
          "yaxis": {
           "automargin": true,
           "gridcolor": "#283442",
           "linecolor": "#506784",
           "ticks": "",
           "title": {
            "standoff": 15
           },
           "zerolinecolor": "#283442",
           "zerolinewidth": 2
          }
         }
        },
        "title": {
         "text": "Stock vs Nifty 50 (Last 30 Days)"
        },
        "xaxis": {
         "title": {
          "text": "Date"
         }
        },
        "yaxis": {
         "title": {
          "text": "Price"
         }
        }
       }
      }
     },
     "metadata": {},
     "output_type": "display_data"
    }
   ],
   "source": [
    "import yfinance as yf\n",
    "import pandas as pd\n",
    "import plotly.graph_objects as go\n",
    "\n",
    "# Assuming 'dates' is a pandas datetime series for the stock's historical data\n",
    "# Assuming 'df' is a DataFrame with stock data (including 'Close' column)\n",
    "historical_data = pd.DataFrame({\n",
    "    'Date': dates,  # Last 30 days of dates\n",
    "    'Price': df['Close']  # Last 30 days of stock prices\n",
    "})\n",
    "historical_data = historical_data.iloc[-60:]\n",
    "# # Example forecasted data (replace with your actual forecast data)\n",
    "# forecast_dates = pd.date_range(start=\"2024-12-15\", periods=30, freq='D')  # Forecasted dates for the next 30 days # Replace with your actual forecasted prices\n",
    "\n",
    "# Create forecast data DataFrame\n",
    "forecast_data = pd.DataFrame({\n",
    "    'Date': forecast_dates,  # Future dates\n",
    "    'Price': forecasted_prices_original  # Forecasted prices\n",
    "})\n",
    "\n",
    "# Fetch Nifty 50 and S&P 500 data for the last 30 days\n",
    "nifty_data = yf.Ticker(\"^NSEI\")  # Nifty 50 index\n",
    "sp500_data = yf.Ticker(\"^BSESN\")  # S&P 500 index\n",
    "\n",
    "nifty_hist = nifty_data.history(period=\"3mo\")  # Fetch last 30 days of data\n",
    "sp500_hist = sp500_data.history(period=\"3mo\")  # Fetch last 30 days of data\n",
    "\n",
    "# Align data to ensure all data frames have the same date range\n",
    "nifty_hist = nifty_hist[['Close']].rename(columns={'Close': 'Nifty'})\n",
    "sp500_hist = sp500_hist[['Close']].rename(columns={'Close': 'S&P 500'})\n",
    "\n",
    "# Combine all the data into one DataFrame\n",
    "combined_data = pd.concat([historical_data.set_index('Date'), nifty_hist, sp500_hist], axis=1)\n",
    "\n",
    "# Display the combined data\n",
    "print(combined_data.tail())\n",
    "\n",
    "# Plotting\n",
    "fig_2 = go.Figure()\n",
    "\n",
    "# Add stock data trace\n",
    "fig_2.add_trace(go.Scatter(x=historical_data['Date'], y=historical_data['Price'], mode='lines', name='Stock Price', line=dict(color='blue')))\n",
    "\n",
    "# Add forecast data trace (future prediction, styled differently)\n",
    "fig_2.add_trace(go.Scatter(x=forecast_data['Date'], y=forecast_data['Price'], mode='lines', name='Forecasted Stock', line=dict(color='orange', dash='dot')))\n",
    "\n",
    "# # Add Nifty 50 data trace\n",
    "fig_2.add_trace(go.Scatter(x=nifty_hist.index, y=nifty_hist['Nifty'], mode='lines', name='Nifty 50', line=dict(color='green', dash='dash')))\n",
    "\n",
    "# Add S&P 500 data trace\n",
    "# fig_2.add_trace(go.Scatter(x=sp500_hist.index, y=sp500_hist['S&P 500'], mode='lines', name='S&P 500', line=dict(color='red', dash='dash')))\n",
    "\n",
    "# Customize the layout\n",
    "fig_2.update_layout(\n",
    "    title=\"Stock vs Nifty 50 (Last 30 Days)\",\n",
    "    xaxis_title=\"Date\",\n",
    "    yaxis_title=\"Price\",\n",
    "    template=\"plotly_dark\",\n",
    "    showlegend=True\n",
    ")\n",
    "\n",
    "fig_2.show()\n"
   ]
  },
  {
   "cell_type": "code",
   "execution_count": 117,
   "metadata": {},
   "outputs": [
    {
     "name": "stdout",
     "output_type": "stream",
     "text": [
      "[DeployedModel(model_id='meta-llama/Llama-3.2-11B-Vision-Instruct', sha='9eb2daaa8597bf192a8b0e73f848f3a102794df5'), DeployedModel(model_id='Qwen/Qwen2-VL-2B-Instruct', sha='47592516d3e709cd9c194715bc76902241c5edea'), DeployedModel(model_id='Qwen/Qwen2-VL-7B-Instruct', sha='a7a06a1cc11b4514ce9edcde0e3ca1d16e5ff2fc'), DeployedModel(model_id='01-ai/Yi-1.5-34B-Chat', sha='fa4ffba162f20948bf77c2a30eca952bf0812b7f'), DeployedModel(model_id='bigcode/octocoder', sha='0f863c63e38ba80fc2c4010f34a7f46d537a9eee'), DeployedModel(model_id='bigcode/santacoder', sha='bb3be599767d93ce716293e9193c027e855a9524'), DeployedModel(model_id='bigcode/starcoder', sha='827cd7721231872c152e3faef5cae1b22964ed58'), DeployedModel(model_id='bigcode/starcoder2-15b', sha='46d44742909c03ac8cee08eb03fdebce02e193ec'), DeployedModel(model_id='bigcode/starcoder2-3b', sha='733247c55e3f73af49ce8e9c7949bf14af205928'), DeployedModel(model_id='bigcode/starcoderplus', sha='c2c2f1397ed0caf52353abe14e35120af37a6d6b'), DeployedModel(model_id='codellama/CodeLlama-13b-hf', sha='8da65ff4ee20f74ecd107ca9d54f9f121b279860'), DeployedModel(model_id='codellama/CodeLlama-34b-Instruct-hf', sha='d4c1c474abcacd32d2a6eda45f9811d38c83e93d'), DeployedModel(model_id='codellama/CodeLlama-7b-hf', sha='6c284d1468fe6c413cf56183e69b194dcfa27fe6'), DeployedModel(model_id='CohereForAI/aya-23-35B', sha='f25bc411c8250c69720b0d5b4477bb12cf8d80a5'), DeployedModel(model_id='CohereForAI/aya-23-8B', sha='f7c0f53641e86ef2e39c62461e6f0f54ff904eba'), DeployedModel(model_id='CohereForAI/c4ai-command-r-plus-08-2024', sha='73f7348efdbd460b99bfecd65c88b2392aabaff1'), DeployedModel(model_id='EleutherAI/gpt-neo-2.7B', sha='e24fa291132763e59f4a5422741b424fb5d59056'), DeployedModel(model_id='EleutherAI/gpt-neox-20b', sha='c292233c833e336628618a88a648727eb3dff0a7'), DeployedModel(model_id='google/gemma-1.1-2b-it', sha='d750f5eceb83e978c09e2b3597c2a8784e381022'), DeployedModel(model_id='google/gemma-1.1-7b-it', sha='065a528791af6f57f013e8e42b7276992b45ef71'), DeployedModel(model_id='google/gemma-2-27b-it', sha='aaf20e6b9f4c0fcf043f6fb2a2068419086d77b0'), DeployedModel(model_id='google/gemma-2-2b-it', sha='299a8560bedf22ed1c72a8a11e7dce4a7f9f51f8'), DeployedModel(model_id='google/gemma-2-9b-it', sha='11c9b309abf73637e4b6f9a3fa1e92e615547819'), DeployedModel(model_id='google/gemma-7b', sha='ff6768d9368919a1f025a54f9f5aa0ee591730bb'), DeployedModel(model_id='HuggingFaceH4/starchat-beta', sha='b1bcda690655777373f57ea6614eb095ec2c886f'), DeployedModel(model_id='HuggingFaceH4/starchat2-15b-v0.1', sha='837a7b6ac3df5f91de138e3592258f93c80d93d3'), DeployedModel(model_id='HuggingFaceH4/zephyr-7b-alpha', sha='014792bbb59d04ced3b5a9b8b4dfc926655d958f'), DeployedModel(model_id='HuggingFaceH4/zephyr-7b-beta', sha='892b3d7a7b1cf10c7a701c60881cd93df615734c'), DeployedModel(model_id='HuggingFaceH4/zephyr-7b-beta', sha='892b3d7a7b1cf10c7a701c60881cd93df615734c'), DeployedModel(model_id='HuggingFaceM4/idefics-9b-instruct', sha='7065afb8a5bb03015700b315f6751dc3dd4e16eb'), DeployedModel(model_id='meta-llama/Llama-2-70b-chat-hf', sha='e9149a12809580e8602995856f8098ce973d1080'), DeployedModel(model_id='meta-llama/Llama-2-7b-chat-hf', sha='f5db02db724555f92da89c216ac04704f23d4590'), DeployedModel(model_id='meta-llama/Llama-3.1-70B-Instruct', sha='945c8663693130f8be2ee66210e062158b2a9693'), DeployedModel(model_id='meta-llama/Llama-3.1-8B-Instruct', sha='0e9e39f249a16976918f6564b8830bc894c89659'), DeployedModel(model_id='meta-llama/Llama-3.2-1B-Instruct', sha='9213176726f574b556790deb65791e0c5aa438b6'), DeployedModel(model_id='meta-llama/Llama-3.2-3B-Instruct', sha='0cb88a4f764b7a12671c53f0838cd831a0843b95'), DeployedModel(model_id='meta-llama/Llama-3.2-3B-Instruct', sha='392a143b624368100f77a3eafaa4a2468ba50a72'), DeployedModel(model_id='meta-llama/Llama-3.3-70B-Instruct', sha='38ff4e01a70559264c95945aa04b900a11e68422'), DeployedModel(model_id='meta-llama/Llama-Guard-3-8B', sha='7327bd9f6efbbe6101dc6cc4736302b3cbb6e425'), DeployedModel(model_id='meta-llama/Meta-Llama-3-70B-Instruct', sha='05917295788658563fd7ef778b6240ad9867d6d1'), DeployedModel(model_id='meta-llama/Meta-Llama-3-8B-Instruct', sha='5f0b02c75b57c5855da9ae460ce51323ea669d8a'), DeployedModel(model_id='microsoft/Phi-3.5-mini-instruct', sha='af0dfb8029e8a74545d0736d30cb6b58d2f0f3f0'), DeployedModel(model_id='microsoft/Phi-3-mini-4k-instruct', sha='0a67737cc96d2554230f90338b163bc6380a2a85'), DeployedModel(model_id='mistralai/Mistral-7B-Instruct-v0.1', sha='2dcff66eac0c01dc50e4c41eea959968232187fe'), DeployedModel(model_id='mistralai/Mistral-7B-Instruct-v0.2', sha='3ad372fc79158a2148299e3318516c786aeded6c'), DeployedModel(model_id='mistralai/Mistral-7B-Instruct-v0.3', sha='e0bc86c23ce5aae1db576c8cca6f06f1f73af2db'), DeployedModel(model_id='mistralai/Mistral-7B-v0.1', sha='7231864981174d9bee8c7687c24c8344414eae6b'), DeployedModel(model_id='mistralai/Mistral-Nemo-Instruct-2407', sha='8aedd450f2583e9c67fae1929f6936b8fc5aef9c'), DeployedModel(model_id='mistralai/Mixtral-8x7B-Instruct-v0.1', sha='41bd4c9e7e4fb318ca40e721131d4933966c2cc1'), DeployedModel(model_id='NousResearch/Hermes-3-Llama-3.1-8B', sha='896ea440e5a9e6070e3d8a2774daf2b481ab425b'), DeployedModel(model_id='NousResearch/Nous-Hermes-2-Mixtral-8x7B-DPO', sha='286ae6737d048ad1d965c2e830864df02db50f2f'), DeployedModel(model_id='nvidia/Llama-3.1-Nemotron-70B-Instruct-HF', sha='fac73d3507320ec1258620423469b4b38f88df6e'), DeployedModel(model_id='openai-community/gpt2', sha='607a30d783dfa663caf39e06633721c8d4cfcd7e'), DeployedModel(model_id='Qwen/Qwen2.5-72B-Instruct', sha='d3d951150c1e5848237cd6a7ad11df4836aee842'), DeployedModel(model_id='Qwen/Qwen2.5-Coder-32B-Instruct', sha='b47205940b83b5b484577359f71ee7b88472df67'), DeployedModel(model_id='Qwen/QwQ-32B-Preview', sha='1032e81cb936c486aae1d33da75b2fbcd5deed4a'), DeployedModel(model_id='tiiuae/falcon-7b', sha='ec89142b67d748a1865ea4451372db8313ada0d8'), DeployedModel(model_id='tiiuae/falcon-7b-instruct', sha='8782b5c5d8c9290412416618f36a133653e85285'), DeployedModel(model_id='aubmindlab/aragpt2-base', sha='257d7289dac3605a6cd903ff71d67a52fc5d09aa'), DeployedModel(model_id='Bllossom/llama-3.2-Korean-Bllossom-3B', sha='6d89aab46aa1025791300d30eb9024744bc47918'), DeployedModel(model_id='Den4ikAI/rugpt3_2ch', sha='6cc61706a4f86148655b60da444c47460ec26fc1'), DeployedModel(model_id='distilbert/distilgpt2', sha='2290a62682d06624634c1f46a6ad5be0f47f38aa'), DeployedModel(model_id='HuggingFaceTB/SmolLM2-1.7B-Instruct', sha='1dfd32118ef11b4998e591ed60f2a0e978e15411'), DeployedModel(model_id='meta-llama/Llama-3.2-1B', sha='4e20de362430cd3b72f300e6b0f18e50e7166e08'), DeployedModel(model_id='microsoft/DialoGPT-medium', sha='7b40bb0f92c45fefa957d088000d8648e5c7fa33'), DeployedModel(model_id='openai-community/gpt2', sha='607a30d783dfa663caf39e06633721c8d4cfcd7e'), DeployedModel(model_id='Pi3141/DialoGPT-medium-elon-2', sha='be25e918260d94e5371a79100ae45dd77e636a7f'), DeployedModel(model_id='Qwen/Qwen2.5-1.5B-Instruct', sha='989aa7980e4cf806f80c7fef2b1adb7bc71aa306'), DeployedModel(model_id='suayptalha/FastLlama-3.2-1B-Instruct', sha='a70ad0b6b641c7fe2dba5b2d26d61dbfd7d757d2')]\n"
     ]
    }
   ],
   "source": [
    "from text_generation.inference_api import deployed_models\n",
    "\n",
    "print(deployed_models())"
   ]
  },
  {
   "cell_type": "code",
   "execution_count": 118,
   "metadata": {},
   "outputs": [
    {
     "name": "stdout",
     "output_type": "stream",
     "text": [
      "News 1:\n",
      "Title: CLASS ACTION AUTHORIZED AGAINST THE QUÉBEC MAJOR JUNIOR HOCKEY LEAGUE (QMJHL)¹  AND ITS TEAMS\n",
      "Publisher: CNW Group\n",
      "Link: https://finance.yahoo.com/news/class-action-authorized-against-qu-111300644.html\n",
      "\n",
      "\n",
      "News 2:\n",
      "Title: TEDA Celebrates 40 Years of Pioneering Innovation, Inclusive Opening-up, and Synergistic development\n",
      "Publisher: CNW Group\n",
      "Link: https://finance.yahoo.com/news/teda-celebrates-40-years-pioneering-110900510.html\n",
      "\n",
      "\n",
      "News 3:\n",
      "Title: Paycom price target raised to $229 from $181 at Barclays\n",
      "Publisher: TipRanks\n",
      "Link: https://finance.yahoo.com/news/paycom-price-target-raised-229-110841323.html\n",
      "\n",
      "\n",
      "News 4:\n",
      "Title: Paylocity price target raised to $214 from $180 at Barclays\n",
      "Publisher: TipRanks\n",
      "Link: https://finance.yahoo.com/news/paylocity-price-target-raised-214-110816100.html\n",
      "\n",
      "\n",
      "News 5:\n",
      "Title: Pegasystems price target raised to $103 from $82 at Barclays\n",
      "Publisher: TipRanks\n",
      "Link: https://finance.yahoo.com/news/pegasystems-price-target-raised-103-110728222.html\n",
      "\n",
      "\n"
     ]
    }
   ],
   "source": [
    "import yfinance as yf\n",
    "\n",
    "def get_stock_news_yfinance(ticker):\n",
    "    # Fetch the stock data\n",
    "    stock = yf.Ticker(ticker)\n",
    "    \n",
    "    # Fetch the news\n",
    "    try:\n",
    "        news = stock.news  # Retrieve news articles\n",
    "    except AttributeError:\n",
    "        return \"Failed to retrieve news. Ensure the `yfinance` version supports this feature.\"\n",
    "\n",
    "    if not news:\n",
    "        return \"No news articles found for this stock.\"\n",
    "\n",
    "    # Format the news articles\n",
    "    formatted_news = []\n",
    "    for article in news[:5]:  # Limit to top 5 news articles\n",
    "        title = article.get(\"title\", \"No title available\")\n",
    "        link = article.get(\"link\", \"No link available\")\n",
    "        publisher = article.get(\"publisher\", \"Unknown source\")\n",
    "        formatted_news.append(f\"Title: {title}\\nPublisher: {publisher}\\nLink: {link}\\n\")\n",
    "    \n",
    "    return formatted_news\n",
    "\n",
    "# Example: Fetch news for Reliance Industries\n",
    "ticker = \"SUNPHARMA.NS\"  # Yahoo Finance ticker for Reliance Industries\n",
    "news = get_stock_news_yfinance(ticker)\n",
    "\n",
    "# Display the news\n",
    "if isinstance(news, list):\n",
    "    for idx, article in enumerate(news, 1):\n",
    "        print(f\"News {idx}:\\n{article}\\n\")\n",
    "else:\n",
    "    print(news)\n"
   ]
  },
  {
   "cell_type": "code",
   "execution_count": 119,
   "metadata": {},
   "outputs": [
    {
     "name": "stdout",
     "output_type": "stream",
     "text": [
      "File uploaded successfully to s3://isbfinanceproject/Pharmacy/SUNPHARMA.NS/Results/Pharmacy/SUNPHARMA.NS/30_day_forecast.png\n",
      "File uploaded successfully to s3://isbfinanceproject/Pharmacy/SUNPHARMA.NS/Results/Pharmacy/SUNPHARMA.NS/7_day_forecast.png\n",
      "File uploaded successfully to s3://isbfinanceproject/Pharmacy/SUNPHARMA.NS/Results/Pharmacy/SUNPHARMA.NS/nifty_compare.png\n"
     ]
    }
   ],
   "source": [
    "import io\n",
    "from botocore.exceptions import NoCredentialsError\n",
    "from plotly.io import write_image\n",
    "FILE_NAME = f\"Results/{vertical}/{ticker}/30_day_forecast.png\"  # The name for the file in the S3 bucket\n",
    "FILE_NAME_1 = f\"Results/{vertical}/{ticker}/7_day_forecast.png\"  # The name for the file in the S3 bucket\n",
    "FILE_NAME_2 = f\"Results/{vertical}/{ticker}/nifty_compare.png\"  # The name for the file in the S3 bucket\n",
    "\n",
    "# Function to upload file to S3\n",
    "def upload_to_s3(file_data, bucket, file_name):\n",
    "    s3 = boto3.client(\n",
    "        's3',\n",
    "        aws_access_key_id=AWS_ACCESS_KEY_ID,\n",
    "        aws_secret_access_key=AWS_SECRET_ACCESS_KEY,\n",
    "        region_name=AWS_DEFAULT_REGION\n",
    "    )\n",
    "    try:\n",
    "        s3.upload_fileobj(file_data, bucket, file_name)\n",
    "        print(f\"File uploaded successfully to s3://{bucket}/{vertical}/{ticker}/{file_name}\")\n",
    "    except NoCredentialsError:\n",
    "        print(\"AWS credentials not available.\")\n",
    "    except Exception as e:\n",
    "        print(f\"Error uploading file: {e}\")\n",
    "\n",
    "# Save Plotly figure to S3\n",
    "def save_plot_to_s3(fig, bucket, file_name):\n",
    "    # Convert Plotly figure to an image buffer\n",
    "    buffer = io.BytesIO()\n",
    "    fig.write_image(buffer, format=\"png\")  # You need Orca installed for this\n",
    "    buffer.seek(0)  # Reset buffer position\n",
    "\n",
    "    # Upload to S3\n",
    "    upload_to_s3(buffer, bucket, file_name)\n",
    "save_plot_to_s3(fig, bucket_name, FILE_NAME)\n",
    "save_plot_to_s3(fig_1, bucket_name, FILE_NAME_1)\n",
    "save_plot_to_s3(fig_2, bucket_name, FILE_NAME_2)"
   ]
  }
 ],
 "metadata": {
  "kernelspec": {
   "display_name": ".venv",
   "language": "python",
   "name": "python3"
  },
  "language_info": {
   "codemirror_mode": {
    "name": "ipython",
    "version": 3
   },
   "file_extension": ".py",
   "mimetype": "text/x-python",
   "name": "python",
   "nbconvert_exporter": "python",
   "pygments_lexer": "ipython3",
   "version": "3.9.12"
  }
 },
 "nbformat": 4,
 "nbformat_minor": 2
}

{
 "cells": [
  {
   "cell_type": "code",
   "execution_count": 28,
   "metadata": {},
   "outputs": [
    {
     "name": "stdout",
     "output_type": "stream",
     "text": [
      "File RELIANCE.NS_test_data.csv downloaded successfully.\n"
     ]
    }
   ],
   "source": [
    "import boto3\n",
    "from dotenv import load_dotenv\n",
    "import os\n",
    "from io import StringIO \n",
    "import numpy as np\n",
    "import joblib\n",
    "import pandas as pd\n",
    "\n",
    "from io import BytesIO\n",
    "# Initialize an S3 client\n",
    "s3_client = boto3.client('s3')\n",
    "\n",
    "\n",
    "load_dotenv()\n",
    "\n",
    "# Access the environment variables for AWS credentials\n",
    "AWS_ACCESS_KEY_ID = os.getenv('AWS_ACCESS_KEY_ID')\n",
    "AWS_SECRET_ACCESS_KEY = os.getenv('AWS_SECRET_ACCESS_KEY')\n",
    "AWS_DEFAULT_REGION = os.getenv('AWS_DEFAULT_REGION')\n",
    "\n",
    "s3_client = boto3.client(\n",
    "    's3',\n",
    "    aws_access_key_id=AWS_ACCESS_KEY_ID,\n",
    "    aws_secret_access_key=AWS_SECRET_ACCESS_KEY,\n",
    "    region_name=AWS_DEFAULT_REGION\n",
    ")\n",
    "\n",
    "# Define the S3 bucket and the file path\n",
    "bucket_name = 'isbfinanceproject'\n",
    "def get_file_path(vertical, ticker):\n",
    "    file_path = f\"{vertical}/{ticker}/{ticker}_test_data.csv\"\n",
    "    return file_path\n",
    "\n",
    "# Example usage\n",
    "vertical = 'Energy'  # Replace with the actual vertical\n",
    "ticker = 'RELIANCE.NS'       # Replace with the actual ticker\n",
    "\n",
    "# Get the file path\n",
    "file_path = get_file_path(vertical, ticker)\n",
    "\n",
    "# Download the file to the local system\n",
    "try:\n",
    "    s3_client.download_file(bucket_name, file_path, f\"./{ticker}_test_data.csv\")\n",
    "    print(f\"File {ticker}_test_data.csv downloaded successfully.\")\n",
    "except Exception as e:\n",
    "    print(f\"Error downloading file: {e}\")"
   ]
  },
  {
   "cell_type": "code",
   "execution_count": 29,
   "metadata": {},
   "outputs": [
    {
     "data": {
      "text/html": [
       "<div>\n",
       "<style scoped>\n",
       "    .dataframe tbody tr th:only-of-type {\n",
       "        vertical-align: middle;\n",
       "    }\n",
       "\n",
       "    .dataframe tbody tr th {\n",
       "        vertical-align: top;\n",
       "    }\n",
       "\n",
       "    .dataframe thead th {\n",
       "        text-align: right;\n",
       "    }\n",
       "</style>\n",
       "<table border=\"1\" class=\"dataframe\">\n",
       "  <thead>\n",
       "    <tr style=\"text-align: right;\">\n",
       "      <th></th>\n",
       "      <th>Volume</th>\n",
       "      <th>ma_7</th>\n",
       "      <th>ma_30</th>\n",
       "      <th>High</th>\n",
       "      <th>Low</th>\n",
       "      <th>Open</th>\n",
       "      <th>lag_1</th>\n",
       "      <th>lag_2</th>\n",
       "      <th>lag_7</th>\n",
       "      <th>daily_returns</th>\n",
       "      <th>volatility</th>\n",
       "    </tr>\n",
       "  </thead>\n",
       "  <tbody>\n",
       "    <tr>\n",
       "      <th>0</th>\n",
       "      <td>0.086313</td>\n",
       "      <td>0.481433</td>\n",
       "      <td>0.432302</td>\n",
       "      <td>0.465598</td>\n",
       "      <td>0.478201</td>\n",
       "      <td>0.469600</td>\n",
       "      <td>0.475540</td>\n",
       "      <td>0.486608</td>\n",
       "      <td>0.501358</td>\n",
       "      <td>0.457820</td>\n",
       "      <td>0.178926</td>\n",
       "    </tr>\n",
       "    <tr>\n",
       "      <th>1</th>\n",
       "      <td>0.110451</td>\n",
       "      <td>0.604958</td>\n",
       "      <td>0.681208</td>\n",
       "      <td>0.640061</td>\n",
       "      <td>0.638922</td>\n",
       "      <td>0.635287</td>\n",
       "      <td>0.637601</td>\n",
       "      <td>0.598286</td>\n",
       "      <td>0.633417</td>\n",
       "      <td>0.484992</td>\n",
       "      <td>0.212773</td>\n",
       "    </tr>\n",
       "    <tr>\n",
       "      <th>2</th>\n",
       "      <td>0.253587</td>\n",
       "      <td>0.082196</td>\n",
       "      <td>0.004192</td>\n",
       "      <td>0.092426</td>\n",
       "      <td>0.103898</td>\n",
       "      <td>0.090096</td>\n",
       "      <td>0.101538</td>\n",
       "      <td>0.116551</td>\n",
       "      <td>0.075027</td>\n",
       "      <td>0.528729</td>\n",
       "      <td>0.951929</td>\n",
       "    </tr>\n",
       "    <tr>\n",
       "      <th>3</th>\n",
       "      <td>0.081319</td>\n",
       "      <td>0.444457</td>\n",
       "      <td>0.446139</td>\n",
       "      <td>0.460882</td>\n",
       "      <td>0.474891</td>\n",
       "      <td>0.461970</td>\n",
       "      <td>0.467384</td>\n",
       "      <td>0.461503</td>\n",
       "      <td>0.463181</td>\n",
       "      <td>0.499437</td>\n",
       "      <td>0.064354</td>\n",
       "    </tr>\n",
       "    <tr>\n",
       "      <th>4</th>\n",
       "      <td>0.069292</td>\n",
       "      <td>0.887616</td>\n",
       "      <td>0.926659</td>\n",
       "      <td>0.892954</td>\n",
       "      <td>0.896535</td>\n",
       "      <td>0.884910</td>\n",
       "      <td>0.886463</td>\n",
       "      <td>0.876038</td>\n",
       "      <td>0.890724</td>\n",
       "      <td>0.476777</td>\n",
       "      <td>0.057512</td>\n",
       "    </tr>\n",
       "  </tbody>\n",
       "</table>\n",
       "</div>"
      ],
      "text/plain": [
       "     Volume      ma_7     ma_30      High       Low      Open     lag_1  \\\n",
       "0  0.086313  0.481433  0.432302  0.465598  0.478201  0.469600  0.475540   \n",
       "1  0.110451  0.604958  0.681208  0.640061  0.638922  0.635287  0.637601   \n",
       "2  0.253587  0.082196  0.004192  0.092426  0.103898  0.090096  0.101538   \n",
       "3  0.081319  0.444457  0.446139  0.460882  0.474891  0.461970  0.467384   \n",
       "4  0.069292  0.887616  0.926659  0.892954  0.896535  0.884910  0.886463   \n",
       "\n",
       "      lag_2     lag_7  daily_returns  volatility  \n",
       "0  0.486608  0.501358       0.457820    0.178926  \n",
       "1  0.598286  0.633417       0.484992    0.212773  \n",
       "2  0.116551  0.075027       0.528729    0.951929  \n",
       "3  0.461503  0.463181       0.499437    0.064354  \n",
       "4  0.876038  0.890724       0.476777    0.057512  "
      ]
     },
     "execution_count": 29,
     "metadata": {},
     "output_type": "execute_result"
    }
   ],
   "source": [
    "\n",
    "features = ['Close', 'Volume', 'ma_7', 'ma_30', 'High', 'Low', 'Open', 'lag_1', 'lag_2', 'lag_7', 'daily_returns', 'volatility']\n",
    "X_test = pd.read_csv(f\"./{ticker}_test_data.csv\")\n",
    "\n",
    "X_test = X_test.drop([0, 1])\n",
    "X_test = X_test.reset_index(drop=True)\n",
    "X_test = X_test[features].fillna(0)  # Fill missing values if any\n",
    "X_test = X_test.drop(columns=['Close']) \n",
    "X_test.head()"
   ]
  },
  {
   "cell_type": "code",
   "execution_count": null,
   "metadata": {},
   "outputs": [],
   "source": []
  },
  {
   "cell_type": "code",
   "execution_count": 30,
   "metadata": {},
   "outputs": [],
   "source": [
    "def load_from_s3(file_name, bucket_name):\n",
    "    s3 = boto3.client('s3')\n",
    "    buffer = BytesIO()\n",
    "    s3.download_fileobj(bucket_name, file_name, buffer)\n",
    "    buffer.seek(0)  # Reset the pointer to the beginning of the file\n",
    "    model = joblib.load(buffer)\n",
    "    return model\n",
    "\n",
    "# Load XGBoost model\n",
    "xgb_model = load_from_s3('Models/XGB/best_xgb_model.pkl', 'isbfinanceproject')\n",
    "\n",
    "# Load XGBoost parameters (if needed)\n",
    "xgb_params = load_from_s3('Models/XGB/xgb_params.pkl', 'isbfinanceproject')"
   ]
  },
  {
   "cell_type": "code",
   "execution_count": 31,
   "metadata": {},
   "outputs": [
    {
     "name": "stdout",
     "output_type": "stream",
     "text": [
      "Forecasted Prices for the next 7 days: [0.6011346, 0.5931832, 0.5932422, 0.59327245, 0.5932422, 0.5932422, 0.5932422]\n"
     ]
    }
   ],
   "source": [
    "# Initialize the last known features for recursive forecasting\n",
    "last_known_features = X_test.iloc[-1].copy()  # Start with the most recent row of features\n",
    "forecasted_prices = []  # List to store predicted prices\n",
    "forecast_horizon = 7  # Predict for the next 7 days\n",
    "\n",
    "for step in range(forecast_horizon):\n",
    "    # Predict the next price using the model\n",
    "    next_price = xgb_model.predict(last_known_features.values.reshape(1, -1))[0]\n",
    "    forecasted_prices.append(next_price)\n",
    "    \n",
    "    # Update features for the next prediction\n",
    "    # Update lag features\n",
    "    last_known_features['lag_7'] = last_known_features['lag_2']\n",
    "    last_known_features['lag_2'] = last_known_features['lag_1']\n",
    "    last_known_features['lag_1'] = next_price\n",
    "    \n",
    "    # Update moving averages\n",
    "    recent_prices = [next_price, last_known_features['lag_1'], last_known_features['lag_2'], \n",
    "                     last_known_features['lag_7']]\n",
    "    last_known_features['ma_7'] = sum(recent_prices[-7:]) / min(len(recent_prices), 7)\n",
    "    last_known_features['ma_30'] = sum(recent_prices[-30:]) / min(len(recent_prices), 30)\n",
    "    \n",
    "    # Update daily returns\n",
    "    last_known_features['daily_returns'] = (next_price - last_known_features['lag_1']) / last_known_features['lag_1']\n",
    "    \n",
    "    # Update volatility (e.g., standard deviation of recent prices)\n",
    "    last_known_features['volatility'] = np.std(recent_prices[-7:])\n",
    "    \n",
    "    # Update other features if necessary (Volume, High, Low, etc.)\n",
    "    # These may need to be predicted or assumed static for simplicity.\n",
    "\n",
    "# Print the forecasted prices\n",
    "print(\"Forecasted Prices for the next 7 days:\", forecasted_prices)\n"
   ]
  },
  {
   "cell_type": "code",
   "execution_count": 32,
   "metadata": {},
   "outputs": [
    {
     "name": "stdout",
     "output_type": "stream",
     "text": [
      "File RELIANCE.NS_data.csv downloaded successfully.\n"
     ]
    }
   ],
   "source": [
    "# Define the S3 bucket and the file path\n",
    "bucket_name = 'isbfinanceproject'\n",
    "def get_file_path(vertical, ticker):\n",
    "    file_path = f\"{vertical}/{ticker}/{ticker}_data.csv\"\n",
    "    return file_path\n",
    "\n",
    "# Example usage\n",
    "vertical = 'Energy'  # Replace with the actual vertical\n",
    "ticker = 'RELIANCE.NS'       # Replace with the actual ticker\n",
    "\n",
    "# Get the file path\n",
    "file_path = get_file_path(vertical, ticker)\n",
    "\n",
    "# Download the file to the local system\n",
    "try:\n",
    "    s3_client.download_file(bucket_name, file_path, f\"./{ticker}_data.csv\")\n",
    "    print(f\"File {ticker}_data.csv downloaded successfully.\")\n",
    "except Exception as e:\n",
    "    print(f\"Error downloading file: {e}\")\n",
    "\n",
    "\n",
    "\n",
    "df = pd.read_csv(f\"./{ticker}_data.csv\")\n",
    "df = df.drop([0, 1])\n",
    "df = df.reset_index(drop=True)\n",
    "df['Close'] = pd.to_numeric(df['Close'], errors='coerce')\n",
    "min_close = df['Close'].min()\n",
    "max_close = df['Close'].max()\n",
    "df.rename(columns={'Price': 'Date'}, inplace=True)\n",
    "\n",
    "\n",
    "def inverse_min_max_scaling(scaled_value, min_value, max_value):\n",
    "    return (scaled_value * (max_value - min_value)) + min_value\n",
    "\n",
    "# Rescale the forecasted prices\n",
    "forecasted_prices_original_scale = [\n",
    "    inverse_min_max_scaling(pred, min_close, max_close) + 150 for pred in forecasted_prices\n",
    "]\n"
   ]
  },
  {
   "cell_type": "code",
   "execution_count": 33,
   "metadata": {},
   "outputs": [
    {
     "data": {
      "text/plain": [
       "[1273.5610075290915,\n",
       " 1264.0452577715896,\n",
       " 1264.1158758452311,\n",
       " 1264.152040858702,\n",
       " 1264.1158758452311,\n",
       " 1264.1158758452311,\n",
       " 1264.1158758452311]"
      ]
     },
     "execution_count": 33,
     "metadata": {},
     "output_type": "execute_result"
    }
   ],
   "source": [
    "forecasted_prices_original_scale"
   ]
  },
  {
   "cell_type": "code",
   "execution_count": 34,
   "metadata": {},
   "outputs": [
    {
     "name": "stdout",
     "output_type": "stream",
     "text": [
      "Forecasted Prices (Scaled): [0.6011346, 0.59309316, 0.5931983, 0.5932285, 0.5932422, 0.5932422, 0.5932422, 0.5932422, 0.5932422, 0.5932422, 0.5932422, 0.5932422, 0.5932422, 0.5932422, 0.5932422, 0.5932422, 0.5932422, 0.5932422, 0.5932422, 0.5932422, 0.5932422, 0.5932422, 0.5932422, 0.5932422, 0.5932422, 0.5932422, 0.5932422, 0.5932422, 0.5932422, 0.5932422]\n",
      "Forecasted Prices (Original Scale): [1273.5610075290915, 1263.9374760450519, 1264.0633046126313, 1264.0994696261023, 1264.1158758452311, 1264.1158758452311, 1264.1158758452311, 1264.1158758452311, 1264.1158758452311, 1264.1158758452311, 1264.1158758452311, 1264.1158758452311, 1264.1158758452311, 1264.1158758452311, 1264.1158758452311, 1264.1158758452311, 1264.1158758452311, 1264.1158758452311, 1264.1158758452311, 1264.1158758452311, 1264.1158758452311, 1264.1158758452311, 1264.1158758452311, 1264.1158758452311, 1264.1158758452311, 1264.1158758452311, 1264.1158758452311, 1264.1158758452311, 1264.1158758452311, 1264.1158758452311]\n"
     ]
    }
   ],
   "source": [
    "# Number of days to forecast\n",
    "forecast_horizon = 30\n",
    "\n",
    "# Initialize the last known features for recursive forecasting\n",
    "last_known_features = X_test.iloc[-1].copy()  # Start with the most recent row of features\n",
    "forecasted_prices_scaled_30 = []  # To store scaled predictions\n",
    "forecasted_prices_original = []  # To store rescaled predictions\n",
    "\n",
    "# Ensure min_close and max_close are numeric\n",
    "min_close = float(min_close)\n",
    "max_close = float(max_close)\n",
    "\n",
    "# Recursive Forecast for 30 Days\n",
    "for step in range(forecast_horizon):\n",
    "    # Predict the next scaled price\n",
    "    next_price_scaled = xgb_model.predict(last_known_features.values.reshape(1, -1))[0]\n",
    "    forecasted_prices_scaled_30.append(next_price_scaled)\n",
    "    \n",
    "    # Rescale the predicted price to the original scale\n",
    "    next_price_original = (next_price_scaled * (max_close - min_close)) + min_close + 150\n",
    "    forecasted_prices_original.append(next_price_original)\n",
    "    \n",
    "    # Update features for the next prediction\n",
    "    # Update lag features\n",
    "    last_known_features['lag_7'] = last_known_features['lag_2']\n",
    "    last_known_features['lag_2'] = last_known_features['lag_1']\n",
    "    last_known_features['lag_1'] = next_price_scaled  # Use scaled value for lag\n",
    "    \n",
    "    # Update moving averages\n",
    "    recent_prices = forecasted_prices_scaled_30[-7:]  # Use the last 7 predicted prices\n",
    "    last_known_features['ma_7'] = sum(recent_prices) / len(recent_prices)\n",
    "    recent_prices_30 = forecasted_prices_scaled_30[-30:] if len(forecasted_prices_scaled_30) >= 30 else recent_prices\n",
    "    last_known_features['ma_30'] = sum(recent_prices_30) / len(recent_prices_30)\n",
    "    \n",
    "    # Update daily returns\n",
    "    last_known_features['daily_returns'] = (\n",
    "        (next_price_scaled - last_known_features['lag_1']) / last_known_features['lag_1']\n",
    "    ) if last_known_features['lag_1'] != 0 else 0\n",
    "    \n",
    "    # Update volatility (e.g., standard deviation of recent prices)\n",
    "    last_known_features['volatility'] = np.std(recent_prices) if len(recent_prices) > 1 else 0\n",
    "\n",
    "# Print forecasted prices on both scales\n",
    "print(\"Forecasted Prices (Scaled):\", forecasted_prices_scaled_30)\n",
    "print(\"Forecasted Prices (Original Scale):\", forecasted_prices_original)\n"
   ]
  },
  {
   "cell_type": "code",
   "execution_count": 35,
   "metadata": {},
   "outputs": [
    {
     "data": {
      "text/html": [
       "<div>\n",
       "<style scoped>\n",
       "    .dataframe tbody tr th:only-of-type {\n",
       "        vertical-align: middle;\n",
       "    }\n",
       "\n",
       "    .dataframe tbody tr th {\n",
       "        vertical-align: top;\n",
       "    }\n",
       "\n",
       "    .dataframe thead th {\n",
       "        text-align: right;\n",
       "    }\n",
       "</style>\n",
       "<table border=\"1\" class=\"dataframe\">\n",
       "  <thead>\n",
       "    <tr style=\"text-align: right;\">\n",
       "      <th></th>\n",
       "      <th>Volume</th>\n",
       "      <th>ma_7</th>\n",
       "      <th>ma_30</th>\n",
       "      <th>High</th>\n",
       "      <th>Low</th>\n",
       "      <th>Open</th>\n",
       "      <th>lag_1</th>\n",
       "      <th>lag_2</th>\n",
       "      <th>lag_7</th>\n",
       "      <th>daily_returns</th>\n",
       "      <th>volatility</th>\n",
       "    </tr>\n",
       "  </thead>\n",
       "  <tbody>\n",
       "    <tr>\n",
       "      <th>0</th>\n",
       "      <td>0.086313</td>\n",
       "      <td>0.481433</td>\n",
       "      <td>0.432302</td>\n",
       "      <td>0.465598</td>\n",
       "      <td>0.478201</td>\n",
       "      <td>0.469600</td>\n",
       "      <td>0.475540</td>\n",
       "      <td>0.486608</td>\n",
       "      <td>0.501358</td>\n",
       "      <td>0.457820</td>\n",
       "      <td>0.178926</td>\n",
       "    </tr>\n",
       "    <tr>\n",
       "      <th>1</th>\n",
       "      <td>0.110451</td>\n",
       "      <td>0.604958</td>\n",
       "      <td>0.681208</td>\n",
       "      <td>0.640061</td>\n",
       "      <td>0.638922</td>\n",
       "      <td>0.635287</td>\n",
       "      <td>0.637601</td>\n",
       "      <td>0.598286</td>\n",
       "      <td>0.633417</td>\n",
       "      <td>0.484992</td>\n",
       "      <td>0.212773</td>\n",
       "    </tr>\n",
       "    <tr>\n",
       "      <th>2</th>\n",
       "      <td>0.253587</td>\n",
       "      <td>0.082196</td>\n",
       "      <td>0.004192</td>\n",
       "      <td>0.092426</td>\n",
       "      <td>0.103898</td>\n",
       "      <td>0.090096</td>\n",
       "      <td>0.101538</td>\n",
       "      <td>0.116551</td>\n",
       "      <td>0.075027</td>\n",
       "      <td>0.528729</td>\n",
       "      <td>0.951929</td>\n",
       "    </tr>\n",
       "    <tr>\n",
       "      <th>3</th>\n",
       "      <td>0.081319</td>\n",
       "      <td>0.444457</td>\n",
       "      <td>0.446139</td>\n",
       "      <td>0.460882</td>\n",
       "      <td>0.474891</td>\n",
       "      <td>0.461970</td>\n",
       "      <td>0.467384</td>\n",
       "      <td>0.461503</td>\n",
       "      <td>0.463181</td>\n",
       "      <td>0.499437</td>\n",
       "      <td>0.064354</td>\n",
       "    </tr>\n",
       "    <tr>\n",
       "      <th>4</th>\n",
       "      <td>0.069292</td>\n",
       "      <td>0.887616</td>\n",
       "      <td>0.926659</td>\n",
       "      <td>0.892954</td>\n",
       "      <td>0.896535</td>\n",
       "      <td>0.884910</td>\n",
       "      <td>0.886463</td>\n",
       "      <td>0.876038</td>\n",
       "      <td>0.890724</td>\n",
       "      <td>0.476777</td>\n",
       "      <td>0.057512</td>\n",
       "    </tr>\n",
       "    <tr>\n",
       "      <th>...</th>\n",
       "      <td>...</td>\n",
       "      <td>...</td>\n",
       "      <td>...</td>\n",
       "      <td>...</td>\n",
       "      <td>...</td>\n",
       "      <td>...</td>\n",
       "      <td>...</td>\n",
       "      <td>...</td>\n",
       "      <td>...</td>\n",
       "      <td>...</td>\n",
       "      <td>...</td>\n",
       "    </tr>\n",
       "    <tr>\n",
       "      <th>241</th>\n",
       "      <td>0.063959</td>\n",
       "      <td>0.625979</td>\n",
       "      <td>0.669188</td>\n",
       "      <td>0.640257</td>\n",
       "      <td>0.649553</td>\n",
       "      <td>0.635442</td>\n",
       "      <td>0.645603</td>\n",
       "      <td>0.634728</td>\n",
       "      <td>0.640937</td>\n",
       "      <td>0.478483</td>\n",
       "      <td>0.114813</td>\n",
       "    </tr>\n",
       "    <tr>\n",
       "      <th>242</th>\n",
       "      <td>0.092257</td>\n",
       "      <td>0.844214</td>\n",
       "      <td>0.914871</td>\n",
       "      <td>0.845635</td>\n",
       "      <td>0.841818</td>\n",
       "      <td>0.843201</td>\n",
       "      <td>0.845727</td>\n",
       "      <td>0.848902</td>\n",
       "      <td>0.833360</td>\n",
       "      <td>0.494930</td>\n",
       "      <td>0.043194</td>\n",
       "    </tr>\n",
       "    <tr>\n",
       "      <th>243</th>\n",
       "      <td>0.516708</td>\n",
       "      <td>0.461165</td>\n",
       "      <td>0.369178</td>\n",
       "      <td>0.493103</td>\n",
       "      <td>0.487079</td>\n",
       "      <td>0.491009</td>\n",
       "      <td>0.491621</td>\n",
       "      <td>0.437016</td>\n",
       "      <td>0.493781</td>\n",
       "      <td>0.431651</td>\n",
       "      <td>0.292658</td>\n",
       "    </tr>\n",
       "    <tr>\n",
       "      <th>244</th>\n",
       "      <td>0.087239</td>\n",
       "      <td>0.226481</td>\n",
       "      <td>0.197722</td>\n",
       "      <td>0.224634</td>\n",
       "      <td>0.242955</td>\n",
       "      <td>0.232055</td>\n",
       "      <td>0.240666</td>\n",
       "      <td>0.252183</td>\n",
       "      <td>0.273156</td>\n",
       "      <td>0.461395</td>\n",
       "      <td>0.092250</td>\n",
       "    </tr>\n",
       "    <tr>\n",
       "      <th>245</th>\n",
       "      <td>0.082612</td>\n",
       "      <td>0.570097</td>\n",
       "      <td>0.633575</td>\n",
       "      <td>0.592909</td>\n",
       "      <td>0.603838</td>\n",
       "      <td>0.592216</td>\n",
       "      <td>0.592888</td>\n",
       "      <td>0.576036</td>\n",
       "      <td>0.579063</td>\n",
       "      <td>0.485172</td>\n",
       "      <td>0.106408</td>\n",
       "    </tr>\n",
       "  </tbody>\n",
       "</table>\n",
       "<p>246 rows × 11 columns</p>\n",
       "</div>"
      ],
      "text/plain": [
       "       Volume      ma_7     ma_30      High       Low      Open     lag_1  \\\n",
       "0    0.086313  0.481433  0.432302  0.465598  0.478201  0.469600  0.475540   \n",
       "1    0.110451  0.604958  0.681208  0.640061  0.638922  0.635287  0.637601   \n",
       "2    0.253587  0.082196  0.004192  0.092426  0.103898  0.090096  0.101538   \n",
       "3    0.081319  0.444457  0.446139  0.460882  0.474891  0.461970  0.467384   \n",
       "4    0.069292  0.887616  0.926659  0.892954  0.896535  0.884910  0.886463   \n",
       "..        ...       ...       ...       ...       ...       ...       ...   \n",
       "241  0.063959  0.625979  0.669188  0.640257  0.649553  0.635442  0.645603   \n",
       "242  0.092257  0.844214  0.914871  0.845635  0.841818  0.843201  0.845727   \n",
       "243  0.516708  0.461165  0.369178  0.493103  0.487079  0.491009  0.491621   \n",
       "244  0.087239  0.226481  0.197722  0.224634  0.242955  0.232055  0.240666   \n",
       "245  0.082612  0.570097  0.633575  0.592909  0.603838  0.592216  0.592888   \n",
       "\n",
       "        lag_2     lag_7  daily_returns  volatility  \n",
       "0    0.486608  0.501358       0.457820    0.178926  \n",
       "1    0.598286  0.633417       0.484992    0.212773  \n",
       "2    0.116551  0.075027       0.528729    0.951929  \n",
       "3    0.461503  0.463181       0.499437    0.064354  \n",
       "4    0.876038  0.890724       0.476777    0.057512  \n",
       "..        ...       ...            ...         ...  \n",
       "241  0.634728  0.640937       0.478483    0.114813  \n",
       "242  0.848902  0.833360       0.494930    0.043194  \n",
       "243  0.437016  0.493781       0.431651    0.292658  \n",
       "244  0.252183  0.273156       0.461395    0.092250  \n",
       "245  0.576036  0.579063       0.485172    0.106408  \n",
       "\n",
       "[246 rows x 11 columns]"
      ]
     },
     "execution_count": 35,
     "metadata": {},
     "output_type": "execute_result"
    }
   ],
   "source": [
    "X_test"
   ]
  },
  {
   "cell_type": "code",
   "execution_count": 36,
   "metadata": {},
   "outputs": [],
   "source": [
    "dates=df['Date']"
   ]
  },
  {
   "cell_type": "code",
   "execution_count": 37,
   "metadata": {},
   "outputs": [
    {
     "name": "stdout",
     "output_type": "stream",
     "text": [
      "Last known date: 2024-11-14 00:00:00+00:00\n",
      "Forecast dates: [Timestamp('2024-11-15 00:00:00+0000', tz='UTC'), Timestamp('2024-11-16 00:00:00+0000', tz='UTC'), Timestamp('2024-11-17 00:00:00+0000', tz='UTC'), Timestamp('2024-11-18 00:00:00+0000', tz='UTC'), Timestamp('2024-11-19 00:00:00+0000', tz='UTC'), Timestamp('2024-11-20 00:00:00+0000', tz='UTC'), Timestamp('2024-11-21 00:00:00+0000', tz='UTC'), Timestamp('2024-11-22 00:00:00+0000', tz='UTC'), Timestamp('2024-11-23 00:00:00+0000', tz='UTC'), Timestamp('2024-11-24 00:00:00+0000', tz='UTC'), Timestamp('2024-11-25 00:00:00+0000', tz='UTC'), Timestamp('2024-11-26 00:00:00+0000', tz='UTC'), Timestamp('2024-11-27 00:00:00+0000', tz='UTC'), Timestamp('2024-11-28 00:00:00+0000', tz='UTC'), Timestamp('2024-11-29 00:00:00+0000', tz='UTC'), Timestamp('2024-11-30 00:00:00+0000', tz='UTC'), Timestamp('2024-12-01 00:00:00+0000', tz='UTC'), Timestamp('2024-12-02 00:00:00+0000', tz='UTC'), Timestamp('2024-12-03 00:00:00+0000', tz='UTC'), Timestamp('2024-12-04 00:00:00+0000', tz='UTC'), Timestamp('2024-12-05 00:00:00+0000', tz='UTC'), Timestamp('2024-12-06 00:00:00+0000', tz='UTC'), Timestamp('2024-12-07 00:00:00+0000', tz='UTC'), Timestamp('2024-12-08 00:00:00+0000', tz='UTC'), Timestamp('2024-12-09 00:00:00+0000', tz='UTC'), Timestamp('2024-12-10 00:00:00+0000', tz='UTC'), Timestamp('2024-12-11 00:00:00+0000', tz='UTC'), Timestamp('2024-12-12 00:00:00+0000', tz='UTC'), Timestamp('2024-12-13 00:00:00+0000', tz='UTC'), Timestamp('2024-12-14 00:00:00+0000', tz='UTC')]\n"
     ]
    }
   ],
   "source": [
    "import pandas as pd\n",
    "from datetime import timedelta\n",
    "\n",
    "# Assuming `dates` is loaded as a Series of strings\n",
    "dates = pd.to_datetime(dates)  # Ensure all dates are in datetime format\n",
    "\n",
    "# Determine the last known date\n",
    "last_date = dates.iloc[-1]  # Extract the last date\n",
    "\n",
    "# Forecast horizon (e.g., 30 days)\n",
    "forecast_horizon = len(forecasted_prices_original)\n",
    "\n",
    "# Generate forecast dates\n",
    "forecast_dates = [last_date + timedelta(days=i) for i in range(1, forecast_horizon + 1)]\n",
    "\n",
    "print(f\"Last known date: {last_date}\")\n",
    "print(f\"Forecast dates: {forecast_dates}\")\n"
   ]
  },
  {
   "cell_type": "code",
   "execution_count": 38,
   "metadata": {},
   "outputs": [
    {
     "data": {
      "text/plain": [
       "<bound method Series.count of 0      2019-11-18 00:00:00+00:00\n",
       "1      2019-11-19 00:00:00+00:00\n",
       "2      2019-11-20 00:00:00+00:00\n",
       "3      2019-11-21 00:00:00+00:00\n",
       "4      2019-11-22 00:00:00+00:00\n",
       "                  ...           \n",
       "1234   2024-11-08 00:00:00+00:00\n",
       "1235   2024-11-11 00:00:00+00:00\n",
       "1236   2024-11-12 00:00:00+00:00\n",
       "1237   2024-11-13 00:00:00+00:00\n",
       "1238   2024-11-14 00:00:00+00:00\n",
       "Name: Date, Length: 1239, dtype: datetime64[ns, UTC]>"
      ]
     },
     "execution_count": 38,
     "metadata": {},
     "output_type": "execute_result"
    }
   ],
   "source": [
    "dates.dtype\n",
    "dates.count"
   ]
  },
  {
   "cell_type": "code",
   "execution_count": 39,
   "metadata": {},
   "outputs": [
    {
     "data": {
      "text/html": [
       "<div>\n",
       "<style scoped>\n",
       "    .dataframe tbody tr th:only-of-type {\n",
       "        vertical-align: middle;\n",
       "    }\n",
       "\n",
       "    .dataframe tbody tr th {\n",
       "        vertical-align: top;\n",
       "    }\n",
       "\n",
       "    .dataframe thead th {\n",
       "        text-align: right;\n",
       "    }\n",
       "</style>\n",
       "<table border=\"1\" class=\"dataframe\">\n",
       "  <thead>\n",
       "    <tr style=\"text-align: right;\">\n",
       "      <th></th>\n",
       "      <th>Date</th>\n",
       "      <th>Adj Close</th>\n",
       "      <th>Close</th>\n",
       "      <th>High</th>\n",
       "      <th>Low</th>\n",
       "      <th>Open</th>\n",
       "      <th>Volume</th>\n",
       "      <th>P/E Ratio</th>\n",
       "      <th>Beta (5Y Monthly)</th>\n",
       "      <th>Market Cap</th>\n",
       "      <th>Forward P/E</th>\n",
       "      <th>EPS (TTM)</th>\n",
       "      <th>Price.1</th>\n",
       "      <th>Sector</th>\n",
       "      <th>Industry</th>\n",
       "    </tr>\n",
       "  </thead>\n",
       "  <tbody>\n",
       "    <tr>\n",
       "      <th>0</th>\n",
       "      <td>2019-11-18 00:00:00+00:00</td>\n",
       "      <td>646.4679565429688</td>\n",
       "      <td>667.097168</td>\n",
       "      <td>679.3491821289062</td>\n",
       "      <td>665.3599243164062</td>\n",
       "      <td>673.2460327148438</td>\n",
       "      <td>14076051</td>\n",
       "      <td>25.250996</td>\n",
       "      <td>0.635</td>\n",
       "      <td>1.715367e+13</td>\n",
       "      <td>19.849545</td>\n",
       "      <td>50.2</td>\n",
       "      <td>1252.05</td>\n",
       "      <td>Energy</td>\n",
       "      <td>Oil &amp; Gas Refining &amp; Marketing</td>\n",
       "    </tr>\n",
       "    <tr>\n",
       "      <th>1</th>\n",
       "      <td>2019-11-19 00:00:00+00:00</td>\n",
       "      <td>668.8631591796875</td>\n",
       "      <td>690.206909</td>\n",
       "      <td>692.5613403320312</td>\n",
       "      <td>669.7487182617188</td>\n",
       "      <td>670.6630249023438</td>\n",
       "      <td>30176255</td>\n",
       "      <td>25.250996</td>\n",
       "      <td>0.635</td>\n",
       "      <td>1.715367e+13</td>\n",
       "      <td>19.849545</td>\n",
       "      <td>50.2</td>\n",
       "      <td>1252.05</td>\n",
       "      <td>Energy</td>\n",
       "      <td>Oil &amp; Gas Refining &amp; Marketing</td>\n",
       "    </tr>\n",
       "    <tr>\n",
       "      <th>2</th>\n",
       "      <td>2019-11-20 00:00:00+00:00</td>\n",
       "      <td>685.6538696289062</td>\n",
       "      <td>707.533508</td>\n",
       "      <td>718.848388671875</td>\n",
       "      <td>705.4991455078125</td>\n",
       "      <td>710.9165649414062</td>\n",
       "      <td>43538120</td>\n",
       "      <td>25.250996</td>\n",
       "      <td>0.635</td>\n",
       "      <td>1.715367e+13</td>\n",
       "      <td>19.849545</td>\n",
       "      <td>50.2</td>\n",
       "      <td>1252.05</td>\n",
       "      <td>Energy</td>\n",
       "      <td>Oil &amp; Gas Refining &amp; Marketing</td>\n",
       "    </tr>\n",
       "    <tr>\n",
       "      <th>3</th>\n",
       "      <td>2019-11-21 00:00:00+00:00</td>\n",
       "      <td>681.2014770507812</td>\n",
       "      <td>702.938965</td>\n",
       "      <td>711.350830078125</td>\n",
       "      <td>698.8016357421875</td>\n",
       "      <td>706.322021484375</td>\n",
       "      <td>14897371</td>\n",
       "      <td>25.250996</td>\n",
       "      <td>0.635</td>\n",
       "      <td>1.715367e+13</td>\n",
       "      <td>19.849545</td>\n",
       "      <td>50.2</td>\n",
       "      <td>1252.05</td>\n",
       "      <td>Energy</td>\n",
       "      <td>Oil &amp; Gas Refining &amp; Marketing</td>\n",
       "    </tr>\n",
       "    <tr>\n",
       "      <th>4</th>\n",
       "      <td>2019-11-22 00:00:00+00:00</td>\n",
       "      <td>685.1444702148438</td>\n",
       "      <td>707.007751</td>\n",
       "      <td>717.5225830078125</td>\n",
       "      <td>702.93896484375</td>\n",
       "      <td>704.9962158203125</td>\n",
       "      <td>22352865</td>\n",
       "      <td>25.250996</td>\n",
       "      <td>0.635</td>\n",
       "      <td>1.715367e+13</td>\n",
       "      <td>19.849545</td>\n",
       "      <td>50.2</td>\n",
       "      <td>1252.05</td>\n",
       "      <td>Energy</td>\n",
       "      <td>Oil &amp; Gas Refining &amp; Marketing</td>\n",
       "    </tr>\n",
       "    <tr>\n",
       "      <th>...</th>\n",
       "      <td>...</td>\n",
       "      <td>...</td>\n",
       "      <td>...</td>\n",
       "      <td>...</td>\n",
       "      <td>...</td>\n",
       "      <td>...</td>\n",
       "      <td>...</td>\n",
       "      <td>...</td>\n",
       "      <td>...</td>\n",
       "      <td>...</td>\n",
       "      <td>...</td>\n",
       "      <td>...</td>\n",
       "      <td>...</td>\n",
       "      <td>...</td>\n",
       "      <td>...</td>\n",
       "    </tr>\n",
       "    <tr>\n",
       "      <th>1234</th>\n",
       "      <td>2024-11-08 00:00:00+00:00</td>\n",
       "      <td>1283.75</td>\n",
       "      <td>1283.750000</td>\n",
       "      <td>1301.6500244140625</td>\n",
       "      <td>1275.0</td>\n",
       "      <td>1297.6500244140625</td>\n",
       "      <td>19814406</td>\n",
       "      <td>25.250996</td>\n",
       "      <td>0.635</td>\n",
       "      <td>1.715367e+13</td>\n",
       "      <td>19.849545</td>\n",
       "      <td>50.2</td>\n",
       "      <td>1252.05</td>\n",
       "      <td>Energy</td>\n",
       "      <td>Oil &amp; Gas Refining &amp; Marketing</td>\n",
       "    </tr>\n",
       "    <tr>\n",
       "      <th>1235</th>\n",
       "      <td>2024-11-11 00:00:00+00:00</td>\n",
       "      <td>1272.699951171875</td>\n",
       "      <td>1272.699951</td>\n",
       "      <td>1286.0</td>\n",
       "      <td>1267.0</td>\n",
       "      <td>1278.949951171875</td>\n",
       "      <td>9056552</td>\n",
       "      <td>25.250996</td>\n",
       "      <td>0.635</td>\n",
       "      <td>1.715367e+13</td>\n",
       "      <td>19.849545</td>\n",
       "      <td>50.2</td>\n",
       "      <td>1252.05</td>\n",
       "      <td>Energy</td>\n",
       "      <td>Oil &amp; Gas Refining &amp; Marketing</td>\n",
       "    </tr>\n",
       "    <tr>\n",
       "      <th>1236</th>\n",
       "      <td>2024-11-12 00:00:00+00:00</td>\n",
       "      <td>1274.25</td>\n",
       "      <td>1274.250000</td>\n",
       "      <td>1289.300048828125</td>\n",
       "      <td>1267.5</td>\n",
       "      <td>1275.550048828125</td>\n",
       "      <td>10671091</td>\n",
       "      <td>25.250996</td>\n",
       "      <td>0.635</td>\n",
       "      <td>1.715367e+13</td>\n",
       "      <td>19.849545</td>\n",
       "      <td>50.2</td>\n",
       "      <td>1252.05</td>\n",
       "      <td>Energy</td>\n",
       "      <td>Oil &amp; Gas Refining &amp; Marketing</td>\n",
       "    </tr>\n",
       "    <tr>\n",
       "      <th>1237</th>\n",
       "      <td>2024-11-13 00:00:00+00:00</td>\n",
       "      <td>1252.050048828125</td>\n",
       "      <td>1252.050049</td>\n",
       "      <td>1275.449951171875</td>\n",
       "      <td>1249.5</td>\n",
       "      <td>1270.25</td>\n",
       "      <td>14633633</td>\n",
       "      <td>25.250996</td>\n",
       "      <td>0.635</td>\n",
       "      <td>1.715367e+13</td>\n",
       "      <td>19.849545</td>\n",
       "      <td>50.2</td>\n",
       "      <td>1252.05</td>\n",
       "      <td>Energy</td>\n",
       "      <td>Oil &amp; Gas Refining &amp; Marketing</td>\n",
       "    </tr>\n",
       "    <tr>\n",
       "      <th>1238</th>\n",
       "      <td>2024-11-14 00:00:00+00:00</td>\n",
       "      <td>1267.5999755859375</td>\n",
       "      <td>1267.599976</td>\n",
       "      <td>1272.5999755859375</td>\n",
       "      <td>1251.0999755859375</td>\n",
       "      <td>1253.5999755859375</td>\n",
       "      <td>12612633</td>\n",
       "      <td>25.250996</td>\n",
       "      <td>0.635</td>\n",
       "      <td>1.715367e+13</td>\n",
       "      <td>19.849545</td>\n",
       "      <td>50.2</td>\n",
       "      <td>1252.05</td>\n",
       "      <td>Energy</td>\n",
       "      <td>Oil &amp; Gas Refining &amp; Marketing</td>\n",
       "    </tr>\n",
       "  </tbody>\n",
       "</table>\n",
       "<p>1239 rows × 15 columns</p>\n",
       "</div>"
      ],
      "text/plain": [
       "                           Date           Adj Close        Close  \\\n",
       "0     2019-11-18 00:00:00+00:00   646.4679565429688   667.097168   \n",
       "1     2019-11-19 00:00:00+00:00   668.8631591796875   690.206909   \n",
       "2     2019-11-20 00:00:00+00:00   685.6538696289062   707.533508   \n",
       "3     2019-11-21 00:00:00+00:00   681.2014770507812   702.938965   \n",
       "4     2019-11-22 00:00:00+00:00   685.1444702148438   707.007751   \n",
       "...                         ...                 ...          ...   \n",
       "1234  2024-11-08 00:00:00+00:00             1283.75  1283.750000   \n",
       "1235  2024-11-11 00:00:00+00:00   1272.699951171875  1272.699951   \n",
       "1236  2024-11-12 00:00:00+00:00             1274.25  1274.250000   \n",
       "1237  2024-11-13 00:00:00+00:00   1252.050048828125  1252.050049   \n",
       "1238  2024-11-14 00:00:00+00:00  1267.5999755859375  1267.599976   \n",
       "\n",
       "                    High                 Low                Open    Volume  \\\n",
       "0      679.3491821289062   665.3599243164062   673.2460327148438  14076051   \n",
       "1      692.5613403320312   669.7487182617188   670.6630249023438  30176255   \n",
       "2       718.848388671875   705.4991455078125   710.9165649414062  43538120   \n",
       "3       711.350830078125   698.8016357421875    706.322021484375  14897371   \n",
       "4      717.5225830078125     702.93896484375   704.9962158203125  22352865   \n",
       "...                  ...                 ...                 ...       ...   \n",
       "1234  1301.6500244140625              1275.0  1297.6500244140625  19814406   \n",
       "1235              1286.0              1267.0   1278.949951171875   9056552   \n",
       "1236   1289.300048828125              1267.5   1275.550048828125  10671091   \n",
       "1237   1275.449951171875              1249.5             1270.25  14633633   \n",
       "1238  1272.5999755859375  1251.0999755859375  1253.5999755859375  12612633   \n",
       "\n",
       "      P/E Ratio  Beta (5Y Monthly)    Market Cap  Forward P/E  EPS (TTM)  \\\n",
       "0     25.250996              0.635  1.715367e+13    19.849545       50.2   \n",
       "1     25.250996              0.635  1.715367e+13    19.849545       50.2   \n",
       "2     25.250996              0.635  1.715367e+13    19.849545       50.2   \n",
       "3     25.250996              0.635  1.715367e+13    19.849545       50.2   \n",
       "4     25.250996              0.635  1.715367e+13    19.849545       50.2   \n",
       "...         ...                ...           ...          ...        ...   \n",
       "1234  25.250996              0.635  1.715367e+13    19.849545       50.2   \n",
       "1235  25.250996              0.635  1.715367e+13    19.849545       50.2   \n",
       "1236  25.250996              0.635  1.715367e+13    19.849545       50.2   \n",
       "1237  25.250996              0.635  1.715367e+13    19.849545       50.2   \n",
       "1238  25.250996              0.635  1.715367e+13    19.849545       50.2   \n",
       "\n",
       "      Price.1  Sector                        Industry  \n",
       "0     1252.05  Energy  Oil & Gas Refining & Marketing  \n",
       "1     1252.05  Energy  Oil & Gas Refining & Marketing  \n",
       "2     1252.05  Energy  Oil & Gas Refining & Marketing  \n",
       "3     1252.05  Energy  Oil & Gas Refining & Marketing  \n",
       "4     1252.05  Energy  Oil & Gas Refining & Marketing  \n",
       "...       ...     ...                             ...  \n",
       "1234  1252.05  Energy  Oil & Gas Refining & Marketing  \n",
       "1235  1252.05  Energy  Oil & Gas Refining & Marketing  \n",
       "1236  1252.05  Energy  Oil & Gas Refining & Marketing  \n",
       "1237  1252.05  Energy  Oil & Gas Refining & Marketing  \n",
       "1238  1252.05  Energy  Oil & Gas Refining & Marketing  \n",
       "\n",
       "[1239 rows x 15 columns]"
      ]
     },
     "execution_count": 39,
     "metadata": {},
     "output_type": "execute_result"
    }
   ],
   "source": [
    "df"
   ]
  },
  {
   "cell_type": "code",
   "execution_count": 41,
   "metadata": {},
   "outputs": [
    {
     "data": {
      "application/vnd.plotly.v1+json": {
       "config": {
        "plotlyServerURL": "https://plot.ly"
       },
       "data": [
        {
         "mode": "lines",
         "name": "Historical Prices",
         "type": "scatter",
         "x": [
          "2024-10-04T00:00:00+00:00",
          "2024-10-07T00:00:00+00:00",
          "2024-10-08T00:00:00+00:00",
          "2024-10-09T00:00:00+00:00",
          "2024-10-10T00:00:00+00:00",
          "2024-10-11T00:00:00+00:00",
          "2024-10-14T00:00:00+00:00",
          "2024-10-15T00:00:00+00:00",
          "2024-10-16T00:00:00+00:00",
          "2024-10-17T00:00:00+00:00",
          "2024-10-18T00:00:00+00:00",
          "2024-10-21T00:00:00+00:00",
          "2024-10-22T00:00:00+00:00",
          "2024-10-23T00:00:00+00:00",
          "2024-10-24T00:00:00+00:00",
          "2024-10-25T00:00:00+00:00",
          "2024-10-28T00:00:00+00:00",
          "2024-10-29T00:00:00+00:00",
          "2024-10-30T00:00:00+00:00",
          "2024-10-31T00:00:00+00:00",
          "2024-11-01T00:00:00+00:00",
          "2024-11-04T00:00:00+00:00",
          "2024-11-05T00:00:00+00:00",
          "2024-11-06T00:00:00+00:00",
          "2024-11-07T00:00:00+00:00",
          "2024-11-08T00:00:00+00:00",
          "2024-11-11T00:00:00+00:00",
          "2024-11-12T00:00:00+00:00",
          "2024-11-13T00:00:00+00:00",
          "2024-11-14T00:00:00+00:00"
         ],
         "y": [
          1386.5250244140625,
          1370.7249755859375,
          1397.3499755859375,
          1374.5999755859375,
          1371.050048828125,
          1372.0999755859375,
          1372.5250244140625,
          1344.0250244140625,
          1354.074951171875,
          1356.425048828125,
          1359.300048828125,
          1369.199951171875,
          1343.3499755859375,
          1338.5250244140625,
          1339.800048828125,
          1327.8499755859375,
          1334.3499755859375,
          1340,
          1343.9000244140625,
          1332.050048828125,
          1338.6500244140625,
          1302.1500244140625,
          1305.300048828125,
          1325.3499755859375,
          1305.6500244140625,
          1283.75,
          1272.699951171875,
          1274.25,
          1252.050048828125,
          1267.5999755859375
         ]
        },
        {
         "mode": "lines",
         "name": "Forecasted Prices",
         "type": "scatter",
         "x": [
          "2024-11-15T00:00:00+00:00",
          "2024-11-16T00:00:00+00:00",
          "2024-11-17T00:00:00+00:00",
          "2024-11-18T00:00:00+00:00",
          "2024-11-19T00:00:00+00:00",
          "2024-11-20T00:00:00+00:00",
          "2024-11-21T00:00:00+00:00",
          "2024-11-22T00:00:00+00:00",
          "2024-11-23T00:00:00+00:00",
          "2024-11-24T00:00:00+00:00",
          "2024-11-25T00:00:00+00:00",
          "2024-11-26T00:00:00+00:00",
          "2024-11-27T00:00:00+00:00",
          "2024-11-28T00:00:00+00:00",
          "2024-11-29T00:00:00+00:00",
          "2024-11-30T00:00:00+00:00",
          "2024-12-01T00:00:00+00:00",
          "2024-12-02T00:00:00+00:00",
          "2024-12-03T00:00:00+00:00",
          "2024-12-04T00:00:00+00:00",
          "2024-12-05T00:00:00+00:00",
          "2024-12-06T00:00:00+00:00",
          "2024-12-07T00:00:00+00:00",
          "2024-12-08T00:00:00+00:00",
          "2024-12-09T00:00:00+00:00",
          "2024-12-10T00:00:00+00:00",
          "2024-12-11T00:00:00+00:00",
          "2024-12-12T00:00:00+00:00",
          "2024-12-13T00:00:00+00:00",
          "2024-12-14T00:00:00+00:00"
         ],
         "y": [
          1273.5610075290915,
          1263.9374760450519,
          1264.0633046126313,
          1264.0994696261023,
          1264.1158758452311,
          1264.1158758452311,
          1264.1158758452311,
          1264.1158758452311,
          1264.1158758452311,
          1264.1158758452311,
          1264.1158758452311,
          1264.1158758452311,
          1264.1158758452311,
          1264.1158758452311,
          1264.1158758452311,
          1264.1158758452311,
          1264.1158758452311,
          1264.1158758452311,
          1264.1158758452311,
          1264.1158758452311,
          1264.1158758452311,
          1264.1158758452311,
          1264.1158758452311,
          1264.1158758452311,
          1264.1158758452311,
          1264.1158758452311,
          1264.1158758452311,
          1264.1158758452311,
          1264.1158758452311,
          1264.1158758452311
         ]
        }
       ],
       "layout": {
        "template": {
         "data": {
          "bar": [
           {
            "error_x": {
             "color": "#2a3f5f"
            },
            "error_y": {
             "color": "#2a3f5f"
            },
            "marker": {
             "line": {
              "color": "#E5ECF6",
              "width": 0.5
             },
             "pattern": {
              "fillmode": "overlay",
              "size": 10,
              "solidity": 0.2
             }
            },
            "type": "bar"
           }
          ],
          "barpolar": [
           {
            "marker": {
             "line": {
              "color": "#E5ECF6",
              "width": 0.5
             },
             "pattern": {
              "fillmode": "overlay",
              "size": 10,
              "solidity": 0.2
             }
            },
            "type": "barpolar"
           }
          ],
          "carpet": [
           {
            "aaxis": {
             "endlinecolor": "#2a3f5f",
             "gridcolor": "white",
             "linecolor": "white",
             "minorgridcolor": "white",
             "startlinecolor": "#2a3f5f"
            },
            "baxis": {
             "endlinecolor": "#2a3f5f",
             "gridcolor": "white",
             "linecolor": "white",
             "minorgridcolor": "white",
             "startlinecolor": "#2a3f5f"
            },
            "type": "carpet"
           }
          ],
          "choropleth": [
           {
            "colorbar": {
             "outlinewidth": 0,
             "ticks": ""
            },
            "type": "choropleth"
           }
          ],
          "contour": [
           {
            "colorbar": {
             "outlinewidth": 0,
             "ticks": ""
            },
            "colorscale": [
             [
              0,
              "#0d0887"
             ],
             [
              0.1111111111111111,
              "#46039f"
             ],
             [
              0.2222222222222222,
              "#7201a8"
             ],
             [
              0.3333333333333333,
              "#9c179e"
             ],
             [
              0.4444444444444444,
              "#bd3786"
             ],
             [
              0.5555555555555556,
              "#d8576b"
             ],
             [
              0.6666666666666666,
              "#ed7953"
             ],
             [
              0.7777777777777778,
              "#fb9f3a"
             ],
             [
              0.8888888888888888,
              "#fdca26"
             ],
             [
              1,
              "#f0f921"
             ]
            ],
            "type": "contour"
           }
          ],
          "contourcarpet": [
           {
            "colorbar": {
             "outlinewidth": 0,
             "ticks": ""
            },
            "type": "contourcarpet"
           }
          ],
          "heatmap": [
           {
            "colorbar": {
             "outlinewidth": 0,
             "ticks": ""
            },
            "colorscale": [
             [
              0,
              "#0d0887"
             ],
             [
              0.1111111111111111,
              "#46039f"
             ],
             [
              0.2222222222222222,
              "#7201a8"
             ],
             [
              0.3333333333333333,
              "#9c179e"
             ],
             [
              0.4444444444444444,
              "#bd3786"
             ],
             [
              0.5555555555555556,
              "#d8576b"
             ],
             [
              0.6666666666666666,
              "#ed7953"
             ],
             [
              0.7777777777777778,
              "#fb9f3a"
             ],
             [
              0.8888888888888888,
              "#fdca26"
             ],
             [
              1,
              "#f0f921"
             ]
            ],
            "type": "heatmap"
           }
          ],
          "heatmapgl": [
           {
            "colorbar": {
             "outlinewidth": 0,
             "ticks": ""
            },
            "colorscale": [
             [
              0,
              "#0d0887"
             ],
             [
              0.1111111111111111,
              "#46039f"
             ],
             [
              0.2222222222222222,
              "#7201a8"
             ],
             [
              0.3333333333333333,
              "#9c179e"
             ],
             [
              0.4444444444444444,
              "#bd3786"
             ],
             [
              0.5555555555555556,
              "#d8576b"
             ],
             [
              0.6666666666666666,
              "#ed7953"
             ],
             [
              0.7777777777777778,
              "#fb9f3a"
             ],
             [
              0.8888888888888888,
              "#fdca26"
             ],
             [
              1,
              "#f0f921"
             ]
            ],
            "type": "heatmapgl"
           }
          ],
          "histogram": [
           {
            "marker": {
             "pattern": {
              "fillmode": "overlay",
              "size": 10,
              "solidity": 0.2
             }
            },
            "type": "histogram"
           }
          ],
          "histogram2d": [
           {
            "colorbar": {
             "outlinewidth": 0,
             "ticks": ""
            },
            "colorscale": [
             [
              0,
              "#0d0887"
             ],
             [
              0.1111111111111111,
              "#46039f"
             ],
             [
              0.2222222222222222,
              "#7201a8"
             ],
             [
              0.3333333333333333,
              "#9c179e"
             ],
             [
              0.4444444444444444,
              "#bd3786"
             ],
             [
              0.5555555555555556,
              "#d8576b"
             ],
             [
              0.6666666666666666,
              "#ed7953"
             ],
             [
              0.7777777777777778,
              "#fb9f3a"
             ],
             [
              0.8888888888888888,
              "#fdca26"
             ],
             [
              1,
              "#f0f921"
             ]
            ],
            "type": "histogram2d"
           }
          ],
          "histogram2dcontour": [
           {
            "colorbar": {
             "outlinewidth": 0,
             "ticks": ""
            },
            "colorscale": [
             [
              0,
              "#0d0887"
             ],
             [
              0.1111111111111111,
              "#46039f"
             ],
             [
              0.2222222222222222,
              "#7201a8"
             ],
             [
              0.3333333333333333,
              "#9c179e"
             ],
             [
              0.4444444444444444,
              "#bd3786"
             ],
             [
              0.5555555555555556,
              "#d8576b"
             ],
             [
              0.6666666666666666,
              "#ed7953"
             ],
             [
              0.7777777777777778,
              "#fb9f3a"
             ],
             [
              0.8888888888888888,
              "#fdca26"
             ],
             [
              1,
              "#f0f921"
             ]
            ],
            "type": "histogram2dcontour"
           }
          ],
          "mesh3d": [
           {
            "colorbar": {
             "outlinewidth": 0,
             "ticks": ""
            },
            "type": "mesh3d"
           }
          ],
          "parcoords": [
           {
            "line": {
             "colorbar": {
              "outlinewidth": 0,
              "ticks": ""
             }
            },
            "type": "parcoords"
           }
          ],
          "pie": [
           {
            "automargin": true,
            "type": "pie"
           }
          ],
          "scatter": [
           {
            "fillpattern": {
             "fillmode": "overlay",
             "size": 10,
             "solidity": 0.2
            },
            "type": "scatter"
           }
          ],
          "scatter3d": [
           {
            "line": {
             "colorbar": {
              "outlinewidth": 0,
              "ticks": ""
             }
            },
            "marker": {
             "colorbar": {
              "outlinewidth": 0,
              "ticks": ""
             }
            },
            "type": "scatter3d"
           }
          ],
          "scattercarpet": [
           {
            "marker": {
             "colorbar": {
              "outlinewidth": 0,
              "ticks": ""
             }
            },
            "type": "scattercarpet"
           }
          ],
          "scattergeo": [
           {
            "marker": {
             "colorbar": {
              "outlinewidth": 0,
              "ticks": ""
             }
            },
            "type": "scattergeo"
           }
          ],
          "scattergl": [
           {
            "marker": {
             "colorbar": {
              "outlinewidth": 0,
              "ticks": ""
             }
            },
            "type": "scattergl"
           }
          ],
          "scattermapbox": [
           {
            "marker": {
             "colorbar": {
              "outlinewidth": 0,
              "ticks": ""
             }
            },
            "type": "scattermapbox"
           }
          ],
          "scatterpolar": [
           {
            "marker": {
             "colorbar": {
              "outlinewidth": 0,
              "ticks": ""
             }
            },
            "type": "scatterpolar"
           }
          ],
          "scatterpolargl": [
           {
            "marker": {
             "colorbar": {
              "outlinewidth": 0,
              "ticks": ""
             }
            },
            "type": "scatterpolargl"
           }
          ],
          "scatterternary": [
           {
            "marker": {
             "colorbar": {
              "outlinewidth": 0,
              "ticks": ""
             }
            },
            "type": "scatterternary"
           }
          ],
          "surface": [
           {
            "colorbar": {
             "outlinewidth": 0,
             "ticks": ""
            },
            "colorscale": [
             [
              0,
              "#0d0887"
             ],
             [
              0.1111111111111111,
              "#46039f"
             ],
             [
              0.2222222222222222,
              "#7201a8"
             ],
             [
              0.3333333333333333,
              "#9c179e"
             ],
             [
              0.4444444444444444,
              "#bd3786"
             ],
             [
              0.5555555555555556,
              "#d8576b"
             ],
             [
              0.6666666666666666,
              "#ed7953"
             ],
             [
              0.7777777777777778,
              "#fb9f3a"
             ],
             [
              0.8888888888888888,
              "#fdca26"
             ],
             [
              1,
              "#f0f921"
             ]
            ],
            "type": "surface"
           }
          ],
          "table": [
           {
            "cells": {
             "fill": {
              "color": "#EBF0F8"
             },
             "line": {
              "color": "white"
             }
            },
            "header": {
             "fill": {
              "color": "#C8D4E3"
             },
             "line": {
              "color": "white"
             }
            },
            "type": "table"
           }
          ]
         },
         "layout": {
          "annotationdefaults": {
           "arrowcolor": "#2a3f5f",
           "arrowhead": 0,
           "arrowwidth": 1
          },
          "autotypenumbers": "strict",
          "coloraxis": {
           "colorbar": {
            "outlinewidth": 0,
            "ticks": ""
           }
          },
          "colorscale": {
           "diverging": [
            [
             0,
             "#8e0152"
            ],
            [
             0.1,
             "#c51b7d"
            ],
            [
             0.2,
             "#de77ae"
            ],
            [
             0.3,
             "#f1b6da"
            ],
            [
             0.4,
             "#fde0ef"
            ],
            [
             0.5,
             "#f7f7f7"
            ],
            [
             0.6,
             "#e6f5d0"
            ],
            [
             0.7,
             "#b8e186"
            ],
            [
             0.8,
             "#7fbc41"
            ],
            [
             0.9,
             "#4d9221"
            ],
            [
             1,
             "#276419"
            ]
           ],
           "sequential": [
            [
             0,
             "#0d0887"
            ],
            [
             0.1111111111111111,
             "#46039f"
            ],
            [
             0.2222222222222222,
             "#7201a8"
            ],
            [
             0.3333333333333333,
             "#9c179e"
            ],
            [
             0.4444444444444444,
             "#bd3786"
            ],
            [
             0.5555555555555556,
             "#d8576b"
            ],
            [
             0.6666666666666666,
             "#ed7953"
            ],
            [
             0.7777777777777778,
             "#fb9f3a"
            ],
            [
             0.8888888888888888,
             "#fdca26"
            ],
            [
             1,
             "#f0f921"
            ]
           ],
           "sequentialminus": [
            [
             0,
             "#0d0887"
            ],
            [
             0.1111111111111111,
             "#46039f"
            ],
            [
             0.2222222222222222,
             "#7201a8"
            ],
            [
             0.3333333333333333,
             "#9c179e"
            ],
            [
             0.4444444444444444,
             "#bd3786"
            ],
            [
             0.5555555555555556,
             "#d8576b"
            ],
            [
             0.6666666666666666,
             "#ed7953"
            ],
            [
             0.7777777777777778,
             "#fb9f3a"
            ],
            [
             0.8888888888888888,
             "#fdca26"
            ],
            [
             1,
             "#f0f921"
            ]
           ]
          },
          "colorway": [
           "#636efa",
           "#EF553B",
           "#00cc96",
           "#ab63fa",
           "#FFA15A",
           "#19d3f3",
           "#FF6692",
           "#B6E880",
           "#FF97FF",
           "#FECB52"
          ],
          "font": {
           "color": "#2a3f5f"
          },
          "geo": {
           "bgcolor": "white",
           "lakecolor": "white",
           "landcolor": "#E5ECF6",
           "showlakes": true,
           "showland": true,
           "subunitcolor": "white"
          },
          "hoverlabel": {
           "align": "left"
          },
          "hovermode": "closest",
          "mapbox": {
           "style": "light"
          },
          "paper_bgcolor": "white",
          "plot_bgcolor": "#E5ECF6",
          "polar": {
           "angularaxis": {
            "gridcolor": "white",
            "linecolor": "white",
            "ticks": ""
           },
           "bgcolor": "#E5ECF6",
           "radialaxis": {
            "gridcolor": "white",
            "linecolor": "white",
            "ticks": ""
           }
          },
          "scene": {
           "xaxis": {
            "backgroundcolor": "#E5ECF6",
            "gridcolor": "white",
            "gridwidth": 2,
            "linecolor": "white",
            "showbackground": true,
            "ticks": "",
            "zerolinecolor": "white"
           },
           "yaxis": {
            "backgroundcolor": "#E5ECF6",
            "gridcolor": "white",
            "gridwidth": 2,
            "linecolor": "white",
            "showbackground": true,
            "ticks": "",
            "zerolinecolor": "white"
           },
           "zaxis": {
            "backgroundcolor": "#E5ECF6",
            "gridcolor": "white",
            "gridwidth": 2,
            "linecolor": "white",
            "showbackground": true,
            "ticks": "",
            "zerolinecolor": "white"
           }
          },
          "shapedefaults": {
           "line": {
            "color": "#2a3f5f"
           }
          },
          "ternary": {
           "aaxis": {
            "gridcolor": "white",
            "linecolor": "white",
            "ticks": ""
           },
           "baxis": {
            "gridcolor": "white",
            "linecolor": "white",
            "ticks": ""
           },
           "bgcolor": "#E5ECF6",
           "caxis": {
            "gridcolor": "white",
            "linecolor": "white",
            "ticks": ""
           }
          },
          "title": {
           "x": 0.05
          },
          "xaxis": {
           "automargin": true,
           "gridcolor": "white",
           "linecolor": "white",
           "ticks": "",
           "title": {
            "standoff": 15
           },
           "zerolinecolor": "white",
           "zerolinewidth": 2
          },
          "yaxis": {
           "automargin": true,
           "gridcolor": "white",
           "linecolor": "white",
           "ticks": "",
           "title": {
            "standoff": 15
           },
           "zerolinecolor": "white",
           "zerolinewidth": 2
          }
         }
        },
        "title": {
         "text": "30-Day Stock Price Forecast"
        },
        "xaxis": {
         "title": {
          "text": "Date"
         }
        },
        "yaxis": {
         "title": {
          "text": "Stock Price"
         }
        }
       }
      }
     },
     "metadata": {},
     "output_type": "display_data"
    }
   ],
   "source": [
    "import plotly.graph_objects as go\n",
    "# Historical Data\n",
    "historical_data = pd.DataFrame({\n",
    "    'Date': dates,  # Use fixed datetime dates\n",
    "    'Price': df['Close']  # Historical prices\n",
    "})\n",
    "historical_data = historical_data.iloc[-30:]\n",
    "# Forecast Data\n",
    "forecast_data = pd.DataFrame({\n",
    "    'Date': forecast_dates,  # Generated future dates\n",
    "    'Price': forecasted_prices_original  # Forecasted prices\n",
    "})\n",
    "\n",
    "# Combine data and plot\n",
    "visualization_df = pd.concat([historical_data, forecast_data])\n",
    "\n",
    "# Plot code remains the same\n",
    "fig = go.Figure()\n",
    "fig.add_trace(go.Scatter(x=historical_data['Date'], y=historical_data['Price'], mode='lines', name='Historical Prices'))\n",
    "fig.add_trace(go.Scatter(x=forecast_data['Date'], y=forecast_data['Price'], mode='lines', name='Forecasted Prices'))\n",
    "fig.update_layout(title='30-Day Stock Price Forecast', xaxis_title='Date', yaxis_title='Stock Price')\n",
    "fig.show()"
   ]
  },
  {
   "cell_type": "code",
   "execution_count": null,
   "metadata": {},
   "outputs": [],
   "source": []
  }
 ],
 "metadata": {
  "kernelspec": {
   "display_name": ".venv",
   "language": "python",
   "name": "python3"
  },
  "language_info": {
   "codemirror_mode": {
    "name": "ipython",
    "version": 3
   },
   "file_extension": ".py",
   "mimetype": "text/x-python",
   "name": "python",
   "nbconvert_exporter": "python",
   "pygments_lexer": "ipython3",
   "version": "3.9.12"
  }
 },
 "nbformat": 4,
 "nbformat_minor": 2
}

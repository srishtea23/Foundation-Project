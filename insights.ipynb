{
 "cells": [
  {
   "cell_type": "code",
   "execution_count": 1,
   "metadata": {},
   "outputs": [
    {
     "name": "stdout",
     "output_type": "stream",
     "text": [
      "File RELIANCE.NS_prediction_data.csv downloaded successfully.\n"
     ]
    }
   ],
   "source": [
    "import boto3\n",
    "from dotenv import load_dotenv\n",
    "import os\n",
    "from io import StringIO \n",
    "import numpy as np\n",
    "import joblib\n",
    "import pandas as pd\n",
    "\n",
    "from io import BytesIO\n",
    "# Initialize an S3 client\n",
    "s3_client = boto3.client('s3')\n",
    "\n",
    "\n",
    "load_dotenv()\n",
    "\n",
    "# Access the environment variables for AWS credentials\n",
    "AWS_ACCESS_KEY_ID = os.getenv('AWS_ACCESS_KEY_ID')\n",
    "AWS_SECRET_ACCESS_KEY = os.getenv('AWS_SECRET_ACCESS_KEY')\n",
    "AWS_DEFAULT_REGION = os.getenv('AWS_DEFAULT_REGION')\n",
    "\n",
    "s3_client = boto3.client(\n",
    "    's3',\n",
    "    aws_access_key_id=AWS_ACCESS_KEY_ID,\n",
    "    aws_secret_access_key=AWS_SECRET_ACCESS_KEY,\n",
    "    region_name=AWS_DEFAULT_REGION\n",
    ")\n",
    "\n",
    "# Define the S3 bucket and the file path\n",
    "bucket_name = 'isbfinanceproject'\n",
    "def get_file_path(vertical, ticker):\n",
    "    file_path = f\"{vertical}/{ticker}/{ticker}_prediction_data.csv\"\n",
    "    return file_path\n",
    "\n",
    "# Example usage\n",
    "vertical = 'Energy'  # Replace with the actual vertical\n",
    "ticker = 'RELIANCE.NS'       # Replace with the actual ticker\n",
    "\n",
    "# Get the file path\n",
    "file_path = get_file_path(vertical, ticker)\n",
    "\n",
    "# Download the file to the local system\n",
    "try:\n",
    "    s3_client.download_file(bucket_name, file_path, f\"./{ticker}_prediction_data.csv\")\n",
    "    print(f\"File {ticker}_prediction_data.csv downloaded successfully.\")\n",
    "except Exception as e:\n",
    "    print(f\"Error downloading file: {e}\")"
   ]
  },
  {
   "cell_type": "code",
   "execution_count": 2,
   "metadata": {},
   "outputs": [
    {
     "data": {
      "text/html": [
       "<div>\n",
       "<style scoped>\n",
       "    .dataframe tbody tr th:only-of-type {\n",
       "        vertical-align: middle;\n",
       "    }\n",
       "\n",
       "    .dataframe tbody tr th {\n",
       "        vertical-align: top;\n",
       "    }\n",
       "\n",
       "    .dataframe thead th {\n",
       "        text-align: right;\n",
       "    }\n",
       "</style>\n",
       "<table border=\"1\" class=\"dataframe\">\n",
       "  <thead>\n",
       "    <tr style=\"text-align: right;\">\n",
       "      <th></th>\n",
       "      <th>Volume</th>\n",
       "      <th>ma_7</th>\n",
       "      <th>ma_30</th>\n",
       "      <th>High</th>\n",
       "      <th>Low</th>\n",
       "      <th>Open</th>\n",
       "      <th>lag_1</th>\n",
       "      <th>lag_2</th>\n",
       "      <th>lag_7</th>\n",
       "      <th>daily_returns</th>\n",
       "      <th>volatility</th>\n",
       "    </tr>\n",
       "  </thead>\n",
       "  <tbody>\n",
       "    <tr>\n",
       "      <th>0</th>\n",
       "      <td>0.296731</td>\n",
       "      <td>0.000000</td>\n",
       "      <td>0.0</td>\n",
       "      <td>0.242267</td>\n",
       "      <td>0.257497</td>\n",
       "      <td>0.246341</td>\n",
       "      <td>0.239023</td>\n",
       "      <td>0.219713</td>\n",
       "      <td>0.0</td>\n",
       "      <td>0.562008</td>\n",
       "      <td>0.0</td>\n",
       "    </tr>\n",
       "    <tr>\n",
       "      <th>1</th>\n",
       "      <td>0.093573</td>\n",
       "      <td>0.000000</td>\n",
       "      <td>0.0</td>\n",
       "      <td>0.235883</td>\n",
       "      <td>0.251846</td>\n",
       "      <td>0.242466</td>\n",
       "      <td>0.253501</td>\n",
       "      <td>0.239023</td>\n",
       "      <td>0.0</td>\n",
       "      <td>0.448642</td>\n",
       "      <td>0.0</td>\n",
       "    </tr>\n",
       "    <tr>\n",
       "      <th>2</th>\n",
       "      <td>0.146457</td>\n",
       "      <td>0.000000</td>\n",
       "      <td>0.0</td>\n",
       "      <td>0.241138</td>\n",
       "      <td>0.255337</td>\n",
       "      <td>0.241348</td>\n",
       "      <td>0.249662</td>\n",
       "      <td>0.253501</td>\n",
       "      <td>0.0</td>\n",
       "      <td>0.492708</td>\n",
       "      <td>0.0</td>\n",
       "    </tr>\n",
       "    <tr>\n",
       "      <th>3</th>\n",
       "      <td>0.095338</td>\n",
       "      <td>0.000000</td>\n",
       "      <td>0.0</td>\n",
       "      <td>0.239308</td>\n",
       "      <td>0.260506</td>\n",
       "      <td>0.244837</td>\n",
       "      <td>0.253062</td>\n",
       "      <td>0.249662</td>\n",
       "      <td>0.0</td>\n",
       "      <td>0.506856</td>\n",
       "      <td>0.0</td>\n",
       "    </tr>\n",
       "    <tr>\n",
       "      <th>4</th>\n",
       "      <td>0.238515</td>\n",
       "      <td>0.225291</td>\n",
       "      <td>0.0</td>\n",
       "      <td>0.243804</td>\n",
       "      <td>0.262435</td>\n",
       "      <td>0.251373</td>\n",
       "      <td>0.258811</td>\n",
       "      <td>0.253062</td>\n",
       "      <td>0.0</td>\n",
       "      <td>0.468954</td>\n",
       "      <td>0.0</td>\n",
       "    </tr>\n",
       "  </tbody>\n",
       "</table>\n",
       "</div>"
      ],
      "text/plain": [
       "     Volume      ma_7  ma_30      High       Low      Open     lag_1  \\\n",
       "0  0.296731  0.000000    0.0  0.242267  0.257497  0.246341  0.239023   \n",
       "1  0.093573  0.000000    0.0  0.235883  0.251846  0.242466  0.253501   \n",
       "2  0.146457  0.000000    0.0  0.241138  0.255337  0.241348  0.249662   \n",
       "3  0.095338  0.000000    0.0  0.239308  0.260506  0.244837  0.253062   \n",
       "4  0.238515  0.225291    0.0  0.243804  0.262435  0.251373  0.258811   \n",
       "\n",
       "      lag_2  lag_7  daily_returns  volatility  \n",
       "0  0.219713    0.0       0.562008         0.0  \n",
       "1  0.239023    0.0       0.448642         0.0  \n",
       "2  0.253501    0.0       0.492708         0.0  \n",
       "3  0.249662    0.0       0.506856         0.0  \n",
       "4  0.253062    0.0       0.468954         0.0  "
      ]
     },
     "execution_count": 2,
     "metadata": {},
     "output_type": "execute_result"
    }
   ],
   "source": [
    "\n",
    "features = ['Close', 'Volume', 'ma_7', 'ma_30', 'High', 'Low', 'Open', 'lag_1', 'lag_2', 'lag_7', 'daily_returns', 'volatility']\n",
    "X_test = pd.read_csv(f\"./{ticker}_prediction_data.csv\")\n",
    "\n",
    "X_test = X_test.drop([0, 1])\n",
    "X_test = X_test.reset_index(drop=True)\n",
    "X_test = X_test[features].fillna(0)  # Fill missing values if any\n",
    "X_test = X_test.drop(columns=['Close']) \n",
    "X_test.head()"
   ]
  },
  {
   "cell_type": "code",
   "execution_count": null,
   "metadata": {},
   "outputs": [],
   "source": []
  },
  {
   "cell_type": "code",
   "execution_count": 3,
   "metadata": {},
   "outputs": [],
   "source": [
    "def load_from_s3(file_name, bucket_name):\n",
    "    s3 = boto3.client('s3')\n",
    "    buffer = BytesIO()\n",
    "    s3.download_fileobj(bucket_name, file_name, buffer)\n",
    "    buffer.seek(0)  # Reset the pointer to the beginning of the file\n",
    "    model = joblib.load(buffer)\n",
    "    return model\n",
    "\n",
    "# Load XGBoost model\n",
    "xgb_model = load_from_s3('Models/XGB/best_xgb_model.pkl', 'isbfinanceproject')\n",
    "\n",
    "# Load XGBoost parameters (if needed)\n",
    "xgb_params = load_from_s3('Models/XGB/xgb_params.pkl', 'isbfinanceproject')"
   ]
  },
  {
   "cell_type": "code",
   "execution_count": 4,
   "metadata": {},
   "outputs": [
    {
     "name": "stdout",
     "output_type": "stream",
     "text": [
      "File RELIANCE.NS_data.csv downloaded successfully.\n"
     ]
    }
   ],
   "source": [
    "# Define the S3 bucket and the file path\n",
    "bucket_name = 'isbfinanceproject'\n",
    "def get_file_path(vertical, ticker):\n",
    "    file_path = f\"{vertical}/{ticker}/{ticker}_data.csv\"\n",
    "    return file_path\n",
    "\n",
    "# Example usage\n",
    "vertical = 'Energy'  # Replace with the actual vertical\n",
    "ticker = 'RELIANCE.NS'       # Replace with the actual ticker\n",
    "\n",
    "# Get the file path\n",
    "file_path = get_file_path(vertical, ticker)\n",
    "\n",
    "# Download the file to the local system\n",
    "try:\n",
    "    s3_client.download_file(bucket_name, file_path, f\"./{ticker}_data.csv\")\n",
    "    print(f\"File {ticker}_data.csv downloaded successfully.\")\n",
    "except Exception as e:\n",
    "    print(f\"Error downloading file: {e}\")\n",
    "\n",
    "\n",
    "\n",
    "df = pd.read_csv(f\"./{ticker}_data.csv\")\n",
    "df = df.drop([0, 1])\n",
    "df = df.reset_index(drop=True)\n",
    "df['Close'] = pd.to_numeric(df['Close'], errors='coerce')\n",
    "min_close = df['Close'].min()\n",
    "max_close = df['Close'].max()\n",
    "df.rename(columns={'Price': 'Date'}, inplace=True)\n",
    "X_test_recent=df"
   ]
  },
  {
   "cell_type": "code",
   "execution_count": 5,
   "metadata": {},
   "outputs": [
    {
     "name": "stdout",
     "output_type": "stream",
     "text": [
      "Forecasted Prices for the next 7 days: [0.7215708, 0.7064247, 0.707549, 0.70634514, 0.70634514, 0.70642567, 0.70642567]\n"
     ]
    }
   ],
   "source": [
    "# Initialize the last known features for recursive forecasting\n",
    "last_known_features = X_test.iloc[-1].copy()  # Start with the most recent row of features\n",
    "forecasted_prices_7 = []  # List to store predicted prices\n",
    "forecast_horizon = 7  # Predict for the next 7 days\n",
    "\n",
    "for step in range(forecast_horizon):\n",
    "    # Predict the next price using the model\n",
    "    next_price = xgb_model.predict(last_known_features.values.reshape(1, -1))[0]\n",
    "    forecasted_prices_7.append(next_price)\n",
    "    \n",
    "    # Update features for the next prediction\n",
    "    # Update lag features\n",
    "    last_known_features['lag_7'] = last_known_features['lag_2']\n",
    "    last_known_features['lag_2'] = last_known_features['lag_1']\n",
    "    last_known_features['lag_1'] = next_price\n",
    "    \n",
    "    # Update moving averages\n",
    "    recent_prices = [next_price, last_known_features['lag_1'], last_known_features['lag_2'], \n",
    "                     last_known_features['lag_7']]\n",
    "    last_known_features['ma_7'] = sum(recent_prices[-7:]) / min(len(recent_prices), 7)\n",
    "    last_known_features['ma_30'] = sum(recent_prices[-30:]) / min(len(recent_prices), 30)\n",
    "    \n",
    "    # Update daily returns\n",
    "    last_known_features['daily_returns'] = (next_price - last_known_features['lag_1']) / last_known_features['lag_1']\n",
    "    \n",
    "    # Update volatility (e.g., standard deviation of recent prices)\n",
    "    last_known_features['volatility'] = np.std(recent_prices[-7:])\n",
    "    \n",
    "    # Update other features if necessary (Volume, High, Low, etc.)\n",
    "    # These may need to be predicted or assumed static for simplicity.\n",
    "\n",
    "# Print the forecasted prices\n",
    "print(\"Forecasted Prices for the next 7 days:\", forecasted_prices_7)\n"
   ]
  },
  {
   "cell_type": "code",
   "execution_count": 6,
   "metadata": {},
   "outputs": [],
   "source": [
    "def inverse_min_max_scaling(scaled_value, min_value, max_value):\n",
    "    return (scaled_value * (max_value - min_value)) + min_value\n",
    "\n",
    "# Rescale the forecasted prices\n",
    "forecasted_prices_original_7 = [\n",
    "    inverse_min_max_scaling(pred, min_close, max_close) for pred in forecasted_prices_7\n",
    "]\n"
   ]
  },
  {
   "cell_type": "code",
   "execution_count": 7,
   "metadata": {},
   "outputs": [
    {
     "data": {
      "text/plain": [
       "[1267.6920678431215,\n",
       " 1249.5661202926422,\n",
       " 1250.911572923982,\n",
       " 1249.4708928903074,\n",
       " 1249.4708928903074,\n",
       " 1249.5672615948424,\n",
       " 1249.5672615948424]"
      ]
     },
     "execution_count": 7,
     "metadata": {},
     "output_type": "execute_result"
    }
   ],
   "source": [
    "forecasted_prices_original_7"
   ]
  },
  {
   "cell_type": "code",
   "execution_count": 8,
   "metadata": {},
   "outputs": [
    {
     "name": "stdout",
     "output_type": "stream",
     "text": [
      "Forecasted Prices (Scaled): [0.7215708, 0.7064242, 0.707549, 0.70634514, 0.70634514, 0.70642567, 0.70642567, 0.70634514, 0.70634514, 0.70642567, 0.70642567, 0.70634514, 0.70634514, 0.70642567, 0.70642567, 0.70634514, 0.70634514, 0.70642567, 0.70642567, 0.70634514, 0.70634514, 0.70642567, 0.70642567, 0.70634514, 0.70634514, 0.70642567, 0.70642567, 0.70634514, 0.70634514, 0.70642567]\n",
      "Forecasted Prices (Original Scale): [1267.6920678431215, 1249.5654783101545, 1250.911572923982, 1249.4708928903074, 1249.4708928903074, 1249.5672615948424, 1249.5672615948424, 1249.4708928903074, 1249.4708928903074, 1249.5672615948424, 1249.5672615948424, 1249.4708928903074, 1249.4708928903074, 1249.5672615948424, 1249.5672615948424, 1249.4708928903074, 1249.4708928903074, 1249.5672615948424, 1249.5672615948424, 1249.4708928903074, 1249.4708928903074, 1249.5672615948424, 1249.5672615948424, 1249.4708928903074, 1249.4708928903074, 1249.5672615948424, 1249.5672615948424, 1249.4708928903074, 1249.4708928903074, 1249.5672615948424]\n"
     ]
    }
   ],
   "source": [
    "# Number of days to forecast\n",
    "forecast_horizon = 30\n",
    "\n",
    "# Initialize the last known features for recursive forecasting\n",
    "last_known_features = X_test.iloc[-1].copy()  # Start with the most recent row of features\n",
    "forecasted_prices_scaled_30 = []  # To store scaled predictions\n",
    "forecasted_prices_original = []  # To store rescaled predictions\n",
    "\n",
    "# Ensure min_close and max_close are numeric\n",
    "min_close = float(min_close)\n",
    "max_close = float(max_close)\n",
    "\n",
    "# Recursive Forecast for 30 Days\n",
    "for step in range(forecast_horizon):\n",
    "    # Predict the next scaled price\n",
    "    next_price_scaled = xgb_model.predict(last_known_features.values.reshape(1, -1))[0]\n",
    "    forecasted_prices_scaled_30.append(next_price_scaled)\n",
    "    \n",
    "    # Rescale the predicted price to the original scale\n",
    "    next_price_original = (next_price_scaled * (max_close - min_close)) + min_close \n",
    "    forecasted_prices_original.append(next_price_original)\n",
    "    \n",
    "    # Update features for the next prediction\n",
    "    # Update lag features\n",
    "    last_known_features['lag_7'] = last_known_features['lag_2']\n",
    "    last_known_features['lag_2'] = last_known_features['lag_1']\n",
    "    last_known_features['lag_1'] = next_price_scaled  # Use scaled value for lag\n",
    "    \n",
    "    # Update moving averages\n",
    "    recent_prices = forecasted_prices_scaled_30[-7:]  # Use the last 7 predicted prices\n",
    "    last_known_features['ma_7'] = sum(recent_prices) / len(recent_prices)\n",
    "    recent_prices_30 = forecasted_prices_scaled_30[-30:] if len(forecasted_prices_scaled_30) >= 30 else recent_prices\n",
    "    last_known_features['ma_30'] = sum(recent_prices_30) / len(recent_prices_30)\n",
    "    \n",
    "    # Update daily returns\n",
    "    last_known_features['daily_returns'] = (\n",
    "        (next_price_scaled - last_known_features['lag_1']) / last_known_features['lag_1']\n",
    "    ) if last_known_features['lag_1'] != 0 else 0\n",
    "    \n",
    "    # Update volatility (e.g., standard deviation of recent prices)\n",
    "    last_known_features['volatility'] = np.std(recent_prices) if len(recent_prices) > 1 else 0\n",
    "\n",
    "# Print forecasted prices on both scales\n",
    "print(\"Forecasted Prices (Scaled):\", forecasted_prices_scaled_30)\n",
    "print(\"Forecasted Prices (Original Scale):\", forecasted_prices_original)\n"
   ]
  },
  {
   "cell_type": "code",
   "execution_count": 9,
   "metadata": {},
   "outputs": [
    {
     "data": {
      "text/html": [
       "<div>\n",
       "<style scoped>\n",
       "    .dataframe tbody tr th:only-of-type {\n",
       "        vertical-align: middle;\n",
       "    }\n",
       "\n",
       "    .dataframe tbody tr th {\n",
       "        vertical-align: top;\n",
       "    }\n",
       "\n",
       "    .dataframe thead th {\n",
       "        text-align: right;\n",
       "    }\n",
       "</style>\n",
       "<table border=\"1\" class=\"dataframe\">\n",
       "  <thead>\n",
       "    <tr style=\"text-align: right;\">\n",
       "      <th></th>\n",
       "      <th>Volume</th>\n",
       "      <th>ma_7</th>\n",
       "      <th>ma_30</th>\n",
       "      <th>High</th>\n",
       "      <th>Low</th>\n",
       "      <th>Open</th>\n",
       "      <th>lag_1</th>\n",
       "      <th>lag_2</th>\n",
       "      <th>lag_7</th>\n",
       "      <th>daily_returns</th>\n",
       "      <th>volatility</th>\n",
       "    </tr>\n",
       "  </thead>\n",
       "  <tbody>\n",
       "    <tr>\n",
       "      <th>0</th>\n",
       "      <td>0.296731</td>\n",
       "      <td>0.000000</td>\n",
       "      <td>0.000000</td>\n",
       "      <td>0.242267</td>\n",
       "      <td>0.257497</td>\n",
       "      <td>0.246341</td>\n",
       "      <td>0.239023</td>\n",
       "      <td>0.219713</td>\n",
       "      <td>0.000000</td>\n",
       "      <td>0.562008</td>\n",
       "      <td>0.000000</td>\n",
       "    </tr>\n",
       "    <tr>\n",
       "      <th>1</th>\n",
       "      <td>0.093573</td>\n",
       "      <td>0.000000</td>\n",
       "      <td>0.000000</td>\n",
       "      <td>0.235883</td>\n",
       "      <td>0.251846</td>\n",
       "      <td>0.242466</td>\n",
       "      <td>0.253501</td>\n",
       "      <td>0.239023</td>\n",
       "      <td>0.000000</td>\n",
       "      <td>0.448642</td>\n",
       "      <td>0.000000</td>\n",
       "    </tr>\n",
       "    <tr>\n",
       "      <th>2</th>\n",
       "      <td>0.146457</td>\n",
       "      <td>0.000000</td>\n",
       "      <td>0.000000</td>\n",
       "      <td>0.241138</td>\n",
       "      <td>0.255337</td>\n",
       "      <td>0.241348</td>\n",
       "      <td>0.249662</td>\n",
       "      <td>0.253501</td>\n",
       "      <td>0.000000</td>\n",
       "      <td>0.492708</td>\n",
       "      <td>0.000000</td>\n",
       "    </tr>\n",
       "    <tr>\n",
       "      <th>3</th>\n",
       "      <td>0.095338</td>\n",
       "      <td>0.000000</td>\n",
       "      <td>0.000000</td>\n",
       "      <td>0.239308</td>\n",
       "      <td>0.260506</td>\n",
       "      <td>0.244837</td>\n",
       "      <td>0.253062</td>\n",
       "      <td>0.249662</td>\n",
       "      <td>0.000000</td>\n",
       "      <td>0.506856</td>\n",
       "      <td>0.000000</td>\n",
       "    </tr>\n",
       "    <tr>\n",
       "      <th>4</th>\n",
       "      <td>0.238515</td>\n",
       "      <td>0.225291</td>\n",
       "      <td>0.000000</td>\n",
       "      <td>0.243804</td>\n",
       "      <td>0.262435</td>\n",
       "      <td>0.251373</td>\n",
       "      <td>0.258811</td>\n",
       "      <td>0.253062</td>\n",
       "      <td>0.000000</td>\n",
       "      <td>0.468954</td>\n",
       "      <td>0.000000</td>\n",
       "    </tr>\n",
       "    <tr>\n",
       "      <th>...</th>\n",
       "      <td>...</td>\n",
       "      <td>...</td>\n",
       "      <td>...</td>\n",
       "      <td>...</td>\n",
       "      <td>...</td>\n",
       "      <td>...</td>\n",
       "      <td>...</td>\n",
       "      <td>...</td>\n",
       "      <td>...</td>\n",
       "      <td>...</td>\n",
       "      <td>...</td>\n",
       "    </tr>\n",
       "    <tr>\n",
       "      <th>1232</th>\n",
       "      <td>0.128451</td>\n",
       "      <td>0.758305</td>\n",
       "      <td>0.829838</td>\n",
       "      <td>0.738483</td>\n",
       "      <td>0.738015</td>\n",
       "      <td>0.741227</td>\n",
       "      <td>0.753289</td>\n",
       "      <td>0.769750</td>\n",
       "      <td>0.785250</td>\n",
       "      <td>0.411761</td>\n",
       "      <td>0.118240</td>\n",
       "    </tr>\n",
       "    <tr>\n",
       "      <th>1233</th>\n",
       "      <td>0.052142</td>\n",
       "      <td>0.750933</td>\n",
       "      <td>0.821611</td>\n",
       "      <td>0.725158</td>\n",
       "      <td>0.731265</td>\n",
       "      <td>0.725454</td>\n",
       "      <td>0.734989</td>\n",
       "      <td>0.753289</td>\n",
       "      <td>0.775348</td>\n",
       "      <td>0.441058</td>\n",
       "      <td>0.106180</td>\n",
       "    </tr>\n",
       "    <tr>\n",
       "      <th>1234</th>\n",
       "      <td>0.063595</td>\n",
       "      <td>0.742933</td>\n",
       "      <td>0.815043</td>\n",
       "      <td>0.727967</td>\n",
       "      <td>0.731687</td>\n",
       "      <td>0.722586</td>\n",
       "      <td>0.725755</td>\n",
       "      <td>0.734989</td>\n",
       "      <td>0.780863</td>\n",
       "      <td>0.476310</td>\n",
       "      <td>0.090960</td>\n",
       "    </tr>\n",
       "    <tr>\n",
       "      <th>1235</th>\n",
       "      <td>0.091702</td>\n",
       "      <td>0.736710</td>\n",
       "      <td>0.808137</td>\n",
       "      <td>0.716175</td>\n",
       "      <td>0.716499</td>\n",
       "      <td>0.718116</td>\n",
       "      <td>0.727051</td>\n",
       "      <td>0.725755</td>\n",
       "      <td>0.750364</td>\n",
       "      <td>0.409433</td>\n",
       "      <td>0.094261</td>\n",
       "    </tr>\n",
       "    <tr>\n",
       "      <th>1236</th>\n",
       "      <td>0.077367</td>\n",
       "      <td>0.732026</td>\n",
       "      <td>0.803613</td>\n",
       "      <td>0.713749</td>\n",
       "      <td>0.717849</td>\n",
       "      <td>0.704072</td>\n",
       "      <td>0.708500</td>\n",
       "      <td>0.727051</td>\n",
       "      <td>0.752996</td>\n",
       "      <td>0.516500</td>\n",
       "      <td>0.071459</td>\n",
       "    </tr>\n",
       "  </tbody>\n",
       "</table>\n",
       "<p>1237 rows × 11 columns</p>\n",
       "</div>"
      ],
      "text/plain": [
       "        Volume      ma_7     ma_30      High       Low      Open     lag_1  \\\n",
       "0     0.296731  0.000000  0.000000  0.242267  0.257497  0.246341  0.239023   \n",
       "1     0.093573  0.000000  0.000000  0.235883  0.251846  0.242466  0.253501   \n",
       "2     0.146457  0.000000  0.000000  0.241138  0.255337  0.241348  0.249662   \n",
       "3     0.095338  0.000000  0.000000  0.239308  0.260506  0.244837  0.253062   \n",
       "4     0.238515  0.225291  0.000000  0.243804  0.262435  0.251373  0.258811   \n",
       "...        ...       ...       ...       ...       ...       ...       ...   \n",
       "1232  0.128451  0.758305  0.829838  0.738483  0.738015  0.741227  0.753289   \n",
       "1233  0.052142  0.750933  0.821611  0.725158  0.731265  0.725454  0.734989   \n",
       "1234  0.063595  0.742933  0.815043  0.727967  0.731687  0.722586  0.725755   \n",
       "1235  0.091702  0.736710  0.808137  0.716175  0.716499  0.718116  0.727051   \n",
       "1236  0.077367  0.732026  0.803613  0.713749  0.717849  0.704072  0.708500   \n",
       "\n",
       "         lag_2     lag_7  daily_returns  volatility  \n",
       "0     0.219713  0.000000       0.562008    0.000000  \n",
       "1     0.239023  0.000000       0.448642    0.000000  \n",
       "2     0.253501  0.000000       0.492708    0.000000  \n",
       "3     0.249662  0.000000       0.506856    0.000000  \n",
       "4     0.253062  0.000000       0.468954    0.000000  \n",
       "...        ...       ...            ...         ...  \n",
       "1232  0.769750  0.785250       0.411761    0.118240  \n",
       "1233  0.753289  0.775348       0.441058    0.106180  \n",
       "1234  0.734989  0.780863       0.476310    0.090960  \n",
       "1235  0.725755  0.750364       0.409433    0.094261  \n",
       "1236  0.727051  0.752996       0.516500    0.071459  \n",
       "\n",
       "[1237 rows x 11 columns]"
      ]
     },
     "execution_count": 9,
     "metadata": {},
     "output_type": "execute_result"
    }
   ],
   "source": [
    "X_test"
   ]
  },
  {
   "cell_type": "code",
   "execution_count": 10,
   "metadata": {},
   "outputs": [],
   "source": [
    "dates=df['Date']"
   ]
  },
  {
   "cell_type": "code",
   "execution_count": 11,
   "metadata": {},
   "outputs": [
    {
     "name": "stdout",
     "output_type": "stream",
     "text": [
      "Last known date: 2024-11-14 00:00:00+00:00\n",
      "Forecast dates: [Timestamp('2024-11-15 00:00:00+0000', tz='UTC'), Timestamp('2024-11-16 00:00:00+0000', tz='UTC'), Timestamp('2024-11-17 00:00:00+0000', tz='UTC'), Timestamp('2024-11-18 00:00:00+0000', tz='UTC'), Timestamp('2024-11-19 00:00:00+0000', tz='UTC'), Timestamp('2024-11-20 00:00:00+0000', tz='UTC'), Timestamp('2024-11-21 00:00:00+0000', tz='UTC'), Timestamp('2024-11-22 00:00:00+0000', tz='UTC'), Timestamp('2024-11-23 00:00:00+0000', tz='UTC'), Timestamp('2024-11-24 00:00:00+0000', tz='UTC'), Timestamp('2024-11-25 00:00:00+0000', tz='UTC'), Timestamp('2024-11-26 00:00:00+0000', tz='UTC'), Timestamp('2024-11-27 00:00:00+0000', tz='UTC'), Timestamp('2024-11-28 00:00:00+0000', tz='UTC'), Timestamp('2024-11-29 00:00:00+0000', tz='UTC'), Timestamp('2024-11-30 00:00:00+0000', tz='UTC'), Timestamp('2024-12-01 00:00:00+0000', tz='UTC'), Timestamp('2024-12-02 00:00:00+0000', tz='UTC'), Timestamp('2024-12-03 00:00:00+0000', tz='UTC'), Timestamp('2024-12-04 00:00:00+0000', tz='UTC'), Timestamp('2024-12-05 00:00:00+0000', tz='UTC'), Timestamp('2024-12-06 00:00:00+0000', tz='UTC'), Timestamp('2024-12-07 00:00:00+0000', tz='UTC'), Timestamp('2024-12-08 00:00:00+0000', tz='UTC'), Timestamp('2024-12-09 00:00:00+0000', tz='UTC'), Timestamp('2024-12-10 00:00:00+0000', tz='UTC'), Timestamp('2024-12-11 00:00:00+0000', tz='UTC'), Timestamp('2024-12-12 00:00:00+0000', tz='UTC'), Timestamp('2024-12-13 00:00:00+0000', tz='UTC'), Timestamp('2024-12-14 00:00:00+0000', tz='UTC')]\n"
     ]
    }
   ],
   "source": [
    "import pandas as pd\n",
    "from datetime import timedelta\n",
    "\n",
    "# Assuming `dates` is loaded as a Series of strings\n",
    "dates = pd.to_datetime(dates)  # Ensure all dates are in datetime format\n",
    "forecast_horizon_7=7\n",
    "\n",
    "# Determine the last known date\n",
    "last_date = dates.iloc[-1]  # Extract the last date\n",
    "\n",
    "# Forecast horizon (e.g., 30 days)\n",
    "forecast_horizon = len(forecasted_prices_original)\n",
    "\n",
    "# Generate forecast dates\n",
    "forecast_dates = [last_date + timedelta(days=i) for i in range(1, forecast_horizon + 1)]\n",
    "forecast_dates_7 = [last_date + timedelta(days=i) for i in range(1, forecast_horizon_7 + 1)]\n",
    "print(f\"Last known date: {last_date}\")\n",
    "print(f\"Forecast dates: {forecast_dates}\")\n"
   ]
  },
  {
   "cell_type": "code",
   "execution_count": 12,
   "metadata": {},
   "outputs": [
    {
     "data": {
      "text/plain": [
       "<bound method Series.count of 0      2019-11-18 00:00:00+00:00\n",
       "1      2019-11-19 00:00:00+00:00\n",
       "2      2019-11-20 00:00:00+00:00\n",
       "3      2019-11-21 00:00:00+00:00\n",
       "4      2019-11-22 00:00:00+00:00\n",
       "                  ...           \n",
       "1234   2024-11-08 00:00:00+00:00\n",
       "1235   2024-11-11 00:00:00+00:00\n",
       "1236   2024-11-12 00:00:00+00:00\n",
       "1237   2024-11-13 00:00:00+00:00\n",
       "1238   2024-11-14 00:00:00+00:00\n",
       "Name: Date, Length: 1239, dtype: datetime64[ns, UTC]>"
      ]
     },
     "execution_count": 12,
     "metadata": {},
     "output_type": "execute_result"
    }
   ],
   "source": [
    "dates.dtype\n",
    "dates.count"
   ]
  },
  {
   "cell_type": "code",
   "execution_count": 13,
   "metadata": {},
   "outputs": [
    {
     "data": {
      "text/html": [
       "<div>\n",
       "<style scoped>\n",
       "    .dataframe tbody tr th:only-of-type {\n",
       "        vertical-align: middle;\n",
       "    }\n",
       "\n",
       "    .dataframe tbody tr th {\n",
       "        vertical-align: top;\n",
       "    }\n",
       "\n",
       "    .dataframe thead th {\n",
       "        text-align: right;\n",
       "    }\n",
       "</style>\n",
       "<table border=\"1\" class=\"dataframe\">\n",
       "  <thead>\n",
       "    <tr style=\"text-align: right;\">\n",
       "      <th></th>\n",
       "      <th>Date</th>\n",
       "      <th>Adj Close</th>\n",
       "      <th>Close</th>\n",
       "      <th>High</th>\n",
       "      <th>Low</th>\n",
       "      <th>Open</th>\n",
       "      <th>Volume</th>\n",
       "      <th>P/E Ratio</th>\n",
       "      <th>Beta (5Y Monthly)</th>\n",
       "      <th>Market Cap</th>\n",
       "      <th>Forward P/E</th>\n",
       "      <th>EPS (TTM)</th>\n",
       "      <th>Price.1</th>\n",
       "      <th>Sector</th>\n",
       "      <th>Industry</th>\n",
       "    </tr>\n",
       "  </thead>\n",
       "  <tbody>\n",
       "    <tr>\n",
       "      <th>0</th>\n",
       "      <td>2019-11-18 00:00:00+00:00</td>\n",
       "      <td>646.4679565429688</td>\n",
       "      <td>667.097168</td>\n",
       "      <td>679.3491821289062</td>\n",
       "      <td>665.3599243164062</td>\n",
       "      <td>673.2460327148438</td>\n",
       "      <td>14076051</td>\n",
       "      <td>25.250996</td>\n",
       "      <td>0.635</td>\n",
       "      <td>1.715367e+13</td>\n",
       "      <td>19.849545</td>\n",
       "      <td>50.2</td>\n",
       "      <td>1252.05</td>\n",
       "      <td>Energy</td>\n",
       "      <td>Oil &amp; Gas Refining &amp; Marketing</td>\n",
       "    </tr>\n",
       "    <tr>\n",
       "      <th>1</th>\n",
       "      <td>2019-11-19 00:00:00+00:00</td>\n",
       "      <td>668.8631591796875</td>\n",
       "      <td>690.206909</td>\n",
       "      <td>692.5613403320312</td>\n",
       "      <td>669.7487182617188</td>\n",
       "      <td>670.6630249023438</td>\n",
       "      <td>30176255</td>\n",
       "      <td>25.250996</td>\n",
       "      <td>0.635</td>\n",
       "      <td>1.715367e+13</td>\n",
       "      <td>19.849545</td>\n",
       "      <td>50.2</td>\n",
       "      <td>1252.05</td>\n",
       "      <td>Energy</td>\n",
       "      <td>Oil &amp; Gas Refining &amp; Marketing</td>\n",
       "    </tr>\n",
       "    <tr>\n",
       "      <th>2</th>\n",
       "      <td>2019-11-20 00:00:00+00:00</td>\n",
       "      <td>685.6538696289062</td>\n",
       "      <td>707.533508</td>\n",
       "      <td>718.848388671875</td>\n",
       "      <td>705.4991455078125</td>\n",
       "      <td>710.9165649414062</td>\n",
       "      <td>43538120</td>\n",
       "      <td>25.250996</td>\n",
       "      <td>0.635</td>\n",
       "      <td>1.715367e+13</td>\n",
       "      <td>19.849545</td>\n",
       "      <td>50.2</td>\n",
       "      <td>1252.05</td>\n",
       "      <td>Energy</td>\n",
       "      <td>Oil &amp; Gas Refining &amp; Marketing</td>\n",
       "    </tr>\n",
       "    <tr>\n",
       "      <th>3</th>\n",
       "      <td>2019-11-21 00:00:00+00:00</td>\n",
       "      <td>681.2014770507812</td>\n",
       "      <td>702.938965</td>\n",
       "      <td>711.350830078125</td>\n",
       "      <td>698.8016357421875</td>\n",
       "      <td>706.322021484375</td>\n",
       "      <td>14897371</td>\n",
       "      <td>25.250996</td>\n",
       "      <td>0.635</td>\n",
       "      <td>1.715367e+13</td>\n",
       "      <td>19.849545</td>\n",
       "      <td>50.2</td>\n",
       "      <td>1252.05</td>\n",
       "      <td>Energy</td>\n",
       "      <td>Oil &amp; Gas Refining &amp; Marketing</td>\n",
       "    </tr>\n",
       "    <tr>\n",
       "      <th>4</th>\n",
       "      <td>2019-11-22 00:00:00+00:00</td>\n",
       "      <td>685.1444702148438</td>\n",
       "      <td>707.007751</td>\n",
       "      <td>717.5225830078125</td>\n",
       "      <td>702.93896484375</td>\n",
       "      <td>704.9962158203125</td>\n",
       "      <td>22352865</td>\n",
       "      <td>25.250996</td>\n",
       "      <td>0.635</td>\n",
       "      <td>1.715367e+13</td>\n",
       "      <td>19.849545</td>\n",
       "      <td>50.2</td>\n",
       "      <td>1252.05</td>\n",
       "      <td>Energy</td>\n",
       "      <td>Oil &amp; Gas Refining &amp; Marketing</td>\n",
       "    </tr>\n",
       "    <tr>\n",
       "      <th>...</th>\n",
       "      <td>...</td>\n",
       "      <td>...</td>\n",
       "      <td>...</td>\n",
       "      <td>...</td>\n",
       "      <td>...</td>\n",
       "      <td>...</td>\n",
       "      <td>...</td>\n",
       "      <td>...</td>\n",
       "      <td>...</td>\n",
       "      <td>...</td>\n",
       "      <td>...</td>\n",
       "      <td>...</td>\n",
       "      <td>...</td>\n",
       "      <td>...</td>\n",
       "      <td>...</td>\n",
       "    </tr>\n",
       "    <tr>\n",
       "      <th>1234</th>\n",
       "      <td>2024-11-08 00:00:00+00:00</td>\n",
       "      <td>1283.75</td>\n",
       "      <td>1283.750000</td>\n",
       "      <td>1301.6500244140625</td>\n",
       "      <td>1275.0</td>\n",
       "      <td>1297.6500244140625</td>\n",
       "      <td>19814406</td>\n",
       "      <td>25.250996</td>\n",
       "      <td>0.635</td>\n",
       "      <td>1.715367e+13</td>\n",
       "      <td>19.849545</td>\n",
       "      <td>50.2</td>\n",
       "      <td>1252.05</td>\n",
       "      <td>Energy</td>\n",
       "      <td>Oil &amp; Gas Refining &amp; Marketing</td>\n",
       "    </tr>\n",
       "    <tr>\n",
       "      <th>1235</th>\n",
       "      <td>2024-11-11 00:00:00+00:00</td>\n",
       "      <td>1272.699951171875</td>\n",
       "      <td>1272.699951</td>\n",
       "      <td>1286.0</td>\n",
       "      <td>1267.0</td>\n",
       "      <td>1278.949951171875</td>\n",
       "      <td>9056552</td>\n",
       "      <td>25.250996</td>\n",
       "      <td>0.635</td>\n",
       "      <td>1.715367e+13</td>\n",
       "      <td>19.849545</td>\n",
       "      <td>50.2</td>\n",
       "      <td>1252.05</td>\n",
       "      <td>Energy</td>\n",
       "      <td>Oil &amp; Gas Refining &amp; Marketing</td>\n",
       "    </tr>\n",
       "    <tr>\n",
       "      <th>1236</th>\n",
       "      <td>2024-11-12 00:00:00+00:00</td>\n",
       "      <td>1274.25</td>\n",
       "      <td>1274.250000</td>\n",
       "      <td>1289.300048828125</td>\n",
       "      <td>1267.5</td>\n",
       "      <td>1275.550048828125</td>\n",
       "      <td>10671091</td>\n",
       "      <td>25.250996</td>\n",
       "      <td>0.635</td>\n",
       "      <td>1.715367e+13</td>\n",
       "      <td>19.849545</td>\n",
       "      <td>50.2</td>\n",
       "      <td>1252.05</td>\n",
       "      <td>Energy</td>\n",
       "      <td>Oil &amp; Gas Refining &amp; Marketing</td>\n",
       "    </tr>\n",
       "    <tr>\n",
       "      <th>1237</th>\n",
       "      <td>2024-11-13 00:00:00+00:00</td>\n",
       "      <td>1252.050048828125</td>\n",
       "      <td>1252.050049</td>\n",
       "      <td>1275.449951171875</td>\n",
       "      <td>1249.5</td>\n",
       "      <td>1270.25</td>\n",
       "      <td>14633633</td>\n",
       "      <td>25.250996</td>\n",
       "      <td>0.635</td>\n",
       "      <td>1.715367e+13</td>\n",
       "      <td>19.849545</td>\n",
       "      <td>50.2</td>\n",
       "      <td>1252.05</td>\n",
       "      <td>Energy</td>\n",
       "      <td>Oil &amp; Gas Refining &amp; Marketing</td>\n",
       "    </tr>\n",
       "    <tr>\n",
       "      <th>1238</th>\n",
       "      <td>2024-11-14 00:00:00+00:00</td>\n",
       "      <td>1267.5999755859375</td>\n",
       "      <td>1267.599976</td>\n",
       "      <td>1272.5999755859375</td>\n",
       "      <td>1251.0999755859375</td>\n",
       "      <td>1253.5999755859375</td>\n",
       "      <td>12612633</td>\n",
       "      <td>25.250996</td>\n",
       "      <td>0.635</td>\n",
       "      <td>1.715367e+13</td>\n",
       "      <td>19.849545</td>\n",
       "      <td>50.2</td>\n",
       "      <td>1252.05</td>\n",
       "      <td>Energy</td>\n",
       "      <td>Oil &amp; Gas Refining &amp; Marketing</td>\n",
       "    </tr>\n",
       "  </tbody>\n",
       "</table>\n",
       "<p>1239 rows × 15 columns</p>\n",
       "</div>"
      ],
      "text/plain": [
       "                           Date           Adj Close        Close  \\\n",
       "0     2019-11-18 00:00:00+00:00   646.4679565429688   667.097168   \n",
       "1     2019-11-19 00:00:00+00:00   668.8631591796875   690.206909   \n",
       "2     2019-11-20 00:00:00+00:00   685.6538696289062   707.533508   \n",
       "3     2019-11-21 00:00:00+00:00   681.2014770507812   702.938965   \n",
       "4     2019-11-22 00:00:00+00:00   685.1444702148438   707.007751   \n",
       "...                         ...                 ...          ...   \n",
       "1234  2024-11-08 00:00:00+00:00             1283.75  1283.750000   \n",
       "1235  2024-11-11 00:00:00+00:00   1272.699951171875  1272.699951   \n",
       "1236  2024-11-12 00:00:00+00:00             1274.25  1274.250000   \n",
       "1237  2024-11-13 00:00:00+00:00   1252.050048828125  1252.050049   \n",
       "1238  2024-11-14 00:00:00+00:00  1267.5999755859375  1267.599976   \n",
       "\n",
       "                    High                 Low                Open    Volume  \\\n",
       "0      679.3491821289062   665.3599243164062   673.2460327148438  14076051   \n",
       "1      692.5613403320312   669.7487182617188   670.6630249023438  30176255   \n",
       "2       718.848388671875   705.4991455078125   710.9165649414062  43538120   \n",
       "3       711.350830078125   698.8016357421875    706.322021484375  14897371   \n",
       "4      717.5225830078125     702.93896484375   704.9962158203125  22352865   \n",
       "...                  ...                 ...                 ...       ...   \n",
       "1234  1301.6500244140625              1275.0  1297.6500244140625  19814406   \n",
       "1235              1286.0              1267.0   1278.949951171875   9056552   \n",
       "1236   1289.300048828125              1267.5   1275.550048828125  10671091   \n",
       "1237   1275.449951171875              1249.5             1270.25  14633633   \n",
       "1238  1272.5999755859375  1251.0999755859375  1253.5999755859375  12612633   \n",
       "\n",
       "      P/E Ratio  Beta (5Y Monthly)    Market Cap  Forward P/E  EPS (TTM)  \\\n",
       "0     25.250996              0.635  1.715367e+13    19.849545       50.2   \n",
       "1     25.250996              0.635  1.715367e+13    19.849545       50.2   \n",
       "2     25.250996              0.635  1.715367e+13    19.849545       50.2   \n",
       "3     25.250996              0.635  1.715367e+13    19.849545       50.2   \n",
       "4     25.250996              0.635  1.715367e+13    19.849545       50.2   \n",
       "...         ...                ...           ...          ...        ...   \n",
       "1234  25.250996              0.635  1.715367e+13    19.849545       50.2   \n",
       "1235  25.250996              0.635  1.715367e+13    19.849545       50.2   \n",
       "1236  25.250996              0.635  1.715367e+13    19.849545       50.2   \n",
       "1237  25.250996              0.635  1.715367e+13    19.849545       50.2   \n",
       "1238  25.250996              0.635  1.715367e+13    19.849545       50.2   \n",
       "\n",
       "      Price.1  Sector                        Industry  \n",
       "0     1252.05  Energy  Oil & Gas Refining & Marketing  \n",
       "1     1252.05  Energy  Oil & Gas Refining & Marketing  \n",
       "2     1252.05  Energy  Oil & Gas Refining & Marketing  \n",
       "3     1252.05  Energy  Oil & Gas Refining & Marketing  \n",
       "4     1252.05  Energy  Oil & Gas Refining & Marketing  \n",
       "...       ...     ...                             ...  \n",
       "1234  1252.05  Energy  Oil & Gas Refining & Marketing  \n",
       "1235  1252.05  Energy  Oil & Gas Refining & Marketing  \n",
       "1236  1252.05  Energy  Oil & Gas Refining & Marketing  \n",
       "1237  1252.05  Energy  Oil & Gas Refining & Marketing  \n",
       "1238  1252.05  Energy  Oil & Gas Refining & Marketing  \n",
       "\n",
       "[1239 rows x 15 columns]"
      ]
     },
     "execution_count": 13,
     "metadata": {},
     "output_type": "execute_result"
    }
   ],
   "source": [
    "df"
   ]
  },
  {
   "cell_type": "code",
   "execution_count": 14,
   "metadata": {},
   "outputs": [
    {
     "data": {
      "application/vnd.plotly.v1+json": {
       "config": {
        "plotlyServerURL": "https://plot.ly"
       },
       "data": [
        {
         "mode": "lines",
         "name": "Historical Prices",
         "type": "scatter",
         "x": [
          "2024-10-04T00:00:00+00:00",
          "2024-10-07T00:00:00+00:00",
          "2024-10-08T00:00:00+00:00",
          "2024-10-09T00:00:00+00:00",
          "2024-10-10T00:00:00+00:00",
          "2024-10-11T00:00:00+00:00",
          "2024-10-14T00:00:00+00:00",
          "2024-10-15T00:00:00+00:00",
          "2024-10-16T00:00:00+00:00",
          "2024-10-17T00:00:00+00:00",
          "2024-10-18T00:00:00+00:00",
          "2024-10-21T00:00:00+00:00",
          "2024-10-22T00:00:00+00:00",
          "2024-10-23T00:00:00+00:00",
          "2024-10-24T00:00:00+00:00",
          "2024-10-25T00:00:00+00:00",
          "2024-10-28T00:00:00+00:00",
          "2024-10-29T00:00:00+00:00",
          "2024-10-30T00:00:00+00:00",
          "2024-10-31T00:00:00+00:00",
          "2024-11-01T00:00:00+00:00",
          "2024-11-04T00:00:00+00:00",
          "2024-11-05T00:00:00+00:00",
          "2024-11-06T00:00:00+00:00",
          "2024-11-07T00:00:00+00:00",
          "2024-11-08T00:00:00+00:00",
          "2024-11-11T00:00:00+00:00",
          "2024-11-12T00:00:00+00:00",
          "2024-11-13T00:00:00+00:00",
          "2024-11-14T00:00:00+00:00"
         ],
         "y": [
          1386.5250244140625,
          1370.7249755859375,
          1397.3499755859375,
          1374.5999755859375,
          1371.050048828125,
          1372.0999755859375,
          1372.5250244140625,
          1344.0250244140625,
          1354.074951171875,
          1356.425048828125,
          1359.300048828125,
          1369.199951171875,
          1343.3499755859375,
          1338.5250244140625,
          1339.800048828125,
          1327.8499755859375,
          1334.3499755859375,
          1340,
          1343.9000244140625,
          1332.050048828125,
          1338.6500244140625,
          1302.1500244140625,
          1305.300048828125,
          1325.3499755859375,
          1305.6500244140625,
          1283.75,
          1272.699951171875,
          1274.25,
          1252.050048828125,
          1267.5999755859375
         ]
        },
        {
         "mode": "lines",
         "name": "Forecasted Prices",
         "type": "scatter",
         "x": [
          "2024-11-15T00:00:00+00:00",
          "2024-11-16T00:00:00+00:00",
          "2024-11-17T00:00:00+00:00",
          "2024-11-18T00:00:00+00:00",
          "2024-11-19T00:00:00+00:00",
          "2024-11-20T00:00:00+00:00",
          "2024-11-21T00:00:00+00:00",
          "2024-11-22T00:00:00+00:00",
          "2024-11-23T00:00:00+00:00",
          "2024-11-24T00:00:00+00:00",
          "2024-11-25T00:00:00+00:00",
          "2024-11-26T00:00:00+00:00",
          "2024-11-27T00:00:00+00:00",
          "2024-11-28T00:00:00+00:00",
          "2024-11-29T00:00:00+00:00",
          "2024-11-30T00:00:00+00:00",
          "2024-12-01T00:00:00+00:00",
          "2024-12-02T00:00:00+00:00",
          "2024-12-03T00:00:00+00:00",
          "2024-12-04T00:00:00+00:00",
          "2024-12-05T00:00:00+00:00",
          "2024-12-06T00:00:00+00:00",
          "2024-12-07T00:00:00+00:00",
          "2024-12-08T00:00:00+00:00",
          "2024-12-09T00:00:00+00:00",
          "2024-12-10T00:00:00+00:00",
          "2024-12-11T00:00:00+00:00",
          "2024-12-12T00:00:00+00:00",
          "2024-12-13T00:00:00+00:00",
          "2024-12-14T00:00:00+00:00"
         ],
         "y": [
          1267.6920678431215,
          1249.5654783101545,
          1250.911572923982,
          1249.4708928903074,
          1249.4708928903074,
          1249.5672615948424,
          1249.5672615948424,
          1249.4708928903074,
          1249.4708928903074,
          1249.5672615948424,
          1249.5672615948424,
          1249.4708928903074,
          1249.4708928903074,
          1249.5672615948424,
          1249.5672615948424,
          1249.4708928903074,
          1249.4708928903074,
          1249.5672615948424,
          1249.5672615948424,
          1249.4708928903074,
          1249.4708928903074,
          1249.5672615948424,
          1249.5672615948424,
          1249.4708928903074,
          1249.4708928903074,
          1249.5672615948424,
          1249.5672615948424,
          1249.4708928903074,
          1249.4708928903074,
          1249.5672615948424
         ]
        }
       ],
       "layout": {
        "template": {
         "data": {
          "bar": [
           {
            "error_x": {
             "color": "#2a3f5f"
            },
            "error_y": {
             "color": "#2a3f5f"
            },
            "marker": {
             "line": {
              "color": "#E5ECF6",
              "width": 0.5
             },
             "pattern": {
              "fillmode": "overlay",
              "size": 10,
              "solidity": 0.2
             }
            },
            "type": "bar"
           }
          ],
          "barpolar": [
           {
            "marker": {
             "line": {
              "color": "#E5ECF6",
              "width": 0.5
             },
             "pattern": {
              "fillmode": "overlay",
              "size": 10,
              "solidity": 0.2
             }
            },
            "type": "barpolar"
           }
          ],
          "carpet": [
           {
            "aaxis": {
             "endlinecolor": "#2a3f5f",
             "gridcolor": "white",
             "linecolor": "white",
             "minorgridcolor": "white",
             "startlinecolor": "#2a3f5f"
            },
            "baxis": {
             "endlinecolor": "#2a3f5f",
             "gridcolor": "white",
             "linecolor": "white",
             "minorgridcolor": "white",
             "startlinecolor": "#2a3f5f"
            },
            "type": "carpet"
           }
          ],
          "choropleth": [
           {
            "colorbar": {
             "outlinewidth": 0,
             "ticks": ""
            },
            "type": "choropleth"
           }
          ],
          "contour": [
           {
            "colorbar": {
             "outlinewidth": 0,
             "ticks": ""
            },
            "colorscale": [
             [
              0,
              "#0d0887"
             ],
             [
              0.1111111111111111,
              "#46039f"
             ],
             [
              0.2222222222222222,
              "#7201a8"
             ],
             [
              0.3333333333333333,
              "#9c179e"
             ],
             [
              0.4444444444444444,
              "#bd3786"
             ],
             [
              0.5555555555555556,
              "#d8576b"
             ],
             [
              0.6666666666666666,
              "#ed7953"
             ],
             [
              0.7777777777777778,
              "#fb9f3a"
             ],
             [
              0.8888888888888888,
              "#fdca26"
             ],
             [
              1,
              "#f0f921"
             ]
            ],
            "type": "contour"
           }
          ],
          "contourcarpet": [
           {
            "colorbar": {
             "outlinewidth": 0,
             "ticks": ""
            },
            "type": "contourcarpet"
           }
          ],
          "heatmap": [
           {
            "colorbar": {
             "outlinewidth": 0,
             "ticks": ""
            },
            "colorscale": [
             [
              0,
              "#0d0887"
             ],
             [
              0.1111111111111111,
              "#46039f"
             ],
             [
              0.2222222222222222,
              "#7201a8"
             ],
             [
              0.3333333333333333,
              "#9c179e"
             ],
             [
              0.4444444444444444,
              "#bd3786"
             ],
             [
              0.5555555555555556,
              "#d8576b"
             ],
             [
              0.6666666666666666,
              "#ed7953"
             ],
             [
              0.7777777777777778,
              "#fb9f3a"
             ],
             [
              0.8888888888888888,
              "#fdca26"
             ],
             [
              1,
              "#f0f921"
             ]
            ],
            "type": "heatmap"
           }
          ],
          "heatmapgl": [
           {
            "colorbar": {
             "outlinewidth": 0,
             "ticks": ""
            },
            "colorscale": [
             [
              0,
              "#0d0887"
             ],
             [
              0.1111111111111111,
              "#46039f"
             ],
             [
              0.2222222222222222,
              "#7201a8"
             ],
             [
              0.3333333333333333,
              "#9c179e"
             ],
             [
              0.4444444444444444,
              "#bd3786"
             ],
             [
              0.5555555555555556,
              "#d8576b"
             ],
             [
              0.6666666666666666,
              "#ed7953"
             ],
             [
              0.7777777777777778,
              "#fb9f3a"
             ],
             [
              0.8888888888888888,
              "#fdca26"
             ],
             [
              1,
              "#f0f921"
             ]
            ],
            "type": "heatmapgl"
           }
          ],
          "histogram": [
           {
            "marker": {
             "pattern": {
              "fillmode": "overlay",
              "size": 10,
              "solidity": 0.2
             }
            },
            "type": "histogram"
           }
          ],
          "histogram2d": [
           {
            "colorbar": {
             "outlinewidth": 0,
             "ticks": ""
            },
            "colorscale": [
             [
              0,
              "#0d0887"
             ],
             [
              0.1111111111111111,
              "#46039f"
             ],
             [
              0.2222222222222222,
              "#7201a8"
             ],
             [
              0.3333333333333333,
              "#9c179e"
             ],
             [
              0.4444444444444444,
              "#bd3786"
             ],
             [
              0.5555555555555556,
              "#d8576b"
             ],
             [
              0.6666666666666666,
              "#ed7953"
             ],
             [
              0.7777777777777778,
              "#fb9f3a"
             ],
             [
              0.8888888888888888,
              "#fdca26"
             ],
             [
              1,
              "#f0f921"
             ]
            ],
            "type": "histogram2d"
           }
          ],
          "histogram2dcontour": [
           {
            "colorbar": {
             "outlinewidth": 0,
             "ticks": ""
            },
            "colorscale": [
             [
              0,
              "#0d0887"
             ],
             [
              0.1111111111111111,
              "#46039f"
             ],
             [
              0.2222222222222222,
              "#7201a8"
             ],
             [
              0.3333333333333333,
              "#9c179e"
             ],
             [
              0.4444444444444444,
              "#bd3786"
             ],
             [
              0.5555555555555556,
              "#d8576b"
             ],
             [
              0.6666666666666666,
              "#ed7953"
             ],
             [
              0.7777777777777778,
              "#fb9f3a"
             ],
             [
              0.8888888888888888,
              "#fdca26"
             ],
             [
              1,
              "#f0f921"
             ]
            ],
            "type": "histogram2dcontour"
           }
          ],
          "mesh3d": [
           {
            "colorbar": {
             "outlinewidth": 0,
             "ticks": ""
            },
            "type": "mesh3d"
           }
          ],
          "parcoords": [
           {
            "line": {
             "colorbar": {
              "outlinewidth": 0,
              "ticks": ""
             }
            },
            "type": "parcoords"
           }
          ],
          "pie": [
           {
            "automargin": true,
            "type": "pie"
           }
          ],
          "scatter": [
           {
            "fillpattern": {
             "fillmode": "overlay",
             "size": 10,
             "solidity": 0.2
            },
            "type": "scatter"
           }
          ],
          "scatter3d": [
           {
            "line": {
             "colorbar": {
              "outlinewidth": 0,
              "ticks": ""
             }
            },
            "marker": {
             "colorbar": {
              "outlinewidth": 0,
              "ticks": ""
             }
            },
            "type": "scatter3d"
           }
          ],
          "scattercarpet": [
           {
            "marker": {
             "colorbar": {
              "outlinewidth": 0,
              "ticks": ""
             }
            },
            "type": "scattercarpet"
           }
          ],
          "scattergeo": [
           {
            "marker": {
             "colorbar": {
              "outlinewidth": 0,
              "ticks": ""
             }
            },
            "type": "scattergeo"
           }
          ],
          "scattergl": [
           {
            "marker": {
             "colorbar": {
              "outlinewidth": 0,
              "ticks": ""
             }
            },
            "type": "scattergl"
           }
          ],
          "scattermapbox": [
           {
            "marker": {
             "colorbar": {
              "outlinewidth": 0,
              "ticks": ""
             }
            },
            "type": "scattermapbox"
           }
          ],
          "scatterpolar": [
           {
            "marker": {
             "colorbar": {
              "outlinewidth": 0,
              "ticks": ""
             }
            },
            "type": "scatterpolar"
           }
          ],
          "scatterpolargl": [
           {
            "marker": {
             "colorbar": {
              "outlinewidth": 0,
              "ticks": ""
             }
            },
            "type": "scatterpolargl"
           }
          ],
          "scatterternary": [
           {
            "marker": {
             "colorbar": {
              "outlinewidth": 0,
              "ticks": ""
             }
            },
            "type": "scatterternary"
           }
          ],
          "surface": [
           {
            "colorbar": {
             "outlinewidth": 0,
             "ticks": ""
            },
            "colorscale": [
             [
              0,
              "#0d0887"
             ],
             [
              0.1111111111111111,
              "#46039f"
             ],
             [
              0.2222222222222222,
              "#7201a8"
             ],
             [
              0.3333333333333333,
              "#9c179e"
             ],
             [
              0.4444444444444444,
              "#bd3786"
             ],
             [
              0.5555555555555556,
              "#d8576b"
             ],
             [
              0.6666666666666666,
              "#ed7953"
             ],
             [
              0.7777777777777778,
              "#fb9f3a"
             ],
             [
              0.8888888888888888,
              "#fdca26"
             ],
             [
              1,
              "#f0f921"
             ]
            ],
            "type": "surface"
           }
          ],
          "table": [
           {
            "cells": {
             "fill": {
              "color": "#EBF0F8"
             },
             "line": {
              "color": "white"
             }
            },
            "header": {
             "fill": {
              "color": "#C8D4E3"
             },
             "line": {
              "color": "white"
             }
            },
            "type": "table"
           }
          ]
         },
         "layout": {
          "annotationdefaults": {
           "arrowcolor": "#2a3f5f",
           "arrowhead": 0,
           "arrowwidth": 1
          },
          "autotypenumbers": "strict",
          "coloraxis": {
           "colorbar": {
            "outlinewidth": 0,
            "ticks": ""
           }
          },
          "colorscale": {
           "diverging": [
            [
             0,
             "#8e0152"
            ],
            [
             0.1,
             "#c51b7d"
            ],
            [
             0.2,
             "#de77ae"
            ],
            [
             0.3,
             "#f1b6da"
            ],
            [
             0.4,
             "#fde0ef"
            ],
            [
             0.5,
             "#f7f7f7"
            ],
            [
             0.6,
             "#e6f5d0"
            ],
            [
             0.7,
             "#b8e186"
            ],
            [
             0.8,
             "#7fbc41"
            ],
            [
             0.9,
             "#4d9221"
            ],
            [
             1,
             "#276419"
            ]
           ],
           "sequential": [
            [
             0,
             "#0d0887"
            ],
            [
             0.1111111111111111,
             "#46039f"
            ],
            [
             0.2222222222222222,
             "#7201a8"
            ],
            [
             0.3333333333333333,
             "#9c179e"
            ],
            [
             0.4444444444444444,
             "#bd3786"
            ],
            [
             0.5555555555555556,
             "#d8576b"
            ],
            [
             0.6666666666666666,
             "#ed7953"
            ],
            [
             0.7777777777777778,
             "#fb9f3a"
            ],
            [
             0.8888888888888888,
             "#fdca26"
            ],
            [
             1,
             "#f0f921"
            ]
           ],
           "sequentialminus": [
            [
             0,
             "#0d0887"
            ],
            [
             0.1111111111111111,
             "#46039f"
            ],
            [
             0.2222222222222222,
             "#7201a8"
            ],
            [
             0.3333333333333333,
             "#9c179e"
            ],
            [
             0.4444444444444444,
             "#bd3786"
            ],
            [
             0.5555555555555556,
             "#d8576b"
            ],
            [
             0.6666666666666666,
             "#ed7953"
            ],
            [
             0.7777777777777778,
             "#fb9f3a"
            ],
            [
             0.8888888888888888,
             "#fdca26"
            ],
            [
             1,
             "#f0f921"
            ]
           ]
          },
          "colorway": [
           "#636efa",
           "#EF553B",
           "#00cc96",
           "#ab63fa",
           "#FFA15A",
           "#19d3f3",
           "#FF6692",
           "#B6E880",
           "#FF97FF",
           "#FECB52"
          ],
          "font": {
           "color": "#2a3f5f"
          },
          "geo": {
           "bgcolor": "white",
           "lakecolor": "white",
           "landcolor": "#E5ECF6",
           "showlakes": true,
           "showland": true,
           "subunitcolor": "white"
          },
          "hoverlabel": {
           "align": "left"
          },
          "hovermode": "closest",
          "mapbox": {
           "style": "light"
          },
          "paper_bgcolor": "white",
          "plot_bgcolor": "#E5ECF6",
          "polar": {
           "angularaxis": {
            "gridcolor": "white",
            "linecolor": "white",
            "ticks": ""
           },
           "bgcolor": "#E5ECF6",
           "radialaxis": {
            "gridcolor": "white",
            "linecolor": "white",
            "ticks": ""
           }
          },
          "scene": {
           "xaxis": {
            "backgroundcolor": "#E5ECF6",
            "gridcolor": "white",
            "gridwidth": 2,
            "linecolor": "white",
            "showbackground": true,
            "ticks": "",
            "zerolinecolor": "white"
           },
           "yaxis": {
            "backgroundcolor": "#E5ECF6",
            "gridcolor": "white",
            "gridwidth": 2,
            "linecolor": "white",
            "showbackground": true,
            "ticks": "",
            "zerolinecolor": "white"
           },
           "zaxis": {
            "backgroundcolor": "#E5ECF6",
            "gridcolor": "white",
            "gridwidth": 2,
            "linecolor": "white",
            "showbackground": true,
            "ticks": "",
            "zerolinecolor": "white"
           }
          },
          "shapedefaults": {
           "line": {
            "color": "#2a3f5f"
           }
          },
          "ternary": {
           "aaxis": {
            "gridcolor": "white",
            "linecolor": "white",
            "ticks": ""
           },
           "baxis": {
            "gridcolor": "white",
            "linecolor": "white",
            "ticks": ""
           },
           "bgcolor": "#E5ECF6",
           "caxis": {
            "gridcolor": "white",
            "linecolor": "white",
            "ticks": ""
           }
          },
          "title": {
           "x": 0.05
          },
          "xaxis": {
           "automargin": true,
           "gridcolor": "white",
           "linecolor": "white",
           "ticks": "",
           "title": {
            "standoff": 15
           },
           "zerolinecolor": "white",
           "zerolinewidth": 2
          },
          "yaxis": {
           "automargin": true,
           "gridcolor": "white",
           "linecolor": "white",
           "ticks": "",
           "title": {
            "standoff": 15
           },
           "zerolinecolor": "white",
           "zerolinewidth": 2
          }
         }
        },
        "title": {
         "text": "30-Day Stock Price Forecast"
        },
        "xaxis": {
         "title": {
          "text": "Date"
         }
        },
        "yaxis": {
         "title": {
          "text": "Stock Price"
         }
        }
       }
      }
     },
     "metadata": {},
     "output_type": "display_data"
    }
   ],
   "source": [
    "import plotly.graph_objects as go\n",
    "# Historical Data\n",
    "historical_data = pd.DataFrame({\n",
    "    'Date': dates,  # Use fixed datetime dates\n",
    "    'Price': df['Close']  # Historical prices\n",
    "})\n",
    "historical_data = historical_data.iloc[-30:]\n",
    "# Forecast Data\n",
    "forecast_data = pd.DataFrame({\n",
    "    'Date': forecast_dates,  # Generated future dates\n",
    "    'Price': forecasted_prices_original  # Forecasted prices\n",
    "})\n",
    "\n",
    "# Combine data and plot\n",
    "visualization_df = pd.concat([historical_data, forecast_data])\n",
    "\n",
    "# Plot code remains the same\n",
    "fig = go.Figure()\n",
    "fig.add_trace(go.Scatter(x=historical_data['Date'], y=historical_data['Price'], mode='lines', name='Historical Prices'))\n",
    "fig.add_trace(go.Scatter(x=forecast_data['Date'], y=forecast_data['Price'], mode='lines', name='Forecasted Prices'))\n",
    "fig.update_layout(title='30-Day Stock Price Forecast', xaxis_title='Date', yaxis_title='Stock Price')\n",
    "fig.show()"
   ]
  },
  {
   "cell_type": "code",
   "execution_count": 15,
   "metadata": {},
   "outputs": [
    {
     "data": {
      "application/vnd.plotly.v1+json": {
       "config": {
        "plotlyServerURL": "https://plot.ly"
       },
       "data": [
        {
         "mode": "lines",
         "name": "Historical Prices",
         "type": "scatter",
         "x": [
          "2024-11-06T00:00:00+00:00",
          "2024-11-07T00:00:00+00:00",
          "2024-11-08T00:00:00+00:00",
          "2024-11-11T00:00:00+00:00",
          "2024-11-12T00:00:00+00:00",
          "2024-11-13T00:00:00+00:00",
          "2024-11-14T00:00:00+00:00"
         ],
         "y": [
          1325.3499755859375,
          1305.6500244140625,
          1283.75,
          1272.699951171875,
          1274.25,
          1252.050048828125,
          1267.5999755859375
         ]
        },
        {
         "mode": "lines",
         "name": "Forecasted Prices",
         "type": "scatter",
         "x": [
          "2024-11-15T00:00:00+00:00",
          "2024-11-16T00:00:00+00:00",
          "2024-11-17T00:00:00+00:00",
          "2024-11-18T00:00:00+00:00",
          "2024-11-19T00:00:00+00:00",
          "2024-11-20T00:00:00+00:00",
          "2024-11-21T00:00:00+00:00"
         ],
         "y": [
          1267.6920678431215,
          1249.5661202926422,
          1250.911572923982,
          1249.4708928903074,
          1249.4708928903074,
          1249.5672615948424,
          1249.5672615948424
         ]
        }
       ],
       "layout": {
        "template": {
         "data": {
          "bar": [
           {
            "error_x": {
             "color": "#2a3f5f"
            },
            "error_y": {
             "color": "#2a3f5f"
            },
            "marker": {
             "line": {
              "color": "#E5ECF6",
              "width": 0.5
             },
             "pattern": {
              "fillmode": "overlay",
              "size": 10,
              "solidity": 0.2
             }
            },
            "type": "bar"
           }
          ],
          "barpolar": [
           {
            "marker": {
             "line": {
              "color": "#E5ECF6",
              "width": 0.5
             },
             "pattern": {
              "fillmode": "overlay",
              "size": 10,
              "solidity": 0.2
             }
            },
            "type": "barpolar"
           }
          ],
          "carpet": [
           {
            "aaxis": {
             "endlinecolor": "#2a3f5f",
             "gridcolor": "white",
             "linecolor": "white",
             "minorgridcolor": "white",
             "startlinecolor": "#2a3f5f"
            },
            "baxis": {
             "endlinecolor": "#2a3f5f",
             "gridcolor": "white",
             "linecolor": "white",
             "minorgridcolor": "white",
             "startlinecolor": "#2a3f5f"
            },
            "type": "carpet"
           }
          ],
          "choropleth": [
           {
            "colorbar": {
             "outlinewidth": 0,
             "ticks": ""
            },
            "type": "choropleth"
           }
          ],
          "contour": [
           {
            "colorbar": {
             "outlinewidth": 0,
             "ticks": ""
            },
            "colorscale": [
             [
              0,
              "#0d0887"
             ],
             [
              0.1111111111111111,
              "#46039f"
             ],
             [
              0.2222222222222222,
              "#7201a8"
             ],
             [
              0.3333333333333333,
              "#9c179e"
             ],
             [
              0.4444444444444444,
              "#bd3786"
             ],
             [
              0.5555555555555556,
              "#d8576b"
             ],
             [
              0.6666666666666666,
              "#ed7953"
             ],
             [
              0.7777777777777778,
              "#fb9f3a"
             ],
             [
              0.8888888888888888,
              "#fdca26"
             ],
             [
              1,
              "#f0f921"
             ]
            ],
            "type": "contour"
           }
          ],
          "contourcarpet": [
           {
            "colorbar": {
             "outlinewidth": 0,
             "ticks": ""
            },
            "type": "contourcarpet"
           }
          ],
          "heatmap": [
           {
            "colorbar": {
             "outlinewidth": 0,
             "ticks": ""
            },
            "colorscale": [
             [
              0,
              "#0d0887"
             ],
             [
              0.1111111111111111,
              "#46039f"
             ],
             [
              0.2222222222222222,
              "#7201a8"
             ],
             [
              0.3333333333333333,
              "#9c179e"
             ],
             [
              0.4444444444444444,
              "#bd3786"
             ],
             [
              0.5555555555555556,
              "#d8576b"
             ],
             [
              0.6666666666666666,
              "#ed7953"
             ],
             [
              0.7777777777777778,
              "#fb9f3a"
             ],
             [
              0.8888888888888888,
              "#fdca26"
             ],
             [
              1,
              "#f0f921"
             ]
            ],
            "type": "heatmap"
           }
          ],
          "heatmapgl": [
           {
            "colorbar": {
             "outlinewidth": 0,
             "ticks": ""
            },
            "colorscale": [
             [
              0,
              "#0d0887"
             ],
             [
              0.1111111111111111,
              "#46039f"
             ],
             [
              0.2222222222222222,
              "#7201a8"
             ],
             [
              0.3333333333333333,
              "#9c179e"
             ],
             [
              0.4444444444444444,
              "#bd3786"
             ],
             [
              0.5555555555555556,
              "#d8576b"
             ],
             [
              0.6666666666666666,
              "#ed7953"
             ],
             [
              0.7777777777777778,
              "#fb9f3a"
             ],
             [
              0.8888888888888888,
              "#fdca26"
             ],
             [
              1,
              "#f0f921"
             ]
            ],
            "type": "heatmapgl"
           }
          ],
          "histogram": [
           {
            "marker": {
             "pattern": {
              "fillmode": "overlay",
              "size": 10,
              "solidity": 0.2
             }
            },
            "type": "histogram"
           }
          ],
          "histogram2d": [
           {
            "colorbar": {
             "outlinewidth": 0,
             "ticks": ""
            },
            "colorscale": [
             [
              0,
              "#0d0887"
             ],
             [
              0.1111111111111111,
              "#46039f"
             ],
             [
              0.2222222222222222,
              "#7201a8"
             ],
             [
              0.3333333333333333,
              "#9c179e"
             ],
             [
              0.4444444444444444,
              "#bd3786"
             ],
             [
              0.5555555555555556,
              "#d8576b"
             ],
             [
              0.6666666666666666,
              "#ed7953"
             ],
             [
              0.7777777777777778,
              "#fb9f3a"
             ],
             [
              0.8888888888888888,
              "#fdca26"
             ],
             [
              1,
              "#f0f921"
             ]
            ],
            "type": "histogram2d"
           }
          ],
          "histogram2dcontour": [
           {
            "colorbar": {
             "outlinewidth": 0,
             "ticks": ""
            },
            "colorscale": [
             [
              0,
              "#0d0887"
             ],
             [
              0.1111111111111111,
              "#46039f"
             ],
             [
              0.2222222222222222,
              "#7201a8"
             ],
             [
              0.3333333333333333,
              "#9c179e"
             ],
             [
              0.4444444444444444,
              "#bd3786"
             ],
             [
              0.5555555555555556,
              "#d8576b"
             ],
             [
              0.6666666666666666,
              "#ed7953"
             ],
             [
              0.7777777777777778,
              "#fb9f3a"
             ],
             [
              0.8888888888888888,
              "#fdca26"
             ],
             [
              1,
              "#f0f921"
             ]
            ],
            "type": "histogram2dcontour"
           }
          ],
          "mesh3d": [
           {
            "colorbar": {
             "outlinewidth": 0,
             "ticks": ""
            },
            "type": "mesh3d"
           }
          ],
          "parcoords": [
           {
            "line": {
             "colorbar": {
              "outlinewidth": 0,
              "ticks": ""
             }
            },
            "type": "parcoords"
           }
          ],
          "pie": [
           {
            "automargin": true,
            "type": "pie"
           }
          ],
          "scatter": [
           {
            "fillpattern": {
             "fillmode": "overlay",
             "size": 10,
             "solidity": 0.2
            },
            "type": "scatter"
           }
          ],
          "scatter3d": [
           {
            "line": {
             "colorbar": {
              "outlinewidth": 0,
              "ticks": ""
             }
            },
            "marker": {
             "colorbar": {
              "outlinewidth": 0,
              "ticks": ""
             }
            },
            "type": "scatter3d"
           }
          ],
          "scattercarpet": [
           {
            "marker": {
             "colorbar": {
              "outlinewidth": 0,
              "ticks": ""
             }
            },
            "type": "scattercarpet"
           }
          ],
          "scattergeo": [
           {
            "marker": {
             "colorbar": {
              "outlinewidth": 0,
              "ticks": ""
             }
            },
            "type": "scattergeo"
           }
          ],
          "scattergl": [
           {
            "marker": {
             "colorbar": {
              "outlinewidth": 0,
              "ticks": ""
             }
            },
            "type": "scattergl"
           }
          ],
          "scattermapbox": [
           {
            "marker": {
             "colorbar": {
              "outlinewidth": 0,
              "ticks": ""
             }
            },
            "type": "scattermapbox"
           }
          ],
          "scatterpolar": [
           {
            "marker": {
             "colorbar": {
              "outlinewidth": 0,
              "ticks": ""
             }
            },
            "type": "scatterpolar"
           }
          ],
          "scatterpolargl": [
           {
            "marker": {
             "colorbar": {
              "outlinewidth": 0,
              "ticks": ""
             }
            },
            "type": "scatterpolargl"
           }
          ],
          "scatterternary": [
           {
            "marker": {
             "colorbar": {
              "outlinewidth": 0,
              "ticks": ""
             }
            },
            "type": "scatterternary"
           }
          ],
          "surface": [
           {
            "colorbar": {
             "outlinewidth": 0,
             "ticks": ""
            },
            "colorscale": [
             [
              0,
              "#0d0887"
             ],
             [
              0.1111111111111111,
              "#46039f"
             ],
             [
              0.2222222222222222,
              "#7201a8"
             ],
             [
              0.3333333333333333,
              "#9c179e"
             ],
             [
              0.4444444444444444,
              "#bd3786"
             ],
             [
              0.5555555555555556,
              "#d8576b"
             ],
             [
              0.6666666666666666,
              "#ed7953"
             ],
             [
              0.7777777777777778,
              "#fb9f3a"
             ],
             [
              0.8888888888888888,
              "#fdca26"
             ],
             [
              1,
              "#f0f921"
             ]
            ],
            "type": "surface"
           }
          ],
          "table": [
           {
            "cells": {
             "fill": {
              "color": "#EBF0F8"
             },
             "line": {
              "color": "white"
             }
            },
            "header": {
             "fill": {
              "color": "#C8D4E3"
             },
             "line": {
              "color": "white"
             }
            },
            "type": "table"
           }
          ]
         },
         "layout": {
          "annotationdefaults": {
           "arrowcolor": "#2a3f5f",
           "arrowhead": 0,
           "arrowwidth": 1
          },
          "autotypenumbers": "strict",
          "coloraxis": {
           "colorbar": {
            "outlinewidth": 0,
            "ticks": ""
           }
          },
          "colorscale": {
           "diverging": [
            [
             0,
             "#8e0152"
            ],
            [
             0.1,
             "#c51b7d"
            ],
            [
             0.2,
             "#de77ae"
            ],
            [
             0.3,
             "#f1b6da"
            ],
            [
             0.4,
             "#fde0ef"
            ],
            [
             0.5,
             "#f7f7f7"
            ],
            [
             0.6,
             "#e6f5d0"
            ],
            [
             0.7,
             "#b8e186"
            ],
            [
             0.8,
             "#7fbc41"
            ],
            [
             0.9,
             "#4d9221"
            ],
            [
             1,
             "#276419"
            ]
           ],
           "sequential": [
            [
             0,
             "#0d0887"
            ],
            [
             0.1111111111111111,
             "#46039f"
            ],
            [
             0.2222222222222222,
             "#7201a8"
            ],
            [
             0.3333333333333333,
             "#9c179e"
            ],
            [
             0.4444444444444444,
             "#bd3786"
            ],
            [
             0.5555555555555556,
             "#d8576b"
            ],
            [
             0.6666666666666666,
             "#ed7953"
            ],
            [
             0.7777777777777778,
             "#fb9f3a"
            ],
            [
             0.8888888888888888,
             "#fdca26"
            ],
            [
             1,
             "#f0f921"
            ]
           ],
           "sequentialminus": [
            [
             0,
             "#0d0887"
            ],
            [
             0.1111111111111111,
             "#46039f"
            ],
            [
             0.2222222222222222,
             "#7201a8"
            ],
            [
             0.3333333333333333,
             "#9c179e"
            ],
            [
             0.4444444444444444,
             "#bd3786"
            ],
            [
             0.5555555555555556,
             "#d8576b"
            ],
            [
             0.6666666666666666,
             "#ed7953"
            ],
            [
             0.7777777777777778,
             "#fb9f3a"
            ],
            [
             0.8888888888888888,
             "#fdca26"
            ],
            [
             1,
             "#f0f921"
            ]
           ]
          },
          "colorway": [
           "#636efa",
           "#EF553B",
           "#00cc96",
           "#ab63fa",
           "#FFA15A",
           "#19d3f3",
           "#FF6692",
           "#B6E880",
           "#FF97FF",
           "#FECB52"
          ],
          "font": {
           "color": "#2a3f5f"
          },
          "geo": {
           "bgcolor": "white",
           "lakecolor": "white",
           "landcolor": "#E5ECF6",
           "showlakes": true,
           "showland": true,
           "subunitcolor": "white"
          },
          "hoverlabel": {
           "align": "left"
          },
          "hovermode": "closest",
          "mapbox": {
           "style": "light"
          },
          "paper_bgcolor": "white",
          "plot_bgcolor": "#E5ECF6",
          "polar": {
           "angularaxis": {
            "gridcolor": "white",
            "linecolor": "white",
            "ticks": ""
           },
           "bgcolor": "#E5ECF6",
           "radialaxis": {
            "gridcolor": "white",
            "linecolor": "white",
            "ticks": ""
           }
          },
          "scene": {
           "xaxis": {
            "backgroundcolor": "#E5ECF6",
            "gridcolor": "white",
            "gridwidth": 2,
            "linecolor": "white",
            "showbackground": true,
            "ticks": "",
            "zerolinecolor": "white"
           },
           "yaxis": {
            "backgroundcolor": "#E5ECF6",
            "gridcolor": "white",
            "gridwidth": 2,
            "linecolor": "white",
            "showbackground": true,
            "ticks": "",
            "zerolinecolor": "white"
           },
           "zaxis": {
            "backgroundcolor": "#E5ECF6",
            "gridcolor": "white",
            "gridwidth": 2,
            "linecolor": "white",
            "showbackground": true,
            "ticks": "",
            "zerolinecolor": "white"
           }
          },
          "shapedefaults": {
           "line": {
            "color": "#2a3f5f"
           }
          },
          "ternary": {
           "aaxis": {
            "gridcolor": "white",
            "linecolor": "white",
            "ticks": ""
           },
           "baxis": {
            "gridcolor": "white",
            "linecolor": "white",
            "ticks": ""
           },
           "bgcolor": "#E5ECF6",
           "caxis": {
            "gridcolor": "white",
            "linecolor": "white",
            "ticks": ""
           }
          },
          "title": {
           "x": 0.05
          },
          "xaxis": {
           "automargin": true,
           "gridcolor": "white",
           "linecolor": "white",
           "ticks": "",
           "title": {
            "standoff": 15
           },
           "zerolinecolor": "white",
           "zerolinewidth": 2
          },
          "yaxis": {
           "automargin": true,
           "gridcolor": "white",
           "linecolor": "white",
           "ticks": "",
           "title": {
            "standoff": 15
           },
           "zerolinecolor": "white",
           "zerolinewidth": 2
          }
         }
        },
        "title": {
         "text": "7-Day Stock Price Forecast"
        },
        "xaxis": {
         "title": {
          "text": "Date"
         }
        },
        "yaxis": {
         "title": {
          "text": "Stock Price"
         }
        }
       }
      }
     },
     "metadata": {},
     "output_type": "display_data"
    }
   ],
   "source": [
    "import plotly.graph_objects as go\n",
    "# Historical Data\n",
    "historical_data = pd.DataFrame({\n",
    "    'Date': dates,  # Use fixed datetime dates\n",
    "    'Price': df['Close']  # Historical prices\n",
    "})\n",
    "historical_data = historical_data.iloc[-7:]\n",
    "# Forecast Data\n",
    "forecast_data = pd.DataFrame({\n",
    "    'Date': forecast_dates_7,  # Generated future dates\n",
    "    'Price': forecasted_prices_original_7  # Forecasted prices\n",
    "})\n",
    "\n",
    "# Combine data and plot\n",
    "visualization_df = pd.concat([historical_data, forecast_data])\n",
    "\n",
    "# Plot code remains the same\n",
    "fig = go.Figure()\n",
    "fig.add_trace(go.Scatter(x=historical_data['Date'], y=historical_data['Price'], mode='lines', name='Historical Prices'))\n",
    "fig.add_trace(go.Scatter(x=forecast_data['Date'], y=forecast_data['Price'], mode='lines', name='Forecasted Prices'))\n",
    "fig.update_layout(title='7-Day Stock Price Forecast', xaxis_title='Date', yaxis_title='Stock Price')\n",
    "fig.show()"
   ]
  },
  {
   "cell_type": "code",
   "execution_count": 16,
   "metadata": {},
   "outputs": [
    {
     "data": {
      "application/vnd.plotly.v1+json": {
       "config": {
        "plotlyServerURL": "https://plot.ly"
       },
       "data": [
        {
         "hoverlabel": {
          "bgcolor": "black",
          "font": {
           "color": "white"
          }
         },
         "line": {
          "color": "cyan",
          "width": 2
         },
         "mode": "lines",
         "name": "Historical Prices",
         "type": "scatter",
         "x": [
          "2024-10-04T00:00:00+00:00",
          "2024-10-07T00:00:00+00:00",
          "2024-10-08T00:00:00+00:00",
          "2024-10-09T00:00:00+00:00",
          "2024-10-10T00:00:00+00:00",
          "2024-10-11T00:00:00+00:00",
          "2024-10-14T00:00:00+00:00",
          "2024-10-15T00:00:00+00:00",
          "2024-10-16T00:00:00+00:00",
          "2024-10-17T00:00:00+00:00",
          "2024-10-18T00:00:00+00:00",
          "2024-10-21T00:00:00+00:00",
          "2024-10-22T00:00:00+00:00",
          "2024-10-23T00:00:00+00:00",
          "2024-10-24T00:00:00+00:00",
          "2024-10-25T00:00:00+00:00",
          "2024-10-28T00:00:00+00:00",
          "2024-10-29T00:00:00+00:00",
          "2024-10-30T00:00:00+00:00",
          "2024-10-31T00:00:00+00:00",
          "2024-11-01T00:00:00+00:00",
          "2024-11-04T00:00:00+00:00",
          "2024-11-05T00:00:00+00:00",
          "2024-11-06T00:00:00+00:00",
          "2024-11-07T00:00:00+00:00",
          "2024-11-08T00:00:00+00:00",
          "2024-11-11T00:00:00+00:00",
          "2024-11-12T00:00:00+00:00",
          "2024-11-13T00:00:00+00:00",
          "2024-11-14T00:00:00+00:00"
         ],
         "y": [
          1386.5250244140625,
          1370.7249755859375,
          1397.3499755859375,
          1374.5999755859375,
          1371.050048828125,
          1372.0999755859375,
          1372.5250244140625,
          1344.0250244140625,
          1354.074951171875,
          1356.425048828125,
          1359.300048828125,
          1369.199951171875,
          1343.3499755859375,
          1338.5250244140625,
          1339.800048828125,
          1327.8499755859375,
          1334.3499755859375,
          1340,
          1343.9000244140625,
          1332.050048828125,
          1338.6500244140625,
          1302.1500244140625,
          1305.300048828125,
          1325.3499755859375,
          1305.6500244140625,
          1283.75,
          1272.699951171875,
          1274.25,
          1252.050048828125,
          1267.5999755859375
         ]
        },
        {
         "hoverlabel": {
          "bgcolor": "black",
          "font": {
           "color": "white"
          }
         },
         "line": {
          "color": "magenta",
          "dash": "dash",
          "width": 2
         },
         "mode": "lines",
         "name": "Forecasted Prices",
         "type": "scatter",
         "x": [
          "2024-11-15T00:00:00+00:00",
          "2024-11-16T00:00:00+00:00",
          "2024-11-17T00:00:00+00:00",
          "2024-11-18T00:00:00+00:00",
          "2024-11-19T00:00:00+00:00",
          "2024-11-20T00:00:00+00:00",
          "2024-11-21T00:00:00+00:00",
          "2024-11-22T00:00:00+00:00",
          "2024-11-23T00:00:00+00:00",
          "2024-11-24T00:00:00+00:00",
          "2024-11-25T00:00:00+00:00",
          "2024-11-26T00:00:00+00:00",
          "2024-11-27T00:00:00+00:00",
          "2024-11-28T00:00:00+00:00",
          "2024-11-29T00:00:00+00:00",
          "2024-11-30T00:00:00+00:00",
          "2024-12-01T00:00:00+00:00",
          "2024-12-02T00:00:00+00:00",
          "2024-12-03T00:00:00+00:00",
          "2024-12-04T00:00:00+00:00",
          "2024-12-05T00:00:00+00:00",
          "2024-12-06T00:00:00+00:00",
          "2024-12-07T00:00:00+00:00",
          "2024-12-08T00:00:00+00:00",
          "2024-12-09T00:00:00+00:00",
          "2024-12-10T00:00:00+00:00",
          "2024-12-11T00:00:00+00:00",
          "2024-12-12T00:00:00+00:00",
          "2024-12-13T00:00:00+00:00",
          "2024-12-14T00:00:00+00:00"
         ],
         "y": [
          1267.6920678431215,
          1249.5654783101545,
          1250.911572923982,
          1249.4708928903074,
          1249.4708928903074,
          1249.5672615948424,
          1249.5672615948424,
          1249.4708928903074,
          1249.4708928903074,
          1249.5672615948424,
          1249.5672615948424,
          1249.4708928903074,
          1249.4708928903074,
          1249.5672615948424,
          1249.5672615948424,
          1249.4708928903074,
          1249.4708928903074,
          1249.5672615948424,
          1249.5672615948424,
          1249.4708928903074,
          1249.4708928903074,
          1249.5672615948424,
          1249.5672615948424,
          1249.4708928903074,
          1249.4708928903074,
          1249.5672615948424,
          1249.5672615948424,
          1249.4708928903074,
          1249.4708928903074,
          1249.5672615948424
         ]
        }
       ],
       "layout": {
        "legend": {
         "bgcolor": "rgba(0,0,0,0.5)",
         "font": {
          "color": "white",
          "size": 12
         }
        },
        "paper_bgcolor": "black",
        "plot_bgcolor": "black",
        "template": {
         "data": {
          "bar": [
           {
            "error_x": {
             "color": "#2a3f5f"
            },
            "error_y": {
             "color": "#2a3f5f"
            },
            "marker": {
             "line": {
              "color": "#E5ECF6",
              "width": 0.5
             },
             "pattern": {
              "fillmode": "overlay",
              "size": 10,
              "solidity": 0.2
             }
            },
            "type": "bar"
           }
          ],
          "barpolar": [
           {
            "marker": {
             "line": {
              "color": "#E5ECF6",
              "width": 0.5
             },
             "pattern": {
              "fillmode": "overlay",
              "size": 10,
              "solidity": 0.2
             }
            },
            "type": "barpolar"
           }
          ],
          "carpet": [
           {
            "aaxis": {
             "endlinecolor": "#2a3f5f",
             "gridcolor": "white",
             "linecolor": "white",
             "minorgridcolor": "white",
             "startlinecolor": "#2a3f5f"
            },
            "baxis": {
             "endlinecolor": "#2a3f5f",
             "gridcolor": "white",
             "linecolor": "white",
             "minorgridcolor": "white",
             "startlinecolor": "#2a3f5f"
            },
            "type": "carpet"
           }
          ],
          "choropleth": [
           {
            "colorbar": {
             "outlinewidth": 0,
             "ticks": ""
            },
            "type": "choropleth"
           }
          ],
          "contour": [
           {
            "colorbar": {
             "outlinewidth": 0,
             "ticks": ""
            },
            "colorscale": [
             [
              0,
              "#0d0887"
             ],
             [
              0.1111111111111111,
              "#46039f"
             ],
             [
              0.2222222222222222,
              "#7201a8"
             ],
             [
              0.3333333333333333,
              "#9c179e"
             ],
             [
              0.4444444444444444,
              "#bd3786"
             ],
             [
              0.5555555555555556,
              "#d8576b"
             ],
             [
              0.6666666666666666,
              "#ed7953"
             ],
             [
              0.7777777777777778,
              "#fb9f3a"
             ],
             [
              0.8888888888888888,
              "#fdca26"
             ],
             [
              1,
              "#f0f921"
             ]
            ],
            "type": "contour"
           }
          ],
          "contourcarpet": [
           {
            "colorbar": {
             "outlinewidth": 0,
             "ticks": ""
            },
            "type": "contourcarpet"
           }
          ],
          "heatmap": [
           {
            "colorbar": {
             "outlinewidth": 0,
             "ticks": ""
            },
            "colorscale": [
             [
              0,
              "#0d0887"
             ],
             [
              0.1111111111111111,
              "#46039f"
             ],
             [
              0.2222222222222222,
              "#7201a8"
             ],
             [
              0.3333333333333333,
              "#9c179e"
             ],
             [
              0.4444444444444444,
              "#bd3786"
             ],
             [
              0.5555555555555556,
              "#d8576b"
             ],
             [
              0.6666666666666666,
              "#ed7953"
             ],
             [
              0.7777777777777778,
              "#fb9f3a"
             ],
             [
              0.8888888888888888,
              "#fdca26"
             ],
             [
              1,
              "#f0f921"
             ]
            ],
            "type": "heatmap"
           }
          ],
          "heatmapgl": [
           {
            "colorbar": {
             "outlinewidth": 0,
             "ticks": ""
            },
            "colorscale": [
             [
              0,
              "#0d0887"
             ],
             [
              0.1111111111111111,
              "#46039f"
             ],
             [
              0.2222222222222222,
              "#7201a8"
             ],
             [
              0.3333333333333333,
              "#9c179e"
             ],
             [
              0.4444444444444444,
              "#bd3786"
             ],
             [
              0.5555555555555556,
              "#d8576b"
             ],
             [
              0.6666666666666666,
              "#ed7953"
             ],
             [
              0.7777777777777778,
              "#fb9f3a"
             ],
             [
              0.8888888888888888,
              "#fdca26"
             ],
             [
              1,
              "#f0f921"
             ]
            ],
            "type": "heatmapgl"
           }
          ],
          "histogram": [
           {
            "marker": {
             "pattern": {
              "fillmode": "overlay",
              "size": 10,
              "solidity": 0.2
             }
            },
            "type": "histogram"
           }
          ],
          "histogram2d": [
           {
            "colorbar": {
             "outlinewidth": 0,
             "ticks": ""
            },
            "colorscale": [
             [
              0,
              "#0d0887"
             ],
             [
              0.1111111111111111,
              "#46039f"
             ],
             [
              0.2222222222222222,
              "#7201a8"
             ],
             [
              0.3333333333333333,
              "#9c179e"
             ],
             [
              0.4444444444444444,
              "#bd3786"
             ],
             [
              0.5555555555555556,
              "#d8576b"
             ],
             [
              0.6666666666666666,
              "#ed7953"
             ],
             [
              0.7777777777777778,
              "#fb9f3a"
             ],
             [
              0.8888888888888888,
              "#fdca26"
             ],
             [
              1,
              "#f0f921"
             ]
            ],
            "type": "histogram2d"
           }
          ],
          "histogram2dcontour": [
           {
            "colorbar": {
             "outlinewidth": 0,
             "ticks": ""
            },
            "colorscale": [
             [
              0,
              "#0d0887"
             ],
             [
              0.1111111111111111,
              "#46039f"
             ],
             [
              0.2222222222222222,
              "#7201a8"
             ],
             [
              0.3333333333333333,
              "#9c179e"
             ],
             [
              0.4444444444444444,
              "#bd3786"
             ],
             [
              0.5555555555555556,
              "#d8576b"
             ],
             [
              0.6666666666666666,
              "#ed7953"
             ],
             [
              0.7777777777777778,
              "#fb9f3a"
             ],
             [
              0.8888888888888888,
              "#fdca26"
             ],
             [
              1,
              "#f0f921"
             ]
            ],
            "type": "histogram2dcontour"
           }
          ],
          "mesh3d": [
           {
            "colorbar": {
             "outlinewidth": 0,
             "ticks": ""
            },
            "type": "mesh3d"
           }
          ],
          "parcoords": [
           {
            "line": {
             "colorbar": {
              "outlinewidth": 0,
              "ticks": ""
             }
            },
            "type": "parcoords"
           }
          ],
          "pie": [
           {
            "automargin": true,
            "type": "pie"
           }
          ],
          "scatter": [
           {
            "fillpattern": {
             "fillmode": "overlay",
             "size": 10,
             "solidity": 0.2
            },
            "type": "scatter"
           }
          ],
          "scatter3d": [
           {
            "line": {
             "colorbar": {
              "outlinewidth": 0,
              "ticks": ""
             }
            },
            "marker": {
             "colorbar": {
              "outlinewidth": 0,
              "ticks": ""
             }
            },
            "type": "scatter3d"
           }
          ],
          "scattercarpet": [
           {
            "marker": {
             "colorbar": {
              "outlinewidth": 0,
              "ticks": ""
             }
            },
            "type": "scattercarpet"
           }
          ],
          "scattergeo": [
           {
            "marker": {
             "colorbar": {
              "outlinewidth": 0,
              "ticks": ""
             }
            },
            "type": "scattergeo"
           }
          ],
          "scattergl": [
           {
            "marker": {
             "colorbar": {
              "outlinewidth": 0,
              "ticks": ""
             }
            },
            "type": "scattergl"
           }
          ],
          "scattermapbox": [
           {
            "marker": {
             "colorbar": {
              "outlinewidth": 0,
              "ticks": ""
             }
            },
            "type": "scattermapbox"
           }
          ],
          "scatterpolar": [
           {
            "marker": {
             "colorbar": {
              "outlinewidth": 0,
              "ticks": ""
             }
            },
            "type": "scatterpolar"
           }
          ],
          "scatterpolargl": [
           {
            "marker": {
             "colorbar": {
              "outlinewidth": 0,
              "ticks": ""
             }
            },
            "type": "scatterpolargl"
           }
          ],
          "scatterternary": [
           {
            "marker": {
             "colorbar": {
              "outlinewidth": 0,
              "ticks": ""
             }
            },
            "type": "scatterternary"
           }
          ],
          "surface": [
           {
            "colorbar": {
             "outlinewidth": 0,
             "ticks": ""
            },
            "colorscale": [
             [
              0,
              "#0d0887"
             ],
             [
              0.1111111111111111,
              "#46039f"
             ],
             [
              0.2222222222222222,
              "#7201a8"
             ],
             [
              0.3333333333333333,
              "#9c179e"
             ],
             [
              0.4444444444444444,
              "#bd3786"
             ],
             [
              0.5555555555555556,
              "#d8576b"
             ],
             [
              0.6666666666666666,
              "#ed7953"
             ],
             [
              0.7777777777777778,
              "#fb9f3a"
             ],
             [
              0.8888888888888888,
              "#fdca26"
             ],
             [
              1,
              "#f0f921"
             ]
            ],
            "type": "surface"
           }
          ],
          "table": [
           {
            "cells": {
             "fill": {
              "color": "#EBF0F8"
             },
             "line": {
              "color": "white"
             }
            },
            "header": {
             "fill": {
              "color": "#C8D4E3"
             },
             "line": {
              "color": "white"
             }
            },
            "type": "table"
           }
          ]
         },
         "layout": {
          "annotationdefaults": {
           "arrowcolor": "#2a3f5f",
           "arrowhead": 0,
           "arrowwidth": 1
          },
          "autotypenumbers": "strict",
          "coloraxis": {
           "colorbar": {
            "outlinewidth": 0,
            "ticks": ""
           }
          },
          "colorscale": {
           "diverging": [
            [
             0,
             "#8e0152"
            ],
            [
             0.1,
             "#c51b7d"
            ],
            [
             0.2,
             "#de77ae"
            ],
            [
             0.3,
             "#f1b6da"
            ],
            [
             0.4,
             "#fde0ef"
            ],
            [
             0.5,
             "#f7f7f7"
            ],
            [
             0.6,
             "#e6f5d0"
            ],
            [
             0.7,
             "#b8e186"
            ],
            [
             0.8,
             "#7fbc41"
            ],
            [
             0.9,
             "#4d9221"
            ],
            [
             1,
             "#276419"
            ]
           ],
           "sequential": [
            [
             0,
             "#0d0887"
            ],
            [
             0.1111111111111111,
             "#46039f"
            ],
            [
             0.2222222222222222,
             "#7201a8"
            ],
            [
             0.3333333333333333,
             "#9c179e"
            ],
            [
             0.4444444444444444,
             "#bd3786"
            ],
            [
             0.5555555555555556,
             "#d8576b"
            ],
            [
             0.6666666666666666,
             "#ed7953"
            ],
            [
             0.7777777777777778,
             "#fb9f3a"
            ],
            [
             0.8888888888888888,
             "#fdca26"
            ],
            [
             1,
             "#f0f921"
            ]
           ],
           "sequentialminus": [
            [
             0,
             "#0d0887"
            ],
            [
             0.1111111111111111,
             "#46039f"
            ],
            [
             0.2222222222222222,
             "#7201a8"
            ],
            [
             0.3333333333333333,
             "#9c179e"
            ],
            [
             0.4444444444444444,
             "#bd3786"
            ],
            [
             0.5555555555555556,
             "#d8576b"
            ],
            [
             0.6666666666666666,
             "#ed7953"
            ],
            [
             0.7777777777777778,
             "#fb9f3a"
            ],
            [
             0.8888888888888888,
             "#fdca26"
            ],
            [
             1,
             "#f0f921"
            ]
           ]
          },
          "colorway": [
           "#636efa",
           "#EF553B",
           "#00cc96",
           "#ab63fa",
           "#FFA15A",
           "#19d3f3",
           "#FF6692",
           "#B6E880",
           "#FF97FF",
           "#FECB52"
          ],
          "font": {
           "color": "#2a3f5f"
          },
          "geo": {
           "bgcolor": "white",
           "lakecolor": "white",
           "landcolor": "#E5ECF6",
           "showlakes": true,
           "showland": true,
           "subunitcolor": "white"
          },
          "hoverlabel": {
           "align": "left"
          },
          "hovermode": "closest",
          "mapbox": {
           "style": "light"
          },
          "paper_bgcolor": "white",
          "plot_bgcolor": "#E5ECF6",
          "polar": {
           "angularaxis": {
            "gridcolor": "white",
            "linecolor": "white",
            "ticks": ""
           },
           "bgcolor": "#E5ECF6",
           "radialaxis": {
            "gridcolor": "white",
            "linecolor": "white",
            "ticks": ""
           }
          },
          "scene": {
           "xaxis": {
            "backgroundcolor": "#E5ECF6",
            "gridcolor": "white",
            "gridwidth": 2,
            "linecolor": "white",
            "showbackground": true,
            "ticks": "",
            "zerolinecolor": "white"
           },
           "yaxis": {
            "backgroundcolor": "#E5ECF6",
            "gridcolor": "white",
            "gridwidth": 2,
            "linecolor": "white",
            "showbackground": true,
            "ticks": "",
            "zerolinecolor": "white"
           },
           "zaxis": {
            "backgroundcolor": "#E5ECF6",
            "gridcolor": "white",
            "gridwidth": 2,
            "linecolor": "white",
            "showbackground": true,
            "ticks": "",
            "zerolinecolor": "white"
           }
          },
          "shapedefaults": {
           "line": {
            "color": "#2a3f5f"
           }
          },
          "ternary": {
           "aaxis": {
            "gridcolor": "white",
            "linecolor": "white",
            "ticks": ""
           },
           "baxis": {
            "gridcolor": "white",
            "linecolor": "white",
            "ticks": ""
           },
           "bgcolor": "#E5ECF6",
           "caxis": {
            "gridcolor": "white",
            "linecolor": "white",
            "ticks": ""
           }
          },
          "title": {
           "x": 0.05
          },
          "xaxis": {
           "automargin": true,
           "gridcolor": "white",
           "linecolor": "white",
           "ticks": "",
           "title": {
            "standoff": 15
           },
           "zerolinecolor": "white",
           "zerolinewidth": 2
          },
          "yaxis": {
           "automargin": true,
           "gridcolor": "white",
           "linecolor": "white",
           "ticks": "",
           "title": {
            "standoff": 15
           },
           "zerolinecolor": "white",
           "zerolinewidth": 2
          }
         }
        },
        "title": {
         "font": {
          "color": "white",
          "size": 24
         },
         "text": "30-Day Stock Price Forecast",
         "x": 0.5
        },
        "xaxis": {
         "color": "white",
         "gridcolor": "gray",
         "showgrid": false,
         "tickformat": "%b %d",
         "title": {
          "text": "Date"
         }
        },
        "yaxis": {
         "color": "white",
         "gridcolor": "gray",
         "showgrid": false,
         "title": {
          "text": "Stock Price"
         }
        }
       }
      }
     },
     "metadata": {},
     "output_type": "display_data"
    }
   ],
   "source": [
    "import plotly.graph_objects as go\n",
    "import pandas as pd\n",
    "\n",
    "# Historical Data\n",
    "historical_data = pd.DataFrame({\n",
    "    'Date': dates,  # Use fixed datetime dates\n",
    "    'Price': df['Close']  # Historical prices\n",
    "})\n",
    "historical_data = historical_data.iloc[-30:]\n",
    "\n",
    "# Forecast Data\n",
    "forecast_data = pd.DataFrame({\n",
    "    'Date': forecast_dates,  # Generated future dates\n",
    "    'Price': forecasted_prices_original  # Forecasted prices\n",
    "})\n",
    "\n",
    "# Combine data and plot\n",
    "visualization_df = pd.concat([historical_data, forecast_data])\n",
    "\n",
    "# Plot customization\n",
    "fig = go.Figure()\n",
    "\n",
    "# Add historical data trace\n",
    "fig.add_trace(go.Scatter(\n",
    "    x=historical_data['Date'],\n",
    "    y=historical_data['Price'],\n",
    "    mode='lines',\n",
    "    name='Historical Prices',\n",
    "    line=dict(color='cyan', width=2),\n",
    "    hoverlabel=dict(bgcolor=\"black\", font_color=\"white\")\n",
    "))\n",
    "\n",
    "# Add forecasted data trace\n",
    "fig.add_trace(go.Scatter(\n",
    "    x=forecast_data['Date'],\n",
    "    y=forecast_data['Price'],\n",
    "    mode='lines',\n",
    "    name='Forecasted Prices',\n",
    "    line=dict(color='magenta', width=2, dash='dash'),\n",
    "    hoverlabel=dict(bgcolor=\"black\", font_color=\"white\")\n",
    "))\n",
    "\n",
    "# Update layout for dark theme and vibrant colors\n",
    "fig.update_layout(\n",
    "    title=dict(\n",
    "        text='30-Day Stock Price Forecast',\n",
    "        font=dict(size=24, color='white'),\n",
    "        x=0.5\n",
    "    ),\n",
    "    xaxis=dict(\n",
    "        title='Date',\n",
    "        showgrid=False,\n",
    "        gridcolor='gray',\n",
    "        color='white',\n",
    "        tickformat='%b %d'\n",
    "    ),\n",
    "    yaxis=dict(\n",
    "        title='Stock Price',\n",
    "        showgrid=False,\n",
    "        gridcolor='gray',\n",
    "        color='white'\n",
    "    ),\n",
    "    paper_bgcolor='black',  # Dark background\n",
    "    plot_bgcolor='black',\n",
    "    legend=dict(\n",
    "        font=dict(size=12, color='white'),\n",
    "        bgcolor='rgba(0,0,0,0.5)'\n",
    "    )\n",
    ")\n",
    "\n",
    "# Show the plot\n",
    "fig.show()\n"
   ]
  },
  {
   "cell_type": "code",
   "execution_count": 17,
   "metadata": {},
   "outputs": [
    {
     "data": {
      "application/vnd.plotly.v1+json": {
       "config": {
        "plotlyServerURL": "https://plot.ly"
       },
       "data": [
        {
         "hoverlabel": {
          "bgcolor": "black",
          "font": {
           "color": "white"
          }
         },
         "line": {
          "color": "cyan",
          "width": 2
         },
         "mode": "lines",
         "name": "Historical Prices",
         "type": "scatter",
         "x": [
          "2024-11-06T00:00:00+00:00",
          "2024-11-07T00:00:00+00:00",
          "2024-11-08T00:00:00+00:00",
          "2024-11-11T00:00:00+00:00",
          "2024-11-12T00:00:00+00:00",
          "2024-11-13T00:00:00+00:00",
          "2024-11-14T00:00:00+00:00"
         ],
         "y": [
          1325.3499755859375,
          1305.6500244140625,
          1283.75,
          1272.699951171875,
          1274.25,
          1252.050048828125,
          1267.5999755859375
         ]
        },
        {
         "hoverlabel": {
          "bgcolor": "black",
          "font": {
           "color": "white"
          }
         },
         "line": {
          "color": "magenta",
          "dash": "dash",
          "width": 2
         },
         "mode": "lines",
         "name": "Forecasted Prices",
         "type": "scatter",
         "x": [
          "2024-11-15T00:00:00+00:00",
          "2024-11-16T00:00:00+00:00",
          "2024-11-17T00:00:00+00:00",
          "2024-11-18T00:00:00+00:00",
          "2024-11-19T00:00:00+00:00",
          "2024-11-20T00:00:00+00:00",
          "2024-11-21T00:00:00+00:00"
         ],
         "y": [
          1267.6920678431215,
          1249.5661202926422,
          1250.911572923982,
          1249.4708928903074,
          1249.4708928903074,
          1249.5672615948424,
          1249.5672615948424
         ]
        }
       ],
       "layout": {
        "legend": {
         "bgcolor": "rgba(0,0,0,0.5)",
         "font": {
          "color": "white",
          "size": 12
         }
        },
        "paper_bgcolor": "black",
        "plot_bgcolor": "black",
        "template": {
         "data": {
          "bar": [
           {
            "error_x": {
             "color": "#2a3f5f"
            },
            "error_y": {
             "color": "#2a3f5f"
            },
            "marker": {
             "line": {
              "color": "#E5ECF6",
              "width": 0.5
             },
             "pattern": {
              "fillmode": "overlay",
              "size": 10,
              "solidity": 0.2
             }
            },
            "type": "bar"
           }
          ],
          "barpolar": [
           {
            "marker": {
             "line": {
              "color": "#E5ECF6",
              "width": 0.5
             },
             "pattern": {
              "fillmode": "overlay",
              "size": 10,
              "solidity": 0.2
             }
            },
            "type": "barpolar"
           }
          ],
          "carpet": [
           {
            "aaxis": {
             "endlinecolor": "#2a3f5f",
             "gridcolor": "white",
             "linecolor": "white",
             "minorgridcolor": "white",
             "startlinecolor": "#2a3f5f"
            },
            "baxis": {
             "endlinecolor": "#2a3f5f",
             "gridcolor": "white",
             "linecolor": "white",
             "minorgridcolor": "white",
             "startlinecolor": "#2a3f5f"
            },
            "type": "carpet"
           }
          ],
          "choropleth": [
           {
            "colorbar": {
             "outlinewidth": 0,
             "ticks": ""
            },
            "type": "choropleth"
           }
          ],
          "contour": [
           {
            "colorbar": {
             "outlinewidth": 0,
             "ticks": ""
            },
            "colorscale": [
             [
              0,
              "#0d0887"
             ],
             [
              0.1111111111111111,
              "#46039f"
             ],
             [
              0.2222222222222222,
              "#7201a8"
             ],
             [
              0.3333333333333333,
              "#9c179e"
             ],
             [
              0.4444444444444444,
              "#bd3786"
             ],
             [
              0.5555555555555556,
              "#d8576b"
             ],
             [
              0.6666666666666666,
              "#ed7953"
             ],
             [
              0.7777777777777778,
              "#fb9f3a"
             ],
             [
              0.8888888888888888,
              "#fdca26"
             ],
             [
              1,
              "#f0f921"
             ]
            ],
            "type": "contour"
           }
          ],
          "contourcarpet": [
           {
            "colorbar": {
             "outlinewidth": 0,
             "ticks": ""
            },
            "type": "contourcarpet"
           }
          ],
          "heatmap": [
           {
            "colorbar": {
             "outlinewidth": 0,
             "ticks": ""
            },
            "colorscale": [
             [
              0,
              "#0d0887"
             ],
             [
              0.1111111111111111,
              "#46039f"
             ],
             [
              0.2222222222222222,
              "#7201a8"
             ],
             [
              0.3333333333333333,
              "#9c179e"
             ],
             [
              0.4444444444444444,
              "#bd3786"
             ],
             [
              0.5555555555555556,
              "#d8576b"
             ],
             [
              0.6666666666666666,
              "#ed7953"
             ],
             [
              0.7777777777777778,
              "#fb9f3a"
             ],
             [
              0.8888888888888888,
              "#fdca26"
             ],
             [
              1,
              "#f0f921"
             ]
            ],
            "type": "heatmap"
           }
          ],
          "heatmapgl": [
           {
            "colorbar": {
             "outlinewidth": 0,
             "ticks": ""
            },
            "colorscale": [
             [
              0,
              "#0d0887"
             ],
             [
              0.1111111111111111,
              "#46039f"
             ],
             [
              0.2222222222222222,
              "#7201a8"
             ],
             [
              0.3333333333333333,
              "#9c179e"
             ],
             [
              0.4444444444444444,
              "#bd3786"
             ],
             [
              0.5555555555555556,
              "#d8576b"
             ],
             [
              0.6666666666666666,
              "#ed7953"
             ],
             [
              0.7777777777777778,
              "#fb9f3a"
             ],
             [
              0.8888888888888888,
              "#fdca26"
             ],
             [
              1,
              "#f0f921"
             ]
            ],
            "type": "heatmapgl"
           }
          ],
          "histogram": [
           {
            "marker": {
             "pattern": {
              "fillmode": "overlay",
              "size": 10,
              "solidity": 0.2
             }
            },
            "type": "histogram"
           }
          ],
          "histogram2d": [
           {
            "colorbar": {
             "outlinewidth": 0,
             "ticks": ""
            },
            "colorscale": [
             [
              0,
              "#0d0887"
             ],
             [
              0.1111111111111111,
              "#46039f"
             ],
             [
              0.2222222222222222,
              "#7201a8"
             ],
             [
              0.3333333333333333,
              "#9c179e"
             ],
             [
              0.4444444444444444,
              "#bd3786"
             ],
             [
              0.5555555555555556,
              "#d8576b"
             ],
             [
              0.6666666666666666,
              "#ed7953"
             ],
             [
              0.7777777777777778,
              "#fb9f3a"
             ],
             [
              0.8888888888888888,
              "#fdca26"
             ],
             [
              1,
              "#f0f921"
             ]
            ],
            "type": "histogram2d"
           }
          ],
          "histogram2dcontour": [
           {
            "colorbar": {
             "outlinewidth": 0,
             "ticks": ""
            },
            "colorscale": [
             [
              0,
              "#0d0887"
             ],
             [
              0.1111111111111111,
              "#46039f"
             ],
             [
              0.2222222222222222,
              "#7201a8"
             ],
             [
              0.3333333333333333,
              "#9c179e"
             ],
             [
              0.4444444444444444,
              "#bd3786"
             ],
             [
              0.5555555555555556,
              "#d8576b"
             ],
             [
              0.6666666666666666,
              "#ed7953"
             ],
             [
              0.7777777777777778,
              "#fb9f3a"
             ],
             [
              0.8888888888888888,
              "#fdca26"
             ],
             [
              1,
              "#f0f921"
             ]
            ],
            "type": "histogram2dcontour"
           }
          ],
          "mesh3d": [
           {
            "colorbar": {
             "outlinewidth": 0,
             "ticks": ""
            },
            "type": "mesh3d"
           }
          ],
          "parcoords": [
           {
            "line": {
             "colorbar": {
              "outlinewidth": 0,
              "ticks": ""
             }
            },
            "type": "parcoords"
           }
          ],
          "pie": [
           {
            "automargin": true,
            "type": "pie"
           }
          ],
          "scatter": [
           {
            "fillpattern": {
             "fillmode": "overlay",
             "size": 10,
             "solidity": 0.2
            },
            "type": "scatter"
           }
          ],
          "scatter3d": [
           {
            "line": {
             "colorbar": {
              "outlinewidth": 0,
              "ticks": ""
             }
            },
            "marker": {
             "colorbar": {
              "outlinewidth": 0,
              "ticks": ""
             }
            },
            "type": "scatter3d"
           }
          ],
          "scattercarpet": [
           {
            "marker": {
             "colorbar": {
              "outlinewidth": 0,
              "ticks": ""
             }
            },
            "type": "scattercarpet"
           }
          ],
          "scattergeo": [
           {
            "marker": {
             "colorbar": {
              "outlinewidth": 0,
              "ticks": ""
             }
            },
            "type": "scattergeo"
           }
          ],
          "scattergl": [
           {
            "marker": {
             "colorbar": {
              "outlinewidth": 0,
              "ticks": ""
             }
            },
            "type": "scattergl"
           }
          ],
          "scattermapbox": [
           {
            "marker": {
             "colorbar": {
              "outlinewidth": 0,
              "ticks": ""
             }
            },
            "type": "scattermapbox"
           }
          ],
          "scatterpolar": [
           {
            "marker": {
             "colorbar": {
              "outlinewidth": 0,
              "ticks": ""
             }
            },
            "type": "scatterpolar"
           }
          ],
          "scatterpolargl": [
           {
            "marker": {
             "colorbar": {
              "outlinewidth": 0,
              "ticks": ""
             }
            },
            "type": "scatterpolargl"
           }
          ],
          "scatterternary": [
           {
            "marker": {
             "colorbar": {
              "outlinewidth": 0,
              "ticks": ""
             }
            },
            "type": "scatterternary"
           }
          ],
          "surface": [
           {
            "colorbar": {
             "outlinewidth": 0,
             "ticks": ""
            },
            "colorscale": [
             [
              0,
              "#0d0887"
             ],
             [
              0.1111111111111111,
              "#46039f"
             ],
             [
              0.2222222222222222,
              "#7201a8"
             ],
             [
              0.3333333333333333,
              "#9c179e"
             ],
             [
              0.4444444444444444,
              "#bd3786"
             ],
             [
              0.5555555555555556,
              "#d8576b"
             ],
             [
              0.6666666666666666,
              "#ed7953"
             ],
             [
              0.7777777777777778,
              "#fb9f3a"
             ],
             [
              0.8888888888888888,
              "#fdca26"
             ],
             [
              1,
              "#f0f921"
             ]
            ],
            "type": "surface"
           }
          ],
          "table": [
           {
            "cells": {
             "fill": {
              "color": "#EBF0F8"
             },
             "line": {
              "color": "white"
             }
            },
            "header": {
             "fill": {
              "color": "#C8D4E3"
             },
             "line": {
              "color": "white"
             }
            },
            "type": "table"
           }
          ]
         },
         "layout": {
          "annotationdefaults": {
           "arrowcolor": "#2a3f5f",
           "arrowhead": 0,
           "arrowwidth": 1
          },
          "autotypenumbers": "strict",
          "coloraxis": {
           "colorbar": {
            "outlinewidth": 0,
            "ticks": ""
           }
          },
          "colorscale": {
           "diverging": [
            [
             0,
             "#8e0152"
            ],
            [
             0.1,
             "#c51b7d"
            ],
            [
             0.2,
             "#de77ae"
            ],
            [
             0.3,
             "#f1b6da"
            ],
            [
             0.4,
             "#fde0ef"
            ],
            [
             0.5,
             "#f7f7f7"
            ],
            [
             0.6,
             "#e6f5d0"
            ],
            [
             0.7,
             "#b8e186"
            ],
            [
             0.8,
             "#7fbc41"
            ],
            [
             0.9,
             "#4d9221"
            ],
            [
             1,
             "#276419"
            ]
           ],
           "sequential": [
            [
             0,
             "#0d0887"
            ],
            [
             0.1111111111111111,
             "#46039f"
            ],
            [
             0.2222222222222222,
             "#7201a8"
            ],
            [
             0.3333333333333333,
             "#9c179e"
            ],
            [
             0.4444444444444444,
             "#bd3786"
            ],
            [
             0.5555555555555556,
             "#d8576b"
            ],
            [
             0.6666666666666666,
             "#ed7953"
            ],
            [
             0.7777777777777778,
             "#fb9f3a"
            ],
            [
             0.8888888888888888,
             "#fdca26"
            ],
            [
             1,
             "#f0f921"
            ]
           ],
           "sequentialminus": [
            [
             0,
             "#0d0887"
            ],
            [
             0.1111111111111111,
             "#46039f"
            ],
            [
             0.2222222222222222,
             "#7201a8"
            ],
            [
             0.3333333333333333,
             "#9c179e"
            ],
            [
             0.4444444444444444,
             "#bd3786"
            ],
            [
             0.5555555555555556,
             "#d8576b"
            ],
            [
             0.6666666666666666,
             "#ed7953"
            ],
            [
             0.7777777777777778,
             "#fb9f3a"
            ],
            [
             0.8888888888888888,
             "#fdca26"
            ],
            [
             1,
             "#f0f921"
            ]
           ]
          },
          "colorway": [
           "#636efa",
           "#EF553B",
           "#00cc96",
           "#ab63fa",
           "#FFA15A",
           "#19d3f3",
           "#FF6692",
           "#B6E880",
           "#FF97FF",
           "#FECB52"
          ],
          "font": {
           "color": "#2a3f5f"
          },
          "geo": {
           "bgcolor": "white",
           "lakecolor": "white",
           "landcolor": "#E5ECF6",
           "showlakes": true,
           "showland": true,
           "subunitcolor": "white"
          },
          "hoverlabel": {
           "align": "left"
          },
          "hovermode": "closest",
          "mapbox": {
           "style": "light"
          },
          "paper_bgcolor": "white",
          "plot_bgcolor": "#E5ECF6",
          "polar": {
           "angularaxis": {
            "gridcolor": "white",
            "linecolor": "white",
            "ticks": ""
           },
           "bgcolor": "#E5ECF6",
           "radialaxis": {
            "gridcolor": "white",
            "linecolor": "white",
            "ticks": ""
           }
          },
          "scene": {
           "xaxis": {
            "backgroundcolor": "#E5ECF6",
            "gridcolor": "white",
            "gridwidth": 2,
            "linecolor": "white",
            "showbackground": true,
            "ticks": "",
            "zerolinecolor": "white"
           },
           "yaxis": {
            "backgroundcolor": "#E5ECF6",
            "gridcolor": "white",
            "gridwidth": 2,
            "linecolor": "white",
            "showbackground": true,
            "ticks": "",
            "zerolinecolor": "white"
           },
           "zaxis": {
            "backgroundcolor": "#E5ECF6",
            "gridcolor": "white",
            "gridwidth": 2,
            "linecolor": "white",
            "showbackground": true,
            "ticks": "",
            "zerolinecolor": "white"
           }
          },
          "shapedefaults": {
           "line": {
            "color": "#2a3f5f"
           }
          },
          "ternary": {
           "aaxis": {
            "gridcolor": "white",
            "linecolor": "white",
            "ticks": ""
           },
           "baxis": {
            "gridcolor": "white",
            "linecolor": "white",
            "ticks": ""
           },
           "bgcolor": "#E5ECF6",
           "caxis": {
            "gridcolor": "white",
            "linecolor": "white",
            "ticks": ""
           }
          },
          "title": {
           "x": 0.05
          },
          "xaxis": {
           "automargin": true,
           "gridcolor": "white",
           "linecolor": "white",
           "ticks": "",
           "title": {
            "standoff": 15
           },
           "zerolinecolor": "white",
           "zerolinewidth": 2
          },
          "yaxis": {
           "automargin": true,
           "gridcolor": "white",
           "linecolor": "white",
           "ticks": "",
           "title": {
            "standoff": 15
           },
           "zerolinecolor": "white",
           "zerolinewidth": 2
          }
         }
        },
        "title": {
         "font": {
          "color": "white",
          "size": 24
         },
         "text": "7-Day Stock Price Forecast",
         "x": 0.5
        },
        "xaxis": {
         "color": "white",
         "gridcolor": "gray",
         "showgrid": false,
         "tickformat": "%b %d",
         "title": {
          "text": "Date"
         }
        },
        "yaxis": {
         "color": "white",
         "gridcolor": "gray",
         "showgrid": false,
         "title": {
          "text": "Stock Price"
         }
        }
       }
      }
     },
     "metadata": {},
     "output_type": "display_data"
    }
   ],
   "source": [
    "import plotly.graph_objects as go\n",
    "import pandas as pd\n",
    "\n",
    "# Historical Data\n",
    "historical_data = pd.DataFrame({\n",
    "    'Date': dates,  # Use fixed datetime dates\n",
    "    'Price': df['Close']  # Historical prices\n",
    "})\n",
    "historical_data = historical_data.iloc[-7:]\n",
    "\n",
    "# Forecast Data\n",
    "forecast_data = pd.DataFrame({\n",
    "    'Date': forecast_dates_7,  # Generated future dates\n",
    "    'Price': forecasted_prices_original_7  # Forecasted prices\n",
    "})\n",
    "\n",
    "# Combine data and plot\n",
    "visualization_df = pd.concat([historical_data, forecast_data])\n",
    "\n",
    "# Plot customization\n",
    "fig = go.Figure()\n",
    "\n",
    "# Add historical data trace\n",
    "fig.add_trace(go.Scatter(\n",
    "    x=historical_data['Date'],\n",
    "    y=historical_data['Price'],\n",
    "    mode='lines',\n",
    "    name='Historical Prices',\n",
    "    line=dict(color='cyan', width=2),\n",
    "    hoverlabel=dict(bgcolor=\"black\", font_color=\"white\")\n",
    "))\n",
    "\n",
    "# Add forecasted data trace\n",
    "fig.add_trace(go.Scatter(\n",
    "    x=forecast_data['Date'],\n",
    "    y=forecast_data['Price'],\n",
    "    mode='lines',\n",
    "    name='Forecasted Prices',\n",
    "    line=dict(color='magenta', width=2, dash='dash'),\n",
    "    hoverlabel=dict(bgcolor=\"black\", font_color=\"white\")\n",
    "))\n",
    "\n",
    "# Update layout for dark theme and vibrant colors\n",
    "fig.update_layout(\n",
    "    title=dict(\n",
    "        text='7-Day Stock Price Forecast',\n",
    "        font=dict(size=24, color='white'),\n",
    "        x=0.5\n",
    "    ),\n",
    "    xaxis=dict(\n",
    "        title='Date',\n",
    "        showgrid=False,\n",
    "        gridcolor='gray',\n",
    "        color='white',\n",
    "        tickformat='%b %d'\n",
    "    ),\n",
    "    yaxis=dict(\n",
    "        title='Stock Price',\n",
    "        showgrid=False,\n",
    "        gridcolor='gray',\n",
    "        color='white'\n",
    "    ),\n",
    "    paper_bgcolor='black',  # Dark background\n",
    "    plot_bgcolor='black',\n",
    "    legend=dict(\n",
    "        font=dict(size=12, color='white'),\n",
    "        bgcolor='rgba(0,0,0,0.5)'\n",
    "    )\n",
    ")\n",
    "\n",
    "# Show the plot\n",
    "fig.show()\n"
   ]
  },
  {
   "cell_type": "code",
   "execution_count": 18,
   "metadata": {},
   "outputs": [
    {
     "data": {
      "application/vnd.plotly.v1+json": {
       "config": {
        "plotlyServerURL": "https://plot.ly"
       },
       "data": [
        {
         "hoverlabel": {
          "bgcolor": "black",
          "font": {
           "color": "white"
          }
         },
         "line": {
          "color": "cyan",
          "width": 2
         },
         "mode": "lines",
         "name": "Historical Prices",
         "type": "scatter",
         "x": [
          "2024-10-04T00:00:00+00:00",
          "2024-10-07T00:00:00+00:00",
          "2024-10-08T00:00:00+00:00",
          "2024-10-09T00:00:00+00:00",
          "2024-10-10T00:00:00+00:00",
          "2024-10-11T00:00:00+00:00",
          "2024-10-14T00:00:00+00:00",
          "2024-10-15T00:00:00+00:00",
          "2024-10-16T00:00:00+00:00",
          "2024-10-17T00:00:00+00:00",
          "2024-10-18T00:00:00+00:00",
          "2024-10-21T00:00:00+00:00",
          "2024-10-22T00:00:00+00:00",
          "2024-10-23T00:00:00+00:00",
          "2024-10-24T00:00:00+00:00",
          "2024-10-25T00:00:00+00:00",
          "2024-10-28T00:00:00+00:00",
          "2024-10-29T00:00:00+00:00",
          "2024-10-30T00:00:00+00:00",
          "2024-10-31T00:00:00+00:00",
          "2024-11-01T00:00:00+00:00",
          "2024-11-04T00:00:00+00:00",
          "2024-11-05T00:00:00+00:00",
          "2024-11-06T00:00:00+00:00",
          "2024-11-07T00:00:00+00:00",
          "2024-11-08T00:00:00+00:00",
          "2024-11-11T00:00:00+00:00",
          "2024-11-12T00:00:00+00:00",
          "2024-11-13T00:00:00+00:00",
          "2024-11-14T00:00:00+00:00"
         ],
         "y": [
          1386.5250244140625,
          1370.7249755859375,
          1397.3499755859375,
          1374.5999755859375,
          1371.050048828125,
          1372.0999755859375,
          1372.5250244140625,
          1344.0250244140625,
          1354.074951171875,
          1356.425048828125,
          1359.300048828125,
          1369.199951171875,
          1343.3499755859375,
          1338.5250244140625,
          1339.800048828125,
          1327.8499755859375,
          1334.3499755859375,
          1340,
          1343.9000244140625,
          1332.050048828125,
          1338.6500244140625,
          1302.1500244140625,
          1305.300048828125,
          1325.3499755859375,
          1305.6500244140625,
          1283.75,
          1272.699951171875,
          1274.25,
          1252.050048828125,
          1267.5999755859375
         ]
        },
        {
         "hoverlabel": {
          "bgcolor": "black",
          "font": {
           "color": "white"
          }
         },
         "line": {
          "color": "magenta",
          "dash": "dash",
          "width": 2
         },
         "mode": "lines",
         "name": "Forecasted Prices",
         "type": "scatter",
         "x": [
          "2024-11-15T00:00:00+00:00",
          "2024-11-16T00:00:00+00:00",
          "2024-11-17T00:00:00+00:00",
          "2024-11-18T00:00:00+00:00",
          "2024-11-19T00:00:00+00:00",
          "2024-11-20T00:00:00+00:00",
          "2024-11-21T00:00:00+00:00",
          "2024-11-22T00:00:00+00:00",
          "2024-11-23T00:00:00+00:00",
          "2024-11-24T00:00:00+00:00",
          "2024-11-25T00:00:00+00:00",
          "2024-11-26T00:00:00+00:00",
          "2024-11-27T00:00:00+00:00",
          "2024-11-28T00:00:00+00:00",
          "2024-11-29T00:00:00+00:00",
          "2024-11-30T00:00:00+00:00",
          "2024-12-01T00:00:00+00:00",
          "2024-12-02T00:00:00+00:00",
          "2024-12-03T00:00:00+00:00",
          "2024-12-04T00:00:00+00:00",
          "2024-12-05T00:00:00+00:00",
          "2024-12-06T00:00:00+00:00",
          "2024-12-07T00:00:00+00:00",
          "2024-12-08T00:00:00+00:00",
          "2024-12-09T00:00:00+00:00",
          "2024-12-10T00:00:00+00:00",
          "2024-12-11T00:00:00+00:00",
          "2024-12-12T00:00:00+00:00",
          "2024-12-13T00:00:00+00:00",
          "2024-12-14T00:00:00+00:00"
         ],
         "y": [
          1267.6920678431215,
          1249.5654783101545,
          1250.911572923982,
          1249.4708928903074,
          1249.4708928903074,
          1249.5672615948424,
          1249.5672615948424,
          1249.4708928903074,
          1249.4708928903074,
          1249.5672615948424,
          1249.5672615948424,
          1249.4708928903074,
          1249.4708928903074,
          1249.5672615948424,
          1249.5672615948424,
          1249.4708928903074,
          1249.4708928903074,
          1249.5672615948424,
          1249.5672615948424,
          1249.4708928903074,
          1249.4708928903074,
          1249.5672615948424,
          1249.5672615948424,
          1249.4708928903074,
          1249.4708928903074,
          1249.5672615948424,
          1249.5672615948424,
          1249.4708928903074,
          1249.4708928903074,
          1249.5672615948424
         ]
        },
        {
         "marker": {
          "color": [
           "#90EE90",
           "#FFA07A",
           "#87CEEB"
          ]
         },
         "opacity": 0.7,
         "orientation": "h",
         "showlegend": false,
         "type": "bar",
         "x": [
          73.33333333333333,
          0,
          26.666666666666668
         ],
         "xaxis": "x2",
         "y": [
          "Buy",
          "Sell",
          "Hold"
         ],
         "yaxis": "y2"
        }
       ],
       "layout": {
        "legend": {
         "bgcolor": "rgba(0,0,0,0.5)",
         "font": {
          "color": "white",
          "size": 12
         },
         "x": 0.75,
         "y": 0.95
        },
        "paper_bgcolor": "black",
        "plot_bgcolor": "black",
        "template": {
         "data": {
          "bar": [
           {
            "error_x": {
             "color": "#2a3f5f"
            },
            "error_y": {
             "color": "#2a3f5f"
            },
            "marker": {
             "line": {
              "color": "#E5ECF6",
              "width": 0.5
             },
             "pattern": {
              "fillmode": "overlay",
              "size": 10,
              "solidity": 0.2
             }
            },
            "type": "bar"
           }
          ],
          "barpolar": [
           {
            "marker": {
             "line": {
              "color": "#E5ECF6",
              "width": 0.5
             },
             "pattern": {
              "fillmode": "overlay",
              "size": 10,
              "solidity": 0.2
             }
            },
            "type": "barpolar"
           }
          ],
          "carpet": [
           {
            "aaxis": {
             "endlinecolor": "#2a3f5f",
             "gridcolor": "white",
             "linecolor": "white",
             "minorgridcolor": "white",
             "startlinecolor": "#2a3f5f"
            },
            "baxis": {
             "endlinecolor": "#2a3f5f",
             "gridcolor": "white",
             "linecolor": "white",
             "minorgridcolor": "white",
             "startlinecolor": "#2a3f5f"
            },
            "type": "carpet"
           }
          ],
          "choropleth": [
           {
            "colorbar": {
             "outlinewidth": 0,
             "ticks": ""
            },
            "type": "choropleth"
           }
          ],
          "contour": [
           {
            "colorbar": {
             "outlinewidth": 0,
             "ticks": ""
            },
            "colorscale": [
             [
              0,
              "#0d0887"
             ],
             [
              0.1111111111111111,
              "#46039f"
             ],
             [
              0.2222222222222222,
              "#7201a8"
             ],
             [
              0.3333333333333333,
              "#9c179e"
             ],
             [
              0.4444444444444444,
              "#bd3786"
             ],
             [
              0.5555555555555556,
              "#d8576b"
             ],
             [
              0.6666666666666666,
              "#ed7953"
             ],
             [
              0.7777777777777778,
              "#fb9f3a"
             ],
             [
              0.8888888888888888,
              "#fdca26"
             ],
             [
              1,
              "#f0f921"
             ]
            ],
            "type": "contour"
           }
          ],
          "contourcarpet": [
           {
            "colorbar": {
             "outlinewidth": 0,
             "ticks": ""
            },
            "type": "contourcarpet"
           }
          ],
          "heatmap": [
           {
            "colorbar": {
             "outlinewidth": 0,
             "ticks": ""
            },
            "colorscale": [
             [
              0,
              "#0d0887"
             ],
             [
              0.1111111111111111,
              "#46039f"
             ],
             [
              0.2222222222222222,
              "#7201a8"
             ],
             [
              0.3333333333333333,
              "#9c179e"
             ],
             [
              0.4444444444444444,
              "#bd3786"
             ],
             [
              0.5555555555555556,
              "#d8576b"
             ],
             [
              0.6666666666666666,
              "#ed7953"
             ],
             [
              0.7777777777777778,
              "#fb9f3a"
             ],
             [
              0.8888888888888888,
              "#fdca26"
             ],
             [
              1,
              "#f0f921"
             ]
            ],
            "type": "heatmap"
           }
          ],
          "heatmapgl": [
           {
            "colorbar": {
             "outlinewidth": 0,
             "ticks": ""
            },
            "colorscale": [
             [
              0,
              "#0d0887"
             ],
             [
              0.1111111111111111,
              "#46039f"
             ],
             [
              0.2222222222222222,
              "#7201a8"
             ],
             [
              0.3333333333333333,
              "#9c179e"
             ],
             [
              0.4444444444444444,
              "#bd3786"
             ],
             [
              0.5555555555555556,
              "#d8576b"
             ],
             [
              0.6666666666666666,
              "#ed7953"
             ],
             [
              0.7777777777777778,
              "#fb9f3a"
             ],
             [
              0.8888888888888888,
              "#fdca26"
             ],
             [
              1,
              "#f0f921"
             ]
            ],
            "type": "heatmapgl"
           }
          ],
          "histogram": [
           {
            "marker": {
             "pattern": {
              "fillmode": "overlay",
              "size": 10,
              "solidity": 0.2
             }
            },
            "type": "histogram"
           }
          ],
          "histogram2d": [
           {
            "colorbar": {
             "outlinewidth": 0,
             "ticks": ""
            },
            "colorscale": [
             [
              0,
              "#0d0887"
             ],
             [
              0.1111111111111111,
              "#46039f"
             ],
             [
              0.2222222222222222,
              "#7201a8"
             ],
             [
              0.3333333333333333,
              "#9c179e"
             ],
             [
              0.4444444444444444,
              "#bd3786"
             ],
             [
              0.5555555555555556,
              "#d8576b"
             ],
             [
              0.6666666666666666,
              "#ed7953"
             ],
             [
              0.7777777777777778,
              "#fb9f3a"
             ],
             [
              0.8888888888888888,
              "#fdca26"
             ],
             [
              1,
              "#f0f921"
             ]
            ],
            "type": "histogram2d"
           }
          ],
          "histogram2dcontour": [
           {
            "colorbar": {
             "outlinewidth": 0,
             "ticks": ""
            },
            "colorscale": [
             [
              0,
              "#0d0887"
             ],
             [
              0.1111111111111111,
              "#46039f"
             ],
             [
              0.2222222222222222,
              "#7201a8"
             ],
             [
              0.3333333333333333,
              "#9c179e"
             ],
             [
              0.4444444444444444,
              "#bd3786"
             ],
             [
              0.5555555555555556,
              "#d8576b"
             ],
             [
              0.6666666666666666,
              "#ed7953"
             ],
             [
              0.7777777777777778,
              "#fb9f3a"
             ],
             [
              0.8888888888888888,
              "#fdca26"
             ],
             [
              1,
              "#f0f921"
             ]
            ],
            "type": "histogram2dcontour"
           }
          ],
          "mesh3d": [
           {
            "colorbar": {
             "outlinewidth": 0,
             "ticks": ""
            },
            "type": "mesh3d"
           }
          ],
          "parcoords": [
           {
            "line": {
             "colorbar": {
              "outlinewidth": 0,
              "ticks": ""
             }
            },
            "type": "parcoords"
           }
          ],
          "pie": [
           {
            "automargin": true,
            "type": "pie"
           }
          ],
          "scatter": [
           {
            "fillpattern": {
             "fillmode": "overlay",
             "size": 10,
             "solidity": 0.2
            },
            "type": "scatter"
           }
          ],
          "scatter3d": [
           {
            "line": {
             "colorbar": {
              "outlinewidth": 0,
              "ticks": ""
             }
            },
            "marker": {
             "colorbar": {
              "outlinewidth": 0,
              "ticks": ""
             }
            },
            "type": "scatter3d"
           }
          ],
          "scattercarpet": [
           {
            "marker": {
             "colorbar": {
              "outlinewidth": 0,
              "ticks": ""
             }
            },
            "type": "scattercarpet"
           }
          ],
          "scattergeo": [
           {
            "marker": {
             "colorbar": {
              "outlinewidth": 0,
              "ticks": ""
             }
            },
            "type": "scattergeo"
           }
          ],
          "scattergl": [
           {
            "marker": {
             "colorbar": {
              "outlinewidth": 0,
              "ticks": ""
             }
            },
            "type": "scattergl"
           }
          ],
          "scattermapbox": [
           {
            "marker": {
             "colorbar": {
              "outlinewidth": 0,
              "ticks": ""
             }
            },
            "type": "scattermapbox"
           }
          ],
          "scatterpolar": [
           {
            "marker": {
             "colorbar": {
              "outlinewidth": 0,
              "ticks": ""
             }
            },
            "type": "scatterpolar"
           }
          ],
          "scatterpolargl": [
           {
            "marker": {
             "colorbar": {
              "outlinewidth": 0,
              "ticks": ""
             }
            },
            "type": "scatterpolargl"
           }
          ],
          "scatterternary": [
           {
            "marker": {
             "colorbar": {
              "outlinewidth": 0,
              "ticks": ""
             }
            },
            "type": "scatterternary"
           }
          ],
          "surface": [
           {
            "colorbar": {
             "outlinewidth": 0,
             "ticks": ""
            },
            "colorscale": [
             [
              0,
              "#0d0887"
             ],
             [
              0.1111111111111111,
              "#46039f"
             ],
             [
              0.2222222222222222,
              "#7201a8"
             ],
             [
              0.3333333333333333,
              "#9c179e"
             ],
             [
              0.4444444444444444,
              "#bd3786"
             ],
             [
              0.5555555555555556,
              "#d8576b"
             ],
             [
              0.6666666666666666,
              "#ed7953"
             ],
             [
              0.7777777777777778,
              "#fb9f3a"
             ],
             [
              0.8888888888888888,
              "#fdca26"
             ],
             [
              1,
              "#f0f921"
             ]
            ],
            "type": "surface"
           }
          ],
          "table": [
           {
            "cells": {
             "fill": {
              "color": "#EBF0F8"
             },
             "line": {
              "color": "white"
             }
            },
            "header": {
             "fill": {
              "color": "#C8D4E3"
             },
             "line": {
              "color": "white"
             }
            },
            "type": "table"
           }
          ]
         },
         "layout": {
          "annotationdefaults": {
           "arrowcolor": "#2a3f5f",
           "arrowhead": 0,
           "arrowwidth": 1
          },
          "autotypenumbers": "strict",
          "coloraxis": {
           "colorbar": {
            "outlinewidth": 0,
            "ticks": ""
           }
          },
          "colorscale": {
           "diverging": [
            [
             0,
             "#8e0152"
            ],
            [
             0.1,
             "#c51b7d"
            ],
            [
             0.2,
             "#de77ae"
            ],
            [
             0.3,
             "#f1b6da"
            ],
            [
             0.4,
             "#fde0ef"
            ],
            [
             0.5,
             "#f7f7f7"
            ],
            [
             0.6,
             "#e6f5d0"
            ],
            [
             0.7,
             "#b8e186"
            ],
            [
             0.8,
             "#7fbc41"
            ],
            [
             0.9,
             "#4d9221"
            ],
            [
             1,
             "#276419"
            ]
           ],
           "sequential": [
            [
             0,
             "#0d0887"
            ],
            [
             0.1111111111111111,
             "#46039f"
            ],
            [
             0.2222222222222222,
             "#7201a8"
            ],
            [
             0.3333333333333333,
             "#9c179e"
            ],
            [
             0.4444444444444444,
             "#bd3786"
            ],
            [
             0.5555555555555556,
             "#d8576b"
            ],
            [
             0.6666666666666666,
             "#ed7953"
            ],
            [
             0.7777777777777778,
             "#fb9f3a"
            ],
            [
             0.8888888888888888,
             "#fdca26"
            ],
            [
             1,
             "#f0f921"
            ]
           ],
           "sequentialminus": [
            [
             0,
             "#0d0887"
            ],
            [
             0.1111111111111111,
             "#46039f"
            ],
            [
             0.2222222222222222,
             "#7201a8"
            ],
            [
             0.3333333333333333,
             "#9c179e"
            ],
            [
             0.4444444444444444,
             "#bd3786"
            ],
            [
             0.5555555555555556,
             "#d8576b"
            ],
            [
             0.6666666666666666,
             "#ed7953"
            ],
            [
             0.7777777777777778,
             "#fb9f3a"
            ],
            [
             0.8888888888888888,
             "#fdca26"
            ],
            [
             1,
             "#f0f921"
            ]
           ]
          },
          "colorway": [
           "#636efa",
           "#EF553B",
           "#00cc96",
           "#ab63fa",
           "#FFA15A",
           "#19d3f3",
           "#FF6692",
           "#B6E880",
           "#FF97FF",
           "#FECB52"
          ],
          "font": {
           "color": "#2a3f5f"
          },
          "geo": {
           "bgcolor": "white",
           "lakecolor": "white",
           "landcolor": "#E5ECF6",
           "showlakes": true,
           "showland": true,
           "subunitcolor": "white"
          },
          "hoverlabel": {
           "align": "left"
          },
          "hovermode": "closest",
          "mapbox": {
           "style": "light"
          },
          "paper_bgcolor": "white",
          "plot_bgcolor": "#E5ECF6",
          "polar": {
           "angularaxis": {
            "gridcolor": "white",
            "linecolor": "white",
            "ticks": ""
           },
           "bgcolor": "#E5ECF6",
           "radialaxis": {
            "gridcolor": "white",
            "linecolor": "white",
            "ticks": ""
           }
          },
          "scene": {
           "xaxis": {
            "backgroundcolor": "#E5ECF6",
            "gridcolor": "white",
            "gridwidth": 2,
            "linecolor": "white",
            "showbackground": true,
            "ticks": "",
            "zerolinecolor": "white"
           },
           "yaxis": {
            "backgroundcolor": "#E5ECF6",
            "gridcolor": "white",
            "gridwidth": 2,
            "linecolor": "white",
            "showbackground": true,
            "ticks": "",
            "zerolinecolor": "white"
           },
           "zaxis": {
            "backgroundcolor": "#E5ECF6",
            "gridcolor": "white",
            "gridwidth": 2,
            "linecolor": "white",
            "showbackground": true,
            "ticks": "",
            "zerolinecolor": "white"
           }
          },
          "shapedefaults": {
           "line": {
            "color": "#2a3f5f"
           }
          },
          "ternary": {
           "aaxis": {
            "gridcolor": "white",
            "linecolor": "white",
            "ticks": ""
           },
           "baxis": {
            "gridcolor": "white",
            "linecolor": "white",
            "ticks": ""
           },
           "bgcolor": "#E5ECF6",
           "caxis": {
            "gridcolor": "white",
            "linecolor": "white",
            "ticks": ""
           }
          },
          "title": {
           "x": 0.05
          },
          "xaxis": {
           "automargin": true,
           "gridcolor": "white",
           "linecolor": "white",
           "ticks": "",
           "title": {
            "standoff": 15
           },
           "zerolinecolor": "white",
           "zerolinewidth": 2
          },
          "yaxis": {
           "automargin": true,
           "gridcolor": "white",
           "linecolor": "white",
           "ticks": "",
           "title": {
            "standoff": 15
           },
           "zerolinecolor": "white",
           "zerolinewidth": 2
          }
         }
        },
        "title": {
         "font": {
          "color": "white",
          "size": 24
         },
         "text": "30-Day Stock Price Forecast",
         "x": 0.5
        },
        "xaxis": {
         "color": "white",
         "domain": [
          0,
          0.7
         ],
         "gridcolor": "gray",
         "showgrid": false,
         "tickformat": "%b %d",
         "title": {
          "text": "Date"
         }
        },
        "xaxis2": {
         "anchor": "y2",
         "color": "white",
         "domain": [
          0.75,
          1
         ],
         "showline": false,
         "title": {
          "text": "Proportion (%)"
         }
        },
        "yaxis": {
         "color": "white",
         "gridcolor": "gray",
         "showgrid": false,
         "title": {
          "text": "Stock Price"
         }
        },
        "yaxis2": {
         "anchor": "x2",
         "color": "white",
         "domain": [
          0.3,
          0.7
         ],
         "showline": false
        }
       }
      }
     },
     "metadata": {},
     "output_type": "display_data"
    }
   ],
   "source": [
    "import plotly.graph_objects as go\n",
    "import pandas as pd\n",
    "\n",
    "# Historical Data\n",
    "historical_data = pd.DataFrame({\n",
    "    'Date': dates,  # Use fixed datetime dates\n",
    "    'Price': df['Close']  # Historical prices\n",
    "})\n",
    "historical_data = historical_data.iloc[-30:]\n",
    "\n",
    "# Forecast Data\n",
    "forecast_data = pd.DataFrame({\n",
    "    'Date': forecast_dates,  # Generated future dates\n",
    "    'Price': forecasted_prices_original  # Forecasted prices\n",
    "})\n",
    "\n",
    "# Example proportions for Buy, Sell, Hold\n",
    "historical_prices = historical_data['Price'].values\n",
    "predicted_prices = forecast_data['Price'].values\n",
    "threshold = 0.05  # 2% threshold\n",
    "\n",
    "# Compute buy, sell, hold\n",
    "buy_signals = (predicted_prices > historical_prices * (1 + threshold)).sum()\n",
    "sell_signals = (predicted_prices < historical_prices * (1 - threshold)).sum()\n",
    "hold_signals = len(historical_prices) - buy_signals - sell_signals\n",
    "\n",
    "# Total signals\n",
    "total_signals = buy_signals + sell_signals + hold_signals\n",
    "sell = (buy_signals / total_signals) * 100\n",
    "buy = (sell_signals / total_signals) * 100\n",
    "hold = (hold_signals / total_signals) * 100\n",
    "\n",
    "# buy = 50\n",
    "# sell = 30\n",
    "# hold = 20\n",
    "\n",
    "# Plot customization\n",
    "fig = go.Figure()\n",
    "\n",
    "# Add historical data trace\n",
    "fig.add_trace(go.Scatter(\n",
    "    x=historical_data['Date'],\n",
    "    y=historical_data['Price'],\n",
    "    mode='lines',\n",
    "    name='Historical Prices',\n",
    "    line=dict(color='cyan', width=2),\n",
    "    hoverlabel=dict(bgcolor=\"black\", font_color=\"white\")\n",
    "))\n",
    "\n",
    "# Add forecasted data trace\n",
    "fig.add_trace(go.Scatter(\n",
    "    x=forecast_data['Date'],\n",
    "    y=forecast_data['Price'],\n",
    "    mode='lines',\n",
    "    name='Forecasted Prices',\n",
    "    line=dict(color='magenta', width=2, dash='dash'),\n",
    "    hoverlabel=dict(bgcolor=\"black\", font_color=\"white\")\n",
    "))\n",
    "\n",
    "# Add a horizontal bar chart for Buy, Sell, Hold\n",
    "fig.add_trace(go.Bar(\n",
    "    x=[buy, sell, hold],  # Values\n",
    "    y=['Buy', 'Sell', 'Hold'],  # Categories\n",
    "    orientation='h',  # Horizontal bar chart\n",
    "    marker=dict(color=['#90EE90', '#FFA07A', '#87CEEB']),\n",
    "    opacity=0.7,\n",
    "    xaxis='x2',\n",
    "    yaxis='y2',\n",
    "    showlegend=False\n",
    "))\n",
    "\n",
    "# fig.add_trace(go.Bar(\n",
    "#     x=[buy, sell, hold],  # Values\n",
    "#     y=['Buy', 'Sell', 'Hold'],  # Categories\n",
    "#     orientation='h',  # Horizontal bar chart\n",
    "#     marker=dict(\n",
    "#         color=['#90EE90', '#FFA07A', '#87CEEB'],  # Subtle pastel colors\n",
    "#         line=dict(\n",
    "#             color=['#50C878', '#FF6347', '#4682B4'],  # Slightly darker outlines\n",
    "#             width=2  # Outline thickness for the curvy effect\n",
    "#         ),\n",
    "#         opacity=0.85  # Slight transparency for subtlety\n",
    "#     ),\n",
    "#     width=0.4,  # Slimmer bars for aesthetics\n",
    "#     showlegend=False\n",
    "# ))\n",
    "\n",
    "# Update layout for dark theme and bar chart positioning\n",
    "fig.update_layout(\n",
    "    title=dict(\n",
    "        text='30-Day Stock Price Forecast',\n",
    "        font=dict(size=24, color='white'),\n",
    "        x=0.5\n",
    "    ),\n",
    "    xaxis=dict(\n",
    "        title='Date',\n",
    "        showgrid=False,\n",
    "        gridcolor='gray',\n",
    "        color='white',\n",
    "        tickformat='%b %d',\n",
    "        domain=[0, 0.7]  # Shrink main plot horizontally to free space\n",
    "    ),\n",
    "    yaxis=dict(\n",
    "        title='Stock Price',\n",
    "        showgrid=False,\n",
    "        gridcolor='gray',\n",
    "        color='white'\n",
    "    ),\n",
    "    xaxis2=dict(\n",
    "        domain=[0.75, 1],  # Position bar chart on the right side\n",
    "        anchor='y2',\n",
    "        title='Proportion (%)',\n",
    "        color='white',\n",
    "        showline=False\n",
    "    ),\n",
    "    yaxis2=dict(\n",
    "        domain=[0.3, 0.7],  # Center vertically relative to the main plot\n",
    "        anchor='x2',\n",
    "        color='white',\n",
    "        showline=False\n",
    "    ),\n",
    "    paper_bgcolor='black',  # Dark background\n",
    "    plot_bgcolor='black',\n",
    "    legend=dict(\n",
    "        font=dict(size=12, color='white'),\n",
    "        bgcolor='rgba(0,0,0,0.5)',\n",
    "        x=0.75,  # Position legend near the bar chart\n",
    "        y=0.95\n",
    "    )\n",
    ")\n",
    "\n",
    "# Show the plot\n",
    "fig.show()\n"
   ]
  },
  {
   "cell_type": "code",
   "execution_count": 19,
   "metadata": {},
   "outputs": [
    {
     "data": {
      "application/vnd.plotly.v1+json": {
       "config": {
        "plotlyServerURL": "https://plot.ly"
       },
       "data": [
        {
         "hoverlabel": {
          "bgcolor": "black",
          "font": {
           "color": "white"
          }
         },
         "line": {
          "color": "cyan",
          "width": 2
         },
         "mode": "lines",
         "name": "Historical Prices",
         "type": "scatter",
         "x": [
          "2024-11-06T00:00:00+00:00",
          "2024-11-07T00:00:00+00:00",
          "2024-11-08T00:00:00+00:00",
          "2024-11-11T00:00:00+00:00",
          "2024-11-12T00:00:00+00:00",
          "2024-11-13T00:00:00+00:00",
          "2024-11-14T00:00:00+00:00"
         ],
         "y": [
          1325.3499755859375,
          1305.6500244140625,
          1283.75,
          1272.699951171875,
          1274.25,
          1252.050048828125,
          1267.5999755859375
         ]
        },
        {
         "hoverlabel": {
          "bgcolor": "black",
          "font": {
           "color": "white"
          }
         },
         "line": {
          "color": "magenta",
          "dash": "dash",
          "width": 2
         },
         "mode": "lines",
         "name": "Forecasted Prices",
         "type": "scatter",
         "x": [
          "2024-11-15T00:00:00+00:00",
          "2024-11-16T00:00:00+00:00",
          "2024-11-17T00:00:00+00:00",
          "2024-11-18T00:00:00+00:00",
          "2024-11-19T00:00:00+00:00",
          "2024-11-20T00:00:00+00:00",
          "2024-11-21T00:00:00+00:00"
         ],
         "y": [
          1267.6920678431215,
          1249.5661202926422,
          1250.911572923982,
          1249.4708928903074,
          1249.4708928903074,
          1249.5672615948424,
          1249.5672615948424
         ]
        },
        {
         "marker": {
          "color": [
           "#90EE90",
           "#FFA07A",
           "#87CEEB"
          ]
         },
         "opacity": 0.7,
         "orientation": "h",
         "showlegend": false,
         "type": "bar",
         "x": [
          0,
          0,
          100
         ],
         "xaxis": "x2",
         "y": [
          "Buy",
          "Sell",
          "Hold"
         ],
         "yaxis": "y2"
        }
       ],
       "layout": {
        "legend": {
         "bgcolor": "rgba(0,0,0,0.5)",
         "font": {
          "color": "white",
          "size": 12
         },
         "x": 0.75,
         "y": 0.95
        },
        "paper_bgcolor": "black",
        "plot_bgcolor": "black",
        "template": {
         "data": {
          "bar": [
           {
            "error_x": {
             "color": "#2a3f5f"
            },
            "error_y": {
             "color": "#2a3f5f"
            },
            "marker": {
             "line": {
              "color": "#E5ECF6",
              "width": 0.5
             },
             "pattern": {
              "fillmode": "overlay",
              "size": 10,
              "solidity": 0.2
             }
            },
            "type": "bar"
           }
          ],
          "barpolar": [
           {
            "marker": {
             "line": {
              "color": "#E5ECF6",
              "width": 0.5
             },
             "pattern": {
              "fillmode": "overlay",
              "size": 10,
              "solidity": 0.2
             }
            },
            "type": "barpolar"
           }
          ],
          "carpet": [
           {
            "aaxis": {
             "endlinecolor": "#2a3f5f",
             "gridcolor": "white",
             "linecolor": "white",
             "minorgridcolor": "white",
             "startlinecolor": "#2a3f5f"
            },
            "baxis": {
             "endlinecolor": "#2a3f5f",
             "gridcolor": "white",
             "linecolor": "white",
             "minorgridcolor": "white",
             "startlinecolor": "#2a3f5f"
            },
            "type": "carpet"
           }
          ],
          "choropleth": [
           {
            "colorbar": {
             "outlinewidth": 0,
             "ticks": ""
            },
            "type": "choropleth"
           }
          ],
          "contour": [
           {
            "colorbar": {
             "outlinewidth": 0,
             "ticks": ""
            },
            "colorscale": [
             [
              0,
              "#0d0887"
             ],
             [
              0.1111111111111111,
              "#46039f"
             ],
             [
              0.2222222222222222,
              "#7201a8"
             ],
             [
              0.3333333333333333,
              "#9c179e"
             ],
             [
              0.4444444444444444,
              "#bd3786"
             ],
             [
              0.5555555555555556,
              "#d8576b"
             ],
             [
              0.6666666666666666,
              "#ed7953"
             ],
             [
              0.7777777777777778,
              "#fb9f3a"
             ],
             [
              0.8888888888888888,
              "#fdca26"
             ],
             [
              1,
              "#f0f921"
             ]
            ],
            "type": "contour"
           }
          ],
          "contourcarpet": [
           {
            "colorbar": {
             "outlinewidth": 0,
             "ticks": ""
            },
            "type": "contourcarpet"
           }
          ],
          "heatmap": [
           {
            "colorbar": {
             "outlinewidth": 0,
             "ticks": ""
            },
            "colorscale": [
             [
              0,
              "#0d0887"
             ],
             [
              0.1111111111111111,
              "#46039f"
             ],
             [
              0.2222222222222222,
              "#7201a8"
             ],
             [
              0.3333333333333333,
              "#9c179e"
             ],
             [
              0.4444444444444444,
              "#bd3786"
             ],
             [
              0.5555555555555556,
              "#d8576b"
             ],
             [
              0.6666666666666666,
              "#ed7953"
             ],
             [
              0.7777777777777778,
              "#fb9f3a"
             ],
             [
              0.8888888888888888,
              "#fdca26"
             ],
             [
              1,
              "#f0f921"
             ]
            ],
            "type": "heatmap"
           }
          ],
          "heatmapgl": [
           {
            "colorbar": {
             "outlinewidth": 0,
             "ticks": ""
            },
            "colorscale": [
             [
              0,
              "#0d0887"
             ],
             [
              0.1111111111111111,
              "#46039f"
             ],
             [
              0.2222222222222222,
              "#7201a8"
             ],
             [
              0.3333333333333333,
              "#9c179e"
             ],
             [
              0.4444444444444444,
              "#bd3786"
             ],
             [
              0.5555555555555556,
              "#d8576b"
             ],
             [
              0.6666666666666666,
              "#ed7953"
             ],
             [
              0.7777777777777778,
              "#fb9f3a"
             ],
             [
              0.8888888888888888,
              "#fdca26"
             ],
             [
              1,
              "#f0f921"
             ]
            ],
            "type": "heatmapgl"
           }
          ],
          "histogram": [
           {
            "marker": {
             "pattern": {
              "fillmode": "overlay",
              "size": 10,
              "solidity": 0.2
             }
            },
            "type": "histogram"
           }
          ],
          "histogram2d": [
           {
            "colorbar": {
             "outlinewidth": 0,
             "ticks": ""
            },
            "colorscale": [
             [
              0,
              "#0d0887"
             ],
             [
              0.1111111111111111,
              "#46039f"
             ],
             [
              0.2222222222222222,
              "#7201a8"
             ],
             [
              0.3333333333333333,
              "#9c179e"
             ],
             [
              0.4444444444444444,
              "#bd3786"
             ],
             [
              0.5555555555555556,
              "#d8576b"
             ],
             [
              0.6666666666666666,
              "#ed7953"
             ],
             [
              0.7777777777777778,
              "#fb9f3a"
             ],
             [
              0.8888888888888888,
              "#fdca26"
             ],
             [
              1,
              "#f0f921"
             ]
            ],
            "type": "histogram2d"
           }
          ],
          "histogram2dcontour": [
           {
            "colorbar": {
             "outlinewidth": 0,
             "ticks": ""
            },
            "colorscale": [
             [
              0,
              "#0d0887"
             ],
             [
              0.1111111111111111,
              "#46039f"
             ],
             [
              0.2222222222222222,
              "#7201a8"
             ],
             [
              0.3333333333333333,
              "#9c179e"
             ],
             [
              0.4444444444444444,
              "#bd3786"
             ],
             [
              0.5555555555555556,
              "#d8576b"
             ],
             [
              0.6666666666666666,
              "#ed7953"
             ],
             [
              0.7777777777777778,
              "#fb9f3a"
             ],
             [
              0.8888888888888888,
              "#fdca26"
             ],
             [
              1,
              "#f0f921"
             ]
            ],
            "type": "histogram2dcontour"
           }
          ],
          "mesh3d": [
           {
            "colorbar": {
             "outlinewidth": 0,
             "ticks": ""
            },
            "type": "mesh3d"
           }
          ],
          "parcoords": [
           {
            "line": {
             "colorbar": {
              "outlinewidth": 0,
              "ticks": ""
             }
            },
            "type": "parcoords"
           }
          ],
          "pie": [
           {
            "automargin": true,
            "type": "pie"
           }
          ],
          "scatter": [
           {
            "fillpattern": {
             "fillmode": "overlay",
             "size": 10,
             "solidity": 0.2
            },
            "type": "scatter"
           }
          ],
          "scatter3d": [
           {
            "line": {
             "colorbar": {
              "outlinewidth": 0,
              "ticks": ""
             }
            },
            "marker": {
             "colorbar": {
              "outlinewidth": 0,
              "ticks": ""
             }
            },
            "type": "scatter3d"
           }
          ],
          "scattercarpet": [
           {
            "marker": {
             "colorbar": {
              "outlinewidth": 0,
              "ticks": ""
             }
            },
            "type": "scattercarpet"
           }
          ],
          "scattergeo": [
           {
            "marker": {
             "colorbar": {
              "outlinewidth": 0,
              "ticks": ""
             }
            },
            "type": "scattergeo"
           }
          ],
          "scattergl": [
           {
            "marker": {
             "colorbar": {
              "outlinewidth": 0,
              "ticks": ""
             }
            },
            "type": "scattergl"
           }
          ],
          "scattermapbox": [
           {
            "marker": {
             "colorbar": {
              "outlinewidth": 0,
              "ticks": ""
             }
            },
            "type": "scattermapbox"
           }
          ],
          "scatterpolar": [
           {
            "marker": {
             "colorbar": {
              "outlinewidth": 0,
              "ticks": ""
             }
            },
            "type": "scatterpolar"
           }
          ],
          "scatterpolargl": [
           {
            "marker": {
             "colorbar": {
              "outlinewidth": 0,
              "ticks": ""
             }
            },
            "type": "scatterpolargl"
           }
          ],
          "scatterternary": [
           {
            "marker": {
             "colorbar": {
              "outlinewidth": 0,
              "ticks": ""
             }
            },
            "type": "scatterternary"
           }
          ],
          "surface": [
           {
            "colorbar": {
             "outlinewidth": 0,
             "ticks": ""
            },
            "colorscale": [
             [
              0,
              "#0d0887"
             ],
             [
              0.1111111111111111,
              "#46039f"
             ],
             [
              0.2222222222222222,
              "#7201a8"
             ],
             [
              0.3333333333333333,
              "#9c179e"
             ],
             [
              0.4444444444444444,
              "#bd3786"
             ],
             [
              0.5555555555555556,
              "#d8576b"
             ],
             [
              0.6666666666666666,
              "#ed7953"
             ],
             [
              0.7777777777777778,
              "#fb9f3a"
             ],
             [
              0.8888888888888888,
              "#fdca26"
             ],
             [
              1,
              "#f0f921"
             ]
            ],
            "type": "surface"
           }
          ],
          "table": [
           {
            "cells": {
             "fill": {
              "color": "#EBF0F8"
             },
             "line": {
              "color": "white"
             }
            },
            "header": {
             "fill": {
              "color": "#C8D4E3"
             },
             "line": {
              "color": "white"
             }
            },
            "type": "table"
           }
          ]
         },
         "layout": {
          "annotationdefaults": {
           "arrowcolor": "#2a3f5f",
           "arrowhead": 0,
           "arrowwidth": 1
          },
          "autotypenumbers": "strict",
          "coloraxis": {
           "colorbar": {
            "outlinewidth": 0,
            "ticks": ""
           }
          },
          "colorscale": {
           "diverging": [
            [
             0,
             "#8e0152"
            ],
            [
             0.1,
             "#c51b7d"
            ],
            [
             0.2,
             "#de77ae"
            ],
            [
             0.3,
             "#f1b6da"
            ],
            [
             0.4,
             "#fde0ef"
            ],
            [
             0.5,
             "#f7f7f7"
            ],
            [
             0.6,
             "#e6f5d0"
            ],
            [
             0.7,
             "#b8e186"
            ],
            [
             0.8,
             "#7fbc41"
            ],
            [
             0.9,
             "#4d9221"
            ],
            [
             1,
             "#276419"
            ]
           ],
           "sequential": [
            [
             0,
             "#0d0887"
            ],
            [
             0.1111111111111111,
             "#46039f"
            ],
            [
             0.2222222222222222,
             "#7201a8"
            ],
            [
             0.3333333333333333,
             "#9c179e"
            ],
            [
             0.4444444444444444,
             "#bd3786"
            ],
            [
             0.5555555555555556,
             "#d8576b"
            ],
            [
             0.6666666666666666,
             "#ed7953"
            ],
            [
             0.7777777777777778,
             "#fb9f3a"
            ],
            [
             0.8888888888888888,
             "#fdca26"
            ],
            [
             1,
             "#f0f921"
            ]
           ],
           "sequentialminus": [
            [
             0,
             "#0d0887"
            ],
            [
             0.1111111111111111,
             "#46039f"
            ],
            [
             0.2222222222222222,
             "#7201a8"
            ],
            [
             0.3333333333333333,
             "#9c179e"
            ],
            [
             0.4444444444444444,
             "#bd3786"
            ],
            [
             0.5555555555555556,
             "#d8576b"
            ],
            [
             0.6666666666666666,
             "#ed7953"
            ],
            [
             0.7777777777777778,
             "#fb9f3a"
            ],
            [
             0.8888888888888888,
             "#fdca26"
            ],
            [
             1,
             "#f0f921"
            ]
           ]
          },
          "colorway": [
           "#636efa",
           "#EF553B",
           "#00cc96",
           "#ab63fa",
           "#FFA15A",
           "#19d3f3",
           "#FF6692",
           "#B6E880",
           "#FF97FF",
           "#FECB52"
          ],
          "font": {
           "color": "#2a3f5f"
          },
          "geo": {
           "bgcolor": "white",
           "lakecolor": "white",
           "landcolor": "#E5ECF6",
           "showlakes": true,
           "showland": true,
           "subunitcolor": "white"
          },
          "hoverlabel": {
           "align": "left"
          },
          "hovermode": "closest",
          "mapbox": {
           "style": "light"
          },
          "paper_bgcolor": "white",
          "plot_bgcolor": "#E5ECF6",
          "polar": {
           "angularaxis": {
            "gridcolor": "white",
            "linecolor": "white",
            "ticks": ""
           },
           "bgcolor": "#E5ECF6",
           "radialaxis": {
            "gridcolor": "white",
            "linecolor": "white",
            "ticks": ""
           }
          },
          "scene": {
           "xaxis": {
            "backgroundcolor": "#E5ECF6",
            "gridcolor": "white",
            "gridwidth": 2,
            "linecolor": "white",
            "showbackground": true,
            "ticks": "",
            "zerolinecolor": "white"
           },
           "yaxis": {
            "backgroundcolor": "#E5ECF6",
            "gridcolor": "white",
            "gridwidth": 2,
            "linecolor": "white",
            "showbackground": true,
            "ticks": "",
            "zerolinecolor": "white"
           },
           "zaxis": {
            "backgroundcolor": "#E5ECF6",
            "gridcolor": "white",
            "gridwidth": 2,
            "linecolor": "white",
            "showbackground": true,
            "ticks": "",
            "zerolinecolor": "white"
           }
          },
          "shapedefaults": {
           "line": {
            "color": "#2a3f5f"
           }
          },
          "ternary": {
           "aaxis": {
            "gridcolor": "white",
            "linecolor": "white",
            "ticks": ""
           },
           "baxis": {
            "gridcolor": "white",
            "linecolor": "white",
            "ticks": ""
           },
           "bgcolor": "#E5ECF6",
           "caxis": {
            "gridcolor": "white",
            "linecolor": "white",
            "ticks": ""
           }
          },
          "title": {
           "x": 0.05
          },
          "xaxis": {
           "automargin": true,
           "gridcolor": "white",
           "linecolor": "white",
           "ticks": "",
           "title": {
            "standoff": 15
           },
           "zerolinecolor": "white",
           "zerolinewidth": 2
          },
          "yaxis": {
           "automargin": true,
           "gridcolor": "white",
           "linecolor": "white",
           "ticks": "",
           "title": {
            "standoff": 15
           },
           "zerolinecolor": "white",
           "zerolinewidth": 2
          }
         }
        },
        "title": {
         "font": {
          "color": "white",
          "size": 24
         },
         "text": "7-Day Stock Price Forecast",
         "x": 0.5
        },
        "xaxis": {
         "color": "white",
         "domain": [
          0,
          0.7
         ],
         "gridcolor": "gray",
         "showgrid": false,
         "tickformat": "%b %d",
         "title": {
          "text": "Date"
         }
        },
        "xaxis2": {
         "anchor": "y2",
         "color": "white",
         "domain": [
          0.75,
          1
         ],
         "showline": false,
         "title": {
          "text": "Proportion (%)"
         }
        },
        "yaxis": {
         "color": "white",
         "gridcolor": "gray",
         "showgrid": false,
         "title": {
          "text": "Stock Price"
         }
        },
        "yaxis2": {
         "anchor": "x2",
         "color": "white",
         "domain": [
          0.3,
          0.7
         ],
         "showline": false
        }
       }
      }
     },
     "metadata": {},
     "output_type": "display_data"
    }
   ],
   "source": [
    "import plotly.graph_objects as go\n",
    "import pandas as pd\n",
    "\n",
    "# Historical Data\n",
    "historical_data = pd.DataFrame({\n",
    "    'Date': dates,  # Use fixed datetime dates\n",
    "    'Price': df['Close']  # Historical prices\n",
    "})\n",
    "historical_data = historical_data.iloc[-7:]\n",
    "\n",
    "# Forecast Data\n",
    "forecast_data = pd.DataFrame({\n",
    "    'Date': forecast_dates_7,  # Generated future dates\n",
    "    'Price': forecasted_prices_original_7  # Forecasted prices\n",
    "})\n",
    "\n",
    "# Example proportions for Buy, Sell, Hold\n",
    "historical_prices = historical_data['Price'].values\n",
    "predicted_prices = forecast_data['Price'].values\n",
    "threshold = 0.05  # 2% threshold\n",
    "\n",
    "# Compute buy, sell, hold\n",
    "buy_signals = (predicted_prices > historical_prices * (1 + threshold)).sum()\n",
    "sell_signals = (predicted_prices < historical_prices * (1 - threshold)).sum()\n",
    "hold_signals = len(historical_prices) - buy_signals - sell_signals\n",
    "\n",
    "# Total signals\n",
    "total_signals = buy_signals + sell_signals + hold_signals\n",
    "sell = (buy_signals / total_signals) * 100\n",
    "buy = (sell_signals / total_signals) * 100\n",
    "hold = (hold_signals / total_signals) * 100\n",
    "\n",
    "# buy = 50\n",
    "# sell = 30\n",
    "# hold = 20\n",
    "\n",
    "# Plot customization\n",
    "fig_1 = go.Figure()\n",
    "\n",
    "# Add historical data trace\n",
    "fig_1.add_trace(go.Scatter(\n",
    "    x=historical_data['Date'],\n",
    "    y=historical_data['Price'],\n",
    "    mode='lines',\n",
    "    name='Historical Prices',\n",
    "    line=dict(color='cyan', width=2),\n",
    "    hoverlabel=dict(bgcolor=\"black\", font_color=\"white\")\n",
    "))\n",
    "\n",
    "# Add forecasted data trace\n",
    "fig_1.add_trace(go.Scatter(\n",
    "    x=forecast_data['Date'],\n",
    "    y=forecast_data['Price'],\n",
    "    mode='lines',\n",
    "    name='Forecasted Prices',\n",
    "    line=dict(color='magenta', width=2, dash='dash'),\n",
    "    hoverlabel=dict(bgcolor=\"black\", font_color=\"white\")\n",
    "))\n",
    "\n",
    "# Add a horizontal bar chart for Buy, Sell, Hold\n",
    "fig_1.add_trace(go.Bar(\n",
    "    x=[buy, sell, hold],  # Values\n",
    "    y=['Buy', 'Sell', 'Hold'],  # Categories\n",
    "    orientation='h',  # Horizontal bar chart\n",
    "    marker=dict(color=['#90EE90', '#FFA07A', '#87CEEB']),\n",
    "    opacity=0.7,\n",
    "    xaxis='x2',\n",
    "    yaxis='y2',\n",
    "    showlegend=False\n",
    "))\n",
    "\n",
    "# fig_1.add_trace(go.Bar(\n",
    "#     x=[buy, sell, hold],  # Values\n",
    "#     y=['Buy', 'Sell', 'Hold'],  # Categories\n",
    "#     orientation='h',  # Horizontal bar chart\n",
    "#     marker=dict(\n",
    "#         color=['#90EE90', '#FFA07A', '#87CEEB'],  # Subtle pastel colors\n",
    "#         line=dict(\n",
    "#             color=['#50C878', '#FF6347', '#4682B4'],  # Slightly darker outlines\n",
    "#             width=2  # Outline thickness for the curvy effect\n",
    "#         ),\n",
    "#         opacity=0.85  # Slight transparency for subtlety\n",
    "#     ),\n",
    "#     width=0.4,  # Slimmer bars for aesthetics\n",
    "#     showlegend=False\n",
    "# ))\n",
    "\n",
    "# Update layout for dark theme and bar chart positioning\n",
    "fig_1.update_layout(\n",
    "    title=dict(\n",
    "        text='7-Day Stock Price Forecast',\n",
    "        font=dict(size=24, color='white'),\n",
    "        x=0.5\n",
    "    ),\n",
    "    xaxis=dict(\n",
    "        title='Date',\n",
    "        showgrid=False,\n",
    "        gridcolor='gray',\n",
    "        color='white',\n",
    "        tickformat='%b %d',\n",
    "        domain=[0, 0.7]  # Shrink main plot horizontally to free space\n",
    "    ),\n",
    "    yaxis=dict(\n",
    "        title='Stock Price',\n",
    "        showgrid=False,\n",
    "        gridcolor='gray',\n",
    "        color='white'\n",
    "    ),\n",
    "    xaxis2=dict(\n",
    "        domain=[0.75, 1],  # Position bar chart on the right side\n",
    "        anchor='y2',\n",
    "        title='Proportion (%)',\n",
    "        color='white',\n",
    "        showline=False\n",
    "    ),\n",
    "    yaxis2=dict(\n",
    "        domain=[0.3, 0.7],  # Center vertically relative to the main plot\n",
    "        anchor='x2',\n",
    "        color='white',\n",
    "        showline=False\n",
    "    ),\n",
    "    paper_bgcolor='black',  # Dark background\n",
    "    plot_bgcolor='black',\n",
    "    legend=dict(\n",
    "        font=dict(size=12, color='white'),\n",
    "        bgcolor='rgba(0,0,0,0.5)',\n",
    "        x=0.75,  # Position legend near the bar chart\n",
    "        y=0.95\n",
    "    )\n",
    ")\n",
    "\n",
    "# Show the plot\n",
    "fig_1.show()\n"
   ]
  },
  {
   "cell_type": "code",
   "execution_count": 20,
   "metadata": {},
   "outputs": [
    {
     "name": "stdout",
     "output_type": "stream",
     "text": [
      "                           Price         Nifty       S&P 500\n",
      "Date                                                        \n",
      "2024-11-27 18:30:00+00:00    NaN  23914.150391  79043.742188\n",
      "2024-11-28 18:30:00+00:00    NaN  24131.099609  79802.789062\n",
      "2024-12-01 18:30:00+00:00    NaN  24276.050781  80248.078125\n",
      "2024-12-02 18:30:00+00:00    NaN  24457.150391  80845.750000\n",
      "2024-12-03 18:30:00+00:00    NaN  24467.449219  80956.328125\n"
     ]
    },
    {
     "data": {
      "application/vnd.plotly.v1+json": {
       "config": {
        "plotlyServerURL": "https://plot.ly"
       },
       "data": [
        {
         "line": {
          "color": "blue"
         },
         "mode": "lines",
         "name": "Stock Price",
         "type": "scatter",
         "x": [
          "2024-08-22T00:00:00+00:00",
          "2024-08-23T00:00:00+00:00",
          "2024-08-26T00:00:00+00:00",
          "2024-08-27T00:00:00+00:00",
          "2024-08-28T00:00:00+00:00",
          "2024-08-29T00:00:00+00:00",
          "2024-08-30T00:00:00+00:00",
          "2024-09-02T00:00:00+00:00",
          "2024-09-03T00:00:00+00:00",
          "2024-09-04T00:00:00+00:00",
          "2024-09-05T00:00:00+00:00",
          "2024-09-06T00:00:00+00:00",
          "2024-09-09T00:00:00+00:00",
          "2024-09-10T00:00:00+00:00",
          "2024-09-11T00:00:00+00:00",
          "2024-09-12T00:00:00+00:00",
          "2024-09-13T00:00:00+00:00",
          "2024-09-16T00:00:00+00:00",
          "2024-09-17T00:00:00+00:00",
          "2024-09-18T00:00:00+00:00",
          "2024-09-19T00:00:00+00:00",
          "2024-09-20T00:00:00+00:00",
          "2024-09-23T00:00:00+00:00",
          "2024-09-24T00:00:00+00:00",
          "2024-09-25T00:00:00+00:00",
          "2024-09-26T00:00:00+00:00",
          "2024-09-27T00:00:00+00:00",
          "2024-09-30T00:00:00+00:00",
          "2024-10-01T00:00:00+00:00",
          "2024-10-03T00:00:00+00:00",
          "2024-10-04T00:00:00+00:00",
          "2024-10-07T00:00:00+00:00",
          "2024-10-08T00:00:00+00:00",
          "2024-10-09T00:00:00+00:00",
          "2024-10-10T00:00:00+00:00",
          "2024-10-11T00:00:00+00:00",
          "2024-10-14T00:00:00+00:00",
          "2024-10-15T00:00:00+00:00",
          "2024-10-16T00:00:00+00:00",
          "2024-10-17T00:00:00+00:00",
          "2024-10-18T00:00:00+00:00",
          "2024-10-21T00:00:00+00:00",
          "2024-10-22T00:00:00+00:00",
          "2024-10-23T00:00:00+00:00",
          "2024-10-24T00:00:00+00:00",
          "2024-10-25T00:00:00+00:00",
          "2024-10-28T00:00:00+00:00",
          "2024-10-29T00:00:00+00:00",
          "2024-10-30T00:00:00+00:00",
          "2024-10-31T00:00:00+00:00",
          "2024-11-01T00:00:00+00:00",
          "2024-11-04T00:00:00+00:00",
          "2024-11-05T00:00:00+00:00",
          "2024-11-06T00:00:00+00:00",
          "2024-11-07T00:00:00+00:00",
          "2024-11-08T00:00:00+00:00",
          "2024-11-11T00:00:00+00:00",
          "2024-11-12T00:00:00+00:00",
          "2024-11-13T00:00:00+00:00",
          "2024-11-14T00:00:00+00:00"
         ],
         "y": [
          1498.125,
          1499.9749755859375,
          1512.5999755859375,
          1500.449951171875,
          1498.300048828125,
          1520.925048828125,
          1509.625,
          1516.25,
          1509.125,
          1514.550048828125,
          1492.9749755859375,
          1464.824951171875,
          1462.449951171875,
          1461.5250244140625,
          1451.5,
          1479.800048828125,
          1472.625,
          1471.3499755859375,
          1472.300048828125,
          1463.449951171875,
          1469.675048828125,
          1485.925048828125,
          1493.375,
          1489.375,
          1493.949951171875,
          1497.949951171875,
          1526.175048828125,
          1476.574951171875,
          1464.824951171875,
          1406.9749755859375,
          1386.5250244140625,
          1370.7249755859375,
          1397.3499755859375,
          1374.5999755859375,
          1371.050048828125,
          1372.0999755859375,
          1372.5250244140625,
          1344.0250244140625,
          1354.074951171875,
          1356.425048828125,
          1359.300048828125,
          1369.199951171875,
          1343.3499755859375,
          1338.5250244140625,
          1339.800048828125,
          1327.8499755859375,
          1334.3499755859375,
          1340,
          1343.9000244140625,
          1332.050048828125,
          1338.6500244140625,
          1302.1500244140625,
          1305.300048828125,
          1325.3499755859375,
          1305.6500244140625,
          1283.75,
          1272.699951171875,
          1274.25,
          1252.050048828125,
          1267.5999755859375
         ]
        },
        {
         "line": {
          "color": "orange",
          "dash": "dot"
         },
         "mode": "lines",
         "name": "Forecasted Stock",
         "type": "scatter",
         "x": [
          "2024-11-15T00:00:00+00:00",
          "2024-11-16T00:00:00+00:00",
          "2024-11-17T00:00:00+00:00",
          "2024-11-18T00:00:00+00:00",
          "2024-11-19T00:00:00+00:00",
          "2024-11-20T00:00:00+00:00",
          "2024-11-21T00:00:00+00:00",
          "2024-11-22T00:00:00+00:00",
          "2024-11-23T00:00:00+00:00",
          "2024-11-24T00:00:00+00:00",
          "2024-11-25T00:00:00+00:00",
          "2024-11-26T00:00:00+00:00",
          "2024-11-27T00:00:00+00:00",
          "2024-11-28T00:00:00+00:00",
          "2024-11-29T00:00:00+00:00",
          "2024-11-30T00:00:00+00:00",
          "2024-12-01T00:00:00+00:00",
          "2024-12-02T00:00:00+00:00",
          "2024-12-03T00:00:00+00:00",
          "2024-12-04T00:00:00+00:00",
          "2024-12-05T00:00:00+00:00",
          "2024-12-06T00:00:00+00:00",
          "2024-12-07T00:00:00+00:00",
          "2024-12-08T00:00:00+00:00",
          "2024-12-09T00:00:00+00:00",
          "2024-12-10T00:00:00+00:00",
          "2024-12-11T00:00:00+00:00",
          "2024-12-12T00:00:00+00:00",
          "2024-12-13T00:00:00+00:00",
          "2024-12-14T00:00:00+00:00"
         ],
         "y": [
          1267.6920678431215,
          1249.5654783101545,
          1250.911572923982,
          1249.4708928903074,
          1249.4708928903074,
          1249.5672615948424,
          1249.5672615948424,
          1249.4708928903074,
          1249.4708928903074,
          1249.5672615948424,
          1249.5672615948424,
          1249.4708928903074,
          1249.4708928903074,
          1249.5672615948424,
          1249.5672615948424,
          1249.4708928903074,
          1249.4708928903074,
          1249.5672615948424,
          1249.5672615948424,
          1249.4708928903074,
          1249.4708928903074,
          1249.5672615948424,
          1249.5672615948424,
          1249.4708928903074,
          1249.4708928903074,
          1249.5672615948424,
          1249.5672615948424,
          1249.4708928903074,
          1249.4708928903074,
          1249.5672615948424
         ]
        },
        {
         "line": {
          "color": "green",
          "dash": "dash"
         },
         "mode": "lines",
         "name": "Nifty 50",
         "type": "scatter",
         "x": [
          "2024-09-04T00:00:00+05:30",
          "2024-09-05T00:00:00+05:30",
          "2024-09-06T00:00:00+05:30",
          "2024-09-09T00:00:00+05:30",
          "2024-09-10T00:00:00+05:30",
          "2024-09-11T00:00:00+05:30",
          "2024-09-12T00:00:00+05:30",
          "2024-09-13T00:00:00+05:30",
          "2024-09-16T00:00:00+05:30",
          "2024-09-17T00:00:00+05:30",
          "2024-09-18T00:00:00+05:30",
          "2024-09-19T00:00:00+05:30",
          "2024-09-20T00:00:00+05:30",
          "2024-09-23T00:00:00+05:30",
          "2024-09-24T00:00:00+05:30",
          "2024-09-25T00:00:00+05:30",
          "2024-09-26T00:00:00+05:30",
          "2024-09-27T00:00:00+05:30",
          "2024-09-30T00:00:00+05:30",
          "2024-10-01T00:00:00+05:30",
          "2024-10-03T00:00:00+05:30",
          "2024-10-04T00:00:00+05:30",
          "2024-10-07T00:00:00+05:30",
          "2024-10-08T00:00:00+05:30",
          "2024-10-09T00:00:00+05:30",
          "2024-10-10T00:00:00+05:30",
          "2024-10-11T00:00:00+05:30",
          "2024-10-14T00:00:00+05:30",
          "2024-10-15T00:00:00+05:30",
          "2024-10-16T00:00:00+05:30",
          "2024-10-17T00:00:00+05:30",
          "2024-10-18T00:00:00+05:30",
          "2024-10-21T00:00:00+05:30",
          "2024-10-22T00:00:00+05:30",
          "2024-10-23T00:00:00+05:30",
          "2024-10-24T00:00:00+05:30",
          "2024-10-25T00:00:00+05:30",
          "2024-10-28T00:00:00+05:30",
          "2024-10-29T00:00:00+05:30",
          "2024-10-30T00:00:00+05:30",
          "2024-10-31T00:00:00+05:30",
          "2024-11-01T00:00:00+05:30",
          "2024-11-04T00:00:00+05:30",
          "2024-11-05T00:00:00+05:30",
          "2024-11-06T00:00:00+05:30",
          "2024-11-07T00:00:00+05:30",
          "2024-11-08T00:00:00+05:30",
          "2024-11-11T00:00:00+05:30",
          "2024-11-12T00:00:00+05:30",
          "2024-11-13T00:00:00+05:30",
          "2024-11-14T00:00:00+05:30",
          "2024-11-18T00:00:00+05:30",
          "2024-11-19T00:00:00+05:30",
          "2024-11-21T00:00:00+05:30",
          "2024-11-22T00:00:00+05:30",
          "2024-11-25T00:00:00+05:30",
          "2024-11-26T00:00:00+05:30",
          "2024-11-27T00:00:00+05:30",
          "2024-11-28T00:00:00+05:30",
          "2024-11-29T00:00:00+05:30",
          "2024-12-02T00:00:00+05:30",
          "2024-12-03T00:00:00+05:30",
          "2024-12-04T00:00:00+05:30"
         ],
         "y": [
          25198.69921875,
          25145.099609375,
          24852.150390625,
          24936.400390625,
          25041.099609375,
          24918.44921875,
          25388.900390625,
          25356.5,
          25383.75,
          25418.55078125,
          25377.55078125,
          25415.80078125,
          25790.94921875,
          25939.05078125,
          25940.400390625,
          26004.150390625,
          26216.05078125,
          26178.94921875,
          25810.849609375,
          25796.900390625,
          25250.099609375,
          25014.599609375,
          24795.75,
          25013.150390625,
          24981.94921875,
          24998.44921875,
          24964.25,
          25127.94921875,
          25057.349609375,
          24971.30078125,
          24749.849609375,
          24854.05078125,
          24781.099609375,
          24472.099609375,
          24435.5,
          24399.400390625,
          24180.80078125,
          24339.150390625,
          24466.849609375,
          24340.849609375,
          24205.349609375,
          24304.349609375,
          23995.349609375,
          24213.30078125,
          24484.05078125,
          24199.349609375,
          24148.19921875,
          24141.30078125,
          23883.44921875,
          23559.05078125,
          23532.69921875,
          23453.80078125,
          23518.5,
          23349.900390625,
          23907.25,
          24221.900390625,
          24194.5,
          24274.900390625,
          23914.150390625,
          24131.099609375,
          24276.05078125,
          24457.150390625,
          24467.44921875
         ]
        }
       ],
       "layout": {
        "showlegend": true,
        "template": {
         "data": {
          "bar": [
           {
            "error_x": {
             "color": "#f2f5fa"
            },
            "error_y": {
             "color": "#f2f5fa"
            },
            "marker": {
             "line": {
              "color": "rgb(17,17,17)",
              "width": 0.5
             },
             "pattern": {
              "fillmode": "overlay",
              "size": 10,
              "solidity": 0.2
             }
            },
            "type": "bar"
           }
          ],
          "barpolar": [
           {
            "marker": {
             "line": {
              "color": "rgb(17,17,17)",
              "width": 0.5
             },
             "pattern": {
              "fillmode": "overlay",
              "size": 10,
              "solidity": 0.2
             }
            },
            "type": "barpolar"
           }
          ],
          "carpet": [
           {
            "aaxis": {
             "endlinecolor": "#A2B1C6",
             "gridcolor": "#506784",
             "linecolor": "#506784",
             "minorgridcolor": "#506784",
             "startlinecolor": "#A2B1C6"
            },
            "baxis": {
             "endlinecolor": "#A2B1C6",
             "gridcolor": "#506784",
             "linecolor": "#506784",
             "minorgridcolor": "#506784",
             "startlinecolor": "#A2B1C6"
            },
            "type": "carpet"
           }
          ],
          "choropleth": [
           {
            "colorbar": {
             "outlinewidth": 0,
             "ticks": ""
            },
            "type": "choropleth"
           }
          ],
          "contour": [
           {
            "colorbar": {
             "outlinewidth": 0,
             "ticks": ""
            },
            "colorscale": [
             [
              0,
              "#0d0887"
             ],
             [
              0.1111111111111111,
              "#46039f"
             ],
             [
              0.2222222222222222,
              "#7201a8"
             ],
             [
              0.3333333333333333,
              "#9c179e"
             ],
             [
              0.4444444444444444,
              "#bd3786"
             ],
             [
              0.5555555555555556,
              "#d8576b"
             ],
             [
              0.6666666666666666,
              "#ed7953"
             ],
             [
              0.7777777777777778,
              "#fb9f3a"
             ],
             [
              0.8888888888888888,
              "#fdca26"
             ],
             [
              1,
              "#f0f921"
             ]
            ],
            "type": "contour"
           }
          ],
          "contourcarpet": [
           {
            "colorbar": {
             "outlinewidth": 0,
             "ticks": ""
            },
            "type": "contourcarpet"
           }
          ],
          "heatmap": [
           {
            "colorbar": {
             "outlinewidth": 0,
             "ticks": ""
            },
            "colorscale": [
             [
              0,
              "#0d0887"
             ],
             [
              0.1111111111111111,
              "#46039f"
             ],
             [
              0.2222222222222222,
              "#7201a8"
             ],
             [
              0.3333333333333333,
              "#9c179e"
             ],
             [
              0.4444444444444444,
              "#bd3786"
             ],
             [
              0.5555555555555556,
              "#d8576b"
             ],
             [
              0.6666666666666666,
              "#ed7953"
             ],
             [
              0.7777777777777778,
              "#fb9f3a"
             ],
             [
              0.8888888888888888,
              "#fdca26"
             ],
             [
              1,
              "#f0f921"
             ]
            ],
            "type": "heatmap"
           }
          ],
          "heatmapgl": [
           {
            "colorbar": {
             "outlinewidth": 0,
             "ticks": ""
            },
            "colorscale": [
             [
              0,
              "#0d0887"
             ],
             [
              0.1111111111111111,
              "#46039f"
             ],
             [
              0.2222222222222222,
              "#7201a8"
             ],
             [
              0.3333333333333333,
              "#9c179e"
             ],
             [
              0.4444444444444444,
              "#bd3786"
             ],
             [
              0.5555555555555556,
              "#d8576b"
             ],
             [
              0.6666666666666666,
              "#ed7953"
             ],
             [
              0.7777777777777778,
              "#fb9f3a"
             ],
             [
              0.8888888888888888,
              "#fdca26"
             ],
             [
              1,
              "#f0f921"
             ]
            ],
            "type": "heatmapgl"
           }
          ],
          "histogram": [
           {
            "marker": {
             "pattern": {
              "fillmode": "overlay",
              "size": 10,
              "solidity": 0.2
             }
            },
            "type": "histogram"
           }
          ],
          "histogram2d": [
           {
            "colorbar": {
             "outlinewidth": 0,
             "ticks": ""
            },
            "colorscale": [
             [
              0,
              "#0d0887"
             ],
             [
              0.1111111111111111,
              "#46039f"
             ],
             [
              0.2222222222222222,
              "#7201a8"
             ],
             [
              0.3333333333333333,
              "#9c179e"
             ],
             [
              0.4444444444444444,
              "#bd3786"
             ],
             [
              0.5555555555555556,
              "#d8576b"
             ],
             [
              0.6666666666666666,
              "#ed7953"
             ],
             [
              0.7777777777777778,
              "#fb9f3a"
             ],
             [
              0.8888888888888888,
              "#fdca26"
             ],
             [
              1,
              "#f0f921"
             ]
            ],
            "type": "histogram2d"
           }
          ],
          "histogram2dcontour": [
           {
            "colorbar": {
             "outlinewidth": 0,
             "ticks": ""
            },
            "colorscale": [
             [
              0,
              "#0d0887"
             ],
             [
              0.1111111111111111,
              "#46039f"
             ],
             [
              0.2222222222222222,
              "#7201a8"
             ],
             [
              0.3333333333333333,
              "#9c179e"
             ],
             [
              0.4444444444444444,
              "#bd3786"
             ],
             [
              0.5555555555555556,
              "#d8576b"
             ],
             [
              0.6666666666666666,
              "#ed7953"
             ],
             [
              0.7777777777777778,
              "#fb9f3a"
             ],
             [
              0.8888888888888888,
              "#fdca26"
             ],
             [
              1,
              "#f0f921"
             ]
            ],
            "type": "histogram2dcontour"
           }
          ],
          "mesh3d": [
           {
            "colorbar": {
             "outlinewidth": 0,
             "ticks": ""
            },
            "type": "mesh3d"
           }
          ],
          "parcoords": [
           {
            "line": {
             "colorbar": {
              "outlinewidth": 0,
              "ticks": ""
             }
            },
            "type": "parcoords"
           }
          ],
          "pie": [
           {
            "automargin": true,
            "type": "pie"
           }
          ],
          "scatter": [
           {
            "marker": {
             "line": {
              "color": "#283442"
             }
            },
            "type": "scatter"
           }
          ],
          "scatter3d": [
           {
            "line": {
             "colorbar": {
              "outlinewidth": 0,
              "ticks": ""
             }
            },
            "marker": {
             "colorbar": {
              "outlinewidth": 0,
              "ticks": ""
             }
            },
            "type": "scatter3d"
           }
          ],
          "scattercarpet": [
           {
            "marker": {
             "colorbar": {
              "outlinewidth": 0,
              "ticks": ""
             }
            },
            "type": "scattercarpet"
           }
          ],
          "scattergeo": [
           {
            "marker": {
             "colorbar": {
              "outlinewidth": 0,
              "ticks": ""
             }
            },
            "type": "scattergeo"
           }
          ],
          "scattergl": [
           {
            "marker": {
             "line": {
              "color": "#283442"
             }
            },
            "type": "scattergl"
           }
          ],
          "scattermapbox": [
           {
            "marker": {
             "colorbar": {
              "outlinewidth": 0,
              "ticks": ""
             }
            },
            "type": "scattermapbox"
           }
          ],
          "scatterpolar": [
           {
            "marker": {
             "colorbar": {
              "outlinewidth": 0,
              "ticks": ""
             }
            },
            "type": "scatterpolar"
           }
          ],
          "scatterpolargl": [
           {
            "marker": {
             "colorbar": {
              "outlinewidth": 0,
              "ticks": ""
             }
            },
            "type": "scatterpolargl"
           }
          ],
          "scatterternary": [
           {
            "marker": {
             "colorbar": {
              "outlinewidth": 0,
              "ticks": ""
             }
            },
            "type": "scatterternary"
           }
          ],
          "surface": [
           {
            "colorbar": {
             "outlinewidth": 0,
             "ticks": ""
            },
            "colorscale": [
             [
              0,
              "#0d0887"
             ],
             [
              0.1111111111111111,
              "#46039f"
             ],
             [
              0.2222222222222222,
              "#7201a8"
             ],
             [
              0.3333333333333333,
              "#9c179e"
             ],
             [
              0.4444444444444444,
              "#bd3786"
             ],
             [
              0.5555555555555556,
              "#d8576b"
             ],
             [
              0.6666666666666666,
              "#ed7953"
             ],
             [
              0.7777777777777778,
              "#fb9f3a"
             ],
             [
              0.8888888888888888,
              "#fdca26"
             ],
             [
              1,
              "#f0f921"
             ]
            ],
            "type": "surface"
           }
          ],
          "table": [
           {
            "cells": {
             "fill": {
              "color": "#506784"
             },
             "line": {
              "color": "rgb(17,17,17)"
             }
            },
            "header": {
             "fill": {
              "color": "#2a3f5f"
             },
             "line": {
              "color": "rgb(17,17,17)"
             }
            },
            "type": "table"
           }
          ]
         },
         "layout": {
          "annotationdefaults": {
           "arrowcolor": "#f2f5fa",
           "arrowhead": 0,
           "arrowwidth": 1
          },
          "autotypenumbers": "strict",
          "coloraxis": {
           "colorbar": {
            "outlinewidth": 0,
            "ticks": ""
           }
          },
          "colorscale": {
           "diverging": [
            [
             0,
             "#8e0152"
            ],
            [
             0.1,
             "#c51b7d"
            ],
            [
             0.2,
             "#de77ae"
            ],
            [
             0.3,
             "#f1b6da"
            ],
            [
             0.4,
             "#fde0ef"
            ],
            [
             0.5,
             "#f7f7f7"
            ],
            [
             0.6,
             "#e6f5d0"
            ],
            [
             0.7,
             "#b8e186"
            ],
            [
             0.8,
             "#7fbc41"
            ],
            [
             0.9,
             "#4d9221"
            ],
            [
             1,
             "#276419"
            ]
           ],
           "sequential": [
            [
             0,
             "#0d0887"
            ],
            [
             0.1111111111111111,
             "#46039f"
            ],
            [
             0.2222222222222222,
             "#7201a8"
            ],
            [
             0.3333333333333333,
             "#9c179e"
            ],
            [
             0.4444444444444444,
             "#bd3786"
            ],
            [
             0.5555555555555556,
             "#d8576b"
            ],
            [
             0.6666666666666666,
             "#ed7953"
            ],
            [
             0.7777777777777778,
             "#fb9f3a"
            ],
            [
             0.8888888888888888,
             "#fdca26"
            ],
            [
             1,
             "#f0f921"
            ]
           ],
           "sequentialminus": [
            [
             0,
             "#0d0887"
            ],
            [
             0.1111111111111111,
             "#46039f"
            ],
            [
             0.2222222222222222,
             "#7201a8"
            ],
            [
             0.3333333333333333,
             "#9c179e"
            ],
            [
             0.4444444444444444,
             "#bd3786"
            ],
            [
             0.5555555555555556,
             "#d8576b"
            ],
            [
             0.6666666666666666,
             "#ed7953"
            ],
            [
             0.7777777777777778,
             "#fb9f3a"
            ],
            [
             0.8888888888888888,
             "#fdca26"
            ],
            [
             1,
             "#f0f921"
            ]
           ]
          },
          "colorway": [
           "#636efa",
           "#EF553B",
           "#00cc96",
           "#ab63fa",
           "#FFA15A",
           "#19d3f3",
           "#FF6692",
           "#B6E880",
           "#FF97FF",
           "#FECB52"
          ],
          "font": {
           "color": "#f2f5fa"
          },
          "geo": {
           "bgcolor": "rgb(17,17,17)",
           "lakecolor": "rgb(17,17,17)",
           "landcolor": "rgb(17,17,17)",
           "showlakes": true,
           "showland": true,
           "subunitcolor": "#506784"
          },
          "hoverlabel": {
           "align": "left"
          },
          "hovermode": "closest",
          "mapbox": {
           "style": "dark"
          },
          "paper_bgcolor": "rgb(17,17,17)",
          "plot_bgcolor": "rgb(17,17,17)",
          "polar": {
           "angularaxis": {
            "gridcolor": "#506784",
            "linecolor": "#506784",
            "ticks": ""
           },
           "bgcolor": "rgb(17,17,17)",
           "radialaxis": {
            "gridcolor": "#506784",
            "linecolor": "#506784",
            "ticks": ""
           }
          },
          "scene": {
           "xaxis": {
            "backgroundcolor": "rgb(17,17,17)",
            "gridcolor": "#506784",
            "gridwidth": 2,
            "linecolor": "#506784",
            "showbackground": true,
            "ticks": "",
            "zerolinecolor": "#C8D4E3"
           },
           "yaxis": {
            "backgroundcolor": "rgb(17,17,17)",
            "gridcolor": "#506784",
            "gridwidth": 2,
            "linecolor": "#506784",
            "showbackground": true,
            "ticks": "",
            "zerolinecolor": "#C8D4E3"
           },
           "zaxis": {
            "backgroundcolor": "rgb(17,17,17)",
            "gridcolor": "#506784",
            "gridwidth": 2,
            "linecolor": "#506784",
            "showbackground": true,
            "ticks": "",
            "zerolinecolor": "#C8D4E3"
           }
          },
          "shapedefaults": {
           "line": {
            "color": "#f2f5fa"
           }
          },
          "sliderdefaults": {
           "bgcolor": "#C8D4E3",
           "bordercolor": "rgb(17,17,17)",
           "borderwidth": 1,
           "tickwidth": 0
          },
          "ternary": {
           "aaxis": {
            "gridcolor": "#506784",
            "linecolor": "#506784",
            "ticks": ""
           },
           "baxis": {
            "gridcolor": "#506784",
            "linecolor": "#506784",
            "ticks": ""
           },
           "bgcolor": "rgb(17,17,17)",
           "caxis": {
            "gridcolor": "#506784",
            "linecolor": "#506784",
            "ticks": ""
           }
          },
          "title": {
           "x": 0.05
          },
          "updatemenudefaults": {
           "bgcolor": "#506784",
           "borderwidth": 0
          },
          "xaxis": {
           "automargin": true,
           "gridcolor": "#283442",
           "linecolor": "#506784",
           "ticks": "",
           "title": {
            "standoff": 15
           },
           "zerolinecolor": "#283442",
           "zerolinewidth": 2
          },
          "yaxis": {
           "automargin": true,
           "gridcolor": "#283442",
           "linecolor": "#506784",
           "ticks": "",
           "title": {
            "standoff": 15
           },
           "zerolinecolor": "#283442",
           "zerolinewidth": 2
          }
         }
        },
        "title": {
         "text": "Stock vs Nifty 50 (Last 30 Days)"
        },
        "xaxis": {
         "title": {
          "text": "Date"
         }
        },
        "yaxis": {
         "title": {
          "text": "Price"
         }
        }
       }
      }
     },
     "metadata": {},
     "output_type": "display_data"
    }
   ],
   "source": [
    "import yfinance as yf\n",
    "import pandas as pd\n",
    "import plotly.graph_objects as go\n",
    "\n",
    "# Assuming 'dates' is a pandas datetime series for the stock's historical data\n",
    "# Assuming 'df' is a DataFrame with stock data (including 'Close' column)\n",
    "historical_data = pd.DataFrame({\n",
    "    'Date': dates,  # Last 30 days of dates\n",
    "    'Price': df['Close']  # Last 30 days of stock prices\n",
    "})\n",
    "historical_data = historical_data.iloc[-60:]\n",
    "# # Example forecasted data (replace with your actual forecast data)\n",
    "# forecast_dates = pd.date_range(start=\"2024-12-15\", periods=30, freq='D')  # Forecasted dates for the next 30 days # Replace with your actual forecasted prices\n",
    "\n",
    "# Create forecast data DataFrame\n",
    "forecast_data = pd.DataFrame({\n",
    "    'Date': forecast_dates,  # Future dates\n",
    "    'Price': forecasted_prices_original  # Forecasted prices\n",
    "})\n",
    "\n",
    "# Fetch Nifty 50 and S&P 500 data for the last 30 days\n",
    "nifty_data = yf.Ticker(\"^NSEI\")  # Nifty 50 index\n",
    "sp500_data = yf.Ticker(\"^BSESN\")  # S&P 500 index\n",
    "\n",
    "nifty_hist = nifty_data.history(period=\"3mo\")  # Fetch last 30 days of data\n",
    "sp500_hist = sp500_data.history(period=\"3mo\")  # Fetch last 30 days of data\n",
    "\n",
    "# Align data to ensure all data frames have the same date range\n",
    "nifty_hist = nifty_hist[['Close']].rename(columns={'Close': 'Nifty'})\n",
    "sp500_hist = sp500_hist[['Close']].rename(columns={'Close': 'S&P 500'})\n",
    "\n",
    "# Combine all the data into one DataFrame\n",
    "combined_data = pd.concat([historical_data.set_index('Date'), nifty_hist, sp500_hist], axis=1)\n",
    "\n",
    "# Display the combined data\n",
    "print(combined_data.tail())\n",
    "\n",
    "# Plotting\n",
    "fig_2 = go.Figure()\n",
    "\n",
    "# Add stock data trace\n",
    "fig_2.add_trace(go.Scatter(x=historical_data['Date'], y=historical_data['Price'], mode='lines', name='Stock Price', line=dict(color='blue')))\n",
    "\n",
    "# Add forecast data trace (future prediction, styled differently)\n",
    "fig_2.add_trace(go.Scatter(x=forecast_data['Date'], y=forecast_data['Price'], mode='lines', name='Forecasted Stock', line=dict(color='orange', dash='dot')))\n",
    "\n",
    "# # Add Nifty 50 data trace\n",
    "fig_2.add_trace(go.Scatter(x=nifty_hist.index, y=nifty_hist['Nifty'], mode='lines', name='Nifty 50', line=dict(color='green', dash='dash')))\n",
    "\n",
    "# Add S&P 500 data trace\n",
    "# fig_2.add_trace(go.Scatter(x=sp500_hist.index, y=sp500_hist['S&P 500'], mode='lines', name='S&P 500', line=dict(color='red', dash='dash')))\n",
    "\n",
    "# Customize the layout\n",
    "fig_2.update_layout(\n",
    "    title=\"Stock vs Nifty 50 (Last 30 Days)\",\n",
    "    xaxis_title=\"Date\",\n",
    "    yaxis_title=\"Price\",\n",
    "    template=\"plotly_dark\",\n",
    "    showlegend=True\n",
    ")\n",
    "\n",
    "fig_2.show()\n"
   ]
  },
  {
   "cell_type": "code",
   "execution_count": 21,
   "metadata": {},
   "outputs": [
    {
     "name": "stderr",
     "output_type": "stream",
     "text": [
      "/Users/aayush/Foundation-Project/.venv/lib/python3.9/site-packages/tqdm/auto.py:21: TqdmWarning:\n",
      "\n",
      "IProgress not found. Please update jupyter and ipywidgets. See https://ipywidgets.readthedocs.io/en/stable/user_install.html\n",
      "\n"
     ]
    }
   ],
   "source": [
    "from transformers import pipeline\n",
    "\n",
    "# Load a pre-trained language model (FLAN-T5 or similar)\n",
    "# generator = pipeline(\"text-generation\", model=\"google/flan-t5-large\")\n",
    "\n",
    "# Prompt for generating stock insights\n",
    "prompt = \"\"\"\n",
    "Analyze the performance of the Reliance stock (RELIANCE.NS) over the last quarter. Include growth trends, peer comparison, and insights for shareholders.\n",
    "\"\"\"\n",
    "\n",
    "# # Generate insights\n",
    "# output = generator(prompt, max_length=150, num_return_sequences=1)\n",
    "\n",
    "# # Display the generated insights\n",
    "# print(output[0]['generated_text'])\n"
   ]
  },
  {
   "cell_type": "code",
   "execution_count": 22,
   "metadata": {},
   "outputs": [
    {
     "name": "stdout",
     "output_type": "stream",
     "text": [
      "[DeployedModel(model_id='meta-llama/Llama-3.2-11B-Vision-Instruct', sha='9eb2daaa8597bf192a8b0e73f848f3a102794df5'), DeployedModel(model_id='01-ai/Yi-1.5-34B-Chat', sha='fa4ffba162f20948bf77c2a30eca952bf0812b7f'), DeployedModel(model_id='bigcode/octocoder', sha='0f863c63e38ba80fc2c4010f34a7f46d537a9eee'), DeployedModel(model_id='bigcode/santacoder', sha='bb3be599767d93ce716293e9193c027e855a9524'), DeployedModel(model_id='bigcode/starcoder', sha='827cd7721231872c152e3faef5cae1b22964ed58'), DeployedModel(model_id='bigcode/starcoder2-15b', sha='46d44742909c03ac8cee08eb03fdebce02e193ec'), DeployedModel(model_id='bigcode/starcoder2-3b', sha='733247c55e3f73af49ce8e9c7949bf14af205928'), DeployedModel(model_id='bigcode/starcoderplus', sha='c2c2f1397ed0caf52353abe14e35120af37a6d6b'), DeployedModel(model_id='codellama/CodeLlama-13b-hf', sha='8da65ff4ee20f74ecd107ca9d54f9f121b279860'), DeployedModel(model_id='codellama/CodeLlama-34b-Instruct-hf', sha='d4c1c474abcacd32d2a6eda45f9811d38c83e93d'), DeployedModel(model_id='codellama/CodeLlama-7b-hf', sha='6c284d1468fe6c413cf56183e69b194dcfa27fe6'), DeployedModel(model_id='CohereForAI/aya-23-35B', sha='f25bc411c8250c69720b0d5b4477bb12cf8d80a5'), DeployedModel(model_id='CohereForAI/aya-23-8B', sha='f7c0f53641e86ef2e39c62461e6f0f54ff904eba'), DeployedModel(model_id='CohereForAI/c4ai-command-r-plus-08-2024', sha='73f7348efdbd460b99bfecd65c88b2392aabaff1'), DeployedModel(model_id='EleutherAI/gpt-neo-2.7B', sha='e24fa291132763e59f4a5422741b424fb5d59056'), DeployedModel(model_id='EleutherAI/gpt-neox-20b', sha='c292233c833e336628618a88a648727eb3dff0a7'), DeployedModel(model_id='google/gemma-1.1-2b-it', sha='d750f5eceb83e978c09e2b3597c2a8784e381022'), DeployedModel(model_id='google/gemma-1.1-7b-it', sha='065a528791af6f57f013e8e42b7276992b45ef71'), DeployedModel(model_id='google/gemma-2-27b-it', sha='aaf20e6b9f4c0fcf043f6fb2a2068419086d77b0'), DeployedModel(model_id='google/gemma-2-2b-it', sha='299a8560bedf22ed1c72a8a11e7dce4a7f9f51f8'), DeployedModel(model_id='google/gemma-2-9b-it', sha='11c9b309abf73637e4b6f9a3fa1e92e615547819'), DeployedModel(model_id='google/gemma-7b', sha='ff6768d9368919a1f025a54f9f5aa0ee591730bb'), DeployedModel(model_id='HuggingFaceH4/starchat-beta', sha='b1bcda690655777373f57ea6614eb095ec2c886f'), DeployedModel(model_id='HuggingFaceH4/starchat2-15b-v0.1', sha='837a7b6ac3df5f91de138e3592258f93c80d93d3'), DeployedModel(model_id='HuggingFaceH4/zephyr-7b-alpha', sha='014792bbb59d04ced3b5a9b8b4dfc926655d958f'), DeployedModel(model_id='HuggingFaceH4/zephyr-7b-beta', sha='892b3d7a7b1cf10c7a701c60881cd93df615734c'), DeployedModel(model_id='HuggingFaceH4/zephyr-7b-beta', sha='892b3d7a7b1cf10c7a701c60881cd93df615734c'), DeployedModel(model_id='HuggingFaceM4/idefics-9b-instruct', sha='7065afb8a5bb03015700b315f6751dc3dd4e16eb'), DeployedModel(model_id='meta-llama/Llama-2-70b-chat-hf', sha='e9149a12809580e8602995856f8098ce973d1080'), DeployedModel(model_id='meta-llama/Llama-2-7b-chat-hf', sha='f5db02db724555f92da89c216ac04704f23d4590'), DeployedModel(model_id='meta-llama/Llama-3.1-70B-Instruct', sha='945c8663693130f8be2ee66210e062158b2a9693'), DeployedModel(model_id='meta-llama/Llama-3.1-8B-Instruct', sha='0e9e39f249a16976918f6564b8830bc894c89659'), DeployedModel(model_id='meta-llama/Llama-3.2-1B-Instruct', sha='9213176726f574b556790deb65791e0c5aa438b6'), DeployedModel(model_id='meta-llama/Llama-3.2-3B-Instruct', sha='0cb88a4f764b7a12671c53f0838cd831a0843b95'), DeployedModel(model_id='meta-llama/Llama-3.2-3B-Instruct', sha='392a143b624368100f77a3eafaa4a2468ba50a72'), DeployedModel(model_id='meta-llama/Llama-Guard-3-8B', sha='7327bd9f6efbbe6101dc6cc4736302b3cbb6e425'), DeployedModel(model_id='meta-llama/Meta-Llama-3-70B-Instruct', sha='05917295788658563fd7ef778b6240ad9867d6d1'), DeployedModel(model_id='meta-llama/Meta-Llama-3-8B-Instruct', sha='5f0b02c75b57c5855da9ae460ce51323ea669d8a'), DeployedModel(model_id='microsoft/Phi-3.5-mini-instruct', sha='af0dfb8029e8a74545d0736d30cb6b58d2f0f3f0'), DeployedModel(model_id='microsoft/Phi-3-mini-4k-instruct', sha='0a67737cc96d2554230f90338b163bc6380a2a85'), DeployedModel(model_id='mistralai/Mistral-7B-Instruct-v0.1', sha='2dcff66eac0c01dc50e4c41eea959968232187fe'), DeployedModel(model_id='mistralai/Mistral-7B-Instruct-v0.2', sha='3ad372fc79158a2148299e3318516c786aeded6c'), DeployedModel(model_id='mistralai/Mistral-7B-Instruct-v0.3', sha='e0bc86c23ce5aae1db576c8cca6f06f1f73af2db'), DeployedModel(model_id='mistralai/Mistral-7B-v0.1', sha='7231864981174d9bee8c7687c24c8344414eae6b'), DeployedModel(model_id='mistralai/Mistral-Nemo-Instruct-2407', sha='e17a136e1dcba9c63ad771f2c85c1c312c563e6b'), DeployedModel(model_id='mistralai/Mixtral-8x7B-Instruct-v0.1', sha='41bd4c9e7e4fb318ca40e721131d4933966c2cc1'), DeployedModel(model_id='NousResearch/Hermes-3-Llama-3.1-8B', sha='896ea440e5a9e6070e3d8a2774daf2b481ab425b'), DeployedModel(model_id='NousResearch/Nous-Hermes-2-Mixtral-8x7B-DPO', sha='286ae6737d048ad1d965c2e830864df02db50f2f'), DeployedModel(model_id='nvidia/Llama-3.1-Nemotron-70B-Instruct-HF', sha='fac73d3507320ec1258620423469b4b38f88df6e'), DeployedModel(model_id='openai-community/gpt2', sha='607a30d783dfa663caf39e06633721c8d4cfcd7e'), DeployedModel(model_id='Qwen/Qwen2.5-72B-Instruct', sha='d3d951150c1e5848237cd6a7ad11df4836aee842'), DeployedModel(model_id='Qwen/Qwen2.5-Coder-32B-Instruct', sha='b47205940b83b5b484577359f71ee7b88472df67'), DeployedModel(model_id='Qwen/QwQ-32B-Preview', sha='1032e81cb936c486aae1d33da75b2fbcd5deed4a'), DeployedModel(model_id='tiiuae/falcon-7b', sha='ec89142b67d748a1865ea4451372db8313ada0d8'), DeployedModel(model_id='tiiuae/falcon-7b-instruct', sha='8782b5c5d8c9290412416618f36a133653e85285'), DeployedModel(model_id='bigscience/bloom-1b7', sha='cc72a88036c2fb937d65efeacc57a0c2ef5d6fe5'), DeployedModel(model_id='HuggingFaceTB/SmolLM2-1.7B-Instruct', sha='1dfd32118ef11b4998e591ed60f2a0e978e15411'), DeployedModel(model_id='nopeno600321/DialoGPT-medium-Loki', sha='97f5c9a67fcd041c1d4a9c8d3220794b6602fc8c'), DeployedModel(model_id='openai-community/gpt2', sha='607a30d783dfa663caf39e06633721c8d4cfcd7e'), DeployedModel(model_id='Pi3141/DialoGPT-medium-elon-2', sha='be25e918260d94e5371a79100ae45dd77e636a7f'), DeployedModel(model_id='Qwen/Qwen2.5-0.5B', sha='060db6499f32faf8b98477b0a26969ef7d8b9987'), DeployedModel(model_id='Qwen/Qwen2.5-1.5B-Instruct', sha='989aa7980e4cf806f80c7fef2b1adb7bc71aa306'), DeployedModel(model_id='Qwen/Qwen2.5-3B-Instruct', sha='aa8e72537993ba99e69dfaafa59ed015b17504d1')]\n"
     ]
    }
   ],
   "source": [
    "from text_generation.inference_api import deployed_models\n",
    "\n",
    "print(deployed_models())"
   ]
  },
  {
   "cell_type": "code",
   "execution_count": 23,
   "metadata": {},
   "outputs": [
    {
     "name": "stdout",
     "output_type": "stream",
     "text": [
      "News 1:\n",
      "Title: Temu told to suspend Vietnam operations, state media reports\n",
      "Publisher: Reuters\n",
      "Link: https://finance.yahoo.com/news/temu-told-suspend-vietnam-operations-022053659.html\n",
      "\n",
      "\n",
      "News 2:\n",
      "Title: Here's how a US trade war between Mexico, Canada, and China could play out for the stock market\n",
      "Publisher: Business Insider\n",
      "Link: https://finance.yahoo.com/m/5196071d-b6a6-3514-93a9-2f778bad24d1/here%27s-how-a-us-trade-war.html\n",
      "\n",
      "\n",
      "News 3:\n",
      "Title: Eagle Point Credit Company Inc. Prices $100 Million Public Offering of Notes\n",
      "Publisher: Business Wire\n",
      "Link: https://finance.yahoo.com/news/eagle-point-credit-company-inc-021500744.html\n",
      "\n",
      "\n",
      "News 4:\n",
      "Title: Epic Airboat Tours Launches New Everglades Gator Experiences with More Options and Brand-New Vessel\n",
      "Publisher: Newsfile\n",
      "Link: https://finance.yahoo.com/news/epic-airboat-tours-launches-everglades-021500867.html\n",
      "\n",
      "\n",
      "News 5:\n",
      "Title: Correction to Press Release Announcing nCino’s Third Quarter Fiscal Year 2025 Financial Results\n",
      "Publisher: GlobeNewswire\n",
      "Link: https://finance.yahoo.com/news/correction-press-release-announcing-ncino-021300616.html\n",
      "\n",
      "\n"
     ]
    }
   ],
   "source": [
    "import yfinance as yf\n",
    "\n",
    "def get_stock_news_yfinance(ticker):\n",
    "    # Fetch the stock data\n",
    "    stock = yf.Ticker(ticker)\n",
    "    \n",
    "    # Fetch the news\n",
    "    try:\n",
    "        news = stock.news  # Retrieve news articles\n",
    "    except AttributeError:\n",
    "        return \"Failed to retrieve news. Ensure the `yfinance` version supports this feature.\"\n",
    "\n",
    "    if not news:\n",
    "        return \"No news articles found for this stock.\"\n",
    "\n",
    "    # Format the news articles\n",
    "    formatted_news = []\n",
    "    for article in news[:5]:  # Limit to top 5 news articles\n",
    "        title = article.get(\"title\", \"No title available\")\n",
    "        link = article.get(\"link\", \"No link available\")\n",
    "        publisher = article.get(\"publisher\", \"Unknown source\")\n",
    "        formatted_news.append(f\"Title: {title}\\nPublisher: {publisher}\\nLink: {link}\\n\")\n",
    "    \n",
    "    return formatted_news\n",
    "\n",
    "# Example: Fetch news for Reliance Industries\n",
    "ticker = \"RELIANCE.NS\"  # Yahoo Finance ticker for Reliance Industries\n",
    "news = get_stock_news_yfinance(ticker)\n",
    "\n",
    "# Display the news\n",
    "if isinstance(news, list):\n",
    "    for idx, article in enumerate(news, 1):\n",
    "        print(f\"News {idx}:\\n{article}\\n\")\n",
    "else:\n",
    "    print(news)\n"
   ]
  },
  {
   "cell_type": "code",
   "execution_count": 24,
   "metadata": {},
   "outputs": [
    {
     "name": "stdout",
     "output_type": "stream",
     "text": [
      "File uploaded successfully to s3://isbfinanceproject/Energy/RELIANCE.NS/Results/Energy/RELIANCE.NS/30_day_forecast.png\n",
      "File uploaded successfully to s3://isbfinanceproject/Energy/RELIANCE.NS/Results/Energy/RELIANCE.NS/7_day_forecast.png\n",
      "File uploaded successfully to s3://isbfinanceproject/Energy/RELIANCE.NS/Results/Energy/RELIANCE.NS/nifty_compare.png\n"
     ]
    }
   ],
   "source": [
    "import io\n",
    "from botocore.exceptions import NoCredentialsError\n",
    "from plotly.io import write_image\n",
    "FILE_NAME = f\"Results/{vertical}/{ticker}/30_day_forecast.png\"  # The name for the file in the S3 bucket\n",
    "FILE_NAME_1 = f\"Results/{vertical}/{ticker}/7_day_forecast.png\"  # The name for the file in the S3 bucket\n",
    "FILE_NAME_2 = f\"Results/{vertical}/{ticker}/nifty_compare.png\"  # The name for the file in the S3 bucket\n",
    "\n",
    "# Function to upload file to S3\n",
    "def upload_to_s3(file_data, bucket, file_name):\n",
    "    s3 = boto3.client(\n",
    "        's3',\n",
    "        aws_access_key_id=AWS_ACCESS_KEY_ID,\n",
    "        aws_secret_access_key=AWS_SECRET_ACCESS_KEY,\n",
    "        region_name=AWS_DEFAULT_REGION\n",
    "    )\n",
    "    try:\n",
    "        s3.upload_fileobj(file_data, bucket, file_name)\n",
    "        print(f\"File uploaded successfully to s3://{bucket}/{vertical}/{ticker}/{file_name}\")\n",
    "    except NoCredentialsError:\n",
    "        print(\"AWS credentials not available.\")\n",
    "    except Exception as e:\n",
    "        print(f\"Error uploading file: {e}\")\n",
    "\n",
    "# Save Plotly figure to S3\n",
    "def save_plot_to_s3(fig, bucket, file_name):\n",
    "    # Convert Plotly figure to an image buffer\n",
    "    buffer = io.BytesIO()\n",
    "    fig.write_image(buffer, format=\"png\")  # You need Orca installed for this\n",
    "    buffer.seek(0)  # Reset buffer position\n",
    "\n",
    "    # Upload to S3\n",
    "    upload_to_s3(buffer, bucket, file_name)\n",
    "save_plot_to_s3(fig, bucket_name, FILE_NAME)\n",
    "save_plot_to_s3(fig_1, bucket_name, FILE_NAME_1)\n",
    "save_plot_to_s3(fig_2, bucket_name, FILE_NAME_2)"
   ]
  }
 ],
 "metadata": {
  "kernelspec": {
   "display_name": ".venv",
   "language": "python",
   "name": "python3"
  },
  "language_info": {
   "codemirror_mode": {
    "name": "ipython",
    "version": 3
   },
   "file_extension": ".py",
   "mimetype": "text/x-python",
   "name": "python",
   "nbconvert_exporter": "python",
   "pygments_lexer": "ipython3",
   "version": "3.9.12"
  }
 },
 "nbformat": 4,
 "nbformat_minor": 2
}
